{
 "cells": [
  {
   "cell_type": "markdown",
   "id": "877e62ba",
   "metadata": {},
   "source": [
    "# String Operator\n",
    "\n",
    "you have already seen the operators `+` and `*` applied to numeric operands in the section\n",
    "on Operators and Expressions in Python. These two operators can be applied to strings as well."
   ]
  },
  {
   "cell_type": "code",
   "execution_count": 235,
   "id": "1626ea32",
   "metadata": {},
   "outputs": [
    {
     "data": {
      "text/plain": [
       "'mark'"
      ]
     },
     "execution_count": 235,
     "metadata": {},
     "output_type": "execute_result"
    }
   ],
   "source": [
    "a = 'mark'\n",
    "a"
   ]
  },
  {
   "cell_type": "code",
   "execution_count": 236,
   "id": "11cb1031",
   "metadata": {},
   "outputs": [],
   "source": [
    "b = 'tom'"
   ]
  },
  {
   "cell_type": "code",
   "execution_count": 237,
   "id": "beafd1a1",
   "metadata": {},
   "outputs": [],
   "source": [
    "c = 'blue pen'"
   ]
  },
  {
   "cell_type": "code",
   "execution_count": 238,
   "id": "eb442bec",
   "metadata": {},
   "outputs": [
    {
     "name": "stdout",
     "output_type": "stream",
     "text": [
      "tom blue pen\n"
     ]
    }
   ],
   "source": [
    "print(b,c)"
   ]
  },
  {
   "cell_type": "code",
   "execution_count": 241,
   "id": "d8f0fbb1",
   "metadata": {},
   "outputs": [
    {
     "data": {
      "text/plain": [
       "\"mark's pen\""
      ]
     },
     "execution_count": 241,
     "metadata": {},
     "output_type": "execute_result"
    }
   ],
   "source": [
    "d = \"mark's pen\"\n",
    "d"
   ]
  },
  {
   "cell_type": "code",
   "execution_count": 244,
   "id": "4a83d3b8",
   "metadata": {},
   "outputs": [
    {
     "name": "stdout",
     "output_type": "stream",
     "text": [
      "\n",
      "\n",
      "mark has new pen\n",
      "pen is so expensive\n",
      "\n"
     ]
    }
   ],
   "source": [
    "m = '''\n",
    "\n",
    "mark has new pen\n",
    "pen is so expensive\n",
    "'''\n",
    "\n",
    "print(m)"
   ]
  },
  {
   "cell_type": "markdown",
   "id": "690fda6a",
   "metadata": {},
   "source": [
    "## Concatination"
   ]
  },
  {
   "cell_type": "code",
   "execution_count": 247,
   "id": "ff188801",
   "metadata": {},
   "outputs": [],
   "source": [
    "f_name = 'Mark'\n",
    "l_name = 'Test'"
   ]
  },
  {
   "cell_type": "code",
   "execution_count": 248,
   "id": "8a7f3ff0",
   "metadata": {},
   "outputs": [
    {
     "data": {
      "text/plain": [
       "'Mark Test'"
      ]
     },
     "execution_count": 248,
     "metadata": {},
     "output_type": "execute_result"
    }
   ],
   "source": [
    "f_name +' '+ l_name"
   ]
  },
  {
   "cell_type": "code",
   "execution_count": 249,
   "id": "ac766f0b",
   "metadata": {},
   "outputs": [
    {
     "name": "stdout",
     "output_type": "stream",
     "text": [
      "axyzabc\n"
     ]
    }
   ],
   "source": [
    "print('a'+'xyz'+'abc')"
   ]
  },
  {
   "cell_type": "markdown",
   "id": "a87e85f5",
   "metadata": {},
   "source": [
    "tips: can't multiply sequence by non-int of type 'str' `print('a' * 'b')`"
   ]
  },
  {
   "cell_type": "code",
   "execution_count": 253,
   "id": "51716e87",
   "metadata": {},
   "outputs": [
    {
     "name": "stdout",
     "output_type": "stream",
     "text": [
      "bb\n"
     ]
    }
   ],
   "source": [
    "print(2 * 'b')"
   ]
  },
  {
   "cell_type": "code",
   "execution_count": 254,
   "id": "1d3ed141",
   "metadata": {},
   "outputs": [
    {
     "name": "stdout",
     "output_type": "stream",
     "text": [
      "bb\n"
     ]
    }
   ],
   "source": [
    "print(2 * 'b')"
   ]
  },
  {
   "cell_type": "markdown",
   "id": "b59ab6b5",
   "metadata": {},
   "source": [
    "The multiplier operand `n` must be an integer. You'd think it would be required to be a positive integer, but amusingly, it can be zero or negative, in which case the result is an empty string:"
   ]
  },
  {
   "cell_type": "code",
   "execution_count": 255,
   "id": "ccef0a0e",
   "metadata": {},
   "outputs": [
    {
     "data": {
      "text/plain": [
       "''"
      ]
     },
     "execution_count": 255,
     "metadata": {},
     "output_type": "execute_result"
    }
   ],
   "source": [
    "'foo' * -8"
   ]
  },
  {
   "cell_type": "markdown",
   "id": "2349fb07",
   "metadata": {},
   "source": [
    "If you were to create a string variable and initialize it to the empty string by assigning it the value 'foo' * -8, anyone would rightly think you were a bit draft. But it would work."
   ]
  },
  {
   "cell_type": "markdown",
   "id": "b74bd2b8",
   "metadata": {},
   "source": [
    "TypeError: can't multiply sequence by non-int of type 'float' `'ali' * 1.2`"
   ]
  },
  {
   "cell_type": "code",
   "execution_count": 262,
   "id": "7166dc44",
   "metadata": {},
   "outputs": [
    {
     "data": {
      "text/plain": [
       "True"
      ]
     },
     "execution_count": 262,
     "metadata": {},
     "output_type": "execute_result"
    }
   ],
   "source": [
    "'a' in 'abc'"
   ]
  },
  {
   "cell_type": "code",
   "execution_count": 263,
   "id": "cb4e171a",
   "metadata": {},
   "outputs": [
    {
     "data": {
      "text/plain": [
       "False"
      ]
     },
     "execution_count": 263,
     "metadata": {},
     "output_type": "execute_result"
    }
   ],
   "source": [
    "'x' in 'abc'"
   ]
  },
  {
   "cell_type": "markdown",
   "id": "b8e0049a",
   "metadata": {},
   "source": [
    "## Partial Match"
   ]
  },
  {
   "cell_type": "code",
   "execution_count": 265,
   "id": "5f02a315",
   "metadata": {},
   "outputs": [
    {
     "data": {
      "text/plain": [
       "True"
      ]
     },
     "execution_count": 265,
     "metadata": {},
     "output_type": "execute_result"
    }
   ],
   "source": [
    "'ne' in 'mark has new pen'"
   ]
  },
  {
   "cell_type": "code",
   "execution_count": 268,
   "id": "29683d62",
   "metadata": {},
   "outputs": [
    {
     "name": "stdout",
     "output_type": "stream",
     "text": [
      "Found it\n"
     ]
    }
   ],
   "source": [
    "txt = \"mark's car is blue\"\n",
    "if 'car' in txt:\n",
    "    print(\"Found it\")"
   ]
  },
  {
   "cell_type": "markdown",
   "id": "e281b588",
   "metadata": {},
   "source": [
    "## Exact Match"
   ]
  },
  {
   "cell_type": "code",
   "execution_count": 270,
   "id": "782af1eb",
   "metadata": {},
   "outputs": [
    {
     "data": {
      "text/plain": [
       "False"
      ]
     },
     "execution_count": 270,
     "metadata": {},
     "output_type": "execute_result"
    }
   ],
   "source": [
    "txt = 'mark'\n",
    "txt == 'car'"
   ]
  },
  {
   "cell_type": "markdown",
   "id": "88bbab4d",
   "metadata": {},
   "source": [
    "## Regular Expression"
   ]
  },
  {
   "cell_type": "code",
   "execution_count": 271,
   "id": "787cd2e5",
   "metadata": {},
   "outputs": [],
   "source": [
    "import re"
   ]
  },
  {
   "cell_type": "markdown",
   "id": "09a7ce56",
   "metadata": {},
   "source": [
    "## Built-in String Function\n",
    "\n",
    "As you saw in the tutorial on Basic Data Types in Python, Python provides many functions that are explored more fully below."
   ]
  },
  {
   "cell_type": "code",
   "execution_count": 272,
   "id": "2b040fc3",
   "metadata": {},
   "outputs": [
    {
     "data": {
      "text/plain": [
       "63"
      ]
     },
     "execution_count": 272,
     "metadata": {},
     "output_type": "execute_result"
    }
   ],
   "source": [
    "# encode\n",
    "ord('?')"
   ]
  },
  {
   "cell_type": "code",
   "execution_count": 273,
   "id": "2464903c",
   "metadata": {},
   "outputs": [
    {
     "data": {
      "text/plain": [
       "33"
      ]
     },
     "execution_count": 273,
     "metadata": {},
     "output_type": "execute_result"
    }
   ],
   "source": [
    "ord('!')"
   ]
  },
  {
   "cell_type": "code",
   "execution_count": 274,
   "id": "3f688681",
   "metadata": {},
   "outputs": [
    {
     "data": {
      "text/plain": [
       "'a'"
      ]
     },
     "execution_count": 274,
     "metadata": {},
     "output_type": "execute_result"
    }
   ],
   "source": [
    "# decode\n",
    "chr(97)"
   ]
  },
  {
   "cell_type": "code",
   "execution_count": 275,
   "id": "f1538c47",
   "metadata": {},
   "outputs": [
    {
     "data": {
      "text/plain": [
       "'Ť'"
      ]
     },
     "execution_count": 275,
     "metadata": {},
     "output_type": "execute_result"
    }
   ],
   "source": [
    "chr(356)"
   ]
  },
  {
   "cell_type": "code",
   "execution_count": 276,
   "id": "a284aced",
   "metadata": {},
   "outputs": [
    {
     "data": {
      "text/plain": [
       "'Ϩ'"
      ]
     },
     "execution_count": 276,
     "metadata": {},
     "output_type": "execute_result"
    }
   ],
   "source": [
    "chr(1000)"
   ]
  },
  {
   "cell_type": "code",
   "execution_count": 277,
   "id": "98e42213",
   "metadata": {},
   "outputs": [
    {
     "data": {
      "text/plain": [
       "1"
      ]
     },
     "execution_count": 277,
     "metadata": {},
     "output_type": "execute_result"
    }
   ],
   "source": [
    "0b1"
   ]
  },
  {
   "cell_type": "markdown",
   "id": "b6d65c6a",
   "metadata": {},
   "source": [
    "7 bit + 1 bit (paritty)"
   ]
  },
  {
   "cell_type": "code",
   "execution_count": 278,
   "id": "ddae6310",
   "metadata": {},
   "outputs": [
    {
     "data": {
      "text/plain": [
       "33"
      ]
     },
     "execution_count": 278,
     "metadata": {},
     "output_type": "execute_result"
    }
   ],
   "source": [
    "0b100001"
   ]
  },
  {
   "cell_type": "code",
   "execution_count": 279,
   "id": "396bd4ad",
   "metadata": {},
   "outputs": [
    {
     "data": {
      "text/plain": [
       "4"
      ]
     },
     "execution_count": 279,
     "metadata": {},
     "output_type": "execute_result"
    }
   ],
   "source": [
    "len('mark')"
   ]
  },
  {
   "cell_type": "code",
   "execution_count": 280,
   "id": "60b64a94",
   "metadata": {},
   "outputs": [
    {
     "data": {
      "text/plain": [
       "3"
      ]
     },
     "execution_count": 280,
     "metadata": {},
     "output_type": "execute_result"
    }
   ],
   "source": [
    "len([a,b,c])"
   ]
  },
  {
   "cell_type": "code",
   "execution_count": 281,
   "id": "7aea31ae",
   "metadata": {},
   "outputs": [
    {
     "data": {
      "text/plain": [
       "'2'"
      ]
     },
     "execution_count": 281,
     "metadata": {},
     "output_type": "execute_result"
    }
   ],
   "source": [
    "str(2)"
   ]
  },
  {
   "cell_type": "code",
   "execution_count": 282,
   "id": "aa735ad7",
   "metadata": {},
   "outputs": [],
   "source": [
    "name = 'Hello World !'"
   ]
  },
  {
   "cell_type": "code",
   "execution_count": 283,
   "id": "b669ce6f",
   "metadata": {},
   "outputs": [
    {
     "data": {
      "text/plain": [
       "'o'"
      ]
     },
     "execution_count": 283,
     "metadata": {},
     "output_type": "execute_result"
    }
   ],
   "source": [
    "name[4]"
   ]
  },
  {
   "cell_type": "code",
   "execution_count": 284,
   "id": "be7216d5",
   "metadata": {},
   "outputs": [],
   "source": [
    "name = 'Ben'"
   ]
  },
  {
   "cell_type": "code",
   "execution_count": 285,
   "id": "cd345b46",
   "metadata": {},
   "outputs": [
    {
     "data": {
      "text/plain": [
       "3"
      ]
     },
     "execution_count": 285,
     "metadata": {},
     "output_type": "execute_result"
    }
   ],
   "source": [
    "len(name)"
   ]
  },
  {
   "cell_type": "markdown",
   "id": "f3b7e268",
   "metadata": {},
   "source": [
    "IndexError: string index out of range `name[len(name)]`"
   ]
  },
  {
   "cell_type": "code",
   "execution_count": 288,
   "id": "4c8cf259",
   "metadata": {},
   "outputs": [
    {
     "data": {
      "text/plain": [
       "'n'"
      ]
     },
     "execution_count": 288,
     "metadata": {},
     "output_type": "execute_result"
    }
   ],
   "source": [
    "name[len(name) - 1]"
   ]
  },
  {
   "cell_type": "markdown",
   "id": "ba37d17d",
   "metadata": {},
   "source": [
    "Here are some examples of negative indexing"
   ]
  },
  {
   "cell_type": "code",
   "execution_count": 289,
   "id": "0c9eb23a",
   "metadata": {},
   "outputs": [
    {
     "data": {
      "text/plain": [
       "'Ben'"
      ]
     },
     "execution_count": 289,
     "metadata": {},
     "output_type": "execute_result"
    }
   ],
   "source": [
    "name"
   ]
  },
  {
   "cell_type": "code",
   "execution_count": 290,
   "id": "d7f47d87",
   "metadata": {},
   "outputs": [
    {
     "data": {
      "text/plain": [
       "'n'"
      ]
     },
     "execution_count": 290,
     "metadata": {},
     "output_type": "execute_result"
    }
   ],
   "source": [
    "name[-1]"
   ]
  },
  {
   "cell_type": "code",
   "execution_count": 291,
   "id": "3d57fa7a",
   "metadata": {},
   "outputs": [
    {
     "data": {
      "text/plain": [
       "'e'"
      ]
     },
     "execution_count": 291,
     "metadata": {},
     "output_type": "execute_result"
    }
   ],
   "source": [
    "name[-2]"
   ]
  },
  {
   "cell_type": "code",
   "execution_count": 292,
   "id": "42d535af",
   "metadata": {},
   "outputs": [
    {
     "data": {
      "text/plain": [
       "'B'"
      ]
     },
     "execution_count": 292,
     "metadata": {},
     "output_type": "execute_result"
    }
   ],
   "source": [
    "name[-len(name)]"
   ]
  },
  {
   "cell_type": "code",
   "execution_count": 293,
   "id": "a876fa5e",
   "metadata": {},
   "outputs": [
    {
     "data": {
      "text/plain": [
       "True"
      ]
     },
     "execution_count": 293,
     "metadata": {},
     "output_type": "execute_result"
    }
   ],
   "source": [
    "name[-1] == name[len(name)-1]"
   ]
  },
  {
   "cell_type": "markdown",
   "id": "8d6bb832",
   "metadata": {},
   "source": [
    "IndexError: string index out of range `name[-10]`"
   ]
  },
  {
   "cell_type": "markdown",
   "id": "8b9854a3",
   "metadata": {},
   "source": [
    "For any non-empty string `s`,`s[len(s)-1]` and `s[-1]` both return the last character. There isn't any index that makes sense for an empty string."
   ]
  },
  {
   "cell_type": "markdown",
   "id": "4f3c37ca",
   "metadata": {},
   "source": [
    "## String Slicing\n",
    "\n",
    "python also allows a form of indexing syntax that extracts substrings from a string known as string slicing. if `s` is a string, an expression of the form `s[m:n]` returns the portion of `s` starting with position `m`, and up to but not including position `n`:"
   ]
  },
  {
   "cell_type": "code",
   "execution_count": 295,
   "id": "ef4c0ccc",
   "metadata": {},
   "outputs": [],
   "source": [
    "name = 'python developer'"
   ]
  },
  {
   "cell_type": "code",
   "execution_count": 296,
   "id": "afaa6529",
   "metadata": {},
   "outputs": [
    {
     "data": {
      "text/plain": [
       "'python developer'"
      ]
     },
     "execution_count": 296,
     "metadata": {},
     "output_type": "execute_result"
    }
   ],
   "source": [
    "name[:]"
   ]
  },
  {
   "cell_type": "code",
   "execution_count": 297,
   "id": "44f58df6",
   "metadata": {},
   "outputs": [
    {
     "data": {
      "text/plain": [
       "'tho'"
      ]
     },
     "execution_count": 297,
     "metadata": {},
     "output_type": "execute_result"
    }
   ],
   "source": [
    "# 2 >> inclusive and 5 >> exclusive\n",
    "name[2:5]"
   ]
  },
  {
   "cell_type": "code",
   "execution_count": 298,
   "id": "9ca5b4b6",
   "metadata": {},
   "outputs": [
    {
     "data": {
      "text/plain": [
       "2"
      ]
     },
     "execution_count": 298,
     "metadata": {},
     "output_type": "execute_result"
    }
   ],
   "source": [
    "len(name[2:4])"
   ]
  },
  {
   "cell_type": "code",
   "execution_count": 299,
   "id": "321547a0",
   "metadata": {},
   "outputs": [],
   "source": [
    "# noghte shekast >> split point\n",
    "split_point = 6"
   ]
  },
  {
   "cell_type": "code",
   "execution_count": 300,
   "id": "0ce56ed5",
   "metadata": {},
   "outputs": [
    {
     "data": {
      "text/plain": [
       "'pytho'"
      ]
     },
     "execution_count": 300,
     "metadata": {},
     "output_type": "execute_result"
    }
   ],
   "source": [
    "name[:split_point - 1]"
   ]
  },
  {
   "cell_type": "code",
   "execution_count": 301,
   "id": "802ed4f1",
   "metadata": {},
   "outputs": [
    {
     "data": {
      "text/plain": [
       "'python developer'"
      ]
     },
     "execution_count": 301,
     "metadata": {},
     "output_type": "execute_result"
    }
   ],
   "source": [
    "name[:split_point] + name[split_point:]"
   ]
  },
  {
   "cell_type": "code",
   "execution_count": 302,
   "id": "e80c3b8c",
   "metadata": {},
   "outputs": [
    {
     "data": {
      "text/plain": [
       "'python'"
      ]
     },
     "execution_count": 302,
     "metadata": {},
     "output_type": "execute_result"
    }
   ],
   "source": [
    "name[:6]"
   ]
  },
  {
   "cell_type": "code",
   "execution_count": 303,
   "id": "7fab8ac3",
   "metadata": {},
   "outputs": [
    {
     "data": {
      "text/plain": [
       "'python developer'"
      ]
     },
     "execution_count": 303,
     "metadata": {},
     "output_type": "execute_result"
    }
   ],
   "source": [
    "name"
   ]
  },
  {
   "cell_type": "code",
   "execution_count": 304,
   "id": "b4a5e8bb",
   "metadata": {},
   "outputs": [
    {
     "data": {
      "text/plain": [
       "'python'"
      ]
     },
     "execution_count": 304,
     "metadata": {},
     "output_type": "execute_result"
    }
   ],
   "source": [
    "name[0:6]"
   ]
  },
  {
   "cell_type": "code",
   "execution_count": 305,
   "id": "fd6fd1d7",
   "metadata": {},
   "outputs": [
    {
     "data": {
      "text/plain": [
       "True"
      ]
     },
     "execution_count": 305,
     "metadata": {},
     "output_type": "execute_result"
    }
   ],
   "source": [
    "name[:2] + name[2:] == name"
   ]
  },
  {
   "cell_type": "markdown",
   "id": "42703bb4",
   "metadata": {},
   "source": [
    "## Specifying a Stride in a String Slice\n",
    "\n",
    "There is one more variant of the slicing syntax to discuss. Adding an additional: and a third index designates a stride (also called a step), which indicates how many characters to jump after retrieving each character in the slice.\n",
    "\n",
    "For example, for the string `foobar`, the slice `0:6:2` starts with the first character and ends with the last character (the whole string) and every second character is skinned. This is shown in the following diagram:"
   ]
  },
  {
   "cell_type": "code",
   "execution_count": 306,
   "id": "19e23fb4",
   "metadata": {},
   "outputs": [
    {
     "data": {
      "text/plain": [
       "'lop'"
      ]
     },
     "execution_count": 306,
     "metadata": {},
     "output_type": "execute_result"
    }
   ],
   "source": [
    "name[-5:-2]"
   ]
  },
  {
   "cell_type": "code",
   "execution_count": 307,
   "id": "772ed1ef",
   "metadata": {},
   "outputs": [
    {
     "data": {
      "text/plain": [
       "'lp'"
      ]
     },
     "execution_count": 307,
     "metadata": {},
     "output_type": "execute_result"
    }
   ],
   "source": [
    "\n",
    "name[-5:-2:2]"
   ]
  },
  {
   "cell_type": "code",
   "execution_count": 308,
   "id": "4ee86d57",
   "metadata": {},
   "outputs": [
    {
     "data": {
      "text/plain": [
       "'pner'"
      ]
     },
     "execution_count": 308,
     "metadata": {},
     "output_type": "execute_result"
    }
   ],
   "source": [
    "name[::5]"
   ]
  },
  {
   "cell_type": "code",
   "execution_count": 309,
   "id": "6a688def",
   "metadata": {},
   "outputs": [
    {
     "data": {
      "text/plain": [
       "'tdo'"
      ]
     },
     "execution_count": 309,
     "metadata": {},
     "output_type": "execute_result"
    }
   ],
   "source": [
    "name[2::5]"
   ]
  },
  {
   "cell_type": "code",
   "execution_count": 310,
   "id": "0781d35e",
   "metadata": {},
   "outputs": [
    {
     "data": {
      "text/plain": [
       "'repoleved nohtyp'"
      ]
     },
     "execution_count": 310,
     "metadata": {},
     "output_type": "execute_result"
    }
   ],
   "source": [
    "# for revesing string use step [-1]\n",
    "name[::-1]"
   ]
  },
  {
   "cell_type": "markdown",
   "id": "7925ad18",
   "metadata": {},
   "source": [
    "## Interpolating Variables into a String\n",
    "\n",
    "In Python version 3.6, a new string formatting mechanism was introduced.\n",
    "This feature is formally named the Formatted String Literal, but is more usually referred to by its nickname `f-string`.\n",
    "\n",
    "One simple feature of f-strings you can start using right away is variable interpolation. You can specify a variable name directly within an f-string literal, and Python will replace the name with the corresponding value.\n",
    "\n",
    "For example, suppose you want to display the result of an arithmatic calculation. You can do this with a strightforward `print()` statement, seprating numeric values and string literals by commas:"
   ]
  },
  {
   "cell_type": "code",
   "execution_count": 311,
   "id": "f8a214d3",
   "metadata": {},
   "outputs": [],
   "source": [
    "name1 = 'software developer is __ year old'\n",
    "age = 80\n",
    "name = 'Software developer'"
   ]
  },
  {
   "cell_type": "code",
   "execution_count": 312,
   "id": "7559a5e7",
   "metadata": {},
   "outputs": [
    {
     "data": {
      "text/plain": [
       "\"Software developer is 80 year's old\""
      ]
     },
     "execution_count": 312,
     "metadata": {},
     "output_type": "execute_result"
    }
   ],
   "source": [
    "user = name + ' is ' + str(age) + \" year's old\"\n",
    "user"
   ]
  },
  {
   "cell_type": "code",
   "execution_count": 313,
   "id": "c37af4df",
   "metadata": {},
   "outputs": [
    {
     "data": {
      "text/plain": [
       "'5 is 7 years old'"
      ]
     },
     "execution_count": 313,
     "metadata": {},
     "output_type": "execute_result"
    }
   ],
   "source": [
    "f'{2+3} is {3+4} years old'"
   ]
  },
  {
   "cell_type": "code",
   "execution_count": 314,
   "id": "d94ba9f6",
   "metadata": {},
   "outputs": [
    {
     "data": {
      "text/plain": [
       "'Software developer is 80 years old'"
      ]
     },
     "execution_count": 314,
     "metadata": {},
     "output_type": "execute_result"
    }
   ],
   "source": [
    "f'{name} is {age} years old'"
   ]
  },
  {
   "cell_type": "code",
   "execution_count": 315,
   "id": "dbd6605d",
   "metadata": {},
   "outputs": [
    {
     "data": {
      "text/plain": [
       "'Hello Software developer You are our winner. Good Luck'"
      ]
     },
     "execution_count": 315,
     "metadata": {},
     "output_type": "execute_result"
    }
   ],
   "source": [
    "email_template  = f'Hello {name} You are our winner. Good Luck'\n",
    "email_template"
   ]
  },
  {
   "cell_type": "code",
   "execution_count": 316,
   "id": "4c2afde7",
   "metadata": {},
   "outputs": [],
   "source": [
    "age = 80"
   ]
  },
  {
   "cell_type": "code",
   "execution_count": 317,
   "id": "b0e341c6",
   "metadata": {},
   "outputs": [
    {
     "name": "stdout",
     "output_type": "stream",
     "text": [
      "\n",
      "Hello Software developer!\n",
      "\n",
      "You are turning to 80! Happy Birthday!\n",
      "\n",
      "\n"
     ]
    }
   ],
   "source": [
    "print(f\"\"\"\n",
    "Hello {name}!\n",
    "\n",
    "You are turning to {age}! Happy Birthday!\n",
    "\n",
    "\"\"\")"
   ]
  },
  {
   "cell_type": "code",
   "execution_count": 318,
   "id": "0566b0d6",
   "metadata": {},
   "outputs": [
    {
     "data": {
      "text/plain": [
       "'Hi Software developer            ! Bye'"
      ]
     },
     "execution_count": 318,
     "metadata": {},
     "output_type": "execute_result"
    }
   ],
   "source": [
    "# create 30 spaces\n",
    "f'Hi {name:30}! Bye'"
   ]
  },
  {
   "cell_type": "code",
   "execution_count": 319,
   "id": "d40afc13",
   "metadata": {},
   "outputs": [
    {
     "data": {
      "text/plain": [
       "'Hi 1.2'"
      ]
     },
     "execution_count": 319,
     "metadata": {},
     "output_type": "execute_result"
    }
   ],
   "source": [
    "# float limit 2 digits\n",
    "f'Hi {1.2232312321:.2}'"
   ]
  },
  {
   "cell_type": "code",
   "execution_count": 320,
   "id": "0c0e768c",
   "metadata": {},
   "outputs": [],
   "source": [
    "# string is imutable"
   ]
  },
  {
   "cell_type": "code",
   "execution_count": 321,
   "id": "b2910635",
   "metadata": {},
   "outputs": [
    {
     "data": {
      "text/plain": [
       "'Software developer'"
      ]
     },
     "execution_count": 321,
     "metadata": {},
     "output_type": "execute_result"
    }
   ],
   "source": [
    "name"
   ]
  },
  {
   "cell_type": "code",
   "execution_count": 322,
   "id": "7b6fcf93",
   "metadata": {},
   "outputs": [],
   "source": [
    "a = name[0] + 's' + name[2:]"
   ]
  },
  {
   "cell_type": "code",
   "execution_count": 323,
   "id": "450c0b2b",
   "metadata": {},
   "outputs": [
    {
     "data": {
      "text/plain": [
       "'Ssftware developer'"
      ]
     },
     "execution_count": 323,
     "metadata": {},
     "output_type": "execute_result"
    }
   ],
   "source": [
    "a"
   ]
  },
  {
   "cell_type": "code",
   "execution_count": 324,
   "id": "954d8757",
   "metadata": {},
   "outputs": [
    {
     "data": {
      "text/plain": [
       "'Software developer'"
      ]
     },
     "execution_count": 324,
     "metadata": {},
     "output_type": "execute_result"
    }
   ],
   "source": [
    "name"
   ]
  },
  {
   "cell_type": "markdown",
   "id": "5e3efab1",
   "metadata": {},
   "source": [
    "TypeError: 'str' object does not support item assignment `name[1] = 's'`"
   ]
  }
 ],
 "metadata": {
  "kernelspec": {
   "display_name": "Python 3 (ipykernel)",
   "language": "python",
   "name": "python3"
  },
  "language_info": {
   "codemirror_mode": {
    "name": "ipython",
    "version": 3
   },
   "file_extension": ".py",
   "mimetype": "text/x-python",
   "name": "python",
   "nbconvert_exporter": "python",
   "pygments_lexer": "ipython3",
   "version": "3.9.7"
  }
 },
 "nbformat": 4,
 "nbformat_minor": 5
}
