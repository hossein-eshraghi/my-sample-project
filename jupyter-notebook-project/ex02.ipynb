{
 "cells": [
  {
   "cell_type": "code",
   "execution_count": 2,
   "id": "6539512b",
   "metadata": {},
   "outputs": [],
   "source": [
    "import numpy as np\n",
    "import pandas as pd\n",
    "import seaborn as sns"
   ]
  },
  {
   "cell_type": "code",
   "execution_count": 4,
   "id": "12c12b46",
   "metadata": {},
   "outputs": [],
   "source": [
    "a = np.array([23,21,19,24,35,17,18,24,33,27,21,23])\n",
    "b = np.array([31,28,19,24,32,27,16,41,23,32,29,33])"
   ]
  },
  {
   "cell_type": "code",
   "execution_count": 6,
   "id": "2a8129fc",
   "metadata": {},
   "outputs": [
    {
     "data": {
      "text/plain": [
       "23.75"
      ]
     },
     "execution_count": 6,
     "metadata": {},
     "output_type": "execute_result"
    }
   ],
   "source": [
    "a.mean()"
   ]
  },
  {
   "cell_type": "code",
   "execution_count": 8,
   "id": "b6dc4fce",
   "metadata": {},
   "outputs": [
    {
     "data": {
      "text/plain": [
       "27.916666666666668"
      ]
     },
     "execution_count": 8,
     "metadata": {},
     "output_type": "execute_result"
    }
   ],
   "source": [
    "b.mean()"
   ]
  },
  {
   "cell_type": "code",
   "execution_count": 11,
   "id": "b5cd2e06",
   "metadata": {},
   "outputs": [
    {
     "data": {
      "text/plain": [
       "4.166666666666668"
      ]
     },
     "execution_count": 11,
     "metadata": {},
     "output_type": "execute_result"
    }
   ],
   "source": [
    "# az 100 nafar kasani ke daroo khordant 4.16% bishtar khoob shodan\n",
    "d = b.mean() - a.mean()\n",
    "d"
   ]
  },
  {
   "cell_type": "code",
   "execution_count": 13,
   "id": "792bac2f",
   "metadata": {},
   "outputs": [
    {
     "data": {
      "text/plain": [
       "array([1., 1., 1., 1., 1., 1., 1., 1., 1., 1., 1., 1.])"
      ]
     },
     "execution_count": 13,
     "metadata": {},
     "output_type": "execute_result"
    }
   ],
   "source": [
    "# be andaze len(b) bia add yek nesbat bede\n",
    "np.ones(len(b))"
   ]
  },
  {
   "cell_type": "code",
   "execution_count": 15,
   "id": "74474a59",
   "metadata": {},
   "outputs": [
    {
     "data": {
      "text/plain": [
       "array([0., 0., 0., 0., 0., 0., 0., 0., 0., 0., 0., 0., 1., 1., 1., 1., 1.,\n",
       "       1., 1., 1., 1., 1., 1., 1.])"
      ]
     },
     "execution_count": 15,
     "metadata": {},
     "output_type": "execute_result"
    }
   ],
   "source": [
    "np.append(np.zeros(len(a)),np.ones(len(b)))"
   ]
  },
  {
   "cell_type": "code",
   "execution_count": 18,
   "id": "18fc4ad2",
   "metadata": {},
   "outputs": [
    {
     "data": {
      "text/plain": [
       "array([[ 0.,  0.,  0.,  0.,  0.,  0.,  0.,  0.,  0.,  0.,  0.,  0.,  1.,\n",
       "         1.,  1.,  1.,  1.,  1.,  1.,  1.,  1.,  1.,  1.,  1.],\n",
       "       [23., 21., 19., 24., 35., 17., 18., 24., 33., 27., 21., 23., 31.,\n",
       "        28., 19., 24., 32., 27., 16., 41., 23., 32., 29., 33.]])"
      ]
     },
     "execution_count": 18,
     "metadata": {},
     "output_type": "execute_result"
    }
   ],
   "source": [
    "sales = np.array([\n",
    "    np.append(np.zeros(len(a)),np.ones(len(b))),\n",
    "    np.append(a,b)\n",
    "])\n",
    "sales"
   ]
  },
  {
   "cell_type": "code",
   "execution_count": 19,
   "id": "3ec887b5",
   "metadata": {},
   "outputs": [
    {
     "data": {
      "text/plain": [
       "array([[ 0., 23.],\n",
       "       [ 0., 21.],\n",
       "       [ 0., 19.],\n",
       "       [ 0., 24.],\n",
       "       [ 0., 35.],\n",
       "       [ 0., 17.],\n",
       "       [ 0., 18.],\n",
       "       [ 0., 24.],\n",
       "       [ 0., 33.],\n",
       "       [ 0., 27.],\n",
       "       [ 0., 21.],\n",
       "       [ 0., 23.],\n",
       "       [ 1., 31.],\n",
       "       [ 1., 28.],\n",
       "       [ 1., 19.],\n",
       "       [ 1., 24.],\n",
       "       [ 1., 32.],\n",
       "       [ 1., 27.],\n",
       "       [ 1., 16.],\n",
       "       [ 1., 41.],\n",
       "       [ 1., 23.],\n",
       "       [ 1., 32.],\n",
       "       [ 1., 29.],\n",
       "       [ 1., 33.]])"
      ]
     },
     "execution_count": 19,
     "metadata": {},
     "output_type": "execute_result"
    }
   ],
   "source": [
    "# sattr ha ra shuffel mikonim bor mizanim\n",
    "sales_t = sales.T\n",
    "sales_t"
   ]
  },
  {
   "cell_type": "code",
   "execution_count": 20,
   "id": "6884cd14",
   "metadata": {},
   "outputs": [
    {
     "data": {
      "text/plain": [
       "array([1, 0, 0, 0, 0, 1, 0, 1, 0, 0, 1, 1, 0, 0, 0, 1, 0, 0, 0, 0, 0, 0,\n",
       "       1, 0])"
      ]
     },
     "execution_count": 20,
     "metadata": {},
     "output_type": "execute_result"
    }
   ],
   "source": [
    "experiment_label = np.random.randint(0,2,len(sales_t))\n",
    "experiment_label"
   ]
  },
  {
   "cell_type": "code",
   "execution_count": 24,
   "id": "0e4ac606",
   "metadata": {},
   "outputs": [
    {
     "name": "stdout",
     "output_type": "stream",
     "text": [
      "[[ 1.  0.  0.  0.  0.  1.  0.  1.  0.  0.  1.  1.  0.  0.  0.  1.  0.  0.\n",
      "   0.  0.  0.  0.  1.  0.]\n",
      " [23. 21. 19. 24. 35. 17. 18. 24. 33. 27. 21. 23. 31. 28. 19. 24. 32. 27.\n",
      "  16. 41. 23. 32. 29. 33.]]\n"
     ]
    }
   ],
   "source": [
    "experiment_data = np.array ([\n",
    "    experiment_label,\n",
    "    sales_t[:,1]\n",
    "])   \n",
    "print(experiment_data)"
   ]
  },
  {
   "cell_type": "code",
   "execution_count": 26,
   "id": "24fb8a9b",
   "metadata": {},
   "outputs": [
    {
     "data": {
      "text/plain": [
       "array([[ 1., 23.],\n",
       "       [ 0., 21.],\n",
       "       [ 0., 19.],\n",
       "       [ 0., 24.],\n",
       "       [ 0., 35.],\n",
       "       [ 1., 17.],\n",
       "       [ 0., 18.],\n",
       "       [ 1., 24.],\n",
       "       [ 0., 33.],\n",
       "       [ 0., 27.],\n",
       "       [ 1., 21.],\n",
       "       [ 1., 23.],\n",
       "       [ 0., 31.],\n",
       "       [ 0., 28.],\n",
       "       [ 0., 19.],\n",
       "       [ 1., 24.],\n",
       "       [ 0., 32.],\n",
       "       [ 0., 27.],\n",
       "       [ 0., 16.],\n",
       "       [ 0., 41.],\n",
       "       [ 0., 23.],\n",
       "       [ 0., 32.],\n",
       "       [ 1., 29.],\n",
       "       [ 0., 33.]])"
      ]
     },
     "execution_count": 26,
     "metadata": {},
     "output_type": "execute_result"
    }
   ],
   "source": [
    "# braye inke 'experiment_data_t' bekhahim transpose konim darim\n",
    "# omid riazi [bayad tedad sefrh b tedad]\n",
    "experiment_data_t = experiment_data.T\n",
    "experiment_data_t"
   ]
  },
  {
   "cell_type": "code",
   "execution_count": 30,
   "id": "c3c5a980",
   "metadata": {},
   "outputs": [
    {
     "data": {
      "text/plain": [
       "array([23., 17., 24., 21., 23., 24., 29.])"
      ]
     },
     "execution_count": 30,
     "metadata": {},
     "output_type": "execute_result"
    }
   ],
   "source": [
    "experiment_data_t[experiment_data_t[:,0] == 1][:,1]"
   ]
  },
  {
   "cell_type": "code",
   "execution_count": 33,
   "id": "3406e7ba",
   "metadata": {},
   "outputs": [
    {
     "data": {
      "text/plain": [
       "array([0., 0., 0., 0., 0., 0., 0., 0., 0., 0., 0., 0., 0., 0., 0., 0., 0.])"
      ]
     },
     "execution_count": 33,
     "metadata": {},
     "output_type": "execute_result"
    }
   ],
   "source": [
    "experiment_data_t[experiment_data_t[:,0] == 0][:,0]"
   ]
  },
  {
   "cell_type": "code",
   "execution_count": 35,
   "id": "3da2a07c",
   "metadata": {},
   "outputs": [
    {
     "data": {
      "text/plain": [
       "array([[4.65379939e-310],\n",
       "       [0.00000000e+000],\n",
       "       [0.00000000e+000],\n",
       "       [0.00000000e+000],\n",
       "       [0.00000000e+000],\n",
       "       [0.00000000e+000],\n",
       "       [0.00000000e+000],\n",
       "       [0.00000000e+000],\n",
       "       [0.00000000e+000],\n",
       "       [0.00000000e+000]])"
      ]
     },
     "execution_count": 35,
     "metadata": {},
     "output_type": "execute_result"
    }
   ],
   "source": [
    "np.empty([10,1])"
   ]
  },
  {
   "cell_type": "code",
   "execution_count": 41,
   "id": "b2f53b75",
   "metadata": {},
   "outputs": [
    {
     "ename": "SyntaxError",
     "evalue": "invalid syntax (193650710.py, line 6)",
     "output_type": "error",
     "traceback": [
      "\u001b[0;36m  Input \u001b[0;32mIn [41]\u001b[0;36m\u001b[0m\n\u001b[0;31m    experiment_data = np.array([\u001b[0m\n\u001b[0m                    ^\u001b[0m\n\u001b[0;31mSyntaxError\u001b[0m\u001b[0;31m:\u001b[0m invalid syntax\n"
     ]
    }
   ],
   "source": [
    "def sh_exp(N):\n",
    "    experiment_diff_mean = np.empty([N, 1])\n",
    "    for times in np.arange(N):\n",
    "        experiment_label = np.random.randint(0,2,len(sales_t))\n",
    "        experiment_data = np.array([\n",
    "            experiment_data = np.array([\n",
    "                experiment_label,\n",
    "                sales_t[:,1]\n",
    "            ]).T\n",
    "            experiment_diff_mean[times] = experiment_data[experiment_data[:,0]]\n",
    "        ])"
   ]
  },
  {
   "cell_type": "code",
   "execution_count": 47,
   "id": "10b74f56",
   "metadata": {},
   "outputs": [
    {
     "ename": "NameError",
     "evalue": "name 'N' is not defined",
     "output_type": "error",
     "traceback": [
      "\u001b[0;31m---------------------------------------------------------------------------\u001b[0m",
      "\u001b[0;31mNameError\u001b[0m                                 Traceback (most recent call last)",
      "Input \u001b[0;32mIn [47]\u001b[0m, in \u001b[0;36m<cell line: 1>\u001b[0;34m()\u001b[0m\n\u001b[0;32m----> 1\u001b[0m e1 \u001b[38;5;241m=\u001b[39m sh_exp(\u001b[43mN\u001b[49m)\n",
      "\u001b[0;31mNameError\u001b[0m: name 'N' is not defined"
     ]
    }
   ],
   "source": [
    "e1 = sh_exp(N)"
   ]
  },
  {
   "cell_type": "code",
   "execution_count": 43,
   "id": "51392a2b",
   "metadata": {},
   "outputs": [
    {
     "ename": "NameError",
     "evalue": "name 'e1' is not defined",
     "output_type": "error",
     "traceback": [
      "\u001b[0;31m---------------------------------------------------------------------------\u001b[0m",
      "\u001b[0;31mNameError\u001b[0m                                 Traceback (most recent call last)",
      "Input \u001b[0;32mIn [43]\u001b[0m, in \u001b[0;36m<cell line: 1>\u001b[0;34m()\u001b[0m\n\u001b[0;32m----> 1\u001b[0m \u001b[38;5;28mlen\u001b[39m(\u001b[43me1\u001b[49m[e1 \u001b[38;5;241m>\u001b[39m\u001b[38;5;241m=\u001b[39m d])\n",
      "\u001b[0;31mNameError\u001b[0m: name 'e1' is not defined"
     ]
    }
   ],
   "source": [
    "len(e1[e1 >= d])"
   ]
  },
  {
   "cell_type": "code",
   "execution_count": 44,
   "id": "8cca172e",
   "metadata": {},
   "outputs": [
    {
     "data": {
      "text/plain": [
       "6.5"
      ]
     },
     "execution_count": 44,
     "metadata": {},
     "output_type": "execute_result"
    }
   ],
   "source": [
    "# har cheghadr tedad azmayesh bishtar bashad adadi ke be dast ayad ghabel etminan tar hast.\n",
    "# p_value: ehtemal \n",
    "# chon zire 5 darsad nashod mitavan goft ke ma be shavahed kafi naresidim\n",
    "65 / 1000 * 100"
   ]
  },
  {
   "cell_type": "code",
   "execution_count": 49,
   "id": "24571892",
   "metadata": {},
   "outputs": [
    {
     "ename": "NameError",
     "evalue": "name 'e1' is not defined",
     "output_type": "error",
     "traceback": [
      "\u001b[0;31m---------------------------------------------------------------------------\u001b[0m",
      "\u001b[0;31mNameError\u001b[0m                                 Traceback (most recent call last)",
      "Input \u001b[0;32mIn [49]\u001b[0m, in \u001b[0;36m<cell line: 1>\u001b[0;34m()\u001b[0m\n\u001b[0;32m----> 1\u001b[0m sns\u001b[38;5;241m.\u001b[39mdisplot(\u001b[43me1\u001b[49m, bins\u001b[38;5;241m=\u001b[39m\u001b[38;5;241m50\u001b[39m)\n",
      "\u001b[0;31mNameError\u001b[0m: name 'e1' is not defined"
     ]
    }
   ],
   "source": [
    "sns.displot(e1, bins=50)"
   ]
  },
  {
   "cell_type": "code",
   "execution_count": null,
   "id": "e12af9bd",
   "metadata": {},
   "outputs": [],
   "source": []
  }
 ],
 "metadata": {
  "kernelspec": {
   "display_name": "Python 3 (ipykernel)",
   "language": "python",
   "name": "python3"
  },
  "language_info": {
   "codemirror_mode": {
    "name": "ipython",
    "version": 3
   },
   "file_extension": ".py",
   "mimetype": "text/x-python",
   "name": "python",
   "nbconvert_exporter": "python",
   "pygments_lexer": "ipython3",
   "version": "3.9.7"
  }
 },
 "nbformat": 4,
 "nbformat_minor": 5
}
