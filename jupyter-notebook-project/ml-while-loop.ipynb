{
 "cells": [
  {
   "cell_type": "markdown",
   "id": "78a3062a",
   "metadata": {},
   "source": [
    "With indefinite iteration, the number of times the loop is executed is'nt specified explicitly in advance.\n",
    "Rather, the designated block is executed repeatedly as long as some condition is met.\n",
    "\n",
    "With deifinite iteration, the number of times the disignated block will be executed is specified explicity at the time the loop starts."
   ]
  },
  {
   "cell_type": "code",
   "execution_count": 2,
   "id": "d3af8e37",
   "metadata": {},
   "outputs": [
    {
     "name": "stdout",
     "output_type": "stream",
     "text": [
      "5\n",
      "4\n",
      "3\n",
      "2\n",
      "1\n"
     ]
    }
   ],
   "source": [
    "x = 5\n",
    "while x > 0:\n",
    "    print(x)\n",
    "    x -= 1"
   ]
  },
  {
   "cell_type": "markdown",
   "id": "14f6ba71",
   "metadata": {},
   "source": [
    "iterable:\n",
    "    list\n",
    "    tuple\n",
    "    string\n",
    "    dictionary\n",
    "    set"
   ]
  },
  {
   "cell_type": "markdown",
   "id": "4f798392",
   "metadata": {},
   "source": [
    "# Three-Expression Loop"
   ]
  },
  {
   "cell_type": "markdown",
   "id": "896696e7",
   "metadata": {},
   "source": [
    "**Another form of for loop polularized by the C Programming language contains three parts:**\n",
    "An initialization\n",
    "An expression specifying an ending condtion\n",
    "An action to be performed at the end of each iteration.\n",
    "\n",
    "This Type of loop has the following form:\n",
    "\n",
    "<code>\n",
    "    for (i = 1; i <= 11;  i++)\n",
    "        loop body\n",
    "</code>"
   ]
  },
  {
   "cell_type": "code",
   "execution_count": 9,
   "id": "49334ed5",
   "metadata": {},
   "outputs": [],
   "source": [
    "## Collection-Based or Iterator-Based Loop"
   ]
  },
  {
   "cell_type": "markdown",
   "id": "f3d99cf7",
   "metadata": {},
   "source": [
    "This type of loop iterates over a collection of objects, rather than specifying numeric values or conditions:\n",
    "    <code>\n",
    "        for i in <collection>\n",
    "    <code/>"
   ]
  },
  {
   "cell_type": "code",
   "execution_count": 37,
   "id": "1f8d53b7",
   "metadata": {},
   "outputs": [
    {
     "name": "stdout",
     "output_type": "stream",
     "text": [
      "1\n",
      "2\n",
      "3\n"
     ]
    }
   ],
   "source": [
    "for item in [1,2,3]:\n",
    "    print(item)"
   ]
  },
  {
   "cell_type": "code",
   "execution_count": 14,
   "id": "ee036a3b",
   "metadata": {},
   "outputs": [
    {
     "name": "stdout",
     "output_type": "stream",
     "text": [
      "('one', 1)\n",
      "('two', 2)\n"
     ]
    }
   ],
   "source": [
    "for item in {'one':1,'two':2}.items():\n",
    "    print(item)"
   ]
  },
  {
   "cell_type": "code",
   "execution_count": 15,
   "id": "61d480f5",
   "metadata": {},
   "outputs": [
    {
     "name": "stdout",
     "output_type": "stream",
     "text": [
      "1\n",
      "2\n"
     ]
    }
   ],
   "source": [
    "for item in {'one':1,'two':2}.values():\n",
    "    print(item)"
   ]
  },
  {
   "cell_type": "code",
   "execution_count": 17,
   "id": "f182fbaf",
   "metadata": {},
   "outputs": [
    {
     "name": "stdout",
     "output_type": "stream",
     "text": [
      "one\n",
      "two\n"
     ]
    }
   ],
   "source": [
    "for item in {'one':1,'two':2}.keys():\n",
    "    print(item)"
   ]
  },
  {
   "cell_type": "code",
   "execution_count": 18,
   "id": "4bc0b976",
   "metadata": {},
   "outputs": [
    {
     "name": "stdout",
     "output_type": "stream",
     "text": [
      "1\n",
      "2\n",
      "3\n",
      "4\n"
     ]
    }
   ],
   "source": [
    "for item in {1,2,3,4}:\n",
    "    print(item)"
   ]
  },
  {
   "cell_type": "code",
   "execution_count": 19,
   "id": "3d565bfe",
   "metadata": {},
   "outputs": [
    {
     "name": "stdout",
     "output_type": "stream",
     "text": [
      "a\n",
      "l\n",
      "i\n"
     ]
    }
   ],
   "source": [
    "# string ha iterable hastand\n",
    "for item in \"ali\":\n",
    "    print(item)"
   ]
  },
  {
   "cell_type": "code",
   "execution_count": null,
   "id": "c4ad8364",
   "metadata": {},
   "outputs": [],
   "source": [
    "for item in 2:\n",
    "    print(item)"
   ]
  },
  {
   "cell_type": "markdown",
   "id": "252a182e",
   "metadata": {},
   "source": [
    "### Iterables"
   ]
  },
  {
   "cell_type": "markdown",
   "id": "ee02cd55",
   "metadata": {},
   "source": [
    "In Python, iterable means an object can be used in iteration. The term is used as:\n",
    "    An Adjective: An object may be described as iterable.\n",
    "    A noun: An object may be characterized as an iterable.\n",
    "\n",
    "iterator ha mesle iterable ha mitavan roye an iterate kard vali hafeze daranad va akharin iterate dar hafeze sabt mishavad."
   ]
  },
  {
   "cell_type": "code",
   "execution_count": 33,
   "id": "ca0f7b25",
   "metadata": {},
   "outputs": [],
   "source": [
    "myiter = iter([1,2,3])"
   ]
  },
  {
   "cell_type": "code",
   "execution_count": null,
   "id": "21325f98",
   "metadata": {},
   "outputs": [],
   "source": [
    "iterable\n",
    "iterator"
   ]
  },
  {
   "cell_type": "code",
   "execution_count": 35,
   "id": "67cc8812",
   "metadata": {},
   "outputs": [
    {
     "name": "stdout",
     "output_type": "stream",
     "text": [
      "1\n",
      "2\n",
      "3\n"
     ]
    }
   ],
   "source": [
    "for item in myiter:\n",
    "    print(item)"
   ]
  },
  {
   "cell_type": "markdown",
   "id": "79497404",
   "metadata": {},
   "source": [
    "### iterable hafeze darand"
   ]
  },
  {
   "cell_type": "code",
   "execution_count": 47,
   "id": "ead5c58a",
   "metadata": {},
   "outputs": [],
   "source": [
    "myiter = iter([1,2,3])"
   ]
  },
  {
   "cell_type": "code",
   "execution_count": 49,
   "id": "ed06a943",
   "metadata": {},
   "outputs": [
    {
     "data": {
      "text/plain": [
       "2"
      ]
     },
     "execution_count": 49,
     "metadata": {},
     "output_type": "execute_result"
    }
   ],
   "source": [
    "next(myiter)"
   ]
  },
  {
   "cell_type": "code",
   "execution_count": null,
   "id": "d5583a98",
   "metadata": {},
   "outputs": [],
   "source": []
  }
 ],
 "metadata": {
  "kernelspec": {
   "display_name": "Python 3 (ipykernel)",
   "language": "python",
   "name": "python3"
  },
  "language_info": {
   "codemirror_mode": {
    "name": "ipython",
    "version": 3
   },
   "file_extension": ".py",
   "mimetype": "text/x-python",
   "name": "python",
   "nbconvert_exporter": "python",
   "pygments_lexer": "ipython3",
   "version": "3.9.7"
  }
 },
 "nbformat": 4,
 "nbformat_minor": 5
}
