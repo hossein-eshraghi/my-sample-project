{
 "cells": [
  {
   "cell_type": "markdown",
   "id": "ccd05f80",
   "metadata": {},
   "source": [
    "## Big O Notion\n",
    "- nerkh tagheerat nesbat be vorodi ra barresi mikonad\n",
    "- time complexity ra moshakhas mikonad\n",
    "- tagheerat notation dar vorodi ra moshakhas mikonad [barhasb vorodi hayi ke darim]\n",
    "- nerkh tagheerat vorodi dar zaman ejra"
   ]
  },
  {
   "cell_type": "markdown",
   "id": "b26b4956",
   "metadata": {},
   "source": [
    "## Multiplication table"
   ]
  },
  {
   "cell_type": "code",
   "execution_count": 12,
   "id": "16647b97",
   "metadata": {},
   "outputs": [
    {
     "name": "stdout",
     "output_type": "stream",
     "text": [
      "  0   0   0   0   0   0   0   0   0   0 \n",
      "  0   1   2   3   4   5   6   7   8   9 \n",
      "  0   2   4   6   8  10  12  14  16  18 \n",
      "  0   3   6   9  12  15  18  21  24  27 \n",
      "  0   4   8  12  16  20  24  28  32  36 \n",
      "  0   5  10  15  20  25  30  35  40  45 \n",
      "  0   6  12  18  24  30  36  42  48  54 \n",
      "  0   7  14  21  28  35  42  49  56  63 \n",
      "  0   8  16  24  32  40  48  56  64  72 \n",
      "  0   9  18  27  36  45  54  63  72  81 \n"
     ]
    }
   ],
   "source": [
    "# Q1\n",
    "# time coplexity in alogorithm O(n^2) ast\n",
    "n = 10\n",
    "# n = 10 --> 100 ta operation zarb anjam midahim\n",
    "# n = 20 --> 400 ta operation zarb anjam midahim\n",
    "for i in range(n):\n",
    "    for j in range(n):\n",
    "        print(f'{i*j:3}',end=' ')\n",
    "    print()"
   ]
  },
  {
   "cell_type": "code",
   "execution_count": null,
   "id": "26827ba6",
   "metadata": {},
   "outputs": [],
   "source": [
    "# big o notation Q1: O(n ^ 2)\n",
    "# n = 10 --> 2s\n",
    "# n = 20 --> 4s"
   ]
  },
  {
   "cell_type": "code",
   "execution_count": 15,
   "id": "fddfe2e0",
   "metadata": {},
   "outputs": [
    {
     "name": "stdout",
     "output_type": "stream",
     "text": [
      "  0   0   0   0   0 \n",
      "  0   1   2   3   4 \n",
      "  0   2   4   6   8 \n",
      "  0   3   6   9  12 \n",
      "  0   4   8  12  16 \n",
      "  0   5  10  15  20 \n",
      "  0   6  12  18  24 \n",
      "  0   7  14  21  28 \n",
      "  0   8  16  24  32 \n",
      "  0   9  18  27  36 \n"
     ]
    }
   ],
   "source": [
    "# Q2\n",
    "n = 10\n",
    "m = 5\n",
    "# n = 10 --> 100 ta operation zarb anjam midahim\n",
    "# n = 20 --> 400 ta operation zarb anjam midahim\n",
    "for i in range(n):\n",
    "    for j in range(m):\n",
    "        print(f'{i*j:3}',end=' ')\n",
    "    print()"
   ]
  },
  {
   "cell_type": "code",
   "execution_count": 16,
   "id": "64e0ba9c",
   "metadata": {},
   "outputs": [],
   "source": [
    "# big o notation Q2: O(n * m)"
   ]
  },
  {
   "cell_type": "code",
   "execution_count": 20,
   "id": "aa083d30",
   "metadata": {},
   "outputs": [
    {
     "data": {
      "text/plain": [
       "[1, 8, 5, 4, 9, 11, 15]"
      ]
     },
     "execution_count": 20,
     "metadata": {},
     "output_type": "execute_result"
    }
   ],
   "source": [
    "x = [1,8,5,4,9,11,15]\n",
    "x"
   ]
  },
  {
   "cell_type": "markdown",
   "id": "2ca41179",
   "metadata": {},
   "source": [
    "## Space Complexity:\n",
    "- Similar to time complexity, Space complexity refers to the total amount of memory space used an algorithm/program, including the space of input values for execution.\n",
    "- agar data ra ziad konim algorithm ma che ghadr bishtar space eshghal mikonad\n",
    "- az nazar space complexity chrome bad az firefox hast"
   ]
  },
  {
   "cell_type": "code",
   "execution_count": 4,
   "id": "49adc5e2",
   "metadata": {},
   "outputs": [],
   "source": [
    "from array import array"
   ]
  },
  {
   "cell_type": "code",
   "execution_count": 26,
   "id": "09b44a40",
   "metadata": {},
   "outputs": [
    {
     "name": "stdout",
     "output_type": "stream",
     "text": [
      "array('i', [1, 2, 3])\n"
     ]
    }
   ],
   "source": [
    "a = array('i',[1,2,3])\n",
    "print(a)"
   ]
  },
  {
   "cell_type": "markdown",
   "id": "be2ca1e3",
   "metadata": {},
   "source": [
    "- array ah bayad item haye an hamgen bashand\n",
    "- array bayad `homogeneous` bashad >> False: a = array('i',[1,2,3,'a']) True: a = array('i',[1,2,3])"
   ]
  },
  {
   "cell_type": "code",
   "execution_count": 23,
   "id": "38011daa",
   "metadata": {},
   "outputs": [
    {
     "data": {
      "text/plain": [
       "1"
      ]
     },
     "execution_count": 23,
     "metadata": {},
     "output_type": "execute_result"
    }
   ],
   "source": [
    "a[0]"
   ]
  },
  {
   "cell_type": "code",
   "execution_count": 24,
   "id": "d14ac376",
   "metadata": {},
   "outputs": [
    {
     "data": {
      "text/plain": [
       "2"
      ]
     },
     "execution_count": 24,
     "metadata": {},
     "output_type": "execute_result"
    }
   ],
   "source": [
    "a[1]"
   ]
  },
  {
   "cell_type": "code",
   "execution_count": 7,
   "id": "31d9d4f7",
   "metadata": {},
   "outputs": [
    {
     "data": {
      "text/plain": [
       "array('i', [1, 2, 3, 4, 5, 6, 7, 8, 9, 10])"
      ]
     },
     "execution_count": 7,
     "metadata": {},
     "output_type": "execute_result"
    }
   ],
   "source": [
    "a = array('i',[1,2,3,4,5,6,7,8,9,10])\n",
    "a"
   ]
  },
  {
   "cell_type": "code",
   "execution_count": 9,
   "id": "2a961ea2",
   "metadata": {},
   "outputs": [
    {
     "name": "stdout",
     "output_type": "stream",
     "text": [
      "39.8 ns ± 3.25 ns per loop (mean ± std. dev. of 7 runs, 10,000,000 loops each)\n"
     ]
    }
   ],
   "source": [
    "%timeit a[0] # Access"
   ]
  },
  {
   "cell_type": "code",
   "execution_count": 10,
   "id": "a589cc25",
   "metadata": {},
   "outputs": [
    {
     "name": "stdout",
     "output_type": "stream",
     "text": [
      "35.9 ns ± 3.01 ns per loop (mean ± std. dev. of 7 runs, 10,000,000 loops each)\n"
     ]
    }
   ],
   "source": [
    "%timeit a[7]"
   ]
  },
  {
   "cell_type": "markdown",
   "id": "bc549eb3",
   "metadata": {},
   "source": [
    "- Access --> O(1)\n",
    "- Search --> O(n)\n",
    "- Delete --> O(n)\n",
    "- Insert --> O(n)"
   ]
  },
  {
   "cell_type": "markdown",
   "id": "48caedef",
   "metadata": {},
   "source": [
    "## Linked List\n",
    "Linked list is a particular list of some data elements linked to one other.\n",
    "In this every element point to the next element which represents the logical ordering.\n",
    "Each elemet is called a node, which has two parts.\n",
    "\n",
    "INFO part which stores the information and `POINTER` which points to the next element. As you know for storing address, we have a unique data structure in C called pointers. Hence the second field of the list must be a pointer type."
   ]
  },
  {
   "cell_type": "markdown",
   "id": "613af97c",
   "metadata": {},
   "source": [
    "- Access --> O(n)\n",
    "- Search --> O(n)\n",
    "- Delete --> O(1)\n",
    "- Insert --> O(1)"
   ]
  },
  {
   "cell_type": "code",
   "execution_count": 11,
   "id": "66bc8033",
   "metadata": {},
   "outputs": [],
   "source": [
    "import sys"
   ]
  },
  {
   "cell_type": "code",
   "execution_count": 13,
   "id": "841caa26",
   "metadata": {},
   "outputs": [
    {
     "data": {
      "text/plain": [
       "28"
      ]
     },
     "execution_count": 13,
     "metadata": {},
     "output_type": "execute_result"
    }
   ],
   "source": [
    "sys.getsizeof(a[0])"
   ]
  },
  {
   "cell_type": "code",
   "execution_count": 14,
   "id": "a8632739",
   "metadata": {},
   "outputs": [
    {
     "data": {
      "text/plain": [
       "28"
      ]
     },
     "execution_count": 14,
     "metadata": {},
     "output_type": "execute_result"
    }
   ],
   "source": [
    "sys.getsizeof(a[1])"
   ]
  },
  {
   "cell_type": "markdown",
   "id": "d0c3aecb",
   "metadata": {},
   "source": [
    "### Linked List"
   ]
  },
  {
   "cell_type": "code",
   "execution_count": 39,
   "id": "f53faf2d",
   "metadata": {},
   "outputs": [],
   "source": [
    "import sys"
   ]
  },
  {
   "cell_type": "code",
   "execution_count": 38,
   "id": "ac77f6bd",
   "metadata": {},
   "outputs": [],
   "source": [
    "l = [1,2,3,'a','b']"
   ]
  },
  {
   "cell_type": "code",
   "execution_count": 62,
   "id": "70e2926d",
   "metadata": {},
   "outputs": [
    {
     "data": {
      "text/plain": [
       "56"
      ]
     },
     "execution_count": 62,
     "metadata": {},
     "output_type": "execute_result"
    }
   ],
   "source": [
    "sys.getsizeof([])"
   ]
  },
  {
   "cell_type": "code",
   "execution_count": 51,
   "id": "35984eaa",
   "metadata": {},
   "outputs": [
    {
     "data": {
      "text/plain": [
       "28"
      ]
     },
     "execution_count": 51,
     "metadata": {},
     "output_type": "execute_result"
    }
   ],
   "source": [
    "sys.getsizeof(l[0])"
   ]
  },
  {
   "cell_type": "code",
   "execution_count": 53,
   "id": "1518f5db",
   "metadata": {},
   "outputs": [
    {
     "data": {
      "text/plain": [
       "28"
      ]
     },
     "execution_count": 53,
     "metadata": {},
     "output_type": "execute_result"
    }
   ],
   "source": [
    "sys.getsizeof(l[1])"
   ]
  },
  {
   "cell_type": "code",
   "execution_count": 54,
   "id": "618c8145",
   "metadata": {},
   "outputs": [
    {
     "data": {
      "text/plain": [
       "28"
      ]
     },
     "execution_count": 54,
     "metadata": {},
     "output_type": "execute_result"
    }
   ],
   "source": [
    "sys.getsizeof(l[2])"
   ]
  },
  {
   "cell_type": "code",
   "execution_count": 57,
   "id": "d1a20bb3",
   "metadata": {},
   "outputs": [
    {
     "data": {
      "text/plain": [
       "50"
      ]
     },
     "execution_count": 57,
     "metadata": {},
     "output_type": "execute_result"
    }
   ],
   "source": [
    "sys.getsizeof(l[3])"
   ]
  },
  {
   "cell_type": "code",
   "execution_count": 58,
   "id": "5459fd08",
   "metadata": {},
   "outputs": [
    {
     "data": {
      "text/plain": [
       "50"
      ]
     },
     "execution_count": 58,
     "metadata": {},
     "output_type": "execute_result"
    }
   ],
   "source": [
    "sys.getsizeof(l[4])"
   ]
  },
  {
   "cell_type": "code",
   "execution_count": 47,
   "id": "a55e347e",
   "metadata": {},
   "outputs": [
    {
     "data": {
      "text/plain": [
       "64"
      ]
     },
     "execution_count": 47,
     "metadata": {},
     "output_type": "execute_result"
    }
   ],
   "source": [
    "sys.getsizeof(['b'])"
   ]
  },
  {
   "cell_type": "code",
   "execution_count": 44,
   "id": "381490ea",
   "metadata": {},
   "outputs": [
    {
     "data": {
      "text/plain": [
       "120"
      ]
     },
     "execution_count": 44,
     "metadata": {},
     "output_type": "execute_result"
    }
   ],
   "source": [
    "sys.getsizeof([1,2,3,'a','b'])"
   ]
  },
  {
   "cell_type": "code",
   "execution_count": 63,
   "id": "f3f52036",
   "metadata": {},
   "outputs": [],
   "source": [
    "import numpy as np"
   ]
  },
  {
   "cell_type": "code",
   "execution_count": 64,
   "id": "f54a4e34",
   "metadata": {},
   "outputs": [
    {
     "data": {
      "text/plain": [
       "array([1. , 2.3])"
      ]
     },
     "execution_count": 64,
     "metadata": {},
     "output_type": "execute_result"
    }
   ],
   "source": [
    "np.array([1,2.3])"
   ]
  },
  {
   "cell_type": "code",
   "execution_count": 65,
   "id": "8559fd30",
   "metadata": {},
   "outputs": [
    {
     "data": {
      "text/plain": [
       "[1, 2, 3, 4]"
      ]
     },
     "execution_count": 65,
     "metadata": {},
     "output_type": "execute_result"
    }
   ],
   "source": [
    "x = [1,2,3,4]\n",
    "x"
   ]
  },
  {
   "cell_type": "code",
   "execution_count": 66,
   "id": "52859418",
   "metadata": {},
   "outputs": [],
   "source": [
    "x.append(5)"
   ]
  },
  {
   "cell_type": "code",
   "execution_count": 67,
   "id": "2648e898",
   "metadata": {},
   "outputs": [
    {
     "data": {
      "text/plain": [
       "[0, 1, 2, 3, 4, 5]"
      ]
     },
     "execution_count": 67,
     "metadata": {},
     "output_type": "execute_result"
    }
   ],
   "source": [
    "[0] + x"
   ]
  },
  {
   "cell_type": "markdown",
   "id": "3e6503b2",
   "metadata": {},
   "source": [
    "### pop: \n",
    "- eleman akhar ra dar list hazf mikonad\n",
    "- kheli dar zaman ejra sari hast"
   ]
  },
  {
   "cell_type": "code",
   "execution_count": 69,
   "id": "4e6dada3",
   "metadata": {},
   "outputs": [
    {
     "data": {
      "text/plain": [
       "5"
      ]
     },
     "execution_count": 69,
     "metadata": {},
     "output_type": "execute_result"
    }
   ],
   "source": [
    "x.pop()"
   ]
  },
  {
   "cell_type": "code",
   "execution_count": 70,
   "id": "228f02e3",
   "metadata": {},
   "outputs": [
    {
     "data": {
      "text/plain": [
       "[1, 2, 3, 4]"
      ]
     },
     "execution_count": 70,
     "metadata": {},
     "output_type": "execute_result"
    }
   ],
   "source": [
    "x"
   ]
  },
  {
   "cell_type": "markdown",
   "id": "a2c91cab",
   "metadata": {},
   "source": [
    "### del:\n",
    "- dar zaman ejra kheli tool mikeshad"
   ]
  },
  {
   "cell_type": "code",
   "execution_count": 72,
   "id": "ff47254c",
   "metadata": {},
   "outputs": [],
   "source": [
    "del x[0]"
   ]
  },
  {
   "cell_type": "code",
   "execution_count": 73,
   "id": "4b606df2",
   "metadata": {},
   "outputs": [
    {
     "data": {
      "text/plain": [
       "[2, 3, 4]"
      ]
     },
     "execution_count": 73,
     "metadata": {},
     "output_type": "execute_result"
    }
   ],
   "source": [
    "x"
   ]
  },
  {
   "cell_type": "code",
   "execution_count": 78,
   "id": "59bb5505",
   "metadata": {},
   "outputs": [
    {
     "name": "stdout",
     "output_type": "stream",
     "text": [
      "10 µs ± 735 ns per loop (mean ± std. dev. of 7 runs, 100,000 loops each)\n"
     ]
    }
   ],
   "source": [
    "%%timeit\n",
    "x = list(range(1000))\n",
    "del x[0]"
   ]
  },
  {
   "cell_type": "code",
   "execution_count": 79,
   "id": "455f5580",
   "metadata": {},
   "outputs": [
    {
     "name": "stdout",
     "output_type": "stream",
     "text": [
      "10.3 µs ± 481 ns per loop (mean ± std. dev. of 7 runs, 100,000 loops each)\n"
     ]
    }
   ],
   "source": [
    "%%timeit\n",
    "x = list(range(1000))\n",
    "x.pop()"
   ]
  },
  {
   "cell_type": "code",
   "execution_count": 84,
   "id": "a0ba29f0",
   "metadata": {},
   "outputs": [],
   "source": [
    "x = []"
   ]
  },
  {
   "cell_type": "code",
   "execution_count": 85,
   "id": "c1c982bd",
   "metadata": {},
   "outputs": [],
   "source": [
    "x.append(3)"
   ]
  },
  {
   "cell_type": "code",
   "execution_count": 86,
   "id": "c22d4a34",
   "metadata": {},
   "outputs": [],
   "source": [
    "x.append(4)"
   ]
  },
  {
   "cell_type": "code",
   "execution_count": 87,
   "id": "e0a0b683",
   "metadata": {},
   "outputs": [],
   "source": [
    "x.append(5)"
   ]
  },
  {
   "cell_type": "code",
   "execution_count": 88,
   "id": "82a7190a",
   "metadata": {},
   "outputs": [
    {
     "data": {
      "text/plain": [
       "[3, 4, 5]"
      ]
     },
     "execution_count": 88,
     "metadata": {},
     "output_type": "execute_result"
    }
   ],
   "source": [
    "x"
   ]
  },
  {
   "cell_type": "code",
   "execution_count": 106,
   "id": "044d5c04",
   "metadata": {},
   "outputs": [
    {
     "name": "stdout",
     "output_type": "stream",
     "text": [
      "size        capacity\n",
      "      1   4\n",
      "      2   4\n",
      "      3   4\n",
      "      4   4\n",
      "      5   8\n",
      "      6   8\n",
      "      7   8\n",
      "      8   8\n",
      "      9   16\n",
      "     10   16\n"
     ]
    }
   ],
   "source": [
    "x = []\n",
    "print(f'size        capacity')\n",
    "for i in range(10):\n",
    "    x.append(i)\n",
    "    l_capacity = int((sys.getsizeof(x) - 56) / 8)\n",
    "    length = len(x)    \n",
    "    print(f'{length:7}   {l_capacity}')"
   ]
  }
 ],
 "metadata": {
  "kernelspec": {
   "display_name": "Python 3 (ipykernel)",
   "language": "python",
   "name": "python3"
  },
  "language_info": {
   "codemirror_mode": {
    "name": "ipython",
    "version": 3
   },
   "file_extension": ".py",
   "mimetype": "text/x-python",
   "name": "python",
   "nbconvert_exporter": "python",
   "pygments_lexer": "ipython3",
   "version": "3.9.15"
  }
 },
 "nbformat": 4,
 "nbformat_minor": 5
}
