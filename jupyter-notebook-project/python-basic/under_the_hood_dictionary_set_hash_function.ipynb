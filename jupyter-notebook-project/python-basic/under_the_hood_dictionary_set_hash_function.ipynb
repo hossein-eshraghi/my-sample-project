{
 "cells": [
  {
   "cell_type": "markdown",
   "id": "df7a3f71",
   "metadata": {},
   "source": [
    "# Hash Function\n",
    "\n",
    "A hash function is any function that can be used to `map data of arbitrary size to fixed-size values.` The values returned by a hash function are called `hash values, hash codes, digests, or simply hashes.` The values are usually used to index a fixed-size table called a `hash table.` Use of a `hash function` to index a hash table is called `hashing or scatter storage addressing.`\\\n",
    "Hash functions and their associated hash tables are used in `data storage and retrieval applications` to access data in a small and nearly constant time per retrieval, and require an amount of storage space efficient form of data access which avoids the non-linear access time of ordered and unordered lists and structured trees.\n",
    "\n",
    "# Important properties\n",
    "\n",
    "- Each hash is `unique` but always repeatable The word `'cat'` will hash to something that no other word hashes too, but it will always hash to some thing.\n",
    "- The function is `'one way'.` if you are given the value of what `'cat'` hashes too but you did'nt know what made it, you would never be able to find out that `'cat'` was the original word.\n",
    "\n",
    "There are many different hash function such as `SHA-1 and SHA-2.`"
   ]
  },
  {
   "cell_type": "markdown",
   "id": "6feb47ea",
   "metadata": {},
   "source": [
    "# How Hash Table Works\n",
    "\n",
    "Consider a list of items:\n",
    "```python\n",
    "mylist = [\"apple\",\"banana\",\"pear\",\"orange\",\"mango\"]\n",
    "\n",
    "To find an item in the list, one solution is brute force such as linear search which would take a very long time for a very big array.\n",
    "\n",
    "But what if you know the index number of that elements? You can lookup the value very quick. The look up time in face independent of the array size of the value position in the array.\n",
    "\n",
    "But how can you know which index contains the value?\n",
    "\n",
    "```"
   ]
  },
  {
   "cell_type": "markdown",
   "id": "e1a74ea3",
   "metadata": {},
   "source": [
    "Hashing is a digital signature, originally designed to check if data was modified."
   ]
  },
  {
   "cell_type": "code",
   "execution_count": 1,
   "id": "2fa0df5b",
   "metadata": {},
   "outputs": [
    {
     "data": {
      "text/plain": [
       "[1, 2, 3]"
      ]
     },
     "execution_count": 1,
     "metadata": {},
     "output_type": "execute_result"
    }
   ],
   "source": [
    "x = [1,2,3]\n",
    "x"
   ]
  },
  {
   "cell_type": "code",
   "execution_count": 2,
   "id": "0b105987",
   "metadata": {},
   "outputs": [
    {
     "data": {
      "text/plain": [
       "1"
      ]
     },
     "execution_count": 2,
     "metadata": {},
     "output_type": "execute_result"
    }
   ],
   "source": [
    "x[0]"
   ]
  },
  {
   "cell_type": "code",
   "execution_count": 3,
   "id": "22c5f7d8",
   "metadata": {},
   "outputs": [],
   "source": [
    "y = {\n",
    "    'Ali':19.5,\n",
    "    'Hasan':14,\n",
    "    'Niloufar':19,\n",
    "}"
   ]
  },
  {
   "cell_type": "code",
   "execution_count": 4,
   "id": "21052a0a",
   "metadata": {},
   "outputs": [
    {
     "data": {
      "text/plain": [
       "{'Ali': 19.5, 'Hasan': 14, 'Niloufar': 19}"
      ]
     },
     "execution_count": 4,
     "metadata": {},
     "output_type": "execute_result"
    }
   ],
   "source": [
    "y"
   ]
  },
  {
   "cell_type": "code",
   "execution_count": 5,
   "id": "18d54fd5",
   "metadata": {},
   "outputs": [
    {
     "data": {
      "text/plain": [
       "4"
      ]
     },
     "execution_count": 5,
     "metadata": {},
     "output_type": "execute_result"
    }
   ],
   "source": [
    "hash(4)"
   ]
  },
  {
   "cell_type": "code",
   "execution_count": 6,
   "id": "58cc17e6",
   "metadata": {},
   "outputs": [
    {
     "data": {
      "text/plain": [
       "195237157702401029"
      ]
     },
     "execution_count": 6,
     "metadata": {},
     "output_type": "execute_result"
    }
   ],
   "source": [
    "hash('a')"
   ]
  },
  {
   "cell_type": "code",
   "execution_count": 11,
   "id": "670f7fda",
   "metadata": {},
   "outputs": [],
   "source": [
    "names = [\n",
    "    'Narges',\n",
    "    'Sara',\n",
    "    'Mehrdad',\n",
    "    'Niloufar',\n",
    "    'Somayeh',\n",
    "    '....',\n",
    "    '....',\n",
    "    '....'\n",
    "]"
   ]
  },
  {
   "cell_type": "code",
   "execution_count": 9,
   "id": "00fe91d8",
   "metadata": {},
   "outputs": [
    {
     "data": {
      "text/plain": [
       "'Narges'"
      ]
     },
     "execution_count": 9,
     "metadata": {},
     "output_type": "execute_result"
    }
   ],
   "source": [
    "names[0]"
   ]
  },
  {
   "cell_type": "markdown",
   "id": "e434ec5d",
   "metadata": {},
   "source": [
    "- baraye search kardan yek item dar list in ravesh proce zaman bari hast ke bayad be tartib az avalin item shoro be check kardan konad. [har che tedad item ha dar list bishtar shavad ejraye an kondtar mishavad.]"
   ]
  },
  {
   "cell_type": "code",
   "execution_count": 10,
   "id": "e5163d15",
   "metadata": {},
   "outputs": [
    {
     "data": {
      "text/plain": [
       "False"
      ]
     },
     "execution_count": 10,
     "metadata": {},
     "output_type": "execute_result"
    }
   ],
   "source": [
    "# az lahaz big O notation O(n) hast\n",
    "'Hasan' in names"
   ]
  },
  {
   "cell_type": "markdown",
   "id": "5bf44659",
   "metadata": {},
   "source": [
    "- dar in ravesh searching kheili behine shode ast va tanha yek cell ra dar list barressi mikonad [dar sorati ke shomare array ra bedanim]"
   ]
  },
  {
   "cell_type": "code",
   "execution_count": 14,
   "id": "39f27047",
   "metadata": {},
   "outputs": [
    {
     "data": {
      "text/plain": [
       "False"
      ]
     },
     "execution_count": 14,
     "metadata": {},
     "output_type": "execute_result"
    }
   ],
   "source": [
    "'Hasan' == names[4]"
   ]
  },
  {
   "cell_type": "code",
   "execution_count": 15,
   "id": "71a538a5",
   "metadata": {},
   "outputs": [
    {
     "data": {
      "text/plain": [
       "['Narges', 'Sara', 'Mehrdad', 'Niloufar', 'Somayeh', '....', '....', '....']"
      ]
     },
     "execution_count": 15,
     "metadata": {},
     "output_type": "execute_result"
    }
   ],
   "source": [
    "names"
   ]
  },
  {
   "cell_type": "code",
   "execution_count": 17,
   "id": "b34136a7",
   "metadata": {},
   "outputs": [
    {
     "data": {
      "text/plain": [
       "(3, 2, 2, 1)"
      ]
     },
     "execution_count": 17,
     "metadata": {},
     "output_type": "execute_result"
    }
   ],
   "source": [
    "hash('Narges') %5,hash('Mehrdad') %5,hash('Niloufar') %5,hash('Somayeh') %5"
   ]
  },
  {
   "cell_type": "code",
   "execution_count": 18,
   "id": "d65ab654",
   "metadata": {},
   "outputs": [
    {
     "data": {
      "text/plain": [
       "2"
      ]
     },
     "execution_count": 18,
     "metadata": {},
     "output_type": "execute_result"
    }
   ],
   "source": [
    "hash('Niloufar') %5"
   ]
  },
  {
   "cell_type": "code",
   "execution_count": 19,
   "id": "d94a046e",
   "metadata": {},
   "outputs": [
    {
     "data": {
      "text/plain": [
       "2"
      ]
     },
     "execution_count": 19,
     "metadata": {},
     "output_type": "execute_result"
    }
   ],
   "source": [
    "hash('Abbas') %5"
   ]
  },
  {
   "cell_type": "markdown",
   "id": "7fc1721c",
   "metadata": {},
   "source": [
    "- Open vs Closed Addressing"
   ]
  },
  {
   "cell_type": "markdown",
   "id": "d01456bf",
   "metadata": {},
   "source": [
    "# Objective of Hash function\n",
    "\n",
    "if you know all the keys in advance, it's theoretically possibleto come up with a perfect hash function . One that will produce a unique index for each and every data item. More often than not, you need a more flexible hash table.\n",
    "\n",
    "So when choosing a hash function, there are some objectives to bear in mind\n",
    "\n",
    "- Minimize collisons\n",
    "- Uniform distribution of hash values\n",
    "- Easy to calculate\n",
    "- Resolve any collisions"
   ]
  },
  {
   "cell_type": "markdown",
   "id": "243ddd34",
   "metadata": {},
   "source": [
    "# Summary\n",
    "\n",
    "- Hash tables are used to index large amounts of data\n",
    "- Address of each key calculated using a key itself.\n",
    "- Collisions are resolved with open or closed addressing\n",
    "- Hashing is widely users in database indexing,compilers,caching,password, authentication, and more.\n",
    "- Insertion, deletion, and retrieval occur in constant time."
   ]
  },
  {
   "cell_type": "markdown",
   "id": "60db9572",
   "metadata": {},
   "source": [
    "## Read More\n",
    "\n",
    "- Steps of converting a string to Hash\n",
    "- Hash Tables Operations Visualization"
   ]
  },
  {
   "cell_type": "markdown",
   "id": "03434147",
   "metadata": {},
   "source": [
    "# Cryptographic Hash Function\n",
    "\n",
    "A cryptographic hash function is an algorithm that `takes an arbitrary amount of data input-a credential-and produces a fixed-size output of enciphered text called a hash value, or just \"hash,\" That enciphered text can then be stored instead of the password itself, and later used to verify the user.`"
   ]
  },
  {
   "cell_type": "code",
   "execution_count": 20,
   "id": "27e81a9e",
   "metadata": {},
   "outputs": [],
   "source": [
    "x = {'a': 1}"
   ]
  },
  {
   "cell_type": "code",
   "execution_count": 26,
   "id": "df6fc80a",
   "metadata": {},
   "outputs": [],
   "source": [
    "class Student:\n",
    "    grade = 20\n",
    "    def __init__(self, a):\n",
    "        self.a = a"
   ]
  },
  {
   "cell_type": "code",
   "execution_count": 27,
   "id": "3b93242d",
   "metadata": {},
   "outputs": [],
   "source": [
    "obj = Student(2)"
   ]
  },
  {
   "cell_type": "code",
   "execution_count": 28,
   "id": "ee63c9d0",
   "metadata": {},
   "outputs": [
    {
     "data": {
      "text/plain": [
       "{'a': 2}"
      ]
     },
     "execution_count": 28,
     "metadata": {},
     "output_type": "execute_result"
    }
   ],
   "source": [
    "obj.__dict__"
   ]
  },
  {
   "cell_type": "markdown",
   "id": "09eca1fb",
   "metadata": {},
   "source": [
    "- behtar ast ke search dar list ra dar ebteda be set tabdil konim va sepas dar an set search konim"
   ]
  },
  {
   "cell_type": "code",
   "execution_count": 29,
   "id": "681b717a",
   "metadata": {},
   "outputs": [],
   "source": [
    "names_set = set(['ali','reza','hasan'])"
   ]
  },
  {
   "cell_type": "code",
   "execution_count": 30,
   "id": "7cd32f13",
   "metadata": {},
   "outputs": [
    {
     "data": {
      "text/plain": [
       "True"
      ]
     },
     "execution_count": 30,
     "metadata": {},
     "output_type": "execute_result"
    }
   ],
   "source": [
    "'reza' in names_set"
   ]
  },
  {
   "cell_type": "markdown",
   "id": "124dbd4f",
   "metadata": {},
   "source": [
    "# FAQ"
   ]
  },
  {
   "cell_type": "code",
   "execution_count": 49,
   "id": "35a56593",
   "metadata": {},
   "outputs": [],
   "source": [
    "# TypeError: unhashable type: 'list'\n",
    "# anti pattern\n",
    "# f = {\n",
    "#     'a':1,\n",
    "#     'b':2,\n",
    "#     [1,2,3,4]:4\n",
    "# }"
   ]
  },
  {
   "cell_type": "code",
   "execution_count": 33,
   "id": "bb323c04",
   "metadata": {},
   "outputs": [],
   "source": [
    "class Student:\n",
    "    def __init__(self, st_id):\n",
    "        self.st_id = st_id\n",
    "    \n",
    "    def __hash__(self):\n",
    "        return self.st_id"
   ]
  },
  {
   "cell_type": "code",
   "execution_count": 37,
   "id": "2382a9d1",
   "metadata": {},
   "outputs": [],
   "source": [
    "ali = Student(9023026)"
   ]
  },
  {
   "cell_type": "code",
   "execution_count": 38,
   "id": "6f7fb214",
   "metadata": {},
   "outputs": [
    {
     "data": {
      "text/plain": [
       "9023026"
      ]
     },
     "execution_count": 38,
     "metadata": {},
     "output_type": "execute_result"
    }
   ],
   "source": [
    "hash(ali)"
   ]
  },
  {
   "cell_type": "code",
   "execution_count": 39,
   "id": "4a0dfc91",
   "metadata": {},
   "outputs": [],
   "source": [
    "ali = Student(9023026)\n",
    "reza = Student(9023026)"
   ]
  },
  {
   "cell_type": "code",
   "execution_count": 42,
   "id": "3b1226c1",
   "metadata": {},
   "outputs": [],
   "source": [
    "d = {\n",
    "    ali: 2,\n",
    "    reza: 3\n",
    "}"
   ]
  },
  {
   "cell_type": "code",
   "execution_count": 44,
   "id": "64170982",
   "metadata": {},
   "outputs": [
    {
     "data": {
      "text/plain": [
       "{<__main__.Student at 0x7fc871aa7af0>: 2,\n",
       " <__main__.Student at 0x7fc871aa7760>: 3}"
      ]
     },
     "execution_count": 44,
     "metadata": {},
     "output_type": "execute_result"
    }
   ],
   "source": [
    "d"
   ]
  },
  {
   "cell_type": "code",
   "execution_count": 51,
   "id": "34480e19",
   "metadata": {},
   "outputs": [
    {
     "data": {
      "text/plain": [
       "2973674415018793862"
      ]
     },
     "execution_count": 51,
     "metadata": {},
     "output_type": "execute_result"
    }
   ],
   "source": [
    "hash('ali')"
   ]
  },
  {
   "cell_type": "code",
   "execution_count": 53,
   "id": "93e52433",
   "metadata": {},
   "outputs": [
    {
     "data": {
      "text/plain": [
       "310"
      ]
     },
     "execution_count": 53,
     "metadata": {},
     "output_type": "execute_result"
    }
   ],
   "source": [
    "# ASCII Code\n",
    "ord('a') + ord('l') + ord('i')"
   ]
  }
 ],
 "metadata": {
  "kernelspec": {
   "display_name": "Python 3 (ipykernel)",
   "language": "python",
   "name": "python3"
  },
  "language_info": {
   "codemirror_mode": {
    "name": "ipython",
    "version": 3
   },
   "file_extension": ".py",
   "mimetype": "text/x-python",
   "name": "python",
   "nbconvert_exporter": "python",
   "pygments_lexer": "ipython3",
   "version": "3.9.15"
  }
 },
 "nbformat": 4,
 "nbformat_minor": 5
}
