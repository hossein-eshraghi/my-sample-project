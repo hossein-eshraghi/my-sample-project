{
 "cells": [
  {
   "cell_type": "markdown",
   "id": "d5613575",
   "metadata": {},
   "source": [
    "## Dictionary\n",
    "- Dictionaries and lists share the following characteristics:\n",
    "- Both are mutable\n",
    "- Both are dynamic. They can grow and shrink as needed.\n",
    "- Both can be nested. A list can contain another list. A dictionary can contain another dictionary.\n",
    "- A dictionary can also contain a list, and vice versa.\n",
    "\n",
    "Dictionaries differ from lists primarily in how elements are accessed:\n",
    "- List elements are accessed by their position in the list, via indexing.\n",
    "- Dictionary elements are accessed via keys."
   ]
  },
  {
   "cell_type": "code",
   "execution_count": 5,
   "id": "47324a38",
   "metadata": {},
   "outputs": [],
   "source": [
    "# In last element of list, use comma (optional and best practice)\n",
    "x = [19.5, 14, 2, 19.75,]"
   ]
  },
  {
   "cell_type": "code",
   "execution_count": 6,
   "id": "1c6e950f",
   "metadata": {},
   "outputs": [
    {
     "data": {
      "text/plain": [
       "19.5"
      ]
     },
     "execution_count": 6,
     "metadata": {},
     "output_type": "execute_result"
    }
   ],
   "source": [
    "x[0]"
   ]
  },
  {
   "cell_type": "code",
   "execution_count": 7,
   "id": "f5671571",
   "metadata": {},
   "outputs": [
    {
     "data": {
      "text/plain": [
       "19.75"
      ]
     },
     "execution_count": 7,
     "metadata": {},
     "output_type": "execute_result"
    }
   ],
   "source": [
    "x[3]"
   ]
  },
  {
   "cell_type": "markdown",
   "id": "1ec2d3f9",
   "metadata": {},
   "source": [
    "## Defining a Dictionary\n",
    "- You can also construct a dictionary with the built-in dict() function. The argument to dict() should be a sequence of key-value pairs. A list of tuples works well for this:\n",
    "```python\n",
    "    d = dict([\n",
    "    (<key>,<value>),\n",
    "    (<key>,<value>),\n",
    "        .\n",
    "        .\n",
    "        .\n",
    "    (<key>,<value>),])\n",
    "```\n",
    "\n",
    "`MLB_team` can then also be defined this way:"
   ]
  },
  {
   "cell_type": "code",
   "execution_count": 8,
   "id": "4bf56f82",
   "metadata": {},
   "outputs": [],
   "source": [
    "# [ --> square bracket\n",
    "# { --> curly bracket"
   ]
  },
  {
   "cell_type": "code",
   "execution_count": 9,
   "id": "133287bd",
   "metadata": {},
   "outputs": [],
   "source": [
    "# initialize method 1\n",
    "d = { # --> curly bracket\n",
    "    'Ali':19.5,\n",
    "    'Hasan':14,\n",
    "    'Ebrahim':2,\n",
    "    'Niloufar':19.75,\n",
    "}"
   ]
  },
  {
   "cell_type": "code",
   "execution_count": 10,
   "id": "83297633",
   "metadata": {},
   "outputs": [
    {
     "data": {
      "text/plain": [
       "dict"
      ]
     },
     "execution_count": 10,
     "metadata": {},
     "output_type": "execute_result"
    }
   ],
   "source": [
    "type(d)"
   ]
  },
  {
   "cell_type": "code",
   "execution_count": 35,
   "id": "62fc8403",
   "metadata": {},
   "outputs": [],
   "source": [
    "# initialize method 2\n",
    "d = dict(\n",
    "    [('Ali',19.5),\n",
    "    ('Hasan',14),\n",
    "    ('Ebrahim',2),\n",
    "    ('Niloufar',19.75),]\n",
    ")"
   ]
  },
  {
   "cell_type": "code",
   "execution_count": 36,
   "id": "c55dbd28",
   "metadata": {},
   "outputs": [
    {
     "data": {
      "text/plain": [
       "{'Ali': 19.5, 'Hasan': 14, 'Ebrahim': 2, 'Niloufar': 19.75}"
      ]
     },
     "execution_count": 36,
     "metadata": {},
     "output_type": "execute_result"
    }
   ],
   "source": [
    "d"
   ]
  },
  {
   "cell_type": "code",
   "execution_count": 37,
   "id": "2e436a62",
   "metadata": {},
   "outputs": [],
   "source": [
    "# initialize method 3\n",
    "z = dict(\n",
    "    Ali=19.5,\n",
    "    Hasan=14,\n",
    "    Ebrahim=2,\n",
    "    Niloufar=19.75,\n",
    ")"
   ]
  },
  {
   "cell_type": "code",
   "execution_count": 38,
   "id": "a5a5e34d",
   "metadata": {},
   "outputs": [
    {
     "data": {
      "text/plain": [
       "{'Ali': 19.5, 'Hasan': 14, 'Ebrahim': 2, 'Niloufar': 19.75}"
      ]
     },
     "execution_count": 38,
     "metadata": {},
     "output_type": "execute_result"
    }
   ],
   "source": [
    "z"
   ]
  },
  {
   "cell_type": "code",
   "execution_count": 39,
   "id": "93ef8e3a",
   "metadata": {},
   "outputs": [
    {
     "data": {
      "text/plain": [
       "19.5"
      ]
     },
     "execution_count": 39,
     "metadata": {},
     "output_type": "execute_result"
    }
   ],
   "source": [
    "d['Ali']"
   ]
  },
  {
   "cell_type": "code",
   "execution_count": 16,
   "id": "56de601b",
   "metadata": {},
   "outputs": [],
   "source": [
    "# d['Reza']"
   ]
  },
  {
   "cell_type": "code",
   "execution_count": 40,
   "id": "1bef4ec8",
   "metadata": {},
   "outputs": [],
   "source": [
    "d['Ali'] = 20"
   ]
  },
  {
   "cell_type": "code",
   "execution_count": 41,
   "id": "4aa7587d",
   "metadata": {},
   "outputs": [
    {
     "data": {
      "text/plain": [
       "{'Ali': 20, 'Hasan': 14, 'Ebrahim': 2, 'Niloufar': 19.75}"
      ]
     },
     "execution_count": 41,
     "metadata": {},
     "output_type": "execute_result"
    }
   ],
   "source": [
    "d"
   ]
  },
  {
   "cell_type": "markdown",
   "id": "d1408a60",
   "metadata": {},
   "source": [
    "- same keys overwrite in a dictionary.\n",
    "- keys in dictionary are unique but values maybe iterative"
   ]
  },
  {
   "cell_type": "code",
   "execution_count": 43,
   "id": "974f5b8e",
   "metadata": {},
   "outputs": [
    {
     "data": {
      "text/plain": [
       "{'Ali': 15, 'Hasan': 14, 'Ebrahim': 2, 'Niloufar': 19.75, 'Ali-2': 15}"
      ]
     },
     "execution_count": 43,
     "metadata": {},
     "output_type": "execute_result"
    }
   ],
   "source": [
    "d['Ali-2'] = 15\n",
    "d"
   ]
  },
  {
   "cell_type": "markdown",
   "id": "a2313215",
   "metadata": {},
   "source": [
    "- to create a dictionary use `{<key>:<value>}` "
   ]
  },
  {
   "cell_type": "code",
   "execution_count": 44,
   "id": "6aac5616",
   "metadata": {},
   "outputs": [],
   "source": [
    "# method 1\n",
    "empty_d = {}"
   ]
  },
  {
   "cell_type": "code",
   "execution_count": 46,
   "id": "f4ec7d55",
   "metadata": {},
   "outputs": [
    {
     "data": {
      "text/plain": [
       "dict"
      ]
     },
     "execution_count": 46,
     "metadata": {},
     "output_type": "execute_result"
    }
   ],
   "source": [
    "type(empty_d)"
   ]
  },
  {
   "cell_type": "code",
   "execution_count": 47,
   "id": "400537d7",
   "metadata": {},
   "outputs": [],
   "source": [
    "# method 2\n",
    "empty_d = dict()"
   ]
  },
  {
   "cell_type": "code",
   "execution_count": 49,
   "id": "2ba2967f",
   "metadata": {},
   "outputs": [
    {
     "data": {
      "text/plain": [
       "dict"
      ]
     },
     "execution_count": 49,
     "metadata": {},
     "output_type": "execute_result"
    }
   ],
   "source": [
    "type(empty_d)"
   ]
  },
  {
   "cell_type": "code",
   "execution_count": 19,
   "id": "d0595970",
   "metadata": {},
   "outputs": [],
   "source": [
    "del d['Ali']"
   ]
  },
  {
   "cell_type": "code",
   "execution_count": 20,
   "id": "207a9ba1",
   "metadata": {},
   "outputs": [
    {
     "data": {
      "text/plain": [
       "{'Hasan': 14, 'Ebrahim': 2, 'Niloufar': 19.75}"
      ]
     },
     "execution_count": 20,
     "metadata": {},
     "output_type": "execute_result"
    }
   ],
   "source": [
    "d"
   ]
  },
  {
   "cell_type": "code",
   "execution_count": 21,
   "id": "d3a6d656",
   "metadata": {},
   "outputs": [],
   "source": [
    "d['Ali'] = 20"
   ]
  },
  {
   "cell_type": "code",
   "execution_count": 22,
   "id": "1e5a8c8c",
   "metadata": {},
   "outputs": [
    {
     "data": {
      "text/plain": [
       "{'Hasan': 14, 'Ebrahim': 2, 'Niloufar': 19.75, 'Ali': 20}"
      ]
     },
     "execution_count": 22,
     "metadata": {},
     "output_type": "execute_result"
    }
   ],
   "source": [
    "d"
   ]
  },
  {
   "cell_type": "markdown",
   "id": "9a0ba858",
   "metadata": {},
   "source": [
    "- Keys in dictionary not correlate to index definition."
   ]
  },
  {
   "cell_type": "code",
   "execution_count": 23,
   "id": "5e921dce",
   "metadata": {},
   "outputs": [],
   "source": [
    "d = {\n",
    "    0: 'a',\n",
    "    1: 'b',\n",
    "    2: 'c',\n",
    "}"
   ]
  },
  {
   "cell_type": "code",
   "execution_count": 24,
   "id": "2bd96e14",
   "metadata": {},
   "outputs": [
    {
     "data": {
      "text/plain": [
       "{0: 'a', 1: 'b', 2: 'c'}"
      ]
     },
     "execution_count": 24,
     "metadata": {},
     "output_type": "execute_result"
    }
   ],
   "source": [
    "d"
   ]
  },
  {
   "cell_type": "markdown",
   "id": "2ea49a08",
   "metadata": {},
   "source": [
    "- Keys and values of dictionary are iterative."
   ]
  },
  {
   "cell_type": "code",
   "execution_count": 25,
   "id": "c01d87db",
   "metadata": {},
   "outputs": [
    {
     "name": "stdout",
     "output_type": "stream",
     "text": [
      "0\n",
      "1\n",
      "2\n"
     ]
    }
   ],
   "source": [
    "for key in d:\n",
    "    print(key)"
   ]
  },
  {
   "cell_type": "code",
   "execution_count": 26,
   "id": "54406e80",
   "metadata": {},
   "outputs": [
    {
     "name": "stdout",
     "output_type": "stream",
     "text": [
      "0\n",
      "1\n",
      "2\n"
     ]
    }
   ],
   "source": [
    "for value in d:\n",
    "    print(value)"
   ]
  },
  {
   "cell_type": "code",
   "execution_count": 27,
   "id": "f0b68304",
   "metadata": {},
   "outputs": [],
   "source": [
    "del d[0]"
   ]
  },
  {
   "cell_type": "code",
   "execution_count": 28,
   "id": "d9424d71",
   "metadata": {},
   "outputs": [],
   "source": [
    "d[0] = 'a'"
   ]
  },
  {
   "cell_type": "code",
   "execution_count": 29,
   "id": "726ebfcf",
   "metadata": {},
   "outputs": [
    {
     "data": {
      "text/plain": [
       "{1: 'b', 2: 'c', 0: 'a'}"
      ]
     },
     "execution_count": 29,
     "metadata": {},
     "output_type": "execute_result"
    }
   ],
   "source": [
    "d"
   ]
  },
  {
   "cell_type": "code",
   "execution_count": 30,
   "id": "feb2634c",
   "metadata": {},
   "outputs": [
    {
     "data": {
      "text/plain": [
       "dict_keys([1, 2, 0])"
      ]
     },
     "execution_count": 30,
     "metadata": {},
     "output_type": "execute_result"
    }
   ],
   "source": [
    "d.keys()"
   ]
  },
  {
   "cell_type": "code",
   "execution_count": 31,
   "id": "a211bb99",
   "metadata": {},
   "outputs": [
    {
     "data": {
      "text/plain": [
       "dict_values(['b', 'c', 'a'])"
      ]
     },
     "execution_count": 31,
     "metadata": {},
     "output_type": "execute_result"
    }
   ],
   "source": [
    "d.values()"
   ]
  },
  {
   "cell_type": "markdown",
   "id": "fc800424",
   "metadata": {},
   "source": [
    "## Building a Dictionary Incrementally\n",
    "\n",
    "Defining a dictionary using curly braces and a list of key-value pairs, as shown above, is fine if you know all the keys and values in advance. But what if you want to build a dictionary on the fly?\n",
    "\n",
    "You can start by creating an empty dictionary, which is specified by empty curly braces. \\\n",
    "Then you can add keys and values one at a time:"
   ]
  },
  {
   "cell_type": "code",
   "execution_count": 32,
   "id": "f374943a",
   "metadata": {},
   "outputs": [
    {
     "data": {
      "text/plain": [
       "dict"
      ]
     },
     "execution_count": 32,
     "metadata": {},
     "output_type": "execute_result"
    }
   ],
   "source": [
    "person = {}\n",
    "type(person)"
   ]
  },
  {
   "cell_type": "code",
   "execution_count": 33,
   "id": "67e35f02",
   "metadata": {},
   "outputs": [],
   "source": [
    "person['fname'] = 'Joe'"
   ]
  },
  {
   "cell_type": "code",
   "execution_count": 50,
   "id": "c62cd38b",
   "metadata": {},
   "outputs": [],
   "source": [
    "ed = {}"
   ]
  },
  {
   "cell_type": "code",
   "execution_count": 51,
   "id": "13642cd0",
   "metadata": {},
   "outputs": [],
   "source": [
    "ed['fname'] = 'Ali'"
   ]
  },
  {
   "cell_type": "code",
   "execution_count": 52,
   "id": "b1f0c185",
   "metadata": {},
   "outputs": [],
   "source": [
    "ed['lname'] = 'Hejazi'"
   ]
  },
  {
   "cell_type": "code",
   "execution_count": 53,
   "id": "4cd8e308",
   "metadata": {},
   "outputs": [],
   "source": [
    "ed['Age'] = 29"
   ]
  },
  {
   "cell_type": "code",
   "execution_count": 54,
   "id": "ed8cff77",
   "metadata": {},
   "outputs": [],
   "source": [
    "ed['Children'] = 0"
   ]
  },
  {
   "cell_type": "code",
   "execution_count": 55,
   "id": "b47fb39a",
   "metadata": {},
   "outputs": [
    {
     "data": {
      "text/plain": [
       "{'fname': 'Ali', 'lname': 'Hejazi', 'Age': 29, 'Children': 0}"
      ]
     },
     "execution_count": 55,
     "metadata": {},
     "output_type": "execute_result"
    }
   ],
   "source": [
    "ed"
   ]
  },
  {
   "cell_type": "markdown",
   "id": "ce355d20",
   "metadata": {},
   "source": [
    "- Keys of dictionary must be Hashable [dictionary is imutable]\n",
    "- mutable --> unhashable"
   ]
  },
  {
   "cell_type": "code",
   "execution_count": 1,
   "id": "31689b67",
   "metadata": {},
   "outputs": [
    {
     "ename": "TypeError",
     "evalue": "unhashable type: 'list'",
     "output_type": "error",
     "traceback": [
      "\u001b[0;31m---------------------------------------------------------------------------\u001b[0m",
      "\u001b[0;31mTypeError\u001b[0m                                 Traceback (most recent call last)",
      "Cell \u001b[0;32mIn[1], line 1\u001b[0m\n\u001b[0;32m----> 1\u001b[0m d \u001b[38;5;241m=\u001b[39m {\n\u001b[1;32m      2\u001b[0m     [\u001b[38;5;241m1\u001b[39m,\u001b[38;5;241m2\u001b[39m,\u001b[38;5;241m3\u001b[39m]:\u001b[38;5;124m'\u001b[39m\u001b[38;5;124mAli\u001b[39m\u001b[38;5;124m'\u001b[39m,\n\u001b[1;32m      3\u001b[0m }\n",
      "\u001b[0;31mTypeError\u001b[0m: unhashable type: 'list'"
     ]
    }
   ],
   "source": [
    "d = {\n",
    "    [1,2,3]:'Ali',\n",
    "}"
   ]
  },
  {
   "cell_type": "code",
   "execution_count": 58,
   "id": "88ec10cd",
   "metadata": {},
   "outputs": [
    {
     "ename": "TypeError",
     "evalue": "unhashable type: 'dict'",
     "output_type": "error",
     "traceback": [
      "\u001b[0;31m---------------------------------------------------------------------------\u001b[0m",
      "\u001b[0;31mTypeError\u001b[0m                                 Traceback (most recent call last)",
      "Input \u001b[0;32mIn [58]\u001b[0m, in \u001b[0;36m<cell line: 2>\u001b[0;34m()\u001b[0m\n\u001b[0;32m----> 1\u001b[0m d \u001b[38;5;241m=\u001b[39m {\n\u001b[1;32m      2\u001b[0m     {\u001b[38;5;124m'\u001b[39m\u001b[38;5;124ma\u001b[39m\u001b[38;5;124m'\u001b[39m:\u001b[38;5;241m0\u001b[39m}: \u001b[38;5;124m'\u001b[39m\u001b[38;5;124mReza\u001b[39m\u001b[38;5;124m'\u001b[39m,\n\u001b[1;32m      3\u001b[0m }\n",
      "\u001b[0;31mTypeError\u001b[0m: unhashable type: 'dict'"
     ]
    }
   ],
   "source": [
    "d = {\n",
    "    {'a':0}: 'Reza',\n",
    "}"
   ]
  },
  {
   "cell_type": "markdown",
   "id": "56dad6d5",
   "metadata": {},
   "source": [
    "- `int is builtin function`"
   ]
  },
  {
   "cell_type": "code",
   "execution_count": 67,
   "id": "e567ede2",
   "metadata": {},
   "outputs": [],
   "source": [
    "d = { # --> curley bracket\n",
    "    'Ali':19.5,\n",
    "    1:14,\n",
    "    (1,2,3):2,\n",
    "    int:19.75,\n",
    "}"
   ]
  },
  {
   "cell_type": "code",
   "execution_count": 68,
   "id": "1acb9246",
   "metadata": {},
   "outputs": [
    {
     "data": {
      "text/plain": [
       "19.5"
      ]
     },
     "execution_count": 68,
     "metadata": {},
     "output_type": "execute_result"
    }
   ],
   "source": [
    "d['Ali']"
   ]
  },
  {
   "cell_type": "code",
   "execution_count": 69,
   "id": "4457f6ec",
   "metadata": {},
   "outputs": [
    {
     "data": {
      "text/plain": [
       "14"
      ]
     },
     "execution_count": 69,
     "metadata": {},
     "output_type": "execute_result"
    }
   ],
   "source": [
    "d[1]"
   ]
  },
  {
   "cell_type": "code",
   "execution_count": 70,
   "id": "7d069c9c",
   "metadata": {},
   "outputs": [
    {
     "data": {
      "text/plain": [
       "2"
      ]
     },
     "execution_count": 70,
     "metadata": {},
     "output_type": "execute_result"
    }
   ],
   "source": [
    "d[(1,2,3)]"
   ]
  },
  {
   "cell_type": "code",
   "execution_count": 71,
   "id": "4554ad3e",
   "metadata": {},
   "outputs": [
    {
     "data": {
      "text/plain": [
       "19.75"
      ]
     },
     "execution_count": 71,
     "metadata": {},
     "output_type": "execute_result"
    }
   ],
   "source": [
    "d[int]"
   ]
  },
  {
   "cell_type": "markdown",
   "id": "f4657c88",
   "metadata": {},
   "source": [
    "In python, use hash function with `SHA-256 algorithm`."
   ]
  },
  {
   "cell_type": "code",
   "execution_count": 73,
   "id": "01d5fda2",
   "metadata": {},
   "outputs": [
    {
     "data": {
      "text/plain": [
       "0"
      ]
     },
     "execution_count": 73,
     "metadata": {},
     "output_type": "execute_result"
    }
   ],
   "source": [
    "hash(0)"
   ]
  },
  {
   "cell_type": "code",
   "execution_count": 74,
   "id": "213496cf",
   "metadata": {},
   "outputs": [
    {
     "data": {
      "text/plain": [
       "-6"
      ]
     },
     "execution_count": 74,
     "metadata": {},
     "output_type": "execute_result"
    }
   ],
   "source": [
    "hash(-6)"
   ]
  },
  {
   "cell_type": "code",
   "execution_count": 75,
   "id": "873ab6b5",
   "metadata": {},
   "outputs": [
    {
     "data": {
      "text/plain": [
       "529344067295497451"
      ]
     },
     "execution_count": 75,
     "metadata": {},
     "output_type": "execute_result"
    }
   ],
   "source": [
    "hash((1,2,3))"
   ]
  },
  {
   "cell_type": "code",
   "execution_count": 76,
   "id": "2511c37e",
   "metadata": {},
   "outputs": [
    {
     "data": {
      "text/plain": [
       "-2003142480867228876"
      ]
     },
     "execution_count": 76,
     "metadata": {},
     "output_type": "execute_result"
    }
   ],
   "source": [
    "hash('ali')"
   ]
  }
 ],
 "metadata": {
  "kernelspec": {
   "display_name": "Python 3 (ipykernel)",
   "language": "python",
   "name": "python3"
  },
  "language_info": {
   "codemirror_mode": {
    "name": "ipython",
    "version": 3
   },
   "file_extension": ".py",
   "mimetype": "text/x-python",
   "name": "python",
   "nbconvert_exporter": "python",
   "pygments_lexer": "ipython3",
   "version": "3.9.15"
  }
 },
 "nbformat": 4,
 "nbformat_minor": 5
}
