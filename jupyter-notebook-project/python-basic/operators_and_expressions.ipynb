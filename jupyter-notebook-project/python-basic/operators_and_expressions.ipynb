{
 "cells": [
  {
   "cell_type": "markdown",
   "id": "7d5b0ecc",
   "metadata": {},
   "source": [
    "## Table of Contents\n",
    "- Arithmatics Operators\n",
    "- Comparison Operators\n",
    "    - Equality Comparison on Floating-Point Values\n",
    "- Logical Operators\n",
    "    - Logical Expressions involving Boolean Operands\n",
    "    - Evaluation of Non-Boolean Values in Boolean Context\n",
    "        - Numeric value\n",
    "        - String\n",
    "        - Build-In Composite Data Object\n",
    "        - The None Keyword\n",
    "- Bitwise Operators\n",
    "- Identity Operators\n",
    "- Augmented Assignment Operators\n",
    "- Conclusion"
   ]
  },
  {
   "cell_type": "code",
   "execution_count": 9,
   "id": "1bfe2450",
   "metadata": {},
   "outputs": [],
   "source": [
    "# unary positive operators\n",
    "a = -10\n",
    "b = 9"
   ]
  },
  {
   "cell_type": "code",
   "execution_count": 10,
   "id": "5fe10d7d",
   "metadata": {},
   "outputs": [
    {
     "data": {
      "text/plain": [
       "10"
      ]
     },
     "execution_count": 10,
     "metadata": {},
     "output_type": "execute_result"
    }
   ],
   "source": [
    "# unary negative operators\n",
    "-a"
   ]
  },
  {
   "cell_type": "code",
   "execution_count": 8,
   "id": "138c4e70",
   "metadata": {},
   "outputs": [
    {
     "data": {
      "text/plain": [
       "-1"
      ]
     },
     "execution_count": 8,
     "metadata": {},
     "output_type": "execute_result"
    }
   ],
   "source": [
    "c = a + b\n",
    "c"
   ]
  },
  {
   "cell_type": "code",
   "execution_count": 11,
   "id": "48c3911e",
   "metadata": {},
   "outputs": [
    {
     "data": {
      "text/plain": [
       "19"
      ]
     },
     "execution_count": 11,
     "metadata": {},
     "output_type": "execute_result"
    }
   ],
   "source": [
    "c = b - a\n",
    "c"
   ]
  },
  {
   "cell_type": "code",
   "execution_count": 13,
   "id": "d86a54ef",
   "metadata": {},
   "outputs": [
    {
     "data": {
      "text/plain": [
       "-1"
      ]
     },
     "execution_count": 13,
     "metadata": {},
     "output_type": "execute_result"
    }
   ],
   "source": [
    "a + b"
   ]
  },
  {
   "cell_type": "code",
   "execution_count": 15,
   "id": "2481c659",
   "metadata": {},
   "outputs": [
    {
     "data": {
      "text/plain": [
       "-90"
      ]
     },
     "execution_count": 15,
     "metadata": {},
     "output_type": "execute_result"
    }
   ],
   "source": [
    "a * b"
   ]
  },
  {
   "cell_type": "code",
   "execution_count": 17,
   "id": "85479b61",
   "metadata": {},
   "outputs": [
    {
     "data": {
      "text/plain": [
       "-1.1111111111111112"
      ]
     },
     "execution_count": 17,
     "metadata": {},
     "output_type": "execute_result"
    }
   ],
   "source": [
    "a / b"
   ]
  },
  {
   "cell_type": "code",
   "execution_count": 19,
   "id": "84f3a3f7",
   "metadata": {},
   "outputs": [
    {
     "data": {
      "text/plain": [
       "8"
      ]
     },
     "execution_count": 19,
     "metadata": {},
     "output_type": "execute_result"
    }
   ],
   "source": [
    "a % b"
   ]
  },
  {
   "cell_type": "code",
   "execution_count": 21,
   "id": "75b94296",
   "metadata": {},
   "outputs": [
    {
     "data": {
      "text/plain": [
       "1"
      ]
     },
     "execution_count": 21,
     "metadata": {},
     "output_type": "execute_result"
    }
   ],
   "source": [
    "10 % 3"
   ]
  },
  {
   "cell_type": "code",
   "execution_count": 23,
   "id": "9835156a",
   "metadata": {},
   "outputs": [
    {
     "data": {
      "text/plain": [
       "-2"
      ]
     },
     "execution_count": 23,
     "metadata": {},
     "output_type": "execute_result"
    }
   ],
   "source": [
    "a // b"
   ]
  },
  {
   "cell_type": "code",
   "execution_count": 25,
   "id": "20605dd4",
   "metadata": {},
   "outputs": [
    {
     "data": {
      "text/plain": [
       "-1.3333333333333333"
      ]
     },
     "execution_count": 25,
     "metadata": {},
     "output_type": "execute_result"
    }
   ],
   "source": [
    "-4 / 3"
   ]
  },
  {
   "cell_type": "code",
   "execution_count": 38,
   "id": "062557cf",
   "metadata": {},
   "outputs": [
    {
     "data": {
      "text/plain": [
       "4"
      ]
     },
     "execution_count": 38,
     "metadata": {},
     "output_type": "execute_result"
    }
   ],
   "source": [
    "# joze sahih\n",
    "12 // 3"
   ]
  },
  {
   "cell_type": "code",
   "execution_count": 29,
   "id": "d0cea63b",
   "metadata": {},
   "outputs": [
    {
     "data": {
      "text/plain": [
       "25"
      ]
     },
     "execution_count": 29,
     "metadata": {},
     "output_type": "execute_result"
    }
   ],
   "source": [
    "5 ** 2"
   ]
  },
  {
   "cell_type": "code",
   "execution_count": 31,
   "id": "bc06d285",
   "metadata": {},
   "outputs": [
    {
     "data": {
      "text/plain": [
       "625"
      ]
     },
     "execution_count": 31,
     "metadata": {},
     "output_type": "execute_result"
    }
   ],
   "source": [
    "25 ** 2"
   ]
  },
  {
   "cell_type": "code",
   "execution_count": 33,
   "id": "8e66ae02",
   "metadata": {},
   "outputs": [
    {
     "data": {
      "text/plain": [
       "1225"
      ]
     },
     "execution_count": 33,
     "metadata": {},
     "output_type": "execute_result"
    }
   ],
   "source": [
    "35 ** 2"
   ]
  },
  {
   "cell_type": "code",
   "execution_count": 39,
   "id": "70fdb069",
   "metadata": {},
   "outputs": [
    {
     "data": {
      "text/plain": [
       "1234321"
      ]
     },
     "execution_count": 39,
     "metadata": {},
     "output_type": "execute_result"
    }
   ],
   "source": [
    "1111 * 1111"
   ]
  },
  {
   "cell_type": "code",
   "execution_count": 41,
   "id": "b121ef37",
   "metadata": {},
   "outputs": [
    {
     "data": {
      "text/plain": [
       "-1"
      ]
     },
     "execution_count": 41,
     "metadata": {},
     "output_type": "execute_result"
    }
   ],
   "source": [
    "a ^ b"
   ]
  },
  {
   "cell_type": "markdown",
   "id": "0736dd26",
   "metadata": {},
   "source": [
    "## Comparison Operators"
   ]
  },
  {
   "cell_type": "code",
   "execution_count": 43,
   "id": "b7eed8ea",
   "metadata": {},
   "outputs": [
    {
     "data": {
      "text/plain": [
       "True"
      ]
     },
     "execution_count": 43,
     "metadata": {},
     "output_type": "execute_result"
    }
   ],
   "source": [
    "a < b"
   ]
  },
  {
   "cell_type": "code",
   "execution_count": 45,
   "id": "cbd1e162",
   "metadata": {},
   "outputs": [
    {
     "data": {
      "text/plain": [
       "False"
      ]
     },
     "execution_count": 45,
     "metadata": {},
     "output_type": "execute_result"
    }
   ],
   "source": [
    "b < a"
   ]
  },
  {
   "cell_type": "code",
   "execution_count": 47,
   "id": "a09eb37a",
   "metadata": {},
   "outputs": [
    {
     "data": {
      "text/plain": [
       "False"
      ]
     },
     "execution_count": 47,
     "metadata": {},
     "output_type": "execute_result"
    }
   ],
   "source": [
    "a ** 2 < b"
   ]
  },
  {
   "cell_type": "code",
   "execution_count": 49,
   "id": "19b66d4b",
   "metadata": {},
   "outputs": [
    {
     "data": {
      "text/plain": [
       "True"
      ]
     },
     "execution_count": 49,
     "metadata": {},
     "output_type": "execute_result"
    }
   ],
   "source": [
    "(a + 2) < b"
   ]
  },
  {
   "cell_type": "code",
   "execution_count": 51,
   "id": "88756f37",
   "metadata": {},
   "outputs": [],
   "source": [
    "x = 1.1 + 2.2"
   ]
  },
  {
   "cell_type": "code",
   "execution_count": 53,
   "id": "b3b86ab8",
   "metadata": {},
   "outputs": [],
   "source": [
    "y = 3.3"
   ]
  },
  {
   "cell_type": "code",
   "execution_count": 55,
   "id": "d7e0c317",
   "metadata": {},
   "outputs": [
    {
     "data": {
      "text/plain": [
       "True"
      ]
     },
     "execution_count": 55,
     "metadata": {},
     "output_type": "execute_result"
    }
   ],
   "source": [
    "3.3 == 3.3"
   ]
  },
  {
   "cell_type": "code",
   "execution_count": 57,
   "id": "c187a1d6",
   "metadata": {},
   "outputs": [
    {
     "data": {
      "text/plain": [
       "False"
      ]
     },
     "execution_count": 57,
     "metadata": {},
     "output_type": "execute_result"
    }
   ],
   "source": [
    "x == y"
   ]
  },
  {
   "cell_type": "code",
   "execution_count": 60,
   "id": "e4b15ae5",
   "metadata": {},
   "outputs": [
    {
     "data": {
      "text/plain": [
       "1e-05"
      ]
     },
     "execution_count": 60,
     "metadata": {},
     "output_type": "execute_result"
    }
   ],
   "source": [
    "# fasele item ha az tolerance sanjide mishavad.\n",
    "tolerance = 0.00001\n",
    "tolerance"
   ]
  },
  {
   "cell_type": "code",
   "execution_count": 63,
   "id": "4c71d35e",
   "metadata": {},
   "outputs": [
    {
     "data": {
      "text/plain": [
       "True"
      ]
     },
     "execution_count": 63,
     "metadata": {},
     "output_type": "execute_result"
    }
   ],
   "source": [
    "abs(y - x) < tolerance"
   ]
  },
  {
   "cell_type": "code",
   "execution_count": 65,
   "id": "97dd7bd6",
   "metadata": {},
   "outputs": [],
   "source": [
    "import numpy as np"
   ]
  },
  {
   "cell_type": "markdown",
   "id": "d9f87bb1",
   "metadata": {},
   "source": [
    "## Logical Operators"
   ]
  },
  {
   "cell_type": "code",
   "execution_count": 68,
   "id": "b89ac238",
   "metadata": {},
   "outputs": [
    {
     "data": {
      "text/plain": [
       "True"
      ]
     },
     "execution_count": 68,
     "metadata": {},
     "output_type": "execute_result"
    }
   ],
   "source": [
    "not x == 5"
   ]
  },
  {
   "cell_type": "code",
   "execution_count": 70,
   "id": "47c35852",
   "metadata": {},
   "outputs": [],
   "source": [
    "x = 5"
   ]
  },
  {
   "cell_type": "code",
   "execution_count": 72,
   "id": "8f1d1f88",
   "metadata": {},
   "outputs": [],
   "source": [
    "y = 6"
   ]
  },
  {
   "cell_type": "code",
   "execution_count": 77,
   "id": "931c1cdf",
   "metadata": {},
   "outputs": [
    {
     "data": {
      "text/plain": [
       "False"
      ]
     },
     "execution_count": 77,
     "metadata": {},
     "output_type": "execute_result"
    }
   ],
   "source": [
    "x == 5 and y != 6 and z == 2"
   ]
  },
  {
   "cell_type": "code",
   "execution_count": 79,
   "id": "9b67de8e",
   "metadata": {},
   "outputs": [
    {
     "data": {
      "text/plain": [
       "True"
      ]
     },
     "execution_count": 79,
     "metadata": {},
     "output_type": "execute_result"
    }
   ],
   "source": [
    "x == 5 or y != 6 or z == 2"
   ]
  },
  {
   "cell_type": "code",
   "execution_count": 81,
   "id": "2391b5ef",
   "metadata": {},
   "outputs": [],
   "source": [
    "# = --> assignment operator"
   ]
  },
  {
   "cell_type": "code",
   "execution_count": 83,
   "id": "e49a6e21",
   "metadata": {},
   "outputs": [
    {
     "data": {
      "text/plain": [
       "False"
      ]
     },
     "execution_count": 83,
     "metadata": {},
     "output_type": "execute_result"
    }
   ],
   "source": [
    "x == 2"
   ]
  },
  {
   "cell_type": "code",
   "execution_count": 88,
   "id": "55b59e66",
   "metadata": {},
   "outputs": [
    {
     "data": {
      "text/plain": [
       "5"
      ]
     },
     "execution_count": 88,
     "metadata": {},
     "output_type": "execute_result"
    }
   ],
   "source": [
    "x"
   ]
  },
  {
   "cell_type": "code",
   "execution_count": 89,
   "id": "1439da8b",
   "metadata": {},
   "outputs": [
    {
     "name": "stdout",
     "output_type": "stream",
     "text": [
      "not hello\n"
     ]
    }
   ],
   "source": [
    "if x == 2:\n",
    "    print('hello')\n",
    "else:\n",
    "    print('not hello')"
   ]
  },
  {
   "cell_type": "code",
   "execution_count": 90,
   "id": "218397d8",
   "metadata": {},
   "outputs": [
    {
     "data": {
      "text/plain": [
       "True"
      ]
     },
     "execution_count": 90,
     "metadata": {},
     "output_type": "execute_result"
    }
   ],
   "source": [
    "# behtar ast in model nevehsta nashavd ta dark code rahat tar bashad.\n",
    "not (x < 10) and (y > 9) or (x > 3)"
   ]
  },
  {
   "cell_type": "markdown",
   "id": "d54b1847",
   "metadata": {},
   "source": [
    "- The Boolean Values **False**<br>\n",
    "- boolean har adad gheyr az sefr motlagh False hastand"
   ]
  },
  {
   "cell_type": "code",
   "execution_count": 108,
   "id": "9b42fcda",
   "metadata": {},
   "outputs": [
    {
     "data": {
      "text/plain": [
       "False"
      ]
     },
     "execution_count": 108,
     "metadata": {},
     "output_type": "execute_result"
    }
   ],
   "source": [
    "bool(0)"
   ]
  },
  {
   "cell_type": "markdown",
   "id": "fb74a366",
   "metadata": {},
   "source": [
    "- Any value that is numerically zero **(0,0.0,0.0+0.0j)**"
   ]
  },
  {
   "cell_type": "code",
   "execution_count": 98,
   "id": "eeb08b32",
   "metadata": {},
   "outputs": [
    {
     "data": {
      "text/plain": [
       "False"
      ]
     },
     "execution_count": 98,
     "metadata": {},
     "output_type": "execute_result"
    }
   ],
   "source": [
    "bool(0.0 + 0.0j)"
   ]
  },
  {
   "cell_type": "markdown",
   "id": "90ece45b",
   "metadata": {},
   "source": [
    "- An **empty string**"
   ]
  },
  {
   "cell_type": "code",
   "execution_count": 110,
   "id": "62103460",
   "metadata": {},
   "outputs": [
    {
     "data": {
      "text/plain": [
       "False"
      ]
     },
     "execution_count": 110,
     "metadata": {},
     "output_type": "execute_result"
    }
   ],
   "source": [
    "bool('')"
   ]
  },
  {
   "cell_type": "markdown",
   "id": "cdca60d6",
   "metadata": {},
   "source": [
    "- an object of **a built-n composite data type** which is empty (see later section)"
   ]
  },
  {
   "cell_type": "code",
   "execution_count": 107,
   "id": "fc8b189c",
   "metadata": {},
   "outputs": [
    {
     "data": {
      "text/plain": [
       "False"
      ]
     },
     "execution_count": 107,
     "metadata": {},
     "output_type": "execute_result"
    }
   ],
   "source": [
    "False\n",
    "# 0 0.0 0+0j\n",
    "bool([])\n",
    "bool({})\n",
    "bool(set())"
   ]
  },
  {
   "cell_type": "markdown",
   "id": "07500007",
   "metadata": {},
   "source": [
    "- The Special value denoted by the Python keyword **None**"
   ]
  },
  {
   "cell_type": "code",
   "execution_count": 111,
   "id": "93d5e464",
   "metadata": {},
   "outputs": [],
   "source": [
    "None"
   ]
  },
  {
   "cell_type": "code",
   "execution_count": 118,
   "id": "c8af8995",
   "metadata": {},
   "outputs": [
    {
     "name": "stdout",
     "output_type": "stream",
     "text": [
      "There are items in my kist\n"
     ]
    }
   ],
   "source": [
    "x = []\n",
    "if x == []: \n",
    "    print('There are items in my kist')"
   ]
  },
  {
   "cell_type": "code",
   "execution_count": 119,
   "id": "2e931001",
   "metadata": {},
   "outputs": [
    {
     "data": {
      "text/plain": [
       "True"
      ]
     },
     "execution_count": 119,
     "metadata": {},
     "output_type": "execute_result"
    }
   ],
   "source": [
    "not x"
   ]
  },
  {
   "cell_type": "code",
   "execution_count": 123,
   "id": "ce5fe9f6",
   "metadata": {},
   "outputs": [
    {
     "name": "stdout",
     "output_type": "stream",
     "text": [
      "Name is rquired\n"
     ]
    }
   ],
   "source": [
    "name = \"\"\n",
    "if not name:\n",
    "    print('Name is rquired')"
   ]
  },
  {
   "cell_type": "markdown",
   "id": "3b1cb6f7",
   "metadata": {},
   "source": [
    "- Boolean(space) is true"
   ]
  },
  {
   "cell_type": "code",
   "execution_count": 125,
   "id": "f4638711",
   "metadata": {},
   "outputs": [
    {
     "data": {
      "text/plain": [
       "True"
      ]
     },
     "execution_count": 125,
     "metadata": {},
     "output_type": "execute_result"
    }
   ],
   "source": [
    "bool(' ')"
   ]
  },
  {
   "cell_type": "code",
   "execution_count": 127,
   "id": "b0ccc44a",
   "metadata": {},
   "outputs": [],
   "source": [
    "import numpy as np"
   ]
  },
  {
   "cell_type": "code",
   "execution_count": 129,
   "id": "edd7d91d",
   "metadata": {},
   "outputs": [
    {
     "data": {
      "text/plain": [
       "array([1, 2, 3])"
      ]
     },
     "execution_count": 129,
     "metadata": {},
     "output_type": "execute_result"
    }
   ],
   "source": [
    "x = np.array([1,2,3])\n",
    "x"
   ]
  },
  {
   "cell_type": "markdown",
   "id": "24a17b70",
   "metadata": {},
   "source": [
    "## Bitwise Operators\n",
    "- In numerical type, use (-) for inverse"
   ]
  },
  {
   "cell_type": "code",
   "execution_count": 130,
   "id": "200efd3e",
   "metadata": {},
   "outputs": [
    {
     "data": {
      "text/plain": [
       "array([-2, -3, -4])"
      ]
     },
     "execution_count": 130,
     "metadata": {},
     "output_type": "execute_result"
    }
   ],
   "source": [
    "~x"
   ]
  },
  {
   "cell_type": "code",
   "execution_count": 131,
   "id": "5b4183b8",
   "metadata": {},
   "outputs": [
    {
     "data": {
      "text/plain": [
       "array([ True, False,  True])"
      ]
     },
     "execution_count": 131,
     "metadata": {},
     "output_type": "execute_result"
    }
   ],
   "source": [
    "x = np.array([True,False,True])\n",
    "x"
   ]
  },
  {
   "cell_type": "code",
   "execution_count": 133,
   "id": "4a51a64a",
   "metadata": {},
   "outputs": [
    {
     "data": {
      "text/plain": [
       "array([False,  True, False])"
      ]
     },
     "execution_count": 133,
     "metadata": {},
     "output_type": "execute_result"
    }
   ],
   "source": [
    "~x"
   ]
  },
  {
   "cell_type": "code",
   "execution_count": 135,
   "id": "566240c8",
   "metadata": {},
   "outputs": [
    {
     "data": {
      "text/plain": [
       "False"
      ]
     },
     "execution_count": 135,
     "metadata": {},
     "output_type": "execute_result"
    }
   ],
   "source": [
    "not (x.all)"
   ]
  },
  {
   "cell_type": "markdown",
   "id": "37880cf2",
   "metadata": {},
   "source": [
    "## Identity Operators"
   ]
  },
  {
   "cell_type": "code",
   "execution_count": 179,
   "id": "18f0b969",
   "metadata": {},
   "outputs": [],
   "source": [
    "x = -7\n",
    "y = -7"
   ]
  },
  {
   "cell_type": "code",
   "execution_count": 180,
   "id": "da324ea8",
   "metadata": {},
   "outputs": [
    {
     "data": {
      "text/plain": [
       "140431574198896"
      ]
     },
     "execution_count": 180,
     "metadata": {},
     "output_type": "execute_result"
    }
   ],
   "source": [
    "id(x)"
   ]
  },
  {
   "cell_type": "code",
   "execution_count": 181,
   "id": "23ba381d",
   "metadata": {},
   "outputs": [
    {
     "data": {
      "text/plain": [
       "140431574198832"
      ]
     },
     "execution_count": 181,
     "metadata": {},
     "output_type": "execute_result"
    }
   ],
   "source": [
    "id(y)"
   ]
  },
  {
   "cell_type": "code",
   "execution_count": 182,
   "id": "e194e169",
   "metadata": {},
   "outputs": [
    {
     "data": {
      "text/plain": [
       "False"
      ]
     },
     "execution_count": 182,
     "metadata": {},
     "output_type": "execute_result"
    }
   ],
   "source": [
    "id(y) == id(x)"
   ]
  },
  {
   "cell_type": "code",
   "execution_count": 183,
   "id": "bc167328",
   "metadata": {},
   "outputs": [
    {
     "data": {
      "text/plain": [
       "False"
      ]
     },
     "execution_count": 183,
     "metadata": {},
     "output_type": "execute_result"
    }
   ],
   "source": [
    "x is y"
   ]
  },
  {
   "cell_type": "markdown",
   "id": "6d037d63",
   "metadata": {},
   "source": [
    "- If the number of memory is between ```-5 to 256```, it exists in same cell of memory so ```x is y TRUE, id(x) == id(y)```"
   ]
  },
  {
   "cell_type": "code",
   "execution_count": 184,
   "id": "8da2d183",
   "metadata": {},
   "outputs": [],
   "source": [
    "x = -5\n",
    "y = 256"
   ]
  },
  {
   "cell_type": "code",
   "execution_count": 185,
   "id": "320228dc",
   "metadata": {},
   "outputs": [],
   "source": [
    "y = x"
   ]
  },
  {
   "cell_type": "code",
   "execution_count": 186,
   "id": "d45c1cb5",
   "metadata": {},
   "outputs": [
    {
     "data": {
      "text/plain": [
       "140432584431728"
      ]
     },
     "execution_count": 186,
     "metadata": {},
     "output_type": "execute_result"
    }
   ],
   "source": [
    "id(x)"
   ]
  },
  {
   "cell_type": "code",
   "execution_count": 187,
   "id": "e60082aa",
   "metadata": {},
   "outputs": [
    {
     "data": {
      "text/plain": [
       "140432584431728"
      ]
     },
     "execution_count": 187,
     "metadata": {},
     "output_type": "execute_result"
    }
   ],
   "source": [
    "id(y)"
   ]
  },
  {
   "cell_type": "code",
   "execution_count": 188,
   "id": "00dc6d72",
   "metadata": {},
   "outputs": [
    {
     "data": {
      "text/plain": [
       "True"
      ]
     },
     "execution_count": 188,
     "metadata": {},
     "output_type": "execute_result"
    }
   ],
   "source": [
    "id(x) == id(y)"
   ]
  },
  {
   "cell_type": "code",
   "execution_count": 166,
   "id": "5710c98c",
   "metadata": {},
   "outputs": [
    {
     "data": {
      "text/plain": [
       "True"
      ]
     },
     "execution_count": 166,
     "metadata": {},
     "output_type": "execute_result"
    }
   ],
   "source": [
    "x is y"
   ]
  },
  {
   "cell_type": "code",
   "execution_count": 190,
   "id": "83c66699",
   "metadata": {},
   "outputs": [
    {
     "data": {
      "text/plain": [
       "False"
      ]
     },
     "execution_count": 190,
     "metadata": {},
     "output_type": "execute_result"
    }
   ],
   "source": [
    "x is not y"
   ]
  },
  {
   "cell_type": "markdown",
   "id": "1afd4378",
   "metadata": {},
   "source": [
    "# Augmented Assignment Operators"
   ]
  },
  {
   "cell_type": "code",
   "execution_count": 219,
   "id": "6e8d02c1",
   "metadata": {},
   "outputs": [
    {
     "data": {
      "text/plain": [
       "0.28515625"
      ]
     },
     "execution_count": 219,
     "metadata": {},
     "output_type": "execute_result"
    }
   ],
   "source": [
    "x /= 4\n",
    "x = x / 4\n",
    "x"
   ]
  },
  {
   "cell_type": "code",
   "execution_count": 221,
   "id": "238ae7ce",
   "metadata": {},
   "outputs": [
    {
     "data": {
      "text/plain": [
       "20.006611980730668"
      ]
     },
     "execution_count": 221,
     "metadata": {},
     "output_type": "execute_result"
    }
   ],
   "source": [
    "x += 20\n",
    "x"
   ]
  },
  {
   "cell_type": "code",
   "execution_count": 230,
   "id": "74c8ce22",
   "metadata": {},
   "outputs": [
    {
     "data": {
      "text/plain": [
       "16"
      ]
     },
     "execution_count": 230,
     "metadata": {},
     "output_type": "execute_result"
    }
   ],
   "source": [
    "x = 2\n",
    "x **= 4\n",
    "# x = x ** 4\n",
    "x"
   ]
  },
  {
   "cell_type": "code",
   "execution_count": 216,
   "id": "014d3cc3",
   "metadata": {},
   "outputs": [
    {
     "data": {
      "text/plain": [
       "18.25"
      ]
     },
     "execution_count": 216,
     "metadata": {},
     "output_type": "execute_result"
    }
   ],
   "source": [
    "x -= 2\n",
    "x"
   ]
  },
  {
   "cell_type": "code",
   "execution_count": 217,
   "id": "36e22233",
   "metadata": {},
   "outputs": [
    {
     "data": {
      "text/plain": [
       "4.5625"
      ]
     },
     "execution_count": 217,
     "metadata": {},
     "output_type": "execute_result"
    }
   ],
   "source": [
    "x /= 4\n",
    "# x = x / 4\n",
    "x"
   ]
  },
  {
   "cell_type": "markdown",
   "id": "2c343bbf",
   "metadata": {},
   "source": [
    "## Nice to Know"
   ]
  },
  {
   "cell_type": "code",
   "execution_count": 232,
   "id": "27efa7ac",
   "metadata": {},
   "outputs": [
    {
     "data": {
      "text/plain": [
       "{'ali': 15}"
      ]
     },
     "execution_count": 232,
     "metadata": {},
     "output_type": "execute_result"
    }
   ],
   "source": [
    "{\n",
    "    'ali':(x := 10 + 5)\n",
    "}"
   ]
  }
 ],
 "metadata": {
  "kernelspec": {
   "display_name": "Python 3 (ipykernel)",
   "language": "python",
   "name": "python3"
  },
  "language_info": {
   "codemirror_mode": {
    "name": "ipython",
    "version": 3
   },
   "file_extension": ".py",
   "mimetype": "text/x-python",
   "name": "python",
   "nbconvert_exporter": "python",
   "pygments_lexer": "ipython3",
   "version": "3.9.7"
  }
 },
 "nbformat": 4,
 "nbformat_minor": 5
}
