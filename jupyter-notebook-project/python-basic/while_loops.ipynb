{
 "cells": [
  {
   "cell_type": "code",
   "execution_count": 3,
   "id": "e0b11a67",
   "metadata": {},
   "outputs": [
    {
     "name": "stdout",
     "output_type": "stream",
     "text": [
      "0\n",
      "1\n",
      "2\n",
      "3\n",
      "4\n",
      "5\n",
      "7\n",
      "8\n",
      "9\n"
     ]
    }
   ],
   "source": [
    "n = 0\n",
    "while n < 10:\n",
    "    if n != 0 and n % 6 == 0:\n",
    "        n = n + 1\n",
    "        continue\n",
    "        \n",
    "    print(n)\n",
    "    n = n + 1"
   ]
  },
  {
   "cell_type": "code",
   "execution_count": 43,
   "id": "67135d2c",
   "metadata": {},
   "outputs": [
    {
     "name": "stdout",
     "output_type": "stream",
     "text": [
      "Khooban                              Badan\n",
      "--------------------------------------------------\n",
      "Farzad\n",
      "Niloufar\n",
      "                                     Ali\n"
     ]
    }
   ],
   "source": [
    "names = ['Ali','Reza','Niloufar','Farzad']\n",
    "\n",
    "print(f'Khooban                              Badan')\n",
    "print('-'*50)\n",
    "\n",
    "while names:\n",
    "    current_name = names.pop()\n",
    "    \n",
    "    if current_name == 'Reza':\n",
    "        # continue\n",
    "        # print(f'                                      {current_name}')\n",
    "        print('                                    ',end=' ')\n",
    "        continue\n",
    "    \n",
    "    #print(f'{current_name}')\n",
    "    print(current_name)"
   ]
  },
  {
   "cell_type": "code",
   "execution_count": 44,
   "id": "3df723bf",
   "metadata": {},
   "outputs": [
    {
     "name": "stdout",
     "output_type": "stream",
     "text": [
      "0\n",
      "1\n",
      "2\n",
      "3\n",
      "4\n",
      "5\n",
      "6\n",
      "7\n",
      "8\n",
      "9\n",
      "Loop is done!\n"
     ]
    }
   ],
   "source": [
    "n = 0\n",
    "while n < 10:\n",
    "    print(n)\n",
    "    \n",
    "    n += 1\n",
    "else:\n",
    "    print('Loop is done!')"
   ]
  }
 ],
 "metadata": {
  "kernelspec": {
   "display_name": "Python 3 (ipykernel)",
   "language": "python",
   "name": "python3"
  },
  "language_info": {
   "codemirror_mode": {
    "name": "ipython",
    "version": 3
   },
   "file_extension": ".py",
   "mimetype": "text/x-python",
   "name": "python",
   "nbconvert_exporter": "python",
   "pygments_lexer": "ipython3",
   "version": "3.9.15"
  }
 },
 "nbformat": 4,
 "nbformat_minor": 5
}
