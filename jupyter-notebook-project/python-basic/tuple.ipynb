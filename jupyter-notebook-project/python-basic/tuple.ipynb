{
 "cells": [
  {
   "cell_type": "markdown",
   "id": "4ed7b333",
   "metadata": {},
   "source": [
    "# Python Tuples\n",
    "\n",
    "Python provides another type that is an ordered collection of objects, called a tuple."
   ]
  },
  {
   "cell_type": "markdown",
   "id": "deb55235",
   "metadata": {},
   "source": [
    "# Defining and Using Tuples\n",
    "\n",
    "Tuples are identical to lists in all respects, except for the following properties:\n",
    "- Tuples are defined by enclosing the elements in parentheses () instead of square brackets [].\n",
    "- Tuples are immutable"
   ]
  },
  {
   "cell_type": "code",
   "execution_count": 143,
   "id": "772142eb",
   "metadata": {},
   "outputs": [],
   "source": [
    "# list --> mutable\n",
    "# tuple --> immutable"
   ]
  },
  {
   "cell_type": "code",
   "execution_count": 144,
   "id": "56305bf6",
   "metadata": {},
   "outputs": [],
   "source": [
    "# tuple\n",
    "mytuple = (1,2,3,4)\n",
    "# list\n",
    "mylist = [1,2,3,4]"
   ]
  },
  {
   "cell_type": "code",
   "execution_count": 145,
   "id": "3f72d1cc",
   "metadata": {},
   "outputs": [],
   "source": [
    "mylist[0] = 'ali'"
   ]
  },
  {
   "cell_type": "code",
   "execution_count": 146,
   "id": "4ac136cb",
   "metadata": {},
   "outputs": [
    {
     "data": {
      "text/plain": [
       "['ali', 2, 3, 4]"
      ]
     },
     "execution_count": 146,
     "metadata": {},
     "output_type": "execute_result"
    }
   ],
   "source": [
    "mylist"
   ]
  },
  {
   "cell_type": "markdown",
   "id": "b4a23311",
   "metadata": {},
   "source": [
    "- TypeError: 'tuple' object does not support item assignment"
   ]
  },
  {
   "cell_type": "code",
   "execution_count": 147,
   "id": "99694cf9",
   "metadata": {},
   "outputs": [],
   "source": [
    "# mytuple[0] = 'ali'\n",
    "# mytuple"
   ]
  },
  {
   "cell_type": "markdown",
   "id": "4eb0dad9",
   "metadata": {},
   "source": [
    "- AttributeError: 'tuple' object has no attribute 'apppend'"
   ]
  },
  {
   "cell_type": "code",
   "execution_count": 148,
   "id": "5a3a806d",
   "metadata": {},
   "outputs": [],
   "source": [
    "# mytuple.apppend(2)"
   ]
  },
  {
   "cell_type": "code",
   "execution_count": 149,
   "id": "c5ed7349",
   "metadata": {},
   "outputs": [],
   "source": [
    "import sys"
   ]
  },
  {
   "cell_type": "code",
   "execution_count": 150,
   "id": "12069211",
   "metadata": {},
   "outputs": [
    {
     "data": {
      "text/plain": [
       "56"
      ]
     },
     "execution_count": 150,
     "metadata": {},
     "output_type": "execute_result"
    }
   ],
   "source": [
    "sys.getsizeof([])"
   ]
  },
  {
   "cell_type": "code",
   "execution_count": 151,
   "id": "802044f8",
   "metadata": {},
   "outputs": [
    {
     "data": {
      "text/plain": [
       "40"
      ]
     },
     "execution_count": 151,
     "metadata": {},
     "output_type": "execute_result"
    }
   ],
   "source": [
    "sys.getsizeof(tuple())"
   ]
  },
  {
   "cell_type": "code",
   "execution_count": 152,
   "id": "c68a382c",
   "metadata": {},
   "outputs": [],
   "source": [
    "mytuple = ()"
   ]
  },
  {
   "cell_type": "code",
   "execution_count": 153,
   "id": "36849ad4",
   "metadata": {},
   "outputs": [],
   "source": [
    "mytuple = tuple()"
   ]
  },
  {
   "cell_type": "code",
   "execution_count": 154,
   "id": "bd791834",
   "metadata": {},
   "outputs": [
    {
     "data": {
      "text/plain": [
       "tuple"
      ]
     },
     "execution_count": 154,
     "metadata": {},
     "output_type": "execute_result"
    }
   ],
   "source": [
    "type(mytuple)"
   ]
  },
  {
   "cell_type": "code",
   "execution_count": 155,
   "id": "7a31c0af",
   "metadata": {},
   "outputs": [],
   "source": [
    "mytuple = (1, )"
   ]
  },
  {
   "cell_type": "code",
   "execution_count": 156,
   "id": "56a4e4e8",
   "metadata": {},
   "outputs": [
    {
     "data": {
      "text/plain": [
       "tuple"
      ]
     },
     "execution_count": 156,
     "metadata": {},
     "output_type": "execute_result"
    }
   ],
   "source": [
    "type(mytuple)"
   ]
  },
  {
   "cell_type": "code",
   "execution_count": 157,
   "id": "4aac7620",
   "metadata": {},
   "outputs": [],
   "source": [
    "mytuple = (1)"
   ]
  },
  {
   "cell_type": "code",
   "execution_count": 158,
   "id": "c828920a",
   "metadata": {},
   "outputs": [
    {
     "data": {
      "text/plain": [
       "int"
      ]
     },
     "execution_count": 158,
     "metadata": {},
     "output_type": "execute_result"
    }
   ],
   "source": [
    "type(mytuple)"
   ]
  },
  {
   "cell_type": "code",
   "execution_count": 159,
   "id": "046dd54c",
   "metadata": {},
   "outputs": [],
   "source": [
    "mytuple = (1,2)"
   ]
  },
  {
   "cell_type": "code",
   "execution_count": 160,
   "id": "21d56d1f",
   "metadata": {},
   "outputs": [
    {
     "data": {
      "text/plain": [
       "tuple"
      ]
     },
     "execution_count": 160,
     "metadata": {},
     "output_type": "execute_result"
    }
   ],
   "source": [
    "type(mytuple)"
   ]
  },
  {
   "cell_type": "code",
   "execution_count": 161,
   "id": "05d6c59c",
   "metadata": {},
   "outputs": [
    {
     "data": {
      "text/plain": [
       "[1, 2, 3]"
      ]
     },
     "execution_count": 161,
     "metadata": {},
     "output_type": "execute_result"
    }
   ],
   "source": [
    "list([1,2,3])"
   ]
  },
  {
   "cell_type": "code",
   "execution_count": 162,
   "id": "a23800b7",
   "metadata": {},
   "outputs": [
    {
     "data": {
      "text/plain": [
       "[1, 2, 3]"
      ]
     },
     "execution_count": 162,
     "metadata": {},
     "output_type": "execute_result"
    }
   ],
   "source": [
    "list((1,2,3))"
   ]
  },
  {
   "cell_type": "code",
   "execution_count": 163,
   "id": "1a7be219",
   "metadata": {},
   "outputs": [
    {
     "data": {
      "text/plain": [
       "['a', 'l', 'i']"
      ]
     },
     "execution_count": 163,
     "metadata": {},
     "output_type": "execute_result"
    }
   ],
   "source": [
    "list('ali')"
   ]
  },
  {
   "cell_type": "markdown",
   "id": "41890636",
   "metadata": {},
   "source": [
    "## Tuple Assignment, Packing and Unpacking"
   ]
  },
  {
   "cell_type": "code",
   "execution_count": 164,
   "id": "9301b917",
   "metadata": {},
   "outputs": [],
   "source": [
    "x = 2\n",
    "y = 3"
   ]
  },
  {
   "cell_type": "code",
   "execution_count": 165,
   "id": "667e5a3f",
   "metadata": {},
   "outputs": [],
   "source": [
    "z = (x,y)"
   ]
  },
  {
   "cell_type": "code",
   "execution_count": 166,
   "id": "3c33ecbe",
   "metadata": {},
   "outputs": [
    {
     "data": {
      "text/plain": [
       "tuple"
      ]
     },
     "execution_count": 166,
     "metadata": {},
     "output_type": "execute_result"
    }
   ],
   "source": [
    "type(z)"
   ]
  },
  {
   "cell_type": "code",
   "execution_count": 167,
   "id": "9255ffd4",
   "metadata": {},
   "outputs": [],
   "source": [
    "# packing\n",
    "t  = ('Ali','Reza','Hasan','Mahsa','Niloufar')"
   ]
  },
  {
   "cell_type": "code",
   "execution_count": 168,
   "id": "8216664e",
   "metadata": {},
   "outputs": [
    {
     "data": {
      "text/plain": [
       "tuple"
      ]
     },
     "execution_count": 168,
     "metadata": {},
     "output_type": "execute_result"
    }
   ],
   "source": [
    "type(t)"
   ]
  },
  {
   "cell_type": "code",
   "execution_count": 169,
   "id": "b2879ddd",
   "metadata": {},
   "outputs": [
    {
     "data": {
      "text/plain": [
       "('Ali', 'Reza', 'Hasan', 'Mahsa', 'Niloufar')"
      ]
     },
     "execution_count": 169,
     "metadata": {},
     "output_type": "execute_result"
    }
   ],
   "source": [
    "t"
   ]
  },
  {
   "cell_type": "code",
   "execution_count": 170,
   "id": "5cf99700",
   "metadata": {},
   "outputs": [],
   "source": [
    "# unpacking\n",
    "n1,n2,n3,n4,n5 = t"
   ]
  },
  {
   "cell_type": "code",
   "execution_count": 171,
   "id": "2cbfa58f",
   "metadata": {},
   "outputs": [
    {
     "data": {
      "text/plain": [
       "'Ali'"
      ]
     },
     "execution_count": 171,
     "metadata": {},
     "output_type": "execute_result"
    }
   ],
   "source": [
    "n1"
   ]
  },
  {
   "cell_type": "code",
   "execution_count": 172,
   "id": "74989959",
   "metadata": {},
   "outputs": [
    {
     "data": {
      "text/plain": [
       "'Reza'"
      ]
     },
     "execution_count": 172,
     "metadata": {},
     "output_type": "execute_result"
    }
   ],
   "source": [
    "n2"
   ]
  },
  {
   "cell_type": "code",
   "execution_count": 173,
   "id": "af3320e6",
   "metadata": {},
   "outputs": [
    {
     "data": {
      "text/plain": [
       "'Hasan'"
      ]
     },
     "execution_count": 173,
     "metadata": {},
     "output_type": "execute_result"
    }
   ],
   "source": [
    "n3"
   ]
  },
  {
   "cell_type": "code",
   "execution_count": 174,
   "id": "21eac46a",
   "metadata": {},
   "outputs": [
    {
     "data": {
      "text/plain": [
       "'Mahsa'"
      ]
     },
     "execution_count": 174,
     "metadata": {},
     "output_type": "execute_result"
    }
   ],
   "source": [
    "n4"
   ]
  },
  {
   "cell_type": "code",
   "execution_count": 175,
   "id": "5672569f",
   "metadata": {},
   "outputs": [
    {
     "data": {
      "text/plain": [
       "'Niloufar'"
      ]
     },
     "execution_count": 175,
     "metadata": {},
     "output_type": "execute_result"
    }
   ],
   "source": [
    "n5"
   ]
  },
  {
   "cell_type": "code",
   "execution_count": 176,
   "id": "bbc55964",
   "metadata": {},
   "outputs": [],
   "source": [
    "x1,x2 = 3,4"
   ]
  },
  {
   "cell_type": "code",
   "execution_count": 177,
   "id": "39b57386",
   "metadata": {},
   "outputs": [
    {
     "name": "stdout",
     "output_type": "stream",
     "text": [
      "3 4\n"
     ]
    }
   ],
   "source": [
    "print(x1,x2)"
   ]
  },
  {
   "cell_type": "code",
   "execution_count": 178,
   "id": "e2630d46",
   "metadata": {},
   "outputs": [],
   "source": [
    "n1, *x, n5 = t"
   ]
  },
  {
   "cell_type": "code",
   "execution_count": 179,
   "id": "2d0e8d31",
   "metadata": {},
   "outputs": [
    {
     "data": {
      "text/plain": [
       "'Ali'"
      ]
     },
     "execution_count": 179,
     "metadata": {},
     "output_type": "execute_result"
    }
   ],
   "source": [
    "n1"
   ]
  },
  {
   "cell_type": "code",
   "execution_count": 180,
   "id": "f216d5de",
   "metadata": {},
   "outputs": [
    {
     "data": {
      "text/plain": [
       "'Niloufar'"
      ]
     },
     "execution_count": 180,
     "metadata": {},
     "output_type": "execute_result"
    }
   ],
   "source": [
    "n5"
   ]
  },
  {
   "cell_type": "code",
   "execution_count": 181,
   "id": "8702c4c3",
   "metadata": {},
   "outputs": [
    {
     "data": {
      "text/plain": [
       "['Reza', 'Hasan', 'Mahsa']"
      ]
     },
     "execution_count": 181,
     "metadata": {},
     "output_type": "execute_result"
    }
   ],
   "source": [
    "x"
   ]
  },
  {
   "cell_type": "code",
   "execution_count": 182,
   "id": "4b507cf4",
   "metadata": {},
   "outputs": [],
   "source": [
    "a = 3\n",
    "b = 4"
   ]
  },
  {
   "cell_type": "code",
   "execution_count": 183,
   "id": "fe043f75",
   "metadata": {},
   "outputs": [],
   "source": [
    "a , b = b , a"
   ]
  },
  {
   "cell_type": "code",
   "execution_count": 184,
   "id": "3c098209",
   "metadata": {},
   "outputs": [
    {
     "data": {
      "text/plain": [
       "(4, 3)"
      ]
     },
     "execution_count": 184,
     "metadata": {},
     "output_type": "execute_result"
    }
   ],
   "source": [
    "a , b"
   ]
  },
  {
   "cell_type": "code",
   "execution_count": 185,
   "id": "644f6618",
   "metadata": {},
   "outputs": [
    {
     "data": {
      "text/plain": [
       "[1, 2, 3, 4]"
      ]
     },
     "execution_count": 185,
     "metadata": {},
     "output_type": "execute_result"
    }
   ],
   "source": [
    "x = [1,2,3,4]\n",
    "x"
   ]
  },
  {
   "cell_type": "code",
   "execution_count": 186,
   "id": "c4763f33",
   "metadata": {},
   "outputs": [],
   "source": [
    "x = [1, ]"
   ]
  },
  {
   "cell_type": "code",
   "execution_count": 187,
   "id": "dc915a51",
   "metadata": {},
   "outputs": [
    {
     "data": {
      "text/plain": [
       "list"
      ]
     },
     "execution_count": 187,
     "metadata": {},
     "output_type": "execute_result"
    }
   ],
   "source": [
    "type(x)"
   ]
  },
  {
   "cell_type": "code",
   "execution_count": 188,
   "id": "ef8a8165",
   "metadata": {},
   "outputs": [
    {
     "data": {
      "text/plain": [
       "[1, 2, 3]"
      ]
     },
     "execution_count": 188,
     "metadata": {},
     "output_type": "execute_result"
    }
   ],
   "source": [
    "x = [1,2,3]\n",
    "x"
   ]
  },
  {
   "cell_type": "code",
   "execution_count": 189,
   "id": "e724d6a3",
   "metadata": {},
   "outputs": [
    {
     "data": {
      "text/plain": [
       "[1, 2, 3]"
      ]
     },
     "execution_count": 189,
     "metadata": {},
     "output_type": "execute_result"
    }
   ],
   "source": [
    "x"
   ]
  },
  {
   "cell_type": "markdown",
   "id": "4b8aa7f5",
   "metadata": {},
   "source": [
    "# FAQ"
   ]
  },
  {
   "cell_type": "code",
   "execution_count": 190,
   "id": "b94b09aa",
   "metadata": {},
   "outputs": [],
   "source": [
    "x += [3,4]"
   ]
  },
  {
   "cell_type": "markdown",
   "id": "5d360755",
   "metadata": {},
   "source": [
    "- have very different performances and are `much lighter in execution.`"
   ]
  },
  {
   "cell_type": "code",
   "execution_count": 191,
   "id": "4e533e80",
   "metadata": {},
   "outputs": [
    {
     "data": {
      "text/plain": [
       "[1, 2, 3, 3, 4, 5, 6]"
      ]
     },
     "execution_count": 191,
     "metadata": {},
     "output_type": "execute_result"
    }
   ],
   "source": [
    "x + [5,6]"
   ]
  },
  {
   "cell_type": "code",
   "execution_count": 192,
   "id": "5448a69a",
   "metadata": {},
   "outputs": [
    {
     "name": "stdout",
     "output_type": "stream",
     "text": [
      "108 ns ± 11.5 ns per loop (mean ± std. dev. of 7 runs, 10,000,000 loops each)\n"
     ]
    }
   ],
   "source": [
    "%timeit x + [5,6]"
   ]
  },
  {
   "cell_type": "markdown",
   "id": "4c7f71f7",
   "metadata": {},
   "source": [
    "- The processing of it `in big data would` take a long time"
   ]
  },
  {
   "cell_type": "code",
   "execution_count": 193,
   "id": "0767b345",
   "metadata": {},
   "outputs": [
    {
     "name": "stdout",
     "output_type": "stream",
     "text": [
      "96 ns ± 5.97 ns per loop (mean ± std. dev. of 7 runs, 10,000,000 loops each)\n"
     ]
    }
   ],
   "source": [
    "%timeit [5,6] + x"
   ]
  },
  {
   "cell_type": "markdown",
   "id": "d05fa4b3",
   "metadata": {},
   "source": [
    "- This function adds objects to the right and left of the queue `without lowering the performance`\n",
    "- To show a list of objects in the specific variable, use `dir(x)`"
   ]
  },
  {
   "cell_type": "code",
   "execution_count": 194,
   "id": "5b88ece7",
   "metadata": {},
   "outputs": [
    {
     "name": "stdout",
     "output_type": "stream",
     "text": [
      "['__add__', '__class__', '__class_getitem__', '__contains__', '__delattr__', '__delitem__', '__dir__', '__doc__', '__eq__', '__format__', '__ge__', '__getattribute__', '__getitem__', '__gt__', '__hash__', '__iadd__', '__imul__', '__init__', '__init_subclass__', '__iter__', '__le__', '__len__', '__lt__', '__mul__', '__ne__', '__new__', '__reduce__', '__reduce_ex__', '__repr__', '__reversed__', '__rmul__', '__setattr__', '__setitem__', '__sizeof__', '__str__', '__subclasshook__', 'append', 'clear', 'copy', 'count', 'extend', 'index', 'insert', 'pop', 'remove', 'reverse', 'sort']\n"
     ]
    }
   ],
   "source": [
    "print(dir(x))"
   ]
  },
  {
   "cell_type": "markdown",
   "id": "3112efbf",
   "metadata": {},
   "source": [
    "## Append vs. extend"
   ]
  },
  {
   "cell_type": "markdown",
   "id": "08e7cc08",
   "metadata": {},
   "source": [
    "- 'append' gets only one item "
   ]
  },
  {
   "cell_type": "code",
   "execution_count": 195,
   "id": "5afd200f",
   "metadata": {},
   "outputs": [],
   "source": [
    "x.append(2)"
   ]
  },
  {
   "cell_type": "code",
   "execution_count": 196,
   "id": "5eef7540",
   "metadata": {},
   "outputs": [
    {
     "data": {
      "text/plain": [
       "[1, 2, 3, 3, 4, 2]"
      ]
     },
     "execution_count": 196,
     "metadata": {},
     "output_type": "execute_result"
    }
   ],
   "source": [
    "x"
   ]
  },
  {
   "cell_type": "markdown",
   "id": "233dde1c",
   "metadata": {},
   "source": [
    "- 'extend' get an iterable, for example array[3,4,5]"
   ]
  },
  {
   "cell_type": "code",
   "execution_count": 197,
   "id": "97df7a45",
   "metadata": {},
   "outputs": [],
   "source": [
    "x.extend([3,4,5])"
   ]
  },
  {
   "cell_type": "code",
   "execution_count": 198,
   "id": "d0975ef7",
   "metadata": {},
   "outputs": [
    {
     "data": {
      "text/plain": [
       "[1, 2, 3, 3, 4, 2, 3, 4, 5]"
      ]
     },
     "execution_count": 198,
     "metadata": {},
     "output_type": "execute_result"
    }
   ],
   "source": [
    "x"
   ]
  },
  {
   "cell_type": "code",
   "execution_count": 199,
   "id": "de7c923e",
   "metadata": {},
   "outputs": [],
   "source": [
    "x = x + [3,4,5]"
   ]
  },
  {
   "cell_type": "code",
   "execution_count": 200,
   "id": "aa7b8f7a",
   "metadata": {},
   "outputs": [
    {
     "data": {
      "text/plain": [
       "[1, 2, 3, 3, 4, 2, 3, 4, 5, 3, 4, 5]"
      ]
     },
     "execution_count": 200,
     "metadata": {},
     "output_type": "execute_result"
    }
   ],
   "source": [
    "x"
   ]
  },
  {
   "cell_type": "markdown",
   "id": "cbfad29e",
   "metadata": {},
   "source": [
    "- items of a list, `the same space` is filled in memory \\\n",
    "- Each cell occupies `a maximum of 8 bytes` in memory"
   ]
  },
  {
   "cell_type": "markdown",
   "id": "35c1078b",
   "metadata": {},
   "source": [
    "`TypeError: list indices must be integers or slices, not tuple`"
   ]
  },
  {
   "cell_type": "code",
   "execution_count": 201,
   "id": "64e1bfc9",
   "metadata": {},
   "outputs": [],
   "source": [
    "# sys.getsizeof(x[1,2,'ali','123asdjlasjdlka'])"
   ]
  },
  {
   "cell_type": "code",
   "execution_count": 202,
   "id": "d657d49e",
   "metadata": {},
   "outputs": [
    {
     "data": {
      "text/plain": [
       "False"
      ]
     },
     "execution_count": 202,
     "metadata": {},
     "output_type": "execute_result"
    }
   ],
   "source": [
    "x[:] is x"
   ]
  },
  {
   "cell_type": "markdown",
   "id": "64f36682",
   "metadata": {},
   "source": [
    "- `prepend` is a heavy operation in the list that is not implemented."
   ]
  },
  {
   "cell_type": "code",
   "execution_count": 203,
   "id": "9be0a6a3",
   "metadata": {},
   "outputs": [],
   "source": [
    "# chizi be in esm vojod nadarad\n",
    "# x.prepend(3)"
   ]
  },
  {
   "cell_type": "code",
   "execution_count": 204,
   "id": "3f26102d",
   "metadata": {},
   "outputs": [
    {
     "data": {
      "text/plain": [
       "3"
      ]
     },
     "execution_count": 204,
     "metadata": {},
     "output_type": "execute_result"
    }
   ],
   "source": [
    "# not supported between instances of 'str' and 'int'\n",
    "# max([1,2,'a'])\n",
    "max([1,2,3])"
   ]
  },
  {
   "cell_type": "code",
   "execution_count": 205,
   "id": "cc342c2b",
   "metadata": {},
   "outputs": [
    {
     "name": "stdout",
     "output_type": "stream",
     "text": [
      "[1, 2, 'c', 3, 3, 4, 2, 3, 4, 5, 3, 4, 5]\n"
     ]
    }
   ],
   "source": [
    "x.insert(2,'c')\n",
    "print(x)"
   ]
  },
  {
   "cell_type": "markdown",
   "id": "58c6ff40",
   "metadata": {},
   "source": [
    "- hWhenever the pointer x points to a new cell in the memory, in this case, its `id` changes in the memory"
   ]
  },
  {
   "cell_type": "code",
   "execution_count": 206,
   "id": "f5b6390b",
   "metadata": {},
   "outputs": [],
   "source": [
    "x = [2,3] + x"
   ]
  },
  {
   "cell_type": "markdown",
   "id": "fbcb96bf",
   "metadata": {},
   "source": [
    "- az lahaz memory efficency in do code ba ham tafavoti ba ham nadarand"
   ]
  },
  {
   "cell_type": "code",
   "execution_count": 207,
   "id": "7c92fc70",
   "metadata": {},
   "outputs": [
    {
     "name": "stdout",
     "output_type": "stream",
     "text": [
      "108 ns ± 13.2 ns per loop (mean ± std. dev. of 7 runs, 10,000,000 loops each)\n"
     ]
    }
   ],
   "source": [
    "%timeit x + [2]"
   ]
  },
  {
   "cell_type": "code",
   "execution_count": 208,
   "id": "99a5e029",
   "metadata": {},
   "outputs": [
    {
     "name": "stdout",
     "output_type": "stream",
     "text": [
      "44.3 ns ± 3.68 ns per loop (mean ± std. dev. of 7 runs, 10,000,000 loops each)\n"
     ]
    }
   ],
   "source": [
    "%timeit x.append(2)"
   ]
  },
  {
   "cell_type": "code",
   "execution_count": 209,
   "id": "7493ad8e",
   "metadata": {},
   "outputs": [],
   "source": [
    "# efficent\n",
    "x = x + [2]\n",
    "\n",
    "# inefficent\n",
    "x = [2] + x"
   ]
  },
  {
   "cell_type": "code",
   "execution_count": 210,
   "id": "3b94d8f7",
   "metadata": {},
   "outputs": [
    {
     "name": "stdout",
     "output_type": "stream",
     "text": [
      "[0, 1, 2, 3, 4, 5, 6, 7, 8, 9, 10, 11, 12, 13, 14, 15, 16, 17, 18, 19, 20, 21, 22, 23, 24, 25, 26, 27, 28, 29, 30, 31, 32, 33, 34, 35, 36, 37, 38, 39, 40, 41, 42, 43, 44, 45, 46, 47, 48, 49, 50, 51, 52, 53, 54, 55, 56, 57, 58, 59, 60, 61, 62, 63, 64, 65, 66, 67, 68, 69, 70, 71, 72, 73, 74, 75, 76, 77, 78, 79, 80, 81, 82, 83, 84, 85, 86, 87, 88, 89, 90, 91, 92, 93, 94, 95, 96, 97, 98, 99]\n"
     ]
    }
   ],
   "source": [
    "x = list(range(100))\n",
    "print(x)"
   ]
  },
  {
   "cell_type": "code",
   "execution_count": 211,
   "id": "17b27b0a",
   "metadata": {},
   "outputs": [
    {
     "name": "stdout",
     "output_type": "stream",
     "text": [
      "1.48 µs ± 122 ns per loop (mean ± std. dev. of 7 runs, 1,000,000 loops each)\n"
     ]
    }
   ],
   "source": [
    "%timeit x + list(range(100))"
   ]
  },
  {
   "cell_type": "code",
   "execution_count": 212,
   "id": "93494d91",
   "metadata": {},
   "outputs": [
    {
     "name": "stdout",
     "output_type": "stream",
     "text": [
      "1.75 µs ± 116 ns per loop (mean ± std. dev. of 7 runs, 100,000 loops each)\n"
     ]
    }
   ],
   "source": [
    "%timeit list(range(100)) + x"
   ]
  },
  {
   "cell_type": "code",
   "execution_count": 213,
   "id": "d9c44f1b",
   "metadata": {},
   "outputs": [
    {
     "name": "stdout",
     "output_type": "stream",
     "text": [
      "283 ns ± 66.8 ns per loop (mean ± std. dev. of 7 runs, 1,000,000 loops each)\n"
     ]
    }
   ],
   "source": [
    "%timeit x + [9]"
   ]
  },
  {
   "cell_type": "code",
   "execution_count": 214,
   "id": "df0f1df1",
   "metadata": {},
   "outputs": [
    {
     "name": "stdout",
     "output_type": "stream",
     "text": [
      "298 ns ± 36.6 ns per loop (mean ± std. dev. of 7 runs, 1,000,000 loops each)\n"
     ]
    }
   ],
   "source": [
    "%timeit [9] + x"
   ]
  },
  {
   "cell_type": "code",
   "execution_count": 215,
   "id": "2978388d",
   "metadata": {},
   "outputs": [
    {
     "name": "stdout",
     "output_type": "stream",
     "text": [
      "41.8 ns ± 2.27 ns per loop (mean ± std. dev. of 7 runs, 10,000,000 loops each)\n"
     ]
    }
   ],
   "source": [
    "%timeit x.append(9)"
   ]
  },
  {
   "cell_type": "code",
   "execution_count": 216,
   "id": "fb9de367",
   "metadata": {},
   "outputs": [
    {
     "name": "stdout",
     "output_type": "stream",
     "text": [
      "6.68 ns ± 0.297 ns per loop (mean ± std. dev. of 7 runs, 100,000,000 loops each)\n"
     ]
    }
   ],
   "source": [
    "%timeit 9e-3 / 62e-9"
   ]
  }
 ],
 "metadata": {
  "kernelspec": {
   "display_name": "Python 3 (ipykernel)",
   "language": "python",
   "name": "python3"
  },
  "language_info": {
   "codemirror_mode": {
    "name": "ipython",
    "version": 3
   },
   "file_extension": ".py",
   "mimetype": "text/x-python",
   "name": "python",
   "nbconvert_exporter": "python",
   "pygments_lexer": "ipython3",
   "version": "3.9.7"
  }
 },
 "nbformat": 4,
 "nbformat_minor": 5
}
