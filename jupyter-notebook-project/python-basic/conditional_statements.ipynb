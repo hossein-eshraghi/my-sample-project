{
 "cells": [
  {
   "cell_type": "code",
   "execution_count": 1,
   "id": "317a60cc",
   "metadata": {},
   "outputs": [],
   "source": [
    "x = 2"
   ]
  },
  {
   "cell_type": "code",
   "execution_count": 2,
   "id": "5b09c451",
   "metadata": {},
   "outputs": [
    {
     "data": {
      "text/plain": [
       "2"
      ]
     },
     "execution_count": 2,
     "metadata": {},
     "output_type": "execute_result"
    }
   ],
   "source": [
    "x"
   ]
  },
  {
   "cell_type": "code",
   "execution_count": 3,
   "id": "1e7972a8",
   "metadata": {},
   "outputs": [],
   "source": [
    "y = 3"
   ]
  },
  {
   "cell_type": "code",
   "execution_count": 4,
   "id": "6904e5ff",
   "metadata": {},
   "outputs": [
    {
     "data": {
      "text/plain": [
       "3"
      ]
     },
     "execution_count": 4,
     "metadata": {},
     "output_type": "execute_result"
    }
   ],
   "source": [
    "y"
   ]
  },
  {
   "cell_type": "code",
   "execution_count": 5,
   "id": "75d52f42",
   "metadata": {},
   "outputs": [],
   "source": [
    "x = [1,2,3]"
   ]
  },
  {
   "cell_type": "code",
   "execution_count": 8,
   "id": "a98ca515",
   "metadata": {},
   "outputs": [
    {
     "data": {
      "text/plain": [
       "list"
      ]
     },
     "execution_count": 8,
     "metadata": {},
     "output_type": "execute_result"
    }
   ],
   "source": [
    "type(x)"
   ]
  },
  {
   "cell_type": "code",
   "execution_count": 9,
   "id": "ebc7792c",
   "metadata": {},
   "outputs": [],
   "source": [
    "x.append(4)"
   ]
  },
  {
   "cell_type": "code",
   "execution_count": 10,
   "id": "0a44edfd",
   "metadata": {},
   "outputs": [
    {
     "data": {
      "text/plain": [
       "[1, 2, 3, 4]"
      ]
     },
     "execution_count": 10,
     "metadata": {},
     "output_type": "execute_result"
    }
   ],
   "source": [
    "x"
   ]
  },
  {
   "cell_type": "code",
   "execution_count": 12,
   "id": "240ecb10",
   "metadata": {},
   "outputs": [
    {
     "name": "stdout",
     "output_type": "stream",
     "text": [
      "Oops\n"
     ]
    }
   ],
   "source": [
    "if x == 2:\n",
    "    print('x is 2')\n",
    "else:\n",
    "    print('Oops')"
   ]
  },
  {
   "cell_type": "code",
   "execution_count": 13,
   "id": "0b87b3ff",
   "metadata": {},
   "outputs": [
    {
     "name": "stdout",
     "output_type": "stream",
     "text": [
      "x is 2\n"
     ]
    }
   ],
   "source": [
    "x = 2\n",
    "\n",
    "if x == 2:\n",
    "    print('x is 2')\n",
    "else:\n",
    "    print('Oops')"
   ]
  },
  {
   "cell_type": "code",
   "execution_count": 16,
   "id": "c23ae194",
   "metadata": {},
   "outputs": [
    {
     "name": "stdout",
     "output_type": "stream",
     "text": [
      "Oops\n"
     ]
    }
   ],
   "source": [
    "# if [] evaluate to TRUE or FALSE\n",
    "if []:\n",
    "    print('x is 2')\n",
    "else:\n",
    "    print('Oops')"
   ]
  },
  {
   "cell_type": "code",
   "execution_count": 17,
   "id": "7d708de0",
   "metadata": {},
   "outputs": [
    {
     "name": "stdout",
     "output_type": "stream",
     "text": [
      "Oops\n"
     ]
    }
   ],
   "source": [
    "if None:\n",
    "    print('x is 2')\n",
    "else:\n",
    "    print('Oops')"
   ]
  },
  {
   "cell_type": "code",
   "execution_count": 19,
   "id": "4802b8ca",
   "metadata": {},
   "outputs": [
    {
     "name": "stdout",
     "output_type": "stream",
     "text": [
      "Oops\n"
     ]
    }
   ],
   "source": [
    "if 0:\n",
    "    print('x is 2')\n",
    "else:\n",
    "    print('Oops')"
   ]
  },
  {
   "cell_type": "code",
   "execution_count": 22,
   "id": "cbe0a965",
   "metadata": {},
   "outputs": [
    {
     "name": "stdout",
     "output_type": "stream",
     "text": [
      "outside if block\n"
     ]
    }
   ],
   "source": [
    "if 0:\n",
    "    print('x is 2')\n",
    "    print('hello')\n",
    "    print('how are you')\n",
    "\n",
    "print('outside if block')"
   ]
  },
  {
   "cell_type": "code",
   "execution_count": 24,
   "id": "a61d61d1",
   "metadata": {},
   "outputs": [
    {
     "name": "stdout",
     "output_type": "stream",
     "text": [
      "x is 2\n",
      "hello\n",
      "how are you\n",
      "outside if block\n"
     ]
    }
   ],
   "source": [
    "if 1:\n",
    "    print('x is 2') # off-side rule\n",
    "    print('hello')\n",
    "    print('how are you')\n",
    "\n",
    "print('outside if block')"
   ]
  },
  {
   "cell_type": "code",
   "execution_count": 25,
   "id": "2e525b93",
   "metadata": {},
   "outputs": [
    {
     "name": "stdout",
     "output_type": "stream",
     "text": [
      "x is not zero\n"
     ]
    }
   ],
   "source": [
    "if x:\n",
    "    print('x is not zero')"
   ]
  },
  {
   "cell_type": "code",
   "execution_count": 31,
   "id": "4ae2989a",
   "metadata": {},
   "outputs": [
    {
     "name": "stdout",
     "output_type": "stream",
     "text": [
      "a is in ali string\n"
     ]
    }
   ],
   "source": [
    "if (x < 100) and (y > 0):\n",
    "    print('a is in ali string')"
   ]
  },
  {
   "cell_type": "code",
   "execution_count": 32,
   "id": "e3c5dc3c",
   "metadata": {},
   "outputs": [
    {
     "name": "stdout",
     "output_type": "stream",
     "text": [
      "a is in ali string\n"
     ]
    }
   ],
   "source": [
    "if 'a' in 'ali':\n",
    "    print('a is in ali string')"
   ]
  },
  {
   "cell_type": "code",
   "execution_count": 33,
   "id": "b7773dad",
   "metadata": {},
   "outputs": [
    {
     "name": "stdout",
     "output_type": "stream",
     "text": [
      "ok\n"
     ]
    }
   ],
   "source": [
    "if 'a' in ['a','b','c','d']:\n",
    "    print('ok')"
   ]
  },
  {
   "cell_type": "code",
   "execution_count": 37,
   "id": "84bd9ca1",
   "metadata": {},
   "outputs": [
    {
     "name": "stdout",
     "output_type": "stream",
     "text": [
      "inside weight inner if\n",
      "inside if\n",
      "outside if\n"
     ]
    }
   ],
   "source": [
    "user = 'ali'\n",
    "age = 17\n",
    "weight = 70\n",
    "\n",
    "if user == 'ali':\n",
    "    if age > 18:\n",
    "        print('inside age inner if')\n",
    "        \n",
    "    if weight > 60:\n",
    "        print('inside weight inner if')\n",
    "    \n",
    "    print('inside if')\n",
    "    \n",
    "print('outside if')"
   ]
  },
  {
   "cell_type": "code",
   "execution_count": 38,
   "id": "0331806a",
   "metadata": {},
   "outputs": [
    {
     "name": "stdout",
     "output_type": "stream",
     "text": [
      "x is posetive\n"
     ]
    }
   ],
   "source": [
    "x = -1\n",
    "\n",
    "if x > 0:\n",
    "    print('x is negative')\n",
    "else:\n",
    "    print('x is posetive')"
   ]
  },
  {
   "cell_type": "code",
   "execution_count": 40,
   "id": "8af460b6",
   "metadata": {},
   "outputs": [
    {
     "name": "stdout",
     "output_type": "stream",
     "text": [
      "Hello Joe\n"
     ]
    }
   ],
   "source": [
    "name = 'Joe'\n",
    "if name == 'Fred':\n",
    "    print('Hello Fred')\n",
    "elif name == 'Xander':\n",
    "    print('Hello Xander')\n",
    "elif name == 'Joe':\n",
    "    print('Hello Joe')\n",
    "elif name == 'Arnold':\n",
    "    print('Hello Arnold')\n",
    "else:\n",
    "    print(\"I don't know who you are!\")"
   ]
  },
  {
   "cell_type": "code",
   "execution_count": 47,
   "id": "7d6bfa66",
   "metadata": {},
   "outputs": [
    {
     "name": "stdout",
     "output_type": "stream",
     "text": [
      "done\n"
     ]
    }
   ],
   "source": [
    "# Don't do this!\n",
    "x = 3\n",
    "if x == 2: print('x is 2'); print('y is 2')\n",
    "    \n",
    "print('done')"
   ]
  },
  {
   "cell_type": "code",
   "execution_count": 58,
   "id": "86c4eec0",
   "metadata": {},
   "outputs": [
    {
     "data": {
      "text/plain": [
       "3"
      ]
     },
     "execution_count": 58,
     "metadata": {},
     "output_type": "execute_result"
    }
   ],
   "source": [
    "# Python’s Ternary Operator [expression execution True execution False]\n",
    "# x == 3 ? print('x is 2') : print('x is not 2')\n",
    "x"
   ]
  },
  {
   "cell_type": "code",
   "execution_count": 59,
   "id": "6891e64d",
   "metadata": {},
   "outputs": [
    {
     "name": "stdout",
     "output_type": "stream",
     "text": [
      "x is not 2\n"
     ]
    }
   ],
   "source": [
    "print('x is 2') if x == 2 else print('x is not 2')"
   ]
  },
  {
   "cell_type": "code",
   "execution_count": 61,
   "id": "fa3c6e83",
   "metadata": {},
   "outputs": [
    {
     "data": {
      "text/plain": [
       "17"
      ]
     },
     "execution_count": 61,
     "metadata": {},
     "output_type": "execute_result"
    }
   ],
   "source": [
    "age"
   ]
  },
  {
   "cell_type": "code",
   "execution_count": 62,
   "id": "b2437b81",
   "metadata": {},
   "outputs": [],
   "source": [
    "can_have_twitter = True if age > 13 else False"
   ]
  },
  {
   "cell_type": "code",
   "execution_count": 63,
   "id": "5ebe44b0",
   "metadata": {},
   "outputs": [
    {
     "data": {
      "text/plain": [
       "True"
      ]
     },
     "execution_count": 63,
     "metadata": {},
     "output_type": "execute_result"
    }
   ],
   "source": [
    "can_have_twitter"
   ]
  },
  {
   "cell_type": "code",
   "execution_count": 67,
   "id": "6b1e3405",
   "metadata": {},
   "outputs": [],
   "source": [
    "# 0/0 short circut evaluation: ta moshakhas shavad digar meghdar 0/0 check nemishavad.\n",
    "can_have_twitter = True if age > 13 else 0/0"
   ]
  },
  {
   "cell_type": "code",
   "execution_count": 66,
   "id": "3ceb9a33",
   "metadata": {},
   "outputs": [
    {
     "data": {
      "text/plain": [
       "True"
      ]
     },
     "execution_count": 66,
     "metadata": {},
     "output_type": "execute_result"
    }
   ],
   "source": [
    "can_have_twitter"
   ]
  },
  {
   "cell_type": "code",
   "execution_count": 70,
   "id": "6c2a974c",
   "metadata": {},
   "outputs": [
    {
     "data": {
      "text/plain": [
       "'yes'"
      ]
     },
     "execution_count": 70,
     "metadata": {},
     "output_type": "execute_result"
    }
   ],
   "source": [
    "can_have_twitter = 'yes' if age > 13 else 'no'\n",
    "can_have_twitter"
   ]
  },
  {
   "cell_type": "code",
   "execution_count": 74,
   "id": "3531ab4a",
   "metadata": {},
   "outputs": [],
   "source": [
    "is_user_logged_in = True\n",
    "if is_user_logged_in:\n",
    "    # TODO: Show user profile button\n",
    "    pass\n",
    "else:\n",
    "    # TODO: Show sign in button\n",
    "    pass"
   ]
  },
  {
   "cell_type": "code",
   "execution_count": 75,
   "id": "a40f2e34",
   "metadata": {},
   "outputs": [],
   "source": [
    "def func(a, b):\n",
    "    pass"
   ]
  },
  {
   "cell_type": "code",
   "execution_count": 1,
   "id": "680602cb",
   "metadata": {},
   "outputs": [],
   "source": [
    "try:\n",
    "    pass\n",
    "except:\n",
    "    pass"
   ]
  },
  {
   "cell_type": "code",
   "execution_count": 2,
   "id": "d84204e9",
   "metadata": {},
   "outputs": [
    {
     "name": "stdout",
     "output_type": "stream",
     "text": [
      "1 is int\n"
     ]
    }
   ],
   "source": [
    "if type(1) == int:\n",
    "    print('1 is int')"
   ]
  },
  {
   "cell_type": "code",
   "execution_count": 3,
   "id": "4cb7e191",
   "metadata": {},
   "outputs": [
    {
     "name": "stdout",
     "output_type": "stream",
     "text": [
      "1 is int\n"
     ]
    }
   ],
   "source": [
    "if isinstance(1,int):\n",
    "    print('1 is int')"
   ]
  },
  {
   "cell_type": "code",
   "execution_count": 4,
   "id": "4d9f6571",
   "metadata": {},
   "outputs": [
    {
     "data": {
      "text/plain": [
       "False"
      ]
     },
     "execution_count": 4,
     "metadata": {},
     "output_type": "execute_result"
    }
   ],
   "source": [
    "type(True) == int"
   ]
  },
  {
   "cell_type": "code",
   "execution_count": 6,
   "id": "4b403e39",
   "metadata": {},
   "outputs": [
    {
     "data": {
      "text/plain": [
       "True"
      ]
     },
     "execution_count": 6,
     "metadata": {},
     "output_type": "execute_result"
    }
   ],
   "source": [
    "# True is subclass of integer\n",
    "isinstance(True, int)"
   ]
  },
  {
   "cell_type": "code",
   "execution_count": 7,
   "id": "37a8060c",
   "metadata": {},
   "outputs": [],
   "source": [
    "import numpy as np"
   ]
  },
  {
   "cell_type": "code",
   "execution_count": 11,
   "id": "fa16d73b",
   "metadata": {},
   "outputs": [
    {
     "data": {
      "text/plain": [
       "array([30, 79, 95])"
      ]
     },
     "execution_count": 11,
     "metadata": {},
     "output_type": "execute_result"
    }
   ],
   "source": [
    "np.random.randint(2,100,size=3)"
   ]
  },
  {
   "cell_type": "code",
   "execution_count": 20,
   "id": "0d3c3f3f",
   "metadata": {},
   "outputs": [],
   "source": [
    "def myiter():\n",
    "    for i in range(100):\n",
    "        yield np.random.randint(2,78)"
   ]
  },
  {
   "cell_type": "code",
   "execution_count": 21,
   "id": "c9ef7a04",
   "metadata": {},
   "outputs": [],
   "source": [
    "g = myiter()"
   ]
  },
  {
   "cell_type": "code",
   "execution_count": 22,
   "id": "5839fd8c",
   "metadata": {},
   "outputs": [
    {
     "data": {
      "text/plain": [
       "58"
      ]
     },
     "execution_count": 22,
     "metadata": {},
     "output_type": "execute_result"
    }
   ],
   "source": [
    "next(g)"
   ]
  },
  {
   "cell_type": "code",
   "execution_count": 54,
   "id": "c3fae89f",
   "metadata": {},
   "outputs": [],
   "source": [
    "names = [\"Mohammad Khalili\",\n",
    "       \"yasin amiri\",\n",
    "       \"Ramin Shojaei\",\n",
    "       \"ali Asadi\",\n",
    "       \"ramin rezaei\",\n",
    "        \"reza javadii jozani\",\n",
    "        \"ahmadi\"]"
   ]
  },
  {
   "cell_type": "code",
   "execution_count": 57,
   "id": "df2b2b99",
   "metadata": {},
   "outputs": [
    {
     "name": "stdout",
     "output_type": "stream",
     "text": [
      "Mohammad Khalili\n",
      "Ramin Shojaei\n"
     ]
    }
   ],
   "source": [
    "# name afradi ke firstname va lastname anha capital neveshte shode ast\n",
    "for name in names:\n",
    "    # baraye ignore kardan esn haye bishtar az 2 bakhsh\n",
    "    if len(name.split()) < 2:\n",
    "        continue\n",
    "    \n",
    "    fname, lname = name.split()[:2]\n",
    "    # print(fname,lname)\n",
    "    \n",
    "    if fname.title() == fname and lname.title() == lname:\n",
    "        print(fname,lname)"
   ]
  },
  {
   "cell_type": "code",
   "execution_count": 61,
   "id": "7f79a2ea",
   "metadata": {},
   "outputs": [],
   "source": [
    "# get names of person (fistname,lastname) that are uppercase\n",
    "# to enumerate use for loop\n",
    "new_names = []\n",
    "for ind, name in enumerate(names):\n",
    "    # baraye ignore kardan esn haye bishtar az 2 bakhsh\n",
    "    if len(name.split()) < 2:\n",
    "        continue\n",
    "    \n",
    "    fname, lname = name.split()[:2]\n",
    "    # print(fname,lname)\n",
    "    \n",
    "    if fname.title() == fname and lname.title() == lname:\n",
    "        new_names.append(name)"
   ]
  },
  {
   "cell_type": "code",
   "execution_count": 63,
   "id": "65833ecd",
   "metadata": {},
   "outputs": [
    {
     "data": {
      "text/plain": [
       "['Mohammad Khalili', 'Ramin Shojaei']"
      ]
     },
     "execution_count": 63,
     "metadata": {},
     "output_type": "execute_result"
    }
   ],
   "source": [
    "new_names"
   ]
  },
  {
   "cell_type": "code",
   "execution_count": 68,
   "id": "a7207153",
   "metadata": {},
   "outputs": [
    {
     "data": {
      "text/plain": [
       "1"
      ]
     },
     "execution_count": 68,
     "metadata": {},
     "output_type": "execute_result"
    }
   ],
   "source": [
    "import random\n",
    "random.choice([1,2,3])"
   ]
  },
  {
   "cell_type": "code",
   "execution_count": 73,
   "id": "bf02a9bd",
   "metadata": {},
   "outputs": [
    {
     "data": {
      "text/plain": [
       "'Mohammad Khalili'"
      ]
     },
     "execution_count": 73,
     "metadata": {},
     "output_type": "execute_result"
    }
   ],
   "source": [
    "random.choice(new_names)"
   ]
  }
 ],
 "metadata": {
  "kernelspec": {
   "display_name": "Python 3 (ipykernel)",
   "language": "python",
   "name": "python3"
  },
  "language_info": {
   "codemirror_mode": {
    "name": "ipython",
    "version": 3
   },
   "file_extension": ".py",
   "mimetype": "text/x-python",
   "name": "python",
   "nbconvert_exporter": "python",
   "pygments_lexer": "ipython3",
   "version": "3.9.15"
  }
 },
 "nbformat": 4,
 "nbformat_minor": 5
}
