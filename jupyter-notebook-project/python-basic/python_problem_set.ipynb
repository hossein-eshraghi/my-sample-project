{
 "cells": [
  {
   "cell_type": "markdown",
   "id": "cd4bae34",
   "metadata": {},
   "source": [
    "**1) Write a program in python that prints hello world .**"
   ]
  },
  {
   "cell_type": "code",
   "execution_count": null,
   "id": "77eadc88",
   "metadata": {},
   "outputs": [],
   "source": [
    "print(\"hello world\")"
   ]
  },
  {
   "cell_type": "markdown",
   "id": "8b1ca53a",
   "metadata": {},
   "source": [
    "**2) Which statement is true? and why?**\n",
    "1. In Python, a variable must be declared before it is assigned a value \n",
    "2. In Python, a variable may be assigned a value of one type, and then later assigned a value of a different type"
   ]
  },
  {
   "cell_type": "code",
   "execution_count": null,
   "id": "33de4a2a",
   "metadata": {},
   "outputs": [],
   "source": [
    "x = True\n",
    "y = False\n",
    "print(x,y)"
   ]
  },
  {
   "cell_type": "markdown",
   "id": "901dedaf",
   "metadata": {},
   "source": [
    "**3) Consider the following sequence of statements :**\n",
    "\n",
    "1.These statements refer to different variables.\\\n",
    "2.These statements refer to the same variable.\\\n",
    "Answer: `Case is significant in Python variable names, so these are all different variables.`"
   ]
  },
  {
   "cell_type": "code",
   "execution_count": null,
   "id": "f31280b5",
   "metadata": {},
   "outputs": [],
   "source": [
    "employeenumber = 4398\n",
    "EmployeeNumber = 4398\n",
    "employeeNumber = 4398"
   ]
  },
  {
   "cell_type": "code",
   "execution_count": null,
   "id": "8723935b",
   "metadata": {},
   "outputs": [],
   "source": [
    "id(employeenumber)"
   ]
  },
  {
   "cell_type": "code",
   "execution_count": null,
   "id": "0ec20f22",
   "metadata": {},
   "outputs": [],
   "source": [
    "id(EmployeeNumber)"
   ]
  },
  {
   "cell_type": "code",
   "execution_count": null,
   "id": "f3b164ee",
   "metadata": {},
   "outputs": [],
   "source": [
    "id(employeeNumber)"
   ]
  },
  {
   "cell_type": "markdown",
   "id": "82f76d4a",
   "metadata": {},
   "source": [
    "**4) Following the execution of these statements, Python has created how many objects and how many references?**\\\n",
    "`1.One object, two references`\\\n",
    "2.One object, one reference\\\n",
    "3.Two objects, one reference\\\n",
    "4.Two objects, two references"
   ]
  },
  {
   "cell_type": "code",
   "execution_count": null,
   "id": "07cea6a4",
   "metadata": {},
   "outputs": [],
   "source": [
    "n = 300\n",
    "m = n"
   ]
  },
  {
   "cell_type": "code",
   "execution_count": null,
   "id": "d3140a07",
   "metadata": {},
   "outputs": [],
   "source": [
    "id(m)"
   ]
  },
  {
   "cell_type": "code",
   "execution_count": null,
   "id": "55736bc2",
   "metadata": {},
   "outputs": [],
   "source": [
    "id(n)"
   ]
  },
  {
   "cell_type": "markdown",
   "id": "033e102b",
   "metadata": {},
   "source": [
    "**5) Multiple Variable's Definition**\\\n",
    "Assign values `\"pytopia\" , 2022 and 3.14` to `var_s , var_i , var_f` in **only one line** of code."
   ]
  },
  {
   "cell_type": "code",
   "execution_count": null,
   "id": "74fe5feb",
   "metadata": {},
   "outputs": [],
   "source": [
    "var_s,var_i,var_f = 'pytopia',2022,3.14"
   ]
  },
  {
   "cell_type": "code",
   "execution_count": null,
   "id": "b97c747b",
   "metadata": {},
   "outputs": [],
   "source": [
    "var_s"
   ]
  },
  {
   "cell_type": "code",
   "execution_count": null,
   "id": "28b23d01",
   "metadata": {},
   "outputs": [],
   "source": [
    "var_i"
   ]
  },
  {
   "cell_type": "code",
   "execution_count": null,
   "id": "a3a75838",
   "metadata": {},
   "outputs": [],
   "source": [
    "var_f"
   ]
  },
  {
   "cell_type": "markdown",
   "id": "a6a1fe5e",
   "metadata": {},
   "source": [
    "**6) Variable Assignment**\\\n",
    "Consider the following sequence of statements :\n",
    "\n",
    "Since numbers `between -5 and 256` are used a lot, Python allocates memory for these numbers from the beginning in RAM. For this reason, these objects are made only once and at any time create a variable with these values, instead of making new objects we just create some new pointers to those objects. But for any other numbers any time we create a variable we also create new objects.\n",
    "\n",
    "Somehow, it can be said that the numbers in this range are unique and occupy the RAM once."
   ]
  },
  {
   "cell_type": "code",
   "execution_count": null,
   "id": "72c00553",
   "metadata": {},
   "outputs": [],
   "source": [
    ">>> m = 245\n",
    ">>> n = 245\n",
    ">>> x = 268\n",
    ">>> y = 268\n",
    ">>> z = y"
   ]
  },
  {
   "cell_type": "code",
   "execution_count": null,
   "id": "8fb37583",
   "metadata": {},
   "outputs": [],
   "source": [
    "print(id(m),id(n),id(x),id(y),id(z))"
   ]
  },
  {
   "cell_type": "code",
   "execution_count": null,
   "id": "9c476938",
   "metadata": {},
   "outputs": [],
   "source": [
    "id(m) != id(n), id(x) != id(y)"
   ]
  },
  {
   "cell_type": "code",
   "execution_count": null,
   "id": "459a62bd",
   "metadata": {},
   "outputs": [],
   "source": [
    "id(m) == id(n), id(x) == id(y)"
   ]
  },
  {
   "cell_type": "code",
   "execution_count": null,
   "id": "d70c8a1c",
   "metadata": {},
   "outputs": [],
   "source": [
    "id(m) == id(n), id(x) != id(y)"
   ]
  },
  {
   "cell_type": "code",
   "execution_count": null,
   "id": "8bb39a53",
   "metadata": {},
   "outputs": [],
   "source": [
    "id(m) != id(n), id(x) == id(y)"
   ]
  },
  {
   "cell_type": "code",
   "execution_count": null,
   "id": "aeaaeb80",
   "metadata": {},
   "outputs": [],
   "source": [
    "id(z) == id(y)"
   ]
  },
  {
   "cell_type": "code",
   "execution_count": null,
   "id": "b6cc5562",
   "metadata": {},
   "outputs": [],
   "source": [
    "id(z) != id(y)"
   ]
  },
  {
   "cell_type": "markdown",
   "id": "dbe06cc7",
   "metadata": {},
   "source": [
    "**7) Quick Swap**\n",
    "\n",
    "Assume we have two variables called input_1 and input_2 . Swap the values of the two variables so that input_1 has the value of input_2 and vice versa. Print out the two variables.  \n",
    "\n",
    "Note: You must perform the swap in only 1 line of code, and without using any variables other than input_1 and input_2 ."
   ]
  },
  {
   "cell_type": "code",
   "execution_count": null,
   "id": "94618ac8",
   "metadata": {},
   "outputs": [],
   "source": [
    "input_1 = 0\n",
    "input_2 = 1\n",
    "input_1,input_2 = input_2,input_1"
   ]
  },
  {
   "cell_type": "markdown",
   "id": "ef1f5911",
   "metadata": {},
   "source": [
    "**8) Custom Swap** \\\n",
    "Ali has a problem with one of his python practices.\\\n",
    "He wants `to get two numbers as input from the user` and put them in input_1 and input_2 .\\\n",
    "then Swap the values of the two variables so that input_1 has the value of input_2 and vice versa.\\ \n",
    "Finally, print out the two variables.\n",
    "\n",
    "**Note: He must only use 3 variables in his code**"
   ]
  },
  {
   "cell_type": "code",
   "execution_count": null,
   "id": "f7c8e44b",
   "metadata": {},
   "outputs": [],
   "source": [
    "input_1 = int(input(\"Enter first number: \"))\n",
    "input_2 = int(input(\"Enter second number: \"))"
   ]
  },
  {
   "cell_type": "code",
   "execution_count": null,
   "id": "30ee1909",
   "metadata": {},
   "outputs": [],
   "source": [
    "temp = input_1\n",
    "input_1 = input_2\n",
    "input_2 = temp"
   ]
  },
  {
   "cell_type": "code",
   "execution_count": null,
   "id": "9578728f",
   "metadata": {},
   "outputs": [],
   "source": [
    "print(input_1,input_2)"
   ]
  },
  {
   "cell_type": "markdown",
   "id": "148dcbfa",
   "metadata": {},
   "source": [
    "**9) Easy Sum** \\\n",
    "We ask Ali to write a code that takes two inputs from the user and saves them in two desired variables, and then puts the sum of the two inputs in a variable and prints the result. Since Ali does not know the syntax of python, we ask you to help him to write this code!\n",
    "\n",
    "Note: Use snake case format for variable names.\n",
    "\n",
    "Hint: You can use the following code to take input from the user and convert it to an integer. (In future sessions we will explain how this code works).\n",
    "\n",
    "You can change the name of the variable to anything you like.\n",
    "\n",
    "`Note: When you are giving your input data, press Enter to end the process of giving input after you have done.`\n"
   ]
  },
  {
   "cell_type": "code",
   "execution_count": null,
   "id": "a20e3a00",
   "metadata": {},
   "outputs": [],
   "source": [
    "input_1 = int(input('Enter a number: '))\n",
    "input_2 = int(input('Enter another number: '))"
   ]
  },
  {
   "cell_type": "code",
   "execution_count": null,
   "id": "4854f762",
   "metadata": {},
   "outputs": [],
   "source": [
    "sum_x = input_1 + input_2\n",
    "print(sum_x)"
   ]
  },
  {
   "cell_type": "markdown",
   "id": "9732e958",
   "metadata": {},
   "source": [
    "**10) Warm-Up Variable Practice!** \\\n",
    "Ali's programming teacher asks him to define two variables inp_1 and inp_2 and assign values 10 and 35 to them. \\\n",
    "then put inp_1 + inp_2 in variable result and print it. \\\n",
    "Ali is a lazy student and asks you to do this for him!\n",
    "\n"
   ]
  },
  {
   "cell_type": "code",
   "execution_count": null,
   "id": "593e3ce1",
   "metadata": {},
   "outputs": [],
   "source": [
    "inp_1,inp_2 = 10,35\n",
    "sum_inp = inp_1 + inp_2\n",
    "print(sum_inp)"
   ]
  },
  {
   "cell_type": "markdown",
   "id": "1df25855",
   "metadata": {},
   "source": [
    "**11) Bitwise Operators Quiz** \\\n",
    "4 is 100 in binary and 11 is 1011. \\\n",
    "What is the output of the following bitwise operators?\n",
    "\n",
    "4: 0100 \\\n",
    "11: 1011"
   ]
  },
  {
   "cell_type": "code",
   "execution_count": null,
   "id": "190a6a9e",
   "metadata": {},
   "outputs": [],
   "source": [
    "a = 4\n",
    "b = 11\n",
    "print(a | b, a >> 2)"
   ]
  },
  {
   "cell_type": "markdown",
   "id": "12aecd51",
   "metadata": {},
   "source": [
    "**12) Operator and Expression** \\\n",
    "What is the output of the following code?\n",
    "\n",
    "print(bool(0), bool(3.14159), bool(-3), bool(1.0+1j)) \n",
    "\n",
    "1. True True False True \\\n",
    "2. False True True True \\\n",
    "3. True True False True \\\n",
    "4. False True False True\n",
    "\n",
    "`answer: 2`"
   ]
  },
  {
   "cell_type": "markdown",
   "id": "07bec7d6",
   "metadata": {},
   "source": [
    "**13) List Chain Assignment** \\\n",
    "What is the output where indicated by #?:\n",
    "\n",
    "`Hint: If you think the outputs are [2] and [3], think again!`\n",
    "\n",
    "The reason is when you do `x = y = []` you define two pointers both pointing to one memory location. \\\n",
    "If you change that memory location with x, the changes are seen by y too, cause both are sharing one memory location.\n",
    "\n",
    "So be careful when you use chain assignments. It may cause unexpected behaviours when used with mutable data types.\n",
    "\n",
    "Note that with immutable variables, there is no problem like this, cause they are not gonna change."
   ]
  },
  {
   "cell_type": "code",
   "execution_count": null,
   "id": "7bdcd672",
   "metadata": {},
   "outputs": [],
   "source": [
    "x = y = []\n",
    "x.append(2)\n",
    "y.append(3)\n",
    "print(x)\n",
    "print(y)"
   ]
  },
  {
   "cell_type": "markdown",
   "id": "ef5eb8db",
   "metadata": {},
   "source": [
    "**14) Append to The List** \\\n",
    "The append() method allows you to add items to your lists. \\\n",
    "Add the string \"R\" to the programming_langs list with append() method.\n",
    "\n",
    "Note: Python's list contents are references unless documented otherwise, no copies are created when you pass a name to a method. This applies just as much to list.append() as to any other call; list.append() adds a reference to the list, not a copy."
   ]
  },
  {
   "cell_type": "code",
   "execution_count": null,
   "id": "461738b6",
   "metadata": {},
   "outputs": [],
   "source": [
    "programming_langs = [\"Julia\", \"Python\"] \n",
    "programming_langs.append(\"R\")"
   ]
  },
  {
   "cell_type": "code",
   "execution_count": null,
   "id": "e9c651ad",
   "metadata": {},
   "outputs": [],
   "source": [
    "programming_langs"
   ]
  },
  {
   "cell_type": "markdown",
   "id": "8bfb3a4d",
   "metadata": {},
   "source": [
    "**15) List: Max, Min, Sum and Mean** \\\n",
    "Calculate the maximum, minimum, sum and mean of the following data using python's built-in functions:\n",
    "\n"
   ]
  },
  {
   "cell_type": "code",
   "execution_count": null,
   "id": "7b348847",
   "metadata": {},
   "outputs": [],
   "source": [
    "random_num_data = [18, 60, -10, 17, 55, 8, -1, 31, 52, 31,\n",
    "                    27, 14, 25, 0, -2, 15, -1, 50, 45, -4,\n",
    "                    42, -10, 40, 3, 43, 55, 24, -17, 17, 54, \n",
    "                    19, 24, 44, 30, 24, 3, -17, 31, 45, -10, \n",
    "                    13, -12, 21, -13, 52, 57, -1, 37, 21, 42]"
   ]
  },
  {
   "cell_type": "code",
   "execution_count": null,
   "id": "d43c7f62",
   "metadata": {},
   "outputs": [],
   "source": [
    "maximum = max(random_num_data)\n",
    "maximum"
   ]
  },
  {
   "cell_type": "code",
   "execution_count": null,
   "id": "c721b7c1",
   "metadata": {},
   "outputs": [],
   "source": [
    "minimum = min(random_num_data)\n",
    "minimum"
   ]
  },
  {
   "cell_type": "code",
   "execution_count": null,
   "id": "1f9d9b2e",
   "metadata": {},
   "outputs": [],
   "source": [
    "sum_of_data = sum(random_num_data)\n",
    "sum_of_data"
   ]
  },
  {
   "cell_type": "code",
   "execution_count": null,
   "id": "685a1a49",
   "metadata": {},
   "outputs": [],
   "source": [
    "mean_of_data = sum(random_num_data) / len(random_num_data)\n",
    "mean_of_data"
   ]
  },
  {
   "cell_type": "markdown",
   "id": "e87c5595",
   "metadata": {},
   "source": [
    "**16) Second Largest Number In List** \\\n",
    "Find the second_largest number in the list:\n",
    "\n",
    "`second_largest = 66`"
   ]
  },
  {
   "cell_type": "code",
   "execution_count": null,
   "id": "414d80e5",
   "metadata": {},
   "outputs": [],
   "source": [
    "num_list = [3, 47, 10, 15, 21, 28, 13, 45, 66, 12, 34, 56, 78]\n",
    "num_list"
   ]
  },
  {
   "cell_type": "code",
   "execution_count": null,
   "id": "7432316f",
   "metadata": {},
   "outputs": [],
   "source": [
    "# method 1\n",
    "max(num_list)"
   ]
  },
  {
   "cell_type": "code",
   "execution_count": null,
   "id": "6086ff8e",
   "metadata": {},
   "outputs": [],
   "source": [
    "num_list.remove(78)"
   ]
  },
  {
   "cell_type": "code",
   "execution_count": null,
   "id": "29ecc672",
   "metadata": {},
   "outputs": [],
   "source": [
    "max(num_list)"
   ]
  },
  {
   "cell_type": "code",
   "execution_count": null,
   "id": "fa2c3bd5",
   "metadata": {},
   "outputs": [],
   "source": [
    "# method 2\n",
    "sorted_list = sorted(num_list)\n",
    "sorted_list"
   ]
  },
  {
   "cell_type": "code",
   "execution_count": null,
   "id": "acf53f2e",
   "metadata": {},
   "outputs": [],
   "source": [
    "second_largest = sorted_list[-2]\n",
    "second_largest"
   ]
  },
  {
   "cell_type": "code",
   "execution_count": null,
   "id": "fd97bc08",
   "metadata": {},
   "outputs": [],
   "source": [
    "# method 3\n",
    "sorted(num_list,reverse=True)[1]"
   ]
  },
  {
   "cell_type": "code",
   "execution_count": null,
   "id": "4f5906fc",
   "metadata": {},
   "outputs": [],
   "source": [
    "# method 4\n",
    "max_1 = num_list[0]\n",
    "max_2 = num_list[1]\n",
    "print(max_1,max_2)\n",
    "\n",
    "if max_1 < max_2:\n",
    "    max_1, max_2 = max_2, max_1\n",
    "    \n",
    "print(max_1,max_2)\n",
    "\n",
    "\n",
    "for n in num_list[2:]:\n",
    "    if n > max_1:\n",
    "        max_2 = max_1\n",
    "        max_1 = n\n",
    "        \n",
    "    elif n > max_2:\n",
    "        max_2 = n\n",
    "        \n",
    "print(max_1,max_2)\n",
    "\n",
    "# max_2 = None\n",
    "# for n in num_list:\n",
    "#     if n > max_1:\n",
    "    \n",
    "#     if max_1 is None:\n",
    "#         max_1 = n\n",
    "    \n",
    "#     if max_1 is not None and max_2 is None:"
   ]
  },
  {
   "cell_type": "markdown",
   "id": "5c3d9fee",
   "metadata": {},
   "source": [
    "**17) List Quiz** \\\n",
    "Which of the following are `not true` about Python lists? (Choose all that may apply)\n",
    "\n",
    "1. There is no limit to the size of a list.\n",
    "2. All elements in a list must be of the same type.\n",
    "3. A list may contain any type of object except another list\n",
    "4. A given object may appear in a list more than once.\n",
    "\n",
    "`answer: Choice 2, is not True. This statement is not relevant to the list data type in python. what it's referring though, is an array.\n",
    "Choice 3, is not True. Alist can contain any object, including another list (nested list).`"
   ]
  },
  {
   "cell_type": "markdown",
   "id": "2a962348",
   "metadata": {},
   "source": [
    "**18) Nested List Indexing** \\\n",
    "Extract the fourth team list from persian_gulf_standing:"
   ]
  },
  {
   "cell_type": "code",
   "execution_count": null,
   "id": "5d33f38c",
   "metadata": {},
   "outputs": [],
   "source": [
    "persian_gulf_standing = [\n",
    "    ['Esteghlel F.C', 1],\n",
    "    ['Sepahan', 2],\n",
    "    ['Perspolis', 3],\n",
    "    ['Gol Gohar', 4],\n",
    "    ['Foolad', 5]\n",
    "]\n",
    "\n",
    "# forth_team = #Code here"
   ]
  },
  {
   "cell_type": "code",
   "execution_count": null,
   "id": "3359d502",
   "metadata": {},
   "outputs": [],
   "source": [
    "# method 1\n",
    "persian_gulf_standing[3][0]"
   ]
  },
  {
   "cell_type": "code",
   "execution_count": null,
   "id": "57c182fd",
   "metadata": {},
   "outputs": [],
   "source": [
    "# method 2\n",
    "forth_team = persian_gulf_standing[:][-2][0] \n",
    "forth_team"
   ]
  },
  {
   "cell_type": "code",
   "execution_count": null,
   "id": "46a13214",
   "metadata": {},
   "outputs": [],
   "source": [
    "# method 3\n",
    "sorted(persian_gulf_standing, key=lambda i: i[1], reverse=True)[1][0]"
   ]
  },
  {
   "cell_type": "markdown",
   "id": "e248bded",
   "metadata": {},
   "source": [
    "**19) List Subset** \\\n",
    "Subset the following lists from color list:"
   ]
  },
  {
   "cell_type": "code",
   "execution_count": null,
   "id": "dbd41544",
   "metadata": {},
   "outputs": [],
   "source": [
    "bl_gr = ['blue', 'green']\n",
    "re_gr_br = ['red', 'green', 'brown']\n",
    "pk_br_yl = ['pink', 'brown', 'yellow']"
   ]
  },
  {
   "cell_type": "code",
   "execution_count": null,
   "id": "d025fb9e",
   "metadata": {},
   "outputs": [],
   "source": [
    "colors = ['red', 'blue', 'green', 'yellow', 'brown', 'pink']"
   ]
  },
  {
   "cell_type": "markdown",
   "id": "0879d697",
   "metadata": {},
   "source": [
    "#### bl_gr = #?"
   ]
  },
  {
   "cell_type": "code",
   "execution_count": null,
   "id": "5ff0b444",
   "metadata": {},
   "outputs": [],
   "source": [
    "bl_gr = colors[1:3]\n",
    "bl_gr"
   ]
  },
  {
   "cell_type": "markdown",
   "id": "3641b1dc",
   "metadata": {},
   "source": [
    "#### re_gr_br = #?"
   ]
  },
  {
   "cell_type": "code",
   "execution_count": null,
   "id": "c0201aa4",
   "metadata": {},
   "outputs": [],
   "source": [
    "# method 1\n",
    "re_gr_br = colors[0:5:2]\n",
    "re_gr_br"
   ]
  },
  {
   "cell_type": "code",
   "execution_count": null,
   "id": "b417870e",
   "metadata": {},
   "outputs": [],
   "source": [
    "# method 2\n",
    "re_gr_br = colors[::2]\n",
    "re_gr_br"
   ]
  },
  {
   "cell_type": "markdown",
   "id": "6ab54e7a",
   "metadata": {},
   "source": [
    "#### pk_br_yl = #?"
   ]
  },
  {
   "cell_type": "code",
   "execution_count": null,
   "id": "f6ad7e27",
   "metadata": {},
   "outputs": [],
   "source": [
    "# method 1\n",
    "pk_br_yl = colors[3:]\n",
    "pk_br_yl"
   ]
  },
  {
   "cell_type": "code",
   "execution_count": null,
   "id": "54112d95",
   "metadata": {},
   "outputs": [],
   "source": [
    "pk_br_yl = colors[-1:-4:-1]\n",
    "pk_br_yl"
   ]
  },
  {
   "cell_type": "markdown",
   "id": "6e1436b5",
   "metadata": {},
   "source": [
    "**20) List Memory Usage** \\\n",
    "Consider the following line of code :\n",
    "\n",
    "a = 300 , b = 124 , mylist = [300, 124, 100]\n",
    "\n",
    "`Answer: 124 is between -5 and 256 and as you know python reserves memory for these numbers and these objects are created only once. So when you have a list with value 124 in it, it doesn't create a new object, Only a pointer point to the address as variable a point. so they have same id But for 300 it creates an object and b points to it. then when you create a list that has a value of 300 in it, it creates a new object with value 300 and it has the list's pointer. so the list pointer and variable b do not point to the same object and they have a different id.`"
   ]
  },
  {
   "cell_type": "code",
   "execution_count": null,
   "id": "22e37a96",
   "metadata": {},
   "outputs": [],
   "source": [
    "mylist = [300, 124, 100]\n",
    "a,b = 300,124"
   ]
  },
  {
   "cell_type": "code",
   "execution_count": null,
   "id": "701bc1d3",
   "metadata": {},
   "outputs": [],
   "source": [
    "print(id(a),id(b),id(mylist[1]))"
   ]
  },
  {
   "cell_type": "code",
   "execution_count": null,
   "id": "f148d8df",
   "metadata": {},
   "outputs": [],
   "source": [
    "id(a) == id(mylist[0]) and id(b) == id(mylist[1])"
   ]
  },
  {
   "cell_type": "code",
   "execution_count": null,
   "id": "ca0d84ce",
   "metadata": {},
   "outputs": [],
   "source": [
    "id(a) == id(mylist[0]) and id(b) != id(mylist[1])"
   ]
  },
  {
   "cell_type": "code",
   "execution_count": null,
   "id": "ffc57fe2",
   "metadata": {},
   "outputs": [],
   "source": [
    "id(a) != id(mylist[0]) and id(b) == id(mylist[1])"
   ]
  },
  {
   "cell_type": "code",
   "execution_count": null,
   "id": "d4351e12",
   "metadata": {},
   "outputs": [],
   "source": [
    "id(a) != id(mylist[0]) and id(b) != id(mylist[1])"
   ]
  },
  {
   "cell_type": "code",
   "execution_count": null,
   "id": "81a12687",
   "metadata": {},
   "outputs": [],
   "source": [
    "id(a) == id(mylist) and id(b) == id(mylist)"
   ]
  },
  {
   "cell_type": "markdown",
   "id": "a2d2eaa4",
   "metadata": {},
   "source": [
    "**21) Delete List items**\n",
    "\n",
    "What is the output of the following code?\n",
    "\n",
    "`answer : []\n",
    "When your index is greater than the number of items in the list, del won't give an error. it removes all elements of the list. it means that it read indexes until the end of your list and then terminates.`"
   ]
  },
  {
   "cell_type": "code",
   "execution_count": null,
   "id": "dc3ac408",
   "metadata": {},
   "outputs": [],
   "source": [
    "inp_list = [10, 20, 30, 40]\n",
    "del inp_list[0:6]\n",
    "print(inp_list)"
   ]
  },
  {
   "cell_type": "markdown",
   "id": "90ebd29d",
   "metadata": {},
   "source": [
    "**22) Replace List Items with New Values** \\\n",
    "Ali put his student's math grades on a list. One of the students has been suspended with a score of 9.75. Today is Ali's birthday and he wants to give 10 to that student. we want you to find the value 9.75 in the given list, and replace it with 10. Only update the first occurrence of the item."
   ]
  },
  {
   "cell_type": "code",
   "execution_count": null,
   "id": "ccdbdcc9",
   "metadata": {},
   "outputs": [],
   "source": [
    "grades = [12, 19, 14, 15, 17.5, 18, 10.25, 9.75, 19, 14, 12, 11.25, 17, 18, 13, 13, 15, 19, 18.5]"
   ]
  },
  {
   "cell_type": "code",
   "execution_count": null,
   "id": "2345a1ee",
   "metadata": {},
   "outputs": [],
   "source": [
    "print(grades)"
   ]
  },
  {
   "cell_type": "code",
   "execution_count": null,
   "id": "b43b0605",
   "metadata": {},
   "outputs": [],
   "source": [
    "# method 1\n",
    "grades_sorted = sorted(grades)\n",
    "print(grades_sorted)"
   ]
  },
  {
   "cell_type": "code",
   "execution_count": null,
   "id": "447e379b",
   "metadata": {},
   "outputs": [],
   "source": [
    "grades_sorted[0] = 10"
   ]
  },
  {
   "cell_type": "code",
   "execution_count": null,
   "id": "de0a0dcf",
   "metadata": {},
   "outputs": [],
   "source": [
    "print(grades_sorted)"
   ]
  },
  {
   "cell_type": "code",
   "execution_count": null,
   "id": "27625027",
   "metadata": {},
   "outputs": [],
   "source": [
    "# method 2\n",
    "\n",
    "# get the first occurrence index\n",
    "index = grades.index(9.75)\n",
    "\n",
    "# update item present at location\n",
    "grades[index] = 10\n",
    "print(grades)"
   ]
  },
  {
   "cell_type": "markdown",
   "id": "df7e99fe",
   "metadata": {},
   "source": [
    "**23) Simple List Indexing** \\\n",
    "Use indexes and print the first, third, and last element of the list below. \\\n",
    "Note: #? is just a comment indicating where you should write your code."
   ]
  },
  {
   "cell_type": "code",
   "execution_count": null,
   "id": "e916f7b5",
   "metadata": {},
   "outputs": [],
   "source": [
    "num_list = [1, 3, 6, 10, 15, 21, 28, 36, 45, 55, 66, 78]\n",
    "# first_element = #? third_element = #? last_element =  #?"
   ]
  },
  {
   "cell_type": "code",
   "execution_count": null,
   "id": "4a7f2996",
   "metadata": {},
   "outputs": [],
   "source": [
    "first_element = num_list[0]\n",
    "first_element"
   ]
  },
  {
   "cell_type": "code",
   "execution_count": null,
   "id": "d7a49391",
   "metadata": {},
   "outputs": [],
   "source": [
    "third_element = num_list[2]\n",
    "third_element"
   ]
  },
  {
   "cell_type": "code",
   "execution_count": null,
   "id": "1a39eff3",
   "metadata": {},
   "outputs": [],
   "source": [
    "last_element = num_list[-1]\n",
    "last_element"
   ]
  },
  {
   "cell_type": "markdown",
   "id": "140cf19a",
   "metadata": {},
   "source": [
    "**24) Tuple: Remove an Item** \\\n",
    "Write a Python program to remove item `\"hafez\"` from a tuple and save it in persian_poets_wo_hafez\n",
    "\n",
    "`Answer: Tuples are immutable, so you can not remove elements.`"
   ]
  },
  {
   "cell_type": "code",
   "execution_count": null,
   "id": "9c3af30d",
   "metadata": {},
   "outputs": [],
   "source": [
    "persian_poets = ('saadi', 'frough', 'hafez', 'parvin', 'saeb')"
   ]
  },
  {
   "cell_type": "code",
   "execution_count": null,
   "id": "175a4a46",
   "metadata": {},
   "outputs": [],
   "source": [
    "type(persian_poets)"
   ]
  },
  {
   "cell_type": "code",
   "execution_count": null,
   "id": "632b6e53",
   "metadata": {},
   "outputs": [],
   "source": [
    "# method 1\n",
    "## Using the merge of tuples with the + operator, you can remove an item, and it will create a new tuple.\n",
    "persian_poets_wo_hafez  = persian_poets[:2] + persian_poets[3:]\n",
    "persian_poets_wo_hafez"
   ]
  },
  {
   "cell_type": "code",
   "execution_count": null,
   "id": "9a4f6030",
   "metadata": {},
   "outputs": [],
   "source": [
    "# method 2\n",
    "## first convert tuple to list\n",
    "persian_poets = list(persian_poets)"
   ]
  },
  {
   "cell_type": "code",
   "execution_count": null,
   "id": "c0d426ed",
   "metadata": {},
   "outputs": [],
   "source": [
    "persian_poets"
   ]
  },
  {
   "cell_type": "code",
   "execution_count": null,
   "id": "56dd9f6f",
   "metadata": {},
   "outputs": [],
   "source": [
    "# use different ways to remove an item of the list\n",
    "persian_poets.remove('hafez')"
   ]
  },
  {
   "cell_type": "code",
   "execution_count": null,
   "id": "3e2d2d17",
   "metadata": {},
   "outputs": [],
   "source": [
    "persian_poets"
   ]
  },
  {
   "cell_type": "code",
   "execution_count": null,
   "id": "cc7acfb2",
   "metadata": {},
   "outputs": [],
   "source": [
    "# converting the tuple to list\n",
    "persian_poets_wo_hafez = tuple(persian_poets)\n",
    "persian_poets_wo_hafez"
   ]
  },
  {
   "cell_type": "code",
   "execution_count": null,
   "id": "6c29e7ab",
   "metadata": {},
   "outputs": [],
   "source": [
    "# wo_hafez = tuple(list(persian_poets).remove(\"hafez\"))\n",
    "# wo_hafez"
   ]
  },
  {
   "cell_type": "markdown",
   "id": "6014863e",
   "metadata": {},
   "source": [
    "**25) Simple Tuple Indexing 2** \\\n",
    "Copy specific elements from one tuple to a new tuple\\\n",
    "Write a program to copy elements 44 and 55 from the following tuple into a new tuple. tuple2 = (44, 55)"
   ]
  },
  {
   "cell_type": "code",
   "execution_count": null,
   "id": "fc590bed",
   "metadata": {},
   "outputs": [],
   "source": [
    "tuple1 = (11, 22, 33, 44, 55, 66)"
   ]
  },
  {
   "cell_type": "code",
   "execution_count": null,
   "id": "94fe2ed4",
   "metadata": {},
   "outputs": [],
   "source": [
    "# method 1\n",
    "tuple2 = tuple1[3:5]\n",
    "tuple2"
   ]
  },
  {
   "cell_type": "code",
   "execution_count": null,
   "id": "f2adb0fb",
   "metadata": {},
   "outputs": [],
   "source": [
    "# method 2\n",
    "tuple2 = tuple1[3:-1]\n",
    "print(tuple2)"
   ]
  },
  {
   "cell_type": "markdown",
   "id": "bf66cd74",
   "metadata": {},
   "source": [
    "**26) Unpack Tuple** \\\n",
    "Unpack the tuple into 4 variables.\\\n",
    "Write a program to unpack the following tuple into four variables: sohrab faramarz jahangir siyavash"
   ]
  },
  {
   "cell_type": "code",
   "execution_count": null,
   "id": "f737a8d5",
   "metadata": {},
   "outputs": [],
   "source": [
    "shahnameh_tuple = ('Sohrab', 'Faramarz', 'Jahangir', 'Siyavash')\n",
    "#write your code here"
   ]
  },
  {
   "cell_type": "code",
   "execution_count": null,
   "id": "c553797f",
   "metadata": {},
   "outputs": [],
   "source": [
    "sohrab,faramarz,jahangir,siyavash = shahnameh_tuple"
   ]
  },
  {
   "cell_type": "code",
   "execution_count": null,
   "id": "abadce73",
   "metadata": {},
   "outputs": [],
   "source": [
    "sohrab"
   ]
  },
  {
   "cell_type": "code",
   "execution_count": null,
   "id": "850a568c",
   "metadata": {},
   "outputs": [],
   "source": [
    "faramarz"
   ]
  },
  {
   "cell_type": "code",
   "execution_count": null,
   "id": "136d18db",
   "metadata": {},
   "outputs": [],
   "source": [
    "jahangir"
   ]
  },
  {
   "cell_type": "code",
   "execution_count": null,
   "id": "c50172ee",
   "metadata": {},
   "outputs": [],
   "source": [
    "siyavash"
   ]
  },
  {
   "cell_type": "markdown",
   "id": "4cbaea67",
   "metadata": {},
   "source": [
    "**27) Reverse Tuple** \\\n",
    "Reverse the following tuple and save it in reverse_num_tup :"
   ]
  },
  {
   "cell_type": "code",
   "execution_count": null,
   "id": "efdb11e8",
   "metadata": {},
   "outputs": [],
   "source": [
    "num_tup = (10, 20, 30, 40, 50)\n",
    "# reverse_num_tup = #?"
   ]
  },
  {
   "cell_type": "code",
   "execution_count": null,
   "id": "8ce3b07e",
   "metadata": {},
   "outputs": [],
   "source": [
    "reverse_num_tup = num_tup[::-1]\n",
    "reverse_num_tup"
   ]
  },
  {
   "cell_type": "markdown",
   "id": "8dc512ca",
   "metadata": {},
   "source": [
    "**28) Simple Tuple Indexing** \\\n",
    "For the `mixed_tuple` variable defined below:\n",
    "1) Access value 20 from the mixed_tuple\n",
    "2) Access the charachter \"g\" from the mixed_tuple \n",
    "3) The given tuple is a nested one. Write a Python program that prints the value 20 with indexing."
   ]
  },
  {
   "cell_type": "code",
   "execution_count": null,
   "id": "63274abd",
   "metadata": {},
   "outputs": [],
   "source": [
    "mixed_tuple = (\"Orange\", [10, 20, 30], (5, 15, 25))"
   ]
  },
  {
   "cell_type": "code",
   "execution_count": null,
   "id": "9d50a6f3",
   "metadata": {},
   "outputs": [],
   "source": [
    "# answer 1\n",
    "mixed_tuple[1][1]"
   ]
  },
  {
   "cell_type": "code",
   "execution_count": null,
   "id": "c1b2f5cf",
   "metadata": {},
   "outputs": [],
   "source": [
    "# answer 2\n",
    "# method 1\n",
    "mixed_tuple[0][4]"
   ]
  },
  {
   "cell_type": "code",
   "execution_count": null,
   "id": "15e2dc12",
   "metadata": {},
   "outputs": [],
   "source": [
    "# answer 2\n",
    "# method 2\n",
    "mixed_tuple[0][-2]"
   ]
  },
  {
   "cell_type": "code",
   "execution_count": null,
   "id": "c6baadff",
   "metadata": {},
   "outputs": [],
   "source": [
    "# answer 3\n",
    "mixed_tuple.index([10,20,30])"
   ]
  },
  {
   "cell_type": "markdown",
   "id": "ba748c79",
   "metadata": {},
   "source": [
    "**29) Building a Dictionary Incrementally** \\\n",
    "First use `{}` to create an empty dictionary named bmw, then add a `\"red\"` value to the bmw dictionary for the `\"color\"` key."
   ]
  },
  {
   "cell_type": "code",
   "execution_count": null,
   "id": "8c6d14fa",
   "metadata": {},
   "outputs": [],
   "source": [
    "bmw = {}"
   ]
  },
  {
   "cell_type": "code",
   "execution_count": null,
   "id": "3ce17c7f",
   "metadata": {},
   "outputs": [],
   "source": [
    "# method 1\n",
    "bmw = {'color':'red'}"
   ]
  },
  {
   "cell_type": "code",
   "execution_count": null,
   "id": "ba44fccf",
   "metadata": {},
   "outputs": [],
   "source": [
    "bmw"
   ]
  },
  {
   "cell_type": "code",
   "execution_count": null,
   "id": "f5b2fccf",
   "metadata": {},
   "outputs": [],
   "source": [
    "# method 2\n",
    "bmw['color'] = 'red'"
   ]
  },
  {
   "cell_type": "code",
   "execution_count": null,
   "id": "cd0c658d",
   "metadata": {},
   "outputs": [],
   "source": [
    "bmw"
   ]
  },
  {
   "cell_type": "markdown",
   "id": "2c83c93b",
   "metadata": {},
   "source": [
    "**30) Restrictions on Dictionary Keys and Values** \\\n",
    "Which of the following options defines a dictionary incorrectly: \\\n",
    "(Set the variable `q9_answer` to the option number you choose to answer this question)\n",
    "\n",
    "1. foo = {1: 'aaaa', 3.14: 'bbbb', 6.18: 'ccc'}\n",
    "2. foo = {[1, 3.14]: 'a', [2, 6.28]: 'b'}\n",
    "3. foo = {(1, 3.14): 'a', (2, 12.56): 'b'}\n",
    "4. foo = {dict: [], float: 2, int: 3.14}\n",
    "\n",
    "`q9_answer = 2`"
   ]
  },
  {
   "cell_type": "markdown",
   "id": "155910de",
   "metadata": {},
   "source": [
    "**31) Dictionary get() method 1** \\\n",
    "You can access the value of the dictionaty using `.get()` method:\n",
    "\n",
    "syntax:\\\n",
    "`dictionary.get(keyname)`\n",
    "\n",
    "for example:\n"
   ]
  },
  {
   "cell_type": "code",
   "execution_count": null,
   "id": "3a3855e5",
   "metadata": {},
   "outputs": [],
   "source": [
    "rostam_data = {\n",
    "    \"name\": \"Rostam\",\n",
    "    \"nationality\": \"Turanian\",\n",
    "    \"father\": \"Zal\" ,\n",
    "    \"mother\": \"Rudaabeh\",\n",
    "    \"spouse\": \"Tahmineh\",\n",
    "    \"grandfather\": \"Sam\",\n",
    "    \"delivery\": \"C-Section\",\n",
    "    \"POB\": \"Zabol\",\n",
    "    \"POD\" : \"Kabul\"\n",
    "    }\n",
    "rostam_data.get('father')"
   ]
  },
  {
   "cell_type": "markdown",
   "id": "eb569c45",
   "metadata": {},
   "source": [
    "According to the `Shahnameh`, the Simurgh instructed `Zal` upon how to perform a caesarean section, thus saving `Rudaba and the child Rostam`. In Persian literature ceaserean section is known as Rostamina.\n",
    "Please **print the type of birth** (delivery) of Rostam using the `get()` method"
   ]
  },
  {
   "cell_type": "code",
   "execution_count": null,
   "id": "11442d03",
   "metadata": {},
   "outputs": [],
   "source": [
    "print(rostam_data.get('delivery'))"
   ]
  },
  {
   "cell_type": "markdown",
   "id": "588f2f60",
   "metadata": {},
   "source": [
    "**32) Dictionary get() method 2** \\\n",
    "The .get() method allows us to retrieve the value of the wanted key from the dictionary while also preventing an error if the key is not found in the dictionary. and receive the previously set default value. For example, suppose we have a dictionary of students and their math score\n",
    "\n",
    "```python\n",
    "math = {\n",
    "    'abtin': 19,\n",
    "    'laleh': 20,\n",
    "    'mehri': 18,\n",
    "    }\n",
    "\n",
    "```\n",
    "\n",
    "If we do not know exactly which students are in the dictionary and, for example, if we want to read Kamran's math grade, then we will encounter an error."
   ]
  },
  {
   "cell_type": "code",
   "execution_count": null,
   "id": "22bdf351",
   "metadata": {},
   "outputs": [],
   "source": [
    "math = {\n",
    "    'abtin': 19,\n",
    "    'laleh': 20,\n",
    "    'mehri': 18,\n",
    "    }"
   ]
  },
  {
   "cell_type": "code",
   "execution_count": null,
   "id": "9ce39a3a",
   "metadata": {},
   "outputs": [],
   "source": [
    "# math['kamran']"
   ]
  },
  {
   "cell_type": "code",
   "execution_count": null,
   "id": "7536cdee",
   "metadata": {},
   "outputs": [],
   "source": [
    "math.get('kamran')"
   ]
  },
  {
   "cell_type": "markdown",
   "id": "39afd11b",
   "metadata": {},
   "source": [
    "We can add a value to the `.get()` method to return that value if the requested key does not exist.\n",
    "syntax:"
   ]
  },
  {
   "cell_type": "code",
   "execution_count": null,
   "id": "7533581f",
   "metadata": {},
   "outputs": [],
   "source": [
    "# dictionary.get(keyname, <value>)"
   ]
  },
  {
   "cell_type": "markdown",
   "id": "fe45f850",
   "metadata": {},
   "source": [
    "A to return if the specified key does not exist. Default value is None"
   ]
  },
  {
   "cell_type": "code",
   "execution_count": null,
   "id": "7039ed1b",
   "metadata": {},
   "outputs": [],
   "source": [
    "math.get('kamran', 666)"
   ]
  },
  {
   "cell_type": "code",
   "execution_count": null,
   "id": "b2ccada5",
   "metadata": {},
   "outputs": [],
   "source": [
    "math.get('laleh',666)"
   ]
  },
  {
   "cell_type": "markdown",
   "id": "fe7cb403",
   "metadata": {},
   "source": [
    "The following dictionary is based on the book Shahnameh by Abolghasem Ferdowsi, a famous Iranian poet:"
   ]
  },
  {
   "cell_type": "code",
   "execution_count": null,
   "id": "f4ed63c8",
   "metadata": {},
   "outputs": [],
   "source": [
    "rostam_data = {\n",
    "    \"name\": \"Rostam\",\n",
    "    \"nationality\": \"Turanian\",\n",
    "    \"father\": \"Zal\" ,\n",
    "    \"mother\": \"Rudaabeh\",\n",
    "    \"spouse\": \"Tahmineh\",\n",
    "    \"grandfather\": \"Sam\",\n",
    "    \"delivery\": \"C-Section\",\n",
    "    \"POB\": \"Zabol\",\n",
    "    \"POD\" : \"Kabul\"\n",
    "    }"
   ]
  },
  {
   "cell_type": "code",
   "execution_count": null,
   "id": "eca90d96",
   "metadata": {},
   "outputs": [],
   "source": [
    "rostam_data"
   ]
  },
  {
   "cell_type": "markdown",
   "id": "c1ceed1f",
   "metadata": {},
   "source": [
    "Because Rostam's `\"date of birth\"` might **not be in our dictionary**, use one of the `.get()` methods to print Rostam's date of birth and ensure that if Rostam's date of birth does not exist, the number `-87` is printed and no error occurs."
   ]
  },
  {
   "cell_type": "code",
   "execution_count": null,
   "id": "42cafd36",
   "metadata": {},
   "outputs": [],
   "source": [
    "print(rostam_data.get(\"data of birth\", -87))"
   ]
  },
  {
   "cell_type": "markdown",
   "id": "19e6a8a3",
   "metadata": {},
   "source": [
    "**33) Accessing Dictionary Values 1** \\\n",
    "The following dictionary is based on the book **Shahnameh** by **Abolghasem Ferdowsi,** a famous Iranian poet.\n",
    "According to the dictionary below, print the name of Rostam's mother and wife using a single print() function."
   ]
  },
  {
   "cell_type": "code",
   "execution_count": null,
   "id": "1128efa8",
   "metadata": {},
   "outputs": [],
   "source": [
    "rostam_data = {\n",
    "    \"name\": \"Rostam\",\n",
    "    \"nationality\": \"Turanian\",\n",
    "    \"father\": \"Zal\" ,\n",
    "    \"mother\": \"Rudaabeh\",\n",
    "    \"spouse\": \"Tahmineh\",\n",
    "    \"grandfather\": \"Sam\",\n",
    "    \"delivery\": \"C-Section\",\n",
    "    \"POB\": \"Zabol\",\n",
    "    \"POD\" : \"Kabul\"\n",
    "    }"
   ]
  },
  {
   "cell_type": "code",
   "execution_count": null,
   "id": "c9751780",
   "metadata": {},
   "outputs": [],
   "source": [
    "rostam_data"
   ]
  },
  {
   "cell_type": "code",
   "execution_count": null,
   "id": "85fa3204",
   "metadata": {},
   "outputs": [],
   "source": [
    "# print the name of Rostam's mother and wife using a single print() function.\n",
    "print(f\"the name of Rostams mother's and wife is {rostam_data['mother'],rostam_data['spouse']}\")"
   ]
  },
  {
   "cell_type": "code",
   "execution_count": null,
   "id": "bc4ecd82",
   "metadata": {},
   "outputs": [],
   "source": [
    "print(f\"mother's name: {rostam_data['mother']}, rostam's wife:{rostam_data['spouse']}\")"
   ]
  },
  {
   "cell_type": "markdown",
   "id": "abbd3a42",
   "metadata": {},
   "source": [
    "**34) Accessing Dictionary Values 2** \\\n",
    "The following dictionary is based on the book **Shahnameh** by **Abolghasem Ferdowsi**, a famous Iranian poet.\n",
    "**Rostam** nationality has been registered as a **Turanian**. Please change **Rostam** nationality to **Iranian.**"
   ]
  },
  {
   "cell_type": "code",
   "execution_count": null,
   "id": "7fe734f1",
   "metadata": {},
   "outputs": [],
   "source": [
    "rostam_data = {\n",
    "    \"name\": \"Rostam\",\n",
    "    \"nationality\": \"Turanian\",\n",
    "    \"father\": \"Zal\" ,\n",
    "    \"mother\": \"Rudaabeh\",\n",
    "    \"spouse\": \"Tahmineh\",\n",
    "    \"grandfather\": \"Sam\",\n",
    "    \"delivery\": \"C-Section\",\n",
    "    \"POB\": \"Zabol\",\n",
    "    \"POD\" : \"Kabul\"\n",
    "    }"
   ]
  },
  {
   "cell_type": "code",
   "execution_count": null,
   "id": "473a5773",
   "metadata": {},
   "outputs": [],
   "source": [
    "rostam_data"
   ]
  },
  {
   "cell_type": "code",
   "execution_count": null,
   "id": "2d20742a",
   "metadata": {},
   "outputs": [],
   "source": [
    "rostam_data['nationality'] = 'Iranian'"
   ]
  },
  {
   "cell_type": "code",
   "execution_count": null,
   "id": "932346d5",
   "metadata": {},
   "outputs": [],
   "source": [
    "rostam_data"
   ]
  },
  {
   "cell_type": "markdown",
   "id": "d177253a",
   "metadata": {},
   "source": [
    "**35) Accessing Dictionary Values 3** \\\n",
    "The following dictionary is based on the book **Shahnameh** by **Abolghasem Ferdowsi,** a famous Iranian poet.\n",
    "Rostam's children were **Sohrab, Faramarz, Jahangir, Siyavash,** and **Banu-Goshasp.** Please add a list of Rostam's children's names with the key childrens to rostam_data dictionary."
   ]
  },
  {
   "cell_type": "code",
   "execution_count": null,
   "id": "71956b59",
   "metadata": {},
   "outputs": [],
   "source": [
    "rostam_data = {\n",
    "    \"name\": \"Rostam\",\n",
    "    \"nationality\": \"Turanian\",\n",
    "    \"father\": \"Zal\" ,\n",
    "    \"mother\": \"Rudaabeh\",\n",
    "    \"spouse\": \"Tahmineh\",\n",
    "    \"grandfather\": \"Sam\",\n",
    "    \"delivery\": \"C-Section\",\n",
    "    \"POB\": \"Zabol\",\n",
    "    \"POD\" : \"Kabul\"\n",
    "    }"
   ]
  },
  {
   "cell_type": "code",
   "execution_count": null,
   "id": "5e26b8d7",
   "metadata": {},
   "outputs": [],
   "source": [
    "rostam_data[\"Rostam's children\"] = [\"Sohrab\", \"Faramarz\", \"Jahangir\", \"Siyavash\",\"Banu-Goshasp\"]"
   ]
  },
  {
   "cell_type": "code",
   "execution_count": null,
   "id": "06d801d8",
   "metadata": {},
   "outputs": [],
   "source": [
    "rostam_data"
   ]
  },
  {
   "cell_type": "code",
   "execution_count": null,
   "id": "85b8537d",
   "metadata": {},
   "outputs": [],
   "source": [
    "# del rostam_data['POD']\n",
    "# rostam_data.pop('name')\n",
    "rostam_data\n",
    "# dir(rostam_data)"
   ]
  },
  {
   "cell_type": "code",
   "execution_count": null,
   "id": "67d526c7",
   "metadata": {},
   "outputs": [],
   "source": [
    "rostam_data = ['Rostam','Zal','Sam']\n",
    "\n",
    "while rostam_data:\n",
    "    value = rostam_data.pop()\n",
    "    print(value)\n",
    "\n",
    "print(rostam_data)"
   ]
  },
  {
   "cell_type": "markdown",
   "id": "b52fb30f",
   "metadata": {},
   "source": [
    "**36) Convert a list to a dictionary** \\\n",
    "You can also construct a dictionary with the built-in `dict()` function. The argument to `dict()` should be a sequence of key-value pairs.\n",
    "We have a list called `persian_gulf_standing` that contains pairs, the name of the football team and its position in the `Iranian Football Premier League` (Persian Gulf). We ask you to convert the following list into a dictionary with the same name based on the description provided."
   ]
  },
  {
   "cell_type": "code",
   "execution_count": null,
   "id": "106160ff",
   "metadata": {},
   "outputs": [],
   "source": [
    "persian_gulf_standing = [\n",
    "    ['Esteghlel F.C', 1],\n",
    "    ['Sepahan', 2],\n",
    "    ['Perspolis', 3],\n",
    "    ['Gol Gohar', 4],\n",
    "    ['Foolad', 5]\n",
    "]"
   ]
  },
  {
   "cell_type": "code",
   "execution_count": null,
   "id": "7498eadd",
   "metadata": {},
   "outputs": [],
   "source": [
    "type(persian_gulf_standing)"
   ]
  },
  {
   "cell_type": "code",
   "execution_count": null,
   "id": "ed8b7ef4",
   "metadata": {},
   "outputs": [],
   "source": [
    "persian_gulf_standing = dict(persian_gulf_standing)"
   ]
  },
  {
   "cell_type": "code",
   "execution_count": null,
   "id": "543c2ad9",
   "metadata": {},
   "outputs": [],
   "source": [
    "type(persian_gulf_standing)"
   ]
  },
  {
   "cell_type": "markdown",
   "id": "1a1d741e",
   "metadata": {},
   "source": [
    "**37) Arash site users** \\\n",
    "Arash has a list of site users and wants to save them using one of the Python data structures. Initially, he intended to create a list of his users. However, we explained to him that while adding and deleting items at the end of the list is quick, doing so at the beginning of the list is slow because all of the other items must be shifted. Finally, we advised him to use a dictionary because hashes allow him to access all data in a short period of time.\n",
    "\n",
    "Arash users information is available below:\n",
    "\n",
    "id\tname\tfamily \\\n",
    "1\tKourosh\tKouroshi \\\n",
    "2\tShirin\tShirini \\\n",
    "\n",
    "\n",
    "Please help him put them in a dictionary called `arash_users.` In such a way that it has access to the information of its users via `id.` for example:"
   ]
  },
  {
   "cell_type": "code",
   "execution_count": null,
   "id": "72e931c0",
   "metadata": {},
   "outputs": [],
   "source": [
    "arash_users = [[\"Kourosh\",\"Kouroshi\"],[\"Shirin\",\"Shirini\"]]"
   ]
  },
  {
   "cell_type": "code",
   "execution_count": null,
   "id": "2aeb37df",
   "metadata": {},
   "outputs": [],
   "source": [
    "arash_users"
   ]
  },
  {
   "cell_type": "code",
   "execution_count": null,
   "id": "bce915bc",
   "metadata": {},
   "outputs": [],
   "source": [
    "type(arash_users)"
   ]
  },
  {
   "cell_type": "code",
   "execution_count": null,
   "id": "0744e699",
   "metadata": {},
   "outputs": [],
   "source": [
    "arash_users = dict(arash_users)"
   ]
  },
  {
   "cell_type": "code",
   "execution_count": null,
   "id": "cf38c0c2",
   "metadata": {},
   "outputs": [],
   "source": [
    "arash_users['Shirin']"
   ]
  },
  {
   "cell_type": "code",
   "execution_count": null,
   "id": "df4c00a5",
   "metadata": {},
   "outputs": [],
   "source": [
    "arash_users = {\n",
    "    1: {'name': 'Kourosh','family':'Kouroshi'},\n",
    "    2: {'name': 'Shirin','family':'shirini'},\n",
    "}"
   ]
  },
  {
   "cell_type": "code",
   "execution_count": null,
   "id": "6d472ede",
   "metadata": {},
   "outputs": [],
   "source": [
    "arash_users"
   ]
  },
  {
   "cell_type": "code",
   "execution_count": null,
   "id": "67133ca8",
   "metadata": {},
   "outputs": [],
   "source": [
    "arash_users[1]['name']"
   ]
  },
  {
   "cell_type": "markdown",
   "id": "c8e2d861",
   "metadata": {},
   "source": [
    "**38) A deeper look at the dictionary**\n",
    "\n",
    "Which of the following **does not describe** a dictionary? \\\n",
    "(Set the variable `q1_answer` to the option number you choose to answer this question.)\n",
    "\n",
    "1) Dictionary is mutable.\n",
    "2) Dictionary is dynamic. It can grow and shrink as needed.\n",
    "3) Dictionary can be nested. A dictionary can contain another dictionary. A dictionary can also contain a list, and vice versa.\n",
    "4) Dictionary elements are accessed by their position in the dictionary, via `indexing`\n",
    "\n",
    "`answer: 4`"
   ]
  },
  {
   "cell_type": "markdown",
   "id": "9e772242",
   "metadata": {},
   "source": [
    "**39) Set operations**\n",
    "\n",
    "- Make a set of **multiples of 3** and name it <font color=red>**X**</font>."
   ]
  },
  {
   "cell_type": "code",
   "execution_count": null,
   "id": "6ceae231",
   "metadata": {},
   "outputs": [],
   "source": [
    "X = {1,3,6,9,12,15}"
   ]
  },
  {
   "cell_type": "code",
   "execution_count": null,
   "id": "083df373",
   "metadata": {},
   "outputs": [],
   "source": [
    "n = 3\n",
    "m_3 = set(list(range(n,100,n)))\n",
    "print(m_3)"
   ]
  },
  {
   "cell_type": "markdown",
   "id": "b7a5e07d",
   "metadata": {},
   "source": [
    "- Make a set of **multiples of 5** and name it <font color=red>**Y**</font>."
   ]
  },
  {
   "cell_type": "code",
   "execution_count": null,
   "id": "177d910e",
   "metadata": {},
   "outputs": [],
   "source": [
    "Y = {1,5,10,15,20,25}"
   ]
  },
  {
   "cell_type": "code",
   "execution_count": null,
   "id": "1b145b56",
   "metadata": {},
   "outputs": [],
   "source": [
    "n = 5\n",
    "m_5 = set(list(range(n,100,n)))\n",
    "m_5"
   ]
  },
  {
   "cell_type": "markdown",
   "id": "7b0028e4",
   "metadata": {},
   "source": [
    "- baraye namayesh mazareb 5 ke dar mazareb 3 nistand"
   ]
  },
  {
   "cell_type": "code",
   "execution_count": null,
   "id": "dbe2c27e",
   "metadata": {},
   "outputs": [],
   "source": [
    "print(m_3 - m_5)"
   ]
  },
  {
   "cell_type": "code",
   "execution_count": null,
   "id": "0b1263d2",
   "metadata": {},
   "outputs": [],
   "source": [
    "import itertools\n",
    "g = itertools.count(5,5)"
   ]
  },
  {
   "cell_type": "code",
   "execution_count": null,
   "id": "70ce9c82",
   "metadata": {},
   "outputs": [],
   "source": [
    "next(g)"
   ]
  },
  {
   "cell_type": "markdown",
   "id": "1b993107",
   "metadata": {},
   "source": [
    "- Can you find the **multiples of 15** using the <font color=red>**UNION** >> **&**</font> operator and store it in variable <font color=red>**Z1**</font>? "
   ]
  },
  {
   "cell_type": "code",
   "execution_count": null,
   "id": "e23d4456",
   "metadata": {},
   "outputs": [],
   "source": [
    "# in operator fght beyne do ta set tarif mishavad\n",
    "Z1 = X & Y\n",
    "Z1"
   ]
  },
  {
   "cell_type": "markdown",
   "id": "71c58852",
   "metadata": {},
   "source": [
    "- Can you find the **multiples of 15** using the <font color=red>**intersection()**</font> method and store it in variable <font color=red>**Z2**</font>?\n"
   ]
  },
  {
   "cell_type": "code",
   "execution_count": null,
   "id": "0661952b",
   "metadata": {},
   "outputs": [],
   "source": [
    "X | Y"
   ]
  },
  {
   "cell_type": "code",
   "execution_count": null,
   "id": "862080c5",
   "metadata": {},
   "outputs": [],
   "source": [
    "Z2 = X.intersection(Y)\n",
    "Z2"
   ]
  },
  {
   "cell_type": "markdown",
   "id": "20a21472",
   "metadata": {},
   "source": [
    "- Then find the multiples of 5 that are not divisible by 3. (hint: use the operator - or use the <font color=red>**difference()**</font> method)\n"
   ]
  },
  {
   "cell_type": "code",
   "execution_count": null,
   "id": "51e5992a",
   "metadata": {},
   "outputs": [],
   "source": [
    "Y - X"
   ]
  },
  {
   "cell_type": "code",
   "execution_count": null,
   "id": "2dc7a121",
   "metadata": {},
   "outputs": [],
   "source": [
    "# vorodi in operation beyne mitavanad set ya har iterable digari bashad\n",
    "Y.difference(X)"
   ]
  },
  {
   "cell_type": "markdown",
   "id": "c5df1e62",
   "metadata": {},
   "source": [
    "- after that use the <font color=red>**+**</font> operators or the <font color=red>**union()**</font> method to make a list of numbers that are either divisible by 5 **or** divisible by 3, **or** divisible by both."
   ]
  },
  {
   "cell_type": "code",
   "execution_count": null,
   "id": "b5bb0f4a",
   "metadata": {},
   "outputs": [],
   "source": [
    "X.union(Y)"
   ]
  },
  {
   "cell_type": "markdown",
   "id": "c8b88114",
   "metadata": {},
   "source": [
    "**40) Add an element to the set**\n",
    "\n",
    "Oops! apparently one of the prime numbers below One thousand, 997, is missing. Can you add it to <font color=red>**primes**</font> vaiable? Then check to see if 997 is in primes variable."
   ]
  },
  {
   "cell_type": "code",
   "execution_count": null,
   "id": "f7216257",
   "metadata": {},
   "outputs": [],
   "source": [
    "primes = {2, 3, 5, 7, 11, 13, 17, 19, 23, 29, 31, 37, 41,\n",
    "          43, 47, 53, 59, 61, 67, 71, 73, 79, 83, 89, 97,\n",
    "          101, 103, 107, 109, 113, 127, 131, 137, 139, 149,\n",
    "          151, 157, 163, 167, 173, 179, 181, 191, 193, 197,\n",
    "          199, 211, 223, 227, 229, 233, 239, 241, 251, 257,\n",
    "          263, 269, 271, 277, 281, 283, 293, 307, 311, 313,\n",
    "          317, 331, 337, 347, 349, 353, 359, 367, 373, 379,\n",
    "          383, 389, 397, 401, 409, 419, 421, 431, 433, 439,\n",
    "          443, 449, 457, 461, 463, 467, 479, 487, 491, 499,\n",
    "          503, 509, 521, 523, 541, 547, 557, 563, 569, 571,\n",
    "          577, 587, 593, 599, 601, 607, 613, 617, 619, 631,\n",
    "          641, 643, 647, 653, 659, 661, 673, 677, 683, 691,\n",
    "          701, 709, 719, 727, 733, 739, 743, 751, 757, 761,\n",
    "          769, 773, 787, 797, 809, 811, 821, 823, 827, 829,\n",
    "          839, 853, 857, 859, 863, 877, 881, 883, 887, 907,\n",
    "          911, 919, 929, 937, 941, 947, 953, 967, 971, 977,\n",
    "          983, 991}"
   ]
  },
  {
   "cell_type": "code",
   "execution_count": null,
   "id": "891b870e",
   "metadata": {},
   "outputs": [],
   "source": [
    "print(primes)"
   ]
  },
  {
   "cell_type": "code",
   "execution_count": null,
   "id": "068ea72a",
   "metadata": {},
   "outputs": [],
   "source": [
    "# output be sorate inplace anjam mishavad\n",
    "# append in list -- add in set\n",
    "# extend in list -- update in set\n",
    "# dar set order matrah nist\n",
    "primes.add(997)"
   ]
  },
  {
   "cell_type": "code",
   "execution_count": null,
   "id": "97ecbf06",
   "metadata": {},
   "outputs": [],
   "source": [
    "print(primes)"
   ]
  },
  {
   "cell_type": "code",
   "execution_count": null,
   "id": "48ccaafc",
   "metadata": {},
   "outputs": [],
   "source": [
    "997 in primes"
   ]
  },
  {
   "cell_type": "markdown",
   "id": "ad0568a9",
   "metadata": {},
   "source": [
    "**41) A list or a set, ay there's the point**\n",
    "\n",
    "The following is a set of prime numbers **less than 1000.** Can you check to see if the numbers **463, 149,** and **973** are prime? **Which is better for determining the presence or absence of an item in a group of items, a list or a set?**\n",
    "\n",
    "`answer: set`"
   ]
  },
  {
   "cell_type": "code",
   "execution_count": null,
   "id": "cdd28ab7",
   "metadata": {},
   "outputs": [],
   "source": [
    "primes = {2, 3, 5, 7, 11, 13, 17, 19, 23, 29, 31, 37, 41,\n",
    "          43, 47, 53, 59, 61, 67, 71, 73, 79, 83, 89, 97,\n",
    "          101, 103, 107, 109, 113, 127, 131, 137, 139, 149,\n",
    "          151, 157, 163, 167, 173, 179, 181, 191, 193, 197,\n",
    "          199, 211, 223, 227, 229, 233, 239, 241, 251, 257,\n",
    "          263, 269, 271, 277, 281, 283, 293, 307, 311, 313,\n",
    "          317, 331, 337, 347, 349, 353, 359, 367, 373, 379,\n",
    "          383, 389, 397, 401, 409, 419, 421, 431, 433, 439,\n",
    "          443, 449, 457, 461, 463, 467, 479, 487, 491, 499,\n",
    "          503, 509, 521, 523, 541, 547, 557, 563, 569, 571,\n",
    "          577, 587, 593, 599, 601, 607, 613, 617, 619, 631,\n",
    "          641, 643, 647, 653, 659, 661, 673, 677, 683, 691,\n",
    "          701, 709, 719, 727, 733, 739, 743, 751, 757, 761,\n",
    "          769, 773, 787, 797, 809, 811, 821, 823, 827, 829,\n",
    "          839, 853, 857, 859, 863, 877, 881, 883, 887, 907,\n",
    "          911, 919, 929, 937, 941, 947, 953, 967, 971, 977,\n",
    "          983, 991}\n",
    "check_13 = 13 in primes\n",
    "print(\"13 is prime: \",check_13)"
   ]
  },
  {
   "cell_type": "code",
   "execution_count": null,
   "id": "d52e6032",
   "metadata": {},
   "outputs": [],
   "source": [
    "check_463 = 463 in primes\n",
    "check_149 = 149 in primes\n",
    "check_973 = 973 in primes"
   ]
  },
  {
   "cell_type": "code",
   "execution_count": null,
   "id": "5f841694",
   "metadata": {},
   "outputs": [],
   "source": [
    "print(check_149,check_463,check_973)"
   ]
  },
  {
   "cell_type": "code",
   "execution_count": null,
   "id": "755f7a9b",
   "metadata": {},
   "outputs": [],
   "source": [
    "# magic command >> %timeit\n",
    "%timeit 463 in primes"
   ]
  },
  {
   "cell_type": "code",
   "execution_count": null,
   "id": "f5efb35c",
   "metadata": {},
   "outputs": [],
   "source": [
    "# magic command >> %timeit\n",
    "%timeit 1 in primes"
   ]
  },
  {
   "cell_type": "code",
   "execution_count": null,
   "id": "afb86b25",
   "metadata": {},
   "outputs": [],
   "source": [
    "# magic command >> %timeit\n",
    "%timeit 3 in primes"
   ]
  },
  {
   "cell_type": "markdown",
   "id": "5bc53d88",
   "metadata": {},
   "source": [
    "- `har che data dar list bishtar bashad cond hodan va afzayesh zaman ejra barname bishtar mishavad.`"
   ]
  },
  {
   "cell_type": "code",
   "execution_count": null,
   "id": "a264f2a6",
   "metadata": {},
   "outputs": [],
   "source": [
    "# magic command >> %timeit\n",
    "%timeit 468 in primes"
   ]
  },
  {
   "cell_type": "code",
   "execution_count": null,
   "id": "f9f0e01b",
   "metadata": {},
   "outputs": [],
   "source": [
    "# magic command >> %timeit\n",
    "%timeit 908 in primes"
   ]
  },
  {
   "cell_type": "code",
   "execution_count": null,
   "id": "8dba10e5",
   "metadata": {},
   "outputs": [],
   "source": [
    "primes_list = list(primes)\n",
    "print(primes_list)"
   ]
  },
  {
   "cell_type": "code",
   "execution_count": null,
   "id": "a3455772",
   "metadata": {},
   "outputs": [],
   "source": [
    "def func(\n",
    "    a, b, c, num,\n",
    "    *args,\n",
    "    **kwargs\n",
    "):\n",
    "    return a + b"
   ]
  },
  {
   "cell_type": "markdown",
   "id": "bb9f927d",
   "metadata": {},
   "source": [
    "**42) One-digit prime numbers**\n",
    "\n",
    "Create a Set of one-digit prime numbers and store it in the primes variable and print it."
   ]
  },
  {
   "cell_type": "code",
   "execution_count": null,
   "id": "bfe36f9d",
   "metadata": {},
   "outputs": [],
   "source": [
    "primes = {2,3,5,7}"
   ]
  },
  {
   "cell_type": "code",
   "execution_count": null,
   "id": "ea375fdc",
   "metadata": {},
   "outputs": [],
   "source": [
    "# show two digit\n",
    "n = 2\n",
    "\n",
    "for num in range(10**(n-1),10**(n)):\n",
    "    print(num,end=' ')"
   ]
  },
  {
   "cell_type": "code",
   "execution_count": null,
   "id": "f7c21a56",
   "metadata": {},
   "outputs": [],
   "source": [
    "# one-digit prime numbers\n",
    "def is_prime(num):\n",
    "    return True"
   ]
  },
  {
   "cell_type": "code",
   "execution_count": null,
   "id": "fa61f801",
   "metadata": {},
   "outputs": [],
   "source": [
    "n = 3\n",
    "\n",
    "for num in range(10 ** (n-1), 10 ** (n)):\n",
    "    if is_prime(num):\n",
    "        print(num)"
   ]
  },
  {
   "cell_type": "markdown",
   "id": "a51f8e90",
   "metadata": {},
   "source": [
    "# Challenge: First Dublicate\n",
    "Given an array `a` that contains only numbers in the range from `1` to `a.length`, find the first duplicate **number** for which the second occurrence has the minimal index. In other words, if there are more than 1 duplicated number, print the **number** for which the second occurrence has a smaller index than the second occurrence of the other number does. If there are no such elements, print -1."
   ]
  },
  {
   "cell_type": "markdown",
   "id": "66226045",
   "metadata": {},
   "source": [
    "## Example:\n",
    "\n",
    "For a = [2, 1, 3, 5, 3, 2], the output should be 3.\\\n",
    "There are 2 duplicates: numbers 2 and 3.\\\n",
    "The second occurrence of 3 has a smaller index than the second occurrence of 2 does, so the answer is 3.\\\n",
    "For a = [2, 2], the output should be 2;\n",
    "For a = [2, 4, 3, 5, 1], the output should be -1.\n",
    " "
   ]
  },
  {
   "cell_type": "code",
   "execution_count": null,
   "id": "3089691e",
   "metadata": {},
   "outputs": [],
   "source": [
    "a = [2, 4, 3, 5, 1]\n",
    "a"
   ]
  },
  {
   "cell_type": "code",
   "execution_count": null,
   "id": "beb2453e",
   "metadata": {},
   "outputs": [],
   "source": [
    "mySet = set()\n",
    "for el in a:\n",
    "    if el in mySet:\n",
    "        print(el)\n",
    "        break\n",
    "    mySet.add(el)\n",
    "else:\n",
    "    print(-1)"
   ]
  },
  {
   "cell_type": "markdown",
   "id": "95926e81",
   "metadata": {},
   "source": [
    "**43) Conditional Sum**\n",
    "\n",
    "Ali is TA. He wants to calculate the student's final score based on three scores and if their mean value is between 16 and 20, give them 20, otherwise, put the actual mean score. Help him write a program that gets three input as scores and give the result."
   ]
  },
  {
   "cell_type": "code",
   "execution_count": null,
   "id": "963403fc",
   "metadata": {},
   "outputs": [],
   "source": [
    "a = float(input(\"input first number: \"))\n",
    "b = float(input(\"input second number: \"))\n",
    "c = float(input(\"input third number: \"))\n",
    "# print(a,b,c)\n",
    "mean_var = (a+b+c) / 3"
   ]
  },
  {
   "cell_type": "code",
   "execution_count": null,
   "id": "3876cdc9",
   "metadata": {},
   "outputs": [],
   "source": [
    "if mean_var in range(16,20):\n",
    "    print(20)\n",
    "else:\n",
    "    print(mean_var)"
   ]
  },
  {
   "cell_type": "markdown",
   "id": "07d1919c",
   "metadata": {},
   "source": [
    "**44) Vowel Or Consonant**\n",
    "\n",
    "Write a Python program to check whether an alphabet is a vowel or consonant.\\\n",
    "**note:** input alphabet can also be capital"
   ]
  },
  {
   "cell_type": "code",
   "execution_count": null,
   "id": "1af74148",
   "metadata": {},
   "outputs": [],
   "source": [
    "input_alphabet  = str(input(\"input your character: \"))\n",
    "if input_alphabet.lower() in ['a','e','i','o','u','y']:\n",
    "    print(f'{input_alphabet} is a vowel')\n",
    "else:\n",
    "    print(f'{input_alphabet} is a constant')"
   ]
  },
  {
   "cell_type": "markdown",
   "id": "8bc7f6bd",
   "metadata": {},
   "source": [
    "**45) Grading System**\n",
    "\n",
    "I want to develop a system that divides the entrance exam scores of the python class members into four categories as follows: \n",
    "\n",
    "Marks                            Grade\\\n",
    " |  90              |               A|\\\n",
    " |  80 and <= 90    |               B|\\\n",
    " |>= 60 and <= 80   |               C|\\\n",
    " | below 60         |               D|\n",
    " \n",
    "Get a score number as input and print the desired class name "
   ]
  },
  {
   "cell_type": "code",
   "execution_count": null,
   "id": "791d68cf",
   "metadata": {},
   "outputs": [],
   "source": [
    "Mark = float(input(\"input your score: \"))\n",
    "\n",
    "if Mark > 90:\n",
    "    print('A')\n",
    "elif Mark > 80 and Marks <= 90:\n",
    "    print('B')\n",
    "elif Mark >= 60 and Marks <= 80:\n",
    "    print('C')\n",
    "elif Mark < 60:\n",
    "    print('D')"
   ]
  },
  {
   "cell_type": "markdown",
   "id": "7e560132",
   "metadata": {},
   "source": [
    "**46) Triangle Type**\n",
    "\n",
    "Write a program to get three numbers as the sides of a triangle and check whether it is an equilateral, isosceles, or scalene triangle.\n",
    "\n",
    "***Note :***\n",
    "\n",
    "- An equilateral triangle is a triangle in which all three sides are equal.\n",
    "- A scalene triangle is a triangle that has three unequal sides.\n",
    "- An isosceles triangle is a triangle with (at least) two equal sides."
   ]
  },
  {
   "cell_type": "code",
   "execution_count": null,
   "id": "b1e2ea34",
   "metadata": {},
   "outputs": [],
   "source": [
    "slide_a = float(input(\"input your score: \"))\n",
    "slide_b = float(input(\"input your score: \"))\n",
    "slide_c = float(input(\"input your score: \"))\n",
    "# print(slide_a,slide_b,slide_c)\n",
    "\n",
    "if slide_a == slide_b == slide_c:\n",
    "    print('equilateral')\n",
    "elif slide_a != slide_b and slide_a != slide_c and slide_b != slide_c:\n",
    "    print('scalene triangle')\n",
    "elif slide_a == slide_b or slide_a == slide_c or slide_b == slide_c:\n",
    "    print('isosceles')"
   ]
  },
  {
   "cell_type": "markdown",
   "id": "ff2f4c37",
   "metadata": {},
   "source": [
    "**47) Largest Number**\n",
    "\n",
    "Write a program to find the largest number out of three numbers given by the user.  \n",
    "\n",
    "\n",
    "***Note :*** Don't sort numbers. just use conditional statements"
   ]
  },
  {
   "cell_type": "code",
   "execution_count": null,
   "id": "91af6113",
   "metadata": {},
   "outputs": [],
   "source": [
    "num_a = float(input(\"input your score: \"))\n",
    "num_b = float(input(\"input your score: \"))\n",
    "num_c = float(input(\"input your score: \"))\n",
    "# print(num_a,num_b,num_c)"
   ]
  },
  {
   "cell_type": "code",
   "execution_count": null,
   "id": "434b1988",
   "metadata": {},
   "outputs": [],
   "source": [
    "# method A\n",
    "if num_a < num_b and num_b < num_c:\n",
    "    print(f'the largest number user {num_c}')\n",
    "elif num_a > num_b and num_b > num_c:\n",
    "    print(f'the largest number user {num_a}')\n",
    "elif num_a > num_b and num_b < num_c and num_a > num_c:\n",
    "    print(f'the largest number user {num_a}')\n",
    "elif num_a > num_b and num_b < num_c and num_a < num_c:\n",
    "    print(f'the largest number user {num_c}')"
   ]
  },
  {
   "cell_type": "code",
   "execution_count": null,
   "id": "dd3a4a85",
   "metadata": {},
   "outputs": [],
   "source": [
    "# method B\n",
    "if num_a >= num_b and num_a >= num_c:\n",
    "    print(str(num_a),\"is largest number\")\n",
    "elif num_b >= num_c:\n",
    "    print(str(num_b),\"is largest number\")\n",
    "else:\n",
    "    print(str(num_c),\"is largest number\")"
   ]
  },
  {
   "cell_type": "markdown",
   "id": "dc2c96a6",
   "metadata": {},
   "source": [
    "**48) Easy Calculater**\n",
    "\n",
    "Write a python program to accept two numbers and a mathematical operator and performs operation accordingly.\n",
    "mathematical operations are + - * /"
   ]
  },
  {
   "cell_type": "code",
   "execution_count": null,
   "id": "a62a53ce",
   "metadata": {},
   "outputs": [],
   "source": [
    "num_a = float(input(\"input your number: \"))\n",
    "num_b = float(input(\"input your number: \"))\n",
    "print(num_a,num_b)"
   ]
  },
  {
   "cell_type": "code",
   "execution_count": null,
   "id": "9522a964",
   "metadata": {
    "scrolled": true
   },
   "outputs": [],
   "source": [
    "sum_ab = num_a + num_b\n",
    "subtraction = num_a - num_b\n",
    "division = num_a / num_b\n",
    "multiplication = num_a * num_b\n",
    "print(sum_ab,subtraction,division,multiplication)"
   ]
  },
  {
   "cell_type": "markdown",
   "id": "0d86bb9a",
   "metadata": {},
   "source": [
    "**49) Conditional Job Working**\n",
    "\n",
    "Ali has doubts about doing something. He asks his friend to choose a number between `500` and `1000` and if the tens digit is even, do the work.\\\n",
    "Otherwise, don't do it. (e.g in 542, 4 is a tens digit. Also, it is even ).\\\n",
    "Write a program that does this for him. if the tens digit is even print `Do It!` otherwise, print `Don't Do It!`\n",
    "\n",
    "***Note:***  the input number must be in the range [500, 1000). otherwise, print Invalid Number!\n",
    "\n",
    "**Note:** Don't convert the number to string to get tens digit!"
   ]
  },
  {
   "cell_type": "code",
   "execution_count": null,
   "id": "c7c8ce96",
   "metadata": {},
   "outputs": [],
   "source": [
    "num = int(input(\"please choose a number between 500 and 1000: \"))\n",
    "\n",
    "if num in range(500,1000):\n",
    "    tens = (num // 10) % 10\n",
    "    if tens % 2 == 0:\n",
    "        print('Do It!')\n",
    "    else:\n",
    "        print(\"Don't Do It!\")\n",
    "else:\n",
    "    print('Invalid Number!')"
   ]
  },
  {
   "cell_type": "markdown",
   "id": "5afe75d0",
   "metadata": {},
   "source": [
    "**50) Even or odd**\n",
    "\n",
    "Write a Python program that receive a number from the user and determines if a given integer is even or odd."
   ]
  },
  {
   "cell_type": "code",
   "execution_count": null,
   "id": "c1ec8026",
   "metadata": {},
   "outputs": [],
   "source": [
    "num = int(input(\"please enter your number: \"))\n",
    "\n",
    "if num % 2 == 0:\n",
    "    print('even')\n",
    "else:\n",
    "    print('odd')"
   ]
  },
  {
   "cell_type": "markdown",
   "id": "46fdd284",
   "metadata": {},
   "source": [
    "**51) The weekday name**\n",
    "\n",
    "Write a Python code that would read any integer day number and show the day's name in the word"
   ]
  },
  {
   "cell_type": "code",
   "execution_count": null,
   "id": "2cd8c321",
   "metadata": {},
   "outputs": [],
   "source": [
    "week_num = int(input(\"please enter your weekday name: \"))\n",
    "\n",
    "if week_num == 0:\n",
    "    print('saturday')\n",
    "elif week_num == 1:\n",
    "    print('sunday')\n",
    "elif week_num == 2:\n",
    "    print('monday')\n",
    "elif week_num == 3:\n",
    "    print('tuesday')\n",
    "elif week_num == 4:\n",
    "    print('wednesday')\n",
    "elif week_num == 5:\n",
    "    print('thursday')\n",
    "elif week_num == 6:\n",
    "    print('friday')"
   ]
  },
  {
   "cell_type": "markdown",
   "id": "b8582df4",
   "metadata": {},
   "source": [
    "**52) Angles of a triangle**\n",
    "\n",
    "Write a python program that receive three angles from the user to determine whether the supplied angle values may be used to construct a triangle."
   ]
  },
  {
   "cell_type": "code",
   "execution_count": null,
   "id": "1d48770b",
   "metadata": {},
   "outputs": [],
   "source": [
    "angle_a = float(input(\"please enter first angle: \"))\n",
    "angle_b = float(input(\"please enter second angle: \"))\n",
    "angle_c = float(input(\"please enter third angle: \"))\n",
    "sum_angle_abc = angle_a + angle_b + angle_c\n",
    "if  sum_angle_abc == 180:\n",
    "    print(\"used to construct a triangle\")\n",
    "else:\n",
    "    print(\"please another number\")"
   ]
  },
  {
   "cell_type": "markdown",
   "id": "99db228d",
   "metadata": {},
   "source": [
    "**54) Quadratic equatione**\n",
    "\n",
    "Write a Python program that receive three numbers from the user to calculate the root of a Quadratic Equation.\n",
    "\n",
    "`ax² + bx + c`\n",
    "\n",
    "As you know, the roots of the quadratic equation can be obtained using the following formula:\n",
    "\n",
    "`x = (-b ± √Δ)/2a`\n",
    "\n",
    "- If the delta is a number greater than zero (Δ>0), our quadratic equation has two roots as follows:  \n",
    "`x1 = (-b + √Δ)/2a`\n",
    "`x2 = (-b - √Δ)/2a`\n",
    "\n",
    "- If the delta is zero, then there is exactly one real root:\n",
    "`x = -b/2a`\n",
    "\n",
    "- If the delta is negative, then there are no real roots:\n",
    "\n",
    "We also know that Delta equals:\n",
    "`Δ = b² - 4ac`"
   ]
  },
  {
   "cell_type": "code",
   "execution_count": null,
   "id": "9adda14a",
   "metadata": {},
   "outputs": [],
   "source": [
    "a = float(input(\"please enter first number: \"))\n",
    "b = float(input(\"please enter second number: \"))\n",
    "c = float(input(\"please enter third number: \"))\n",
    "qe = (a * (x**2)) + (b * x) + c\n",
    "print(qe)"
   ]
  },
  {
   "cell_type": "code",
   "execution_count": null,
   "id": "d3c2ce43",
   "metadata": {},
   "outputs": [],
   "source": [
    "delta = (b ** 2) - (4*a*c)\n",
    "print(delta)"
   ]
  },
  {
   "cell_type": "code",
   "execution_count": null,
   "id": "e0b1916e",
   "metadata": {},
   "outputs": [],
   "source": [
    "if delta > 0:\n",
    "    x1 = (-b + ((delta) ** (0.5)))/(2*a)\n",
    "    x2 = (-b - ((delta) ** (0.5)))/(2*a)\n",
    "    print(x1,x2)\n",
    "elif delta == 0:\n",
    "    x = -b / (2*a)\n",
    "    print(x)\n",
    "elif delta < 0:\n",
    "    print('there are no real roots:')"
   ]
  },
  {
   "cell_type": "markdown",
   "id": "7a5db840",
   "metadata": {},
   "source": [
    "**55) Blood pressure category**\n",
    "\n",
    "write code that takes the user's systolic and diastolic blood pressures and tells them category of their current condition.\n",
    "\n",
    "| BLOOD PRESSURE CATEGORY | SYSTOLIC mm Hg\tand/or\tDIASTOLIC mm Hg |\\\n",
    "| NORMAL | LESS THAN 120 and LESS THAN 80 |\\\n",
    "| ELEVATED | 120 – 129 and LESS THAN 80 |\\\n",
    "| HIGH BLOOD PRESSURE (HYPERTENSION) STAGE 1 | 130 – 139 or 80 – 89 |\\\n",
    "| HIGH BLOOD PRESSURE (HYPERTENSION) STAGE 2 | 140 OR HIGHER or\t90 OR HIGHER |\\\n",
    "| HYPERTENSIVE CRISIS (consult your doctor immediately) | HIGHER THAN 180 and/or HIGHER THAN 120 |"
   ]
  },
  {
   "cell_type": "code",
   "execution_count": null,
   "id": "763e88f1",
   "metadata": {},
   "outputs": [],
   "source": [
    "systolic = float(input(\"please enter systolic: \"))\n",
    "diastolic = float(input(\"please enter diastolic: \"))\n",
    "\n",
    "if systolic < 120 and diastolic < 80:\n",
    "    print('Normal')\n",
    "elif 120 < systolic < 129 and diastolic < 80:\n",
    "    print('Elevated')\n",
    "elif 130 < systolic < 139 or 80 < diastolic < 89:\n",
    "    print('HIGH BLOOD PRESSURE (HYPERTENSION) STAGE 1')\n",
    "elif 140 < systolic or 89 < diastolic:\n",
    "    print('HIGH BLOOD PRESSURE (HYPERTENSION) STAGE 2')\n",
    "elif 180 < systolic or diastolic > 120:\n",
    "    print('HYPERTENSIVE CRISIS (consult your doctor immediately)')"
   ]
  },
  {
   "cell_type": "markdown",
   "id": "d85c8153",
   "metadata": {},
   "source": [
    "**56) Area of geometric shapes**\n",
    "\n",
    "Create an application that initially displays a list of geometric shapes to the user.\\\n",
    "By entering a number, the user can pick one of those shapes.\\\n",
    "Then, based on the geometric shape selected, obtain the shape parameters from the user.\\\n",
    "Finally, as the output, display the shape's area."
   ]
  },
  {
   "cell_type": "code",
   "execution_count": null,
   "id": "35513adf",
   "metadata": {},
   "outputs": [],
   "source": [
    "side_a = int(input('please enter your first number: '))\n",
    "side_b = int(input('please enter your second number: '))\n",
    "\n",
    "if side_a == side_b:\n",
    "    area = side_a * side_a\n",
    "    print(f'area is {area}')\n",
    "elif side_a != side_b:\n",
    "    area = side_a * side_b\n",
    "    print(f'area is {area}')"
   ]
  },
  {
   "cell_type": "markdown",
   "id": "d146d7c2",
   "metadata": {},
   "source": [
    "**57) Find Median**\n",
    "\n",
    "Write a Python program to get 3 inputs from the user and find the median of three values without sorting values.\\\n",
    "only use conditional statements, not any python methods.\n",
    "\n",
    "**note:** `input()` gives you string. don't forget to convert it to a float number"
   ]
  },
  {
   "cell_type": "code",
   "execution_count": null,
   "id": "1fc04bb5",
   "metadata": {},
   "outputs": [],
   "source": [
    "num_a = float(input('please enter your first number: '))\n",
    "num_b = float(input('please enter your second number: '))\n",
    "num_c = float(input('please enter your third number: '))"
   ]
  },
  {
   "cell_type": "code",
   "execution_count": null,
   "id": "8a40b40f",
   "metadata": {},
   "outputs": [],
   "source": [
    "if num_a > num_b:\n",
    "    if num_a < num_c:\n",
    "        median = a\n",
    "    elif num_b > num_c:\n",
    "        median = b\n",
    "    else:\n",
    "        median = c\n",
    "else:\n",
    "    if num_a > num_c:\n",
    "        median = a\n",
    "    elif num_b < num_c:\n",
    "        median = b\n",
    "    else:\n",
    "        median = c\n",
    "\n",
    "print(\"This median is\", median)"
   ]
  },
  {
   "cell_type": "markdown",
   "id": "8dde49ac",
   "metadata": {},
   "source": [
    "**58) Nest condition inside f-string**\n",
    "\n",
    "**You can nest expressions to evaluate inside expressions in an f-string**\n",
    "\n",
    "You are given a set of prime numbers `less than 1000`. Create a program that receives a number and then uses a single print() function with **F-String** to determine whether or not it was a prime number.\n",
    "\n",
    "for example:\n",
    "\n",
    "**\"997 is a prime number.\"**\n",
    "\n",
    "**\"998 is not a prime number.\"**\n",
    "\n",
    "number = {2, 3, 5, 7, 11, 13, 17, 19, 23, 29, 31, 37, 41,\n",
    "     43, 47, 53, 59, 61, 67, 71, 73, 79, 83, 89, 97,\n",
    "     101, 103, 107, 109, 113, 127, 131, 137, 139, 149,\n",
    "     151, 157, 163, 167, 173, 179, 181, 191, 193, 197,\n",
    "     199, 211, 223, 227, 229, 233, 239, 241, 251, 257,\n",
    "     263, 269, 271, 277, 281, 283, 293, 307, 311, 313,\n",
    "     317, 331, 337, 347, 349, 353, 359, 367, 373, 379,\n",
    "     383, 389, 397, 401, 409, 419, 421, 431, 433, 439,\n",
    "     443, 449, 457, 461, 463, 467, 479, 487, 491, 499,\n",
    "     503, 509, 521, 523, 541, 547, 557, 563, 569, 571,\n",
    "     577, 587, 593, 599, 601, 607, 613, 617, 619, 631,\n",
    "     641, 643, 647, 653, 659, 661, 673, 677, 683, 691,\n",
    "     701, 709, 719, 727, 733, 739, 743, 751, 757, 761,\n",
    "     769, 773, 787, 797, 809, 811, 821, 823, 827, 829,\n",
    "     839, 853, 857, 859, 863, 877, 881, 883, 887, 907,\n",
    "     911, 919, 929, 937, 941, 947, 953, 967, 971, 977,\n",
    "     983, 991, 997}"
   ]
  },
  {
   "cell_type": "code",
   "execution_count": null,
   "id": "fda73e75",
   "metadata": {},
   "outputs": [],
   "source": [
    "def isPrime(number):\n",
    "    # rule 1: number should be positive, and greater than 1.\n",
    "    if number > 1:\n",
    "        # iterate over a range from 2 to half the number.\n",
    "        for i in range(2, number//2):\n",
    "            # rule 2: shouldn't have any positive divisor \n",
    "            # order than 1 and itself.\n",
    "            if(number % i) == 0:\n",
    "                return False\n",
    "         \n",
    "        return True\n",
    "    else:\n",
    "        return False\n",
    "\n",
    "if __name__ == '__main__':\n",
    "    number = int(input(\"Enter number to check if it's prime: \"))\n",
    "    \n",
    "    if isPrime(number):\n",
    "        print(f'{number} is a prime number')\n",
    "    else:\n",
    "        print(f'{number} is not a prime number')"
   ]
  },
  {
   "cell_type": "markdown",
   "id": "54184ee5",
   "metadata": {},
   "source": [
    "**59) Output with desired shape 1**\n",
    "\n",
    "Write code that produces the following output:use **(break)**"
   ]
  },
  {
   "cell_type": "code",
   "execution_count": 37,
   "id": "ff4e8612",
   "metadata": {},
   "outputs": [],
   "source": [
    "t = \"* * * * * * * * * *\"\n",
    "z = \"* * * * *\""
   ]
  },
  {
   "cell_type": "code",
   "execution_count": 38,
   "id": "bee936a7",
   "metadata": {},
   "outputs": [
    {
     "name": "stdout",
     "output_type": "stream",
     "text": [
      "* * * * *\n"
     ]
    }
   ],
   "source": [
    "# type(t)\n",
    "print(z)"
   ]
  },
  {
   "cell_type": "code",
   "execution_count": 70,
   "id": "646c317a",
   "metadata": {},
   "outputs": [
    {
     "name": "stdout",
     "output_type": "stream",
     "text": [
      "* * * * * * * * * *\n",
      "* * * * * * * * * *\n",
      "* * * * * * * * * *\n",
      "* * * * * * * * * *\n",
      "* *\n"
     ]
    }
   ],
   "source": [
    "n = 0\n",
    "while n < 10:\n",
    "    print(t)\n",
    "    n = n + 1\n",
    "    if n > 3:\n",
    "        print(z)\n",
    "        break"
   ]
  },
  {
   "cell_type": "markdown",
   "id": "8879c02f",
   "metadata": {},
   "source": [
    "**60) Output with desired shape 2**\n",
    "\n",
    "Write code that produces the following output:(use **continue**)"
   ]
  },
  {
   "cell_type": "code",
   "execution_count": 54,
   "id": "778c35ca",
   "metadata": {},
   "outputs": [],
   "source": [
    "t = \"* * * * * * * * * *\"\n",
    "z = \"* *\""
   ]
  },
  {
   "cell_type": "code",
   "execution_count": 82,
   "id": "e7af1140",
   "metadata": {},
   "outputs": [
    {
     "name": "stdout",
     "output_type": "stream",
     "text": [
      "* * * * * * * * * *\n",
      "* * * * * * * * * *\n",
      "* *\n",
      "* *\n",
      "* * * * * * * * * *\n",
      "* * * * * * * * * *\n",
      "* *\n",
      "* *\n",
      "* * * * * * * * * *\n",
      "* * * * * * * * * *\n"
     ]
    }
   ],
   "source": [
    "n = 0\n",
    "while n < 10:\n",
    "    if n not in [2,3,6,7]:\n",
    "        print(t)\n",
    "        n = n + 1\n",
    "        continue\n",
    "    else:\n",
    "        print(z)\n",
    "        n = n + 1\n",
    "        continue"
   ]
  },
  {
   "cell_type": "markdown",
   "id": "e33bdb21",
   "metadata": {},
   "source": [
    "**61) Raise the number to the power of 8**\n",
    "\n",
    "Write a program that takes a number from the user and raises it to the power of eight and shows it to the user, then receives a new number and repeats this until the user enters zero."
   ]
  },
  {
   "cell_type": "code",
   "execution_count": 100,
   "id": "b5e942be",
   "metadata": {},
   "outputs": [
    {
     "name": "stdout",
     "output_type": "stream",
     "text": [
      "please enter your number: 4\n",
      "65536\n"
     ]
    }
   ],
   "source": [
    "x = int(input(\"please enter your number: \"))\n",
    "n = 0\n",
    "while x < 999:\n",
    "    if x != 0:\n",
    "        print(x ** 8)\n",
    "        n = n + 1\n",
    "        break\n",
    "        \n",
    "    else:\n",
    "        print('user enters zero.')\n",
    "        break"
   ]
  },
  {
   "cell_type": "markdown",
   "id": "8c6159d5",
   "metadata": {},
   "source": [
    "**62) My special numbers**\n",
    "\n",
    "Write code that finds the numbers  between **7801** and **8853**  that  sum of all their integers are divisible by **13.**"
   ]
  },
  {
   "cell_type": "code",
   "execution_count": 191,
   "id": "f01b63a9",
   "metadata": {},
   "outputs": [
    {
     "name": "stdout",
     "output_type": "stream",
     "text": [
      "666120\n"
     ]
    }
   ],
   "source": [
    "n = 7801\n",
    "x = []\n",
    "while 7801 <= n and n < 8853:\n",
    "    if n % 13 == 0:\n",
    "        # print('their integers are divisible by 13.')\n",
    "        x.append(n)\n",
    "    n = n + 1\n",
    "\n",
    "print(sum(x))"
   ]
  },
  {
   "cell_type": "markdown",
   "id": "e2229598",
   "metadata": {},
   "source": [
    "**63) Mini Program**\n",
    "\n",
    "***We want you to write a program that works as follows:***\\\n",
    "First, show the user the following statement that includes the options that the user can choose."
   ]
  },
  {
   "cell_type": "markdown",
   "id": "f93eacdd",
   "metadata": {},
   "source": [
    "```python\n",
    "  Options:\n",
    "     0      Quit\n",
    "     1      Check if I know you\n",
    "     2      Introduce yourself to me\n",
    "     3      Make me forget you\n",
    "     4      Print a list of people I know   \n",
    "\n",
    "```"
   ]
  },
  {
   "cell_type": "markdown",
   "id": "982e9767",
   "metadata": {},
   "source": [
    "Next, get input as an option from the user.  (get input from the user until the user give 0 as input)\n",
    "\n",
    "- If the user selects option `0`, tell the user `bye!` and quit the program.\n",
    "- If the user selects option `1`,  get the user's name as input. if it was in `namelist` tell the user `I know you! :D.` otherwise, tell I don't know you :/\n",
    "- If the user selects option 2, get the user's name as  input, if it was in `namelist` tell the user `I knew you already.`\n",
    "otherwise, add it to `namelist` and tell the user `Now I know you!`\n",
    "- If the user selects option `3`, get the user's name as input, if it was in `namelist` , remove it and tell the user `Now I don't know you..` otherwise, tell `I already didn't know you `\n",
    " \n",
    "- If the user selects option 4. show the usernames in `namelist`  to him/her"
   ]
  },
  {
   "cell_type": "code",
   "execution_count": null,
   "id": "5e38ae23",
   "metadata": {},
   "outputs": [],
   "source": [
    "print(\"\"\"\n",
    "\n",
    "     0      Quit\n",
    "     1      Check if I know you\n",
    "     2      Introduce yourself to me\n",
    "     3      Make me forget you\n",
    "     4      Print a list of people I know   \n",
    "\n",
    "\"\"\")\n",
    "\n",
    "print()\n",
    "\n",
    "n = int(input(\"please enter your number: \"))\n",
    "namelist = ['reza','ali']\n",
    "while n < 5:\n",
    "    if n == 0:\n",
    "        print('bye')\n",
    "        break\n",
    "    elif n == 1:\n",
    "        name = input(\"please get the user's name: \")\n",
    "        if name in namelist:\n",
    "            print('I know you! :D.')\n",
    "        else:\n",
    "            print(\"I don't know you :/\")\n",
    "    elif n == 2:\n",
    "        name = input(\"please get the user's name: \")\n",
    "        if name in namelist:\n",
    "            print('I knew you already.')\n",
    "        else:\n",
    "            namelist.append(name)\n",
    "            print('Now I know you!')\n",
    "    elif n == 3:\n",
    "        name = input(\"please get the user's name: \")\n",
    "        if name in namelist:\n",
    "            namelist.remove(name)\n",
    "            print(\"Now I don't know you..\")\n",
    "        else:\n",
    "            print(\"I already didn't know you\")\n",
    "    elif n == 4:\n",
    "        if namelist == []:\n",
    "            print(\"I don't know you to begin with.\")\n",
    "        else:\n",
    "            for name in namelist:\n",
    "                print(\"I know %s!\" % name)\n",
    "    else:\n",
    "        print(\"I don't understand :(\")\n",
    "    \n",
    "    print()"
   ]
  },
  {
   "cell_type": "code",
   "execution_count": null,
   "id": "3beb57a9",
   "metadata": {},
   "outputs": [],
   "source": []
  }
 ],
 "metadata": {
  "kernelspec": {
   "display_name": "Python 3 (ipykernel)",
   "language": "python",
   "name": "python3"
  },
  "language_info": {
   "codemirror_mode": {
    "name": "ipython",
    "version": 3
   },
   "file_extension": ".py",
   "mimetype": "text/x-python",
   "name": "python",
   "nbconvert_exporter": "python",
   "pygments_lexer": "ipython3",
   "version": "3.9.15"
  }
 },
 "nbformat": 4,
 "nbformat_minor": 5
}
