{
 "cells": [
  {
   "cell_type": "markdown",
   "id": "f7aedfd1",
   "metadata": {},
   "source": [
    "# Python Program Lexical Structure\n",
    "\n",
    "You have now covered Python varibles, operators, and data types in depth, and you've seen quite a bit of example code. Up to now, the code has consisted of short individual statements, simply assinging objects to variable or displaying values.\n",
    "\n",
    "But you want to do more than just define data and display it! Let's start arranging code into more complex groupings."
   ]
  },
  {
   "cell_type": "markdown",
   "id": "5b4b04ed",
   "metadata": {},
   "source": [
    "# Table of Contents\n",
    "\n",
    "- Python Statements\n",
    "- Line Continuation\n",
    "    - Implicit Line Continuation\n",
    "        - Parentheses\n",
    "        - Curly Braces\n",
    "        - Square Brackets\n",
    "    - Explicit Line Continuation\n",
    "- Multiple Statements Per Line\n",
    "- Comments\n",
    "- Whitespace\n",
    "- Whitespace as Indentation\n",
    "- Conclusion"
   ]
  },
  {
   "cell_type": "code",
   "execution_count": 35,
   "id": "1c6c7559",
   "metadata": {},
   "outputs": [],
   "source": [
    "names = [\n",
    "    'Narges',\n",
    "    'Sara',\n",
    "    'Mehrdad',\n",
    "    'Niloufarrr',\n",
    "    'Somayeh',\n",
    "    '...',\n",
    "    '...'\n",
    "]"
   ]
  },
  {
   "cell_type": "code",
   "execution_count": 36,
   "id": "25c3f6be",
   "metadata": {},
   "outputs": [
    {
     "data": {
      "text/plain": [
       "['Narges', 'Sara', 'Mehrdad', 'Niloufarrr', 'Somayeh', '...', '...']"
      ]
     },
     "execution_count": 36,
     "metadata": {},
     "output_type": "execute_result"
    }
   ],
   "source": [
    "names"
   ]
  },
  {
   "cell_type": "code",
   "execution_count": 37,
   "id": "28503ac6",
   "metadata": {},
   "outputs": [
    {
     "data": {
      "text/plain": [
       "False"
      ]
     },
     "execution_count": 37,
     "metadata": {},
     "output_type": "execute_result"
    }
   ],
   "source": [
    "'Hasan' in names"
   ]
  },
  {
   "cell_type": "code",
   "execution_count": 38,
   "id": "baadba9d",
   "metadata": {},
   "outputs": [
    {
     "data": {
      "text/plain": [
       "False"
      ]
     },
     "execution_count": 38,
     "metadata": {},
     "output_type": "execute_result"
    }
   ],
   "source": [
    "'Hasan' in names[4]"
   ]
  },
  {
   "cell_type": "code",
   "execution_count": 39,
   "id": "e11c698e",
   "metadata": {},
   "outputs": [
    {
     "data": {
      "text/plain": [
       "(3, 4, 0)"
      ]
     },
     "execution_count": 39,
     "metadata": {},
     "output_type": "execute_result"
    }
   ],
   "source": [
    "hash('Mehrdad') % 5, hash('Niloufarrr') % 5, hash('Somayehhhhhh') % 5"
   ]
  },
  {
   "cell_type": "code",
   "execution_count": 40,
   "id": "87bec546",
   "metadata": {},
   "outputs": [
    {
     "data": {
      "text/plain": [
       "3"
      ]
     },
     "execution_count": 40,
     "metadata": {},
     "output_type": "execute_result"
    }
   ],
   "source": [
    "hash('Abbas') % 5"
   ]
  },
  {
   "cell_type": "markdown",
   "id": "0511af8b",
   "metadata": {},
   "source": [
    "# Line Continuation\n",
    "\n",
    "Suppose a single statement in your Python code is especially long. For example, you may have an assignment statement with many terms:"
   ]
  },
  {
   "cell_type": "code",
   "execution_count": 41,
   "id": "b36e9665",
   "metadata": {},
   "outputs": [],
   "source": [
    "person1_age = 42\n",
    "person2_age = 16\n",
    "person3_age = 71"
   ]
  },
  {
   "cell_type": "code",
   "execution_count": 42,
   "id": "51ecaf37",
   "metadata": {},
   "outputs": [
    {
     "data": {
      "text/plain": [
       "True"
      ]
     },
     "execution_count": 42,
     "metadata": {},
     "output_type": "execute_result"
    }
   ],
   "source": [
    "someone_is_of_working_age = (person1_age >= 18 and person1_age <= 65) or (person2_age >= 18 and person2_age <= 65) or (person3_age >= 18 and person3_age <= 65)\n",
    "someone_is_of_working_age"
   ]
  },
  {
   "cell_type": "code",
   "execution_count": 43,
   "id": "26fe1874",
   "metadata": {},
   "outputs": [
    {
     "data": {
      "text/plain": [
       "[[1, 2, 3, 4, 5], [6, 7, 8, 9, 10], [11, 12, 13, 14, 15], [16, 17, 18, 19, 20]]"
      ]
     },
     "execution_count": 43,
     "metadata": {},
     "output_type": "execute_result"
    }
   ],
   "source": [
    "a = [[1,2,3,4,5],[6,7,8,9,10],[11,12,13,14,15],[16,17,18,19,20]]\n",
    "a"
   ]
  },
  {
   "cell_type": "code",
   "execution_count": 44,
   "id": "789666f3",
   "metadata": {},
   "outputs": [],
   "source": [
    "mylist = [1,\n",
    "          [2,3,4,5],\n",
    "          6,7,8,9]"
   ]
  },
  {
   "cell_type": "code",
   "execution_count": 45,
   "id": "8a6f82bf",
   "metadata": {},
   "outputs": [
    {
     "data": {
      "text/plain": [
       "[1, [2, 3, 4, 5], 6, 7, 8, 9]"
      ]
     },
     "execution_count": 45,
     "metadata": {},
     "output_type": "execute_result"
    }
   ],
   "source": [
    "mylist"
   ]
  },
  {
   "cell_type": "code",
   "execution_count": 46,
   "id": "8a0e2076",
   "metadata": {},
   "outputs": [],
   "source": [
    "x = (\n",
    "    1 + 2\n",
    "    + 3 + 4\n",
    "    + 5 + 6\n",
    ")"
   ]
  },
  {
   "cell_type": "code",
   "execution_count": 47,
   "id": "0bf63d35",
   "metadata": {},
   "outputs": [
    {
     "data": {
      "text/plain": [
       "21"
      ]
     },
     "execution_count": 47,
     "metadata": {},
     "output_type": "execute_result"
    }
   ],
   "source": [
    "x"
   ]
  },
  {
   "cell_type": "code",
   "execution_count": 48,
   "id": "463dd297",
   "metadata": {},
   "outputs": [
    {
     "name": "stdout",
     "output_type": "stream",
     "text": [
      "hello\n",
      "world\n"
     ]
    }
   ],
   "source": [
    "print('hello\\nworld')"
   ]
  },
  {
   "cell_type": "markdown",
   "id": "194256b5",
   "metadata": {},
   "source": [
    "# Explicit Line Continuation\n",
    "\n",
    "In cases where implicit line continuation is not readily available or practicable, there is another option. This is referred to as explicit line continuation or explicit line joining.\n",
    "\n",
    "Ordinarily, a newline character (which you get when you press **Enter** on your keyboard) indicates the end of a line. If the statement is not complete by that point, Python will raise a SyntaxError exception:"
   ]
  },
  {
   "cell_type": "code",
   "execution_count": 49,
   "id": "afa76dfd",
   "metadata": {},
   "outputs": [],
   "source": [
    "person1_age = 20\n",
    "person2_age = 25\n",
    "person3_age = 30\n",
    "c_1 = (person1_age >= 18 and person1_age <= 65)\n",
    "c_2 = (person2_age >= 18 and person2_age <= 65)\n",
    "c_3 = (person3_age >= 18 and person3_age <= 65)"
   ]
  },
  {
   "cell_type": "code",
   "execution_count": 50,
   "id": "17f7a78b",
   "metadata": {},
   "outputs": [],
   "source": [
    "someone_is_of_working_age = c_1 or c_2 or c_3"
   ]
  },
  {
   "cell_type": "code",
   "execution_count": 51,
   "id": "74a6491b",
   "metadata": {},
   "outputs": [],
   "source": [
    "x = 1; y = 2; z = 3;"
   ]
  },
  {
   "cell_type": "code",
   "execution_count": 52,
   "id": "955f4e17",
   "metadata": {},
   "outputs": [],
   "source": [
    "x, y, z = 1, 2, 3"
   ]
  },
  {
   "cell_type": "markdown",
   "id": "cd03141a",
   "metadata": {},
   "source": [
    "# Comments\n",
    "\n",
    "In Python, the hash character (`#`) signifies a comment. The interpreter will ignore everything from the hash chracter through the end of that line:"
   ]
  },
  {
   "cell_type": "code",
   "execution_count": 53,
   "id": "7579a0d8",
   "metadata": {},
   "outputs": [],
   "source": [
    "a = ['foo','bar','baz'] # I am a comment."
   ]
  },
  {
   "cell_type": "code",
   "execution_count": 54,
   "id": "c7de7e49",
   "metadata": {},
   "outputs": [
    {
     "data": {
      "text/plain": [
       "['foo', 'bar', 'baz']"
      ]
     },
     "execution_count": 54,
     "metadata": {},
     "output_type": "execute_result"
    }
   ],
   "source": [
    "a"
   ]
  },
  {
   "cell_type": "code",
   "execution_count": 55,
   "id": "34262489",
   "metadata": {},
   "outputs": [],
   "source": [
    "# If the first non-whitespace character on the line is a hash, the entire line is"
   ]
  },
  {
   "cell_type": "code",
   "execution_count": 56,
   "id": "88f78f75",
   "metadata": {},
   "outputs": [],
   "source": [
    "# Extracting customers name for UI\n",
    "customers = []\n",
    "for c in customers:\n",
    "    names.append(c.name)"
   ]
  },
  {
   "cell_type": "code",
   "execution_count": 57,
   "id": "6423c861",
   "metadata": {},
   "outputs": [],
   "source": [
    "def add(a,b):\n",
    "    \"\"\"\n",
    "    Adds two integer numbers.\n",
    "    \n",
    "    Args:\n",
    "        a First input to add\n",
    "        b Second input to add    \n",
    "    \"\"\"\n",
    "    return a + b"
   ]
  },
  {
   "cell_type": "code",
   "execution_count": 58,
   "id": "13e2fa9a",
   "metadata": {},
   "outputs": [
    {
     "data": {
      "text/plain": [
       "7"
      ]
     },
     "execution_count": 58,
     "metadata": {},
     "output_type": "execute_result"
    }
   ],
   "source": [
    "add(3, 4)"
   ]
  },
  {
   "cell_type": "code",
   "execution_count": 59,
   "id": "a76462e2",
   "metadata": {},
   "outputs": [
    {
     "name": "stdout",
     "output_type": "stream",
     "text": [
      "\n",
      "    Adds two integer numbers.\n",
      "    \n",
      "    Args:\n",
      "        a First input to add\n",
      "        b Second input to add    \n",
      "    \n"
     ]
    }
   ],
   "source": [
    "print(add.__doc__)"
   ]
  },
  {
   "cell_type": "code",
   "execution_count": 60,
   "id": "d6766f3c",
   "metadata": {},
   "outputs": [
    {
     "data": {
      "text/plain": [
       "[1, 2, 3, 4, 5]"
      ]
     },
     "execution_count": 60,
     "metadata": {},
     "output_type": "execute_result"
    }
   ],
   "source": [
    "[1, 2, 3, 4, 5]"
   ]
  },
  {
   "cell_type": "code",
   "execution_count": 61,
   "id": "babd0d0f",
   "metadata": {},
   "outputs": [
    {
     "name": "stdout",
     "output_type": "stream",
     "text": [
      "0\n",
      "0\n",
      "1\n",
      "1\n",
      "2\n",
      "256\n",
      "3\n",
      "6561\n",
      "4\n",
      "65536\n",
      "5\n",
      "390625\n",
      "6\n",
      "1679616\n",
      "7\n",
      "5764801\n",
      "8\n",
      "16777216\n",
      "9\n",
      "43046721\n",
      "Ali\n"
     ]
    }
   ],
   "source": [
    "for i in range(10):\n",
    "    print(i)\n",
    "    print(i**8)\n",
    "print('Ali')"
   ]
  },
  {
   "cell_type": "code",
   "execution_count": 62,
   "id": "51a53774",
   "metadata": {},
   "outputs": [
    {
     "name": "stdout",
     "output_type": "stream",
     "text": [
      "Al\tReza\ta\n"
     ]
    }
   ],
   "source": [
    "print('Al\\tReza\\ta')"
   ]
  }
 ],
 "metadata": {
  "kernelspec": {
   "display_name": "Python 3 (ipykernel)",
   "language": "python",
   "name": "python3"
  },
  "language_info": {
   "codemirror_mode": {
    "name": "ipython",
    "version": 3
   },
   "file_extension": ".py",
   "mimetype": "text/x-python",
   "name": "python",
   "nbconvert_exporter": "python",
   "pygments_lexer": "ipython3",
   "version": "3.9.7"
  }
 },
 "nbformat": 4,
 "nbformat_minor": 5
}
