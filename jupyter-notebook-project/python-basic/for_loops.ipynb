{
 "cells": [
  {
   "cell_type": "markdown",
   "id": "beda8ee1",
   "metadata": {},
   "source": [
    "<a class=\"anchor\" id=\"the_guts_of_the_python_for_loop\"></a>\n",
    "## The Guts of the Python for Loop"
   ]
  },
  {
   "cell_type": "markdown",
   "id": "4314fd5e",
   "metadata": {},
   "source": [
    "You now have been introduced to all the concepts you need to fully understand how Python’s for loop works. Before proceeding, let’s review the relevant terms:\n",
    "\n",
    "|**Term**|**Meaning** |\n",
    "|:--|:--|\n",
    "|**Iteration**| The process of looping through the objects or items in a collection |\n",
    "|**Iterable**| An object (or the adjective used to describe an object) that can be iterated over |\n",
    "|**Iterator**| The object that produces successive items or values from its associated iterable |\n",
    "|**`iter()`**|\t"
   ]
  },
  {
   "cell_type": "markdown",
   "id": "7ac04e6b",
   "metadata": {},
   "source": [
    "- whats different between iterator and iterable:\n",
    "- iterator has space in memory"
   ]
  },
  {
   "cell_type": "code",
   "execution_count": 11,
   "id": "0a703408",
   "metadata": {},
   "outputs": [
    {
     "name": "stdout",
     "output_type": "stream",
     "text": [
      "1\n",
      "2\n",
      "3\n",
      "4\n"
     ]
    }
   ],
   "source": [
    "collection = [1,2,3,4]\n",
    "\n",
    "for item in collection:\n",
    "    print(item)"
   ]
  },
  {
   "cell_type": "code",
   "execution_count": 13,
   "id": "5857293b",
   "metadata": {},
   "outputs": [
    {
     "data": {
      "text/plain": [
       "1"
      ]
     },
     "execution_count": 13,
     "metadata": {},
     "output_type": "execute_result"
    }
   ],
   "source": [
    "myiterator = iter(collection)\n",
    "next(myiterator)"
   ]
  },
  {
   "cell_type": "code",
   "execution_count": 12,
   "id": "0e469d7c",
   "metadata": {},
   "outputs": [
    {
     "name": "stdout",
     "output_type": "stream",
     "text": [
      "1\n",
      "2\n",
      "3\n",
      "4\n"
     ]
    }
   ],
   "source": [
    "for item in collection:\n",
    "    print(item)"
   ]
  },
  {
   "cell_type": "code",
   "execution_count": 30,
   "id": "7a83bfbe",
   "metadata": {},
   "outputs": [
    {
     "name": "stdout",
     "output_type": "stream",
     "text": [
      "ali 20\n",
      "reza 30\n",
      "hasan 14\n"
     ]
    }
   ],
   "source": [
    "# unpacking\n",
    "d = {'ali':20,'reza':30,'hasan':14}\n",
    "for key, value in d.items():\n",
    "    print(key, value)"
   ]
  },
  {
   "cell_type": "code",
   "execution_count": 26,
   "id": "d7273e3d",
   "metadata": {},
   "outputs": [
    {
     "name": "stdout",
     "output_type": "stream",
     "text": [
      "('ali', 20)\n",
      "('reza', 30)\n",
      "('hasan', 14)\n"
     ]
    }
   ],
   "source": [
    "# unpacking\n",
    "for item in d.items():\n",
    "    print(item)"
   ]
  },
  {
   "cell_type": "code",
   "execution_count": 32,
   "id": "04acd1d6",
   "metadata": {},
   "outputs": [
    {
     "name": "stdout",
     "output_type": "stream",
     "text": [
      "196 ns ± 10.3 ns per loop (mean ± std. dev. of 7 runs, 10,000,000 loops each)\n"
     ]
    }
   ],
   "source": [
    "%%timeit\n",
    "for key, value in d.items():\n",
    "    pass"
   ]
  },
  {
   "cell_type": "code",
   "execution_count": 33,
   "id": "6e23c81e",
   "metadata": {},
   "outputs": [
    {
     "name": "stdout",
     "output_type": "stream",
     "text": [
      "172 ns ± 5.71 ns per loop (mean ± std. dev. of 7 runs, 10,000,000 loops each)\n"
     ]
    }
   ],
   "source": [
    "%%timeit\n",
    "for key in d:\n",
    "    value = d[key]\n",
    "    pass"
   ]
  },
  {
   "cell_type": "code",
   "execution_count": null,
   "id": "d9183fb5",
   "metadata": {},
   "outputs": [],
   "source": [
    "# All number add to variable\n",
    "for n in range(10, 20):\n",
    "    print(n)"
   ]
  },
  {
   "cell_type": "code",
   "execution_count": 35,
   "id": "33e6f645",
   "metadata": {},
   "outputs": [
    {
     "data": {
      "text/plain": [
       "[0, 1, 2, 3, 4, 5, 6, 7, 8, 9]"
      ]
     },
     "execution_count": 35,
     "metadata": {},
     "output_type": "execute_result"
    }
   ],
   "source": [
    "# All number add to variable in same time\n",
    "# Use huge capacity of RAM\n",
    "list(range(10))"
   ]
  },
  {
   "cell_type": "code",
   "execution_count": 1,
   "id": "f92c013c",
   "metadata": {},
   "outputs": [
    {
     "data": {
      "text/plain": [
       "range(0, 10)"
      ]
     },
     "execution_count": 1,
     "metadata": {},
     "output_type": "execute_result"
    }
   ],
   "source": [
    "# Use low capacity of RAM\n",
    "range(10)"
   ]
  }
 ],
 "metadata": {
  "kernelspec": {
   "display_name": "Python 3 (ipykernel)",
   "language": "python",
   "name": "python3"
  },
  "language_info": {
   "codemirror_mode": {
    "name": "ipython",
    "version": 3
   },
   "file_extension": ".py",
   "mimetype": "text/x-python",
   "name": "python",
   "nbconvert_exporter": "python",
   "pygments_lexer": "ipython3",
   "version": "3.9.15"
  }
 },
 "nbformat": 4,
 "nbformat_minor": 5
}
