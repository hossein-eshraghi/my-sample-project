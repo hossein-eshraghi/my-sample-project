{
 "cells": [
  {
   "cell_type": "markdown",
   "id": "13ca60dd",
   "metadata": {},
   "source": [
    "# Defining a Set\n",
    "\n",
    "Python's built-in set type has the following characteristics:\n",
    "\n",
    "- Sets are unordered.\n",
    "- Set elements are unique. Duplicate elements are `not allowed`.\n",
    "- A set itself may be `modified`, but the elements contained in the set must be of an `immutable type`.\n",
    "\n",
    "Let's see what all that means, and how you can work with sets in Python.\n",
    "\n",
    "A set can be created in two ways. First, you can define a set with the built-in cat() function:\n",
    "\n",
    "```python\n",
    "x =set(<iter>)\n",
    "```"
   ]
  },
  {
   "cell_type": "code",
   "execution_count": 8,
   "id": "c10e0cdc",
   "metadata": {},
   "outputs": [
    {
     "data": {
      "text/plain": [
       "[1, 2, 3, 1, 1, 1, 1, 1]"
      ]
     },
     "execution_count": 8,
     "metadata": {},
     "output_type": "execute_result"
    }
   ],
   "source": [
    "# list exist iterative element\n",
    "x = [1,2,3,1,1,1,1,1]\n",
    "x"
   ]
  },
  {
   "cell_type": "code",
   "execution_count": 9,
   "id": "1d946c06",
   "metadata": {},
   "outputs": [
    {
     "data": {
      "text/plain": [
       "8"
      ]
     },
     "execution_count": 9,
     "metadata": {},
     "output_type": "execute_result"
    }
   ],
   "source": [
    "len(x)"
   ]
  },
  {
   "cell_type": "code",
   "execution_count": 10,
   "id": "1eee31e5",
   "metadata": {},
   "outputs": [
    {
     "data": {
      "text/plain": [
       "list"
      ]
     },
     "execution_count": 10,
     "metadata": {},
     "output_type": "execute_result"
    }
   ],
   "source": [
    "type(x)"
   ]
  },
  {
   "cell_type": "code",
   "execution_count": 11,
   "id": "4156f516",
   "metadata": {},
   "outputs": [
    {
     "data": {
      "text/plain": [
       "{}"
      ]
     },
     "execution_count": 11,
     "metadata": {},
     "output_type": "execute_result"
    }
   ],
   "source": [
    "s = {}\n",
    "s"
   ]
  },
  {
   "cell_type": "code",
   "execution_count": 12,
   "id": "e35ab530",
   "metadata": {},
   "outputs": [
    {
     "data": {
      "text/plain": [
       "dict"
      ]
     },
     "execution_count": 12,
     "metadata": {},
     "output_type": "execute_result"
    }
   ],
   "source": [
    "type(s)"
   ]
  },
  {
   "cell_type": "code",
   "execution_count": 13,
   "id": "4e321a90",
   "metadata": {},
   "outputs": [
    {
     "data": {
      "text/plain": [
       "{1, 2, 3}"
      ]
     },
     "execution_count": 13,
     "metadata": {},
     "output_type": "execute_result"
    }
   ],
   "source": [
    "# Set has not iterative element\n",
    "# Set has not ordered and can use slice\n",
    "s = {1,2,3,1,1,1,1,1}\n",
    "s"
   ]
  },
  {
   "cell_type": "code",
   "execution_count": 14,
   "id": "6bde56b8",
   "metadata": {},
   "outputs": [
    {
     "data": {
      "text/plain": [
       "set"
      ]
     },
     "execution_count": 14,
     "metadata": {},
     "output_type": "execute_result"
    }
   ],
   "source": [
    "type(s)"
   ]
  },
  {
   "cell_type": "markdown",
   "id": "c3ac41a1",
   "metadata": {},
   "source": [
    "- Use `for loop` in `set`"
   ]
  },
  {
   "cell_type": "code",
   "execution_count": 15,
   "id": "95af3752",
   "metadata": {},
   "outputs": [
    {
     "name": "stdout",
     "output_type": "stream",
     "text": [
      "1\n",
      "2\n",
      "3\n"
     ]
    }
   ],
   "source": [
    "for item in s:\n",
    "    print(item)"
   ]
  },
  {
   "cell_type": "markdown",
   "id": "d2c40dfa",
   "metadata": {},
   "source": [
    "- In `set` use any data type"
   ]
  },
  {
   "cell_type": "code",
   "execution_count": 16,
   "id": "6bcdcfbd",
   "metadata": {},
   "outputs": [],
   "source": [
    "s = {'ali',1,2,3,1}"
   ]
  },
  {
   "cell_type": "code",
   "execution_count": 17,
   "id": "78b90f4f",
   "metadata": {},
   "outputs": [
    {
     "data": {
      "text/plain": [
       "{1, 2, 3, 'ali'}"
      ]
     },
     "execution_count": 17,
     "metadata": {},
     "output_type": "execute_result"
    }
   ],
   "source": [
    "s"
   ]
  },
  {
   "cell_type": "code",
   "execution_count": 18,
   "id": "a3186f45",
   "metadata": {},
   "outputs": [
    {
     "data": {
      "text/plain": [
       "tuple"
      ]
     },
     "execution_count": 18,
     "metadata": {},
     "output_type": "execute_result"
    }
   ],
   "source": [
    "type(tuple())"
   ]
  },
  {
   "cell_type": "code",
   "execution_count": 19,
   "id": "26f93b6a",
   "metadata": {},
   "outputs": [
    {
     "data": {
      "text/plain": [
       "set"
      ]
     },
     "execution_count": 19,
     "metadata": {},
     "output_type": "execute_result"
    }
   ],
   "source": [
    "type(set())"
   ]
  },
  {
   "cell_type": "markdown",
   "id": "771e8dfc",
   "metadata": {},
   "source": [
    "- For solving iterative element in `list`, you should convert to `set`."
   ]
  },
  {
   "cell_type": "code",
   "execution_count": 20,
   "id": "7534c2ff",
   "metadata": {},
   "outputs": [],
   "source": [
    "s = set([1,2,3,3,2])"
   ]
  },
  {
   "cell_type": "code",
   "execution_count": 21,
   "id": "7ba4433e",
   "metadata": {},
   "outputs": [
    {
     "data": {
      "text/plain": [
       "{1, 2, 3}"
      ]
     },
     "execution_count": 21,
     "metadata": {},
     "output_type": "execute_result"
    }
   ],
   "source": [
    "s"
   ]
  },
  {
   "cell_type": "code",
   "execution_count": 22,
   "id": "9e947f43",
   "metadata": {},
   "outputs": [
    {
     "data": {
      "text/plain": [
       "set"
      ]
     },
     "execution_count": 22,
     "metadata": {},
     "output_type": "execute_result"
    }
   ],
   "source": [
    "type(s)"
   ]
  },
  {
   "cell_type": "markdown",
   "id": "e601b3f1",
   "metadata": {},
   "source": [
    "- Set and list are mutable."
   ]
  },
  {
   "cell_type": "code",
   "execution_count": 23,
   "id": "23f3bf05",
   "metadata": {},
   "outputs": [],
   "source": [
    "l = [1,2,3]"
   ]
  },
  {
   "cell_type": "code",
   "execution_count": 24,
   "id": "30f4ea36",
   "metadata": {},
   "outputs": [],
   "source": [
    "l.append(4)"
   ]
  },
  {
   "cell_type": "code",
   "execution_count": 25,
   "id": "70a36978",
   "metadata": {},
   "outputs": [
    {
     "data": {
      "text/plain": [
       "[1, 2, 3, 4]"
      ]
     },
     "execution_count": 25,
     "metadata": {},
     "output_type": "execute_result"
    }
   ],
   "source": [
    "l"
   ]
  },
  {
   "cell_type": "code",
   "execution_count": 26,
   "id": "e9fda02d",
   "metadata": {},
   "outputs": [
    {
     "data": {
      "text/plain": [
       "list"
      ]
     },
     "execution_count": 26,
     "metadata": {},
     "output_type": "execute_result"
    }
   ],
   "source": [
    "type(l)"
   ]
  },
  {
   "cell_type": "code",
   "execution_count": 27,
   "id": "6d4d729e",
   "metadata": {},
   "outputs": [],
   "source": [
    "r = {1,2,3}"
   ]
  },
  {
   "cell_type": "markdown",
   "id": "5bf89ae4",
   "metadata": {},
   "source": [
    "- `add` is equal `append` in list"
   ]
  },
  {
   "cell_type": "code",
   "execution_count": 28,
   "id": "51ada819",
   "metadata": {},
   "outputs": [],
   "source": [
    "r.add(4)"
   ]
  },
  {
   "cell_type": "code",
   "execution_count": 29,
   "id": "bb673354",
   "metadata": {},
   "outputs": [
    {
     "data": {
      "text/plain": [
       "{1, 2, 3, 4}"
      ]
     },
     "execution_count": 29,
     "metadata": {},
     "output_type": "execute_result"
    }
   ],
   "source": [
    "r"
   ]
  },
  {
   "cell_type": "code",
   "execution_count": 30,
   "id": "0a3ffced",
   "metadata": {},
   "outputs": [
    {
     "data": {
      "text/plain": [
       "set"
      ]
     },
     "execution_count": 30,
     "metadata": {},
     "output_type": "execute_result"
    }
   ],
   "source": [
    "type(r)"
   ]
  },
  {
   "cell_type": "code",
   "execution_count": 31,
   "id": "65692dea",
   "metadata": {},
   "outputs": [
    {
     "data": {
      "text/plain": [
       "{1, 2, 3}"
      ]
     },
     "execution_count": 31,
     "metadata": {},
     "output_type": "execute_result"
    }
   ],
   "source": [
    "s"
   ]
  },
  {
   "cell_type": "markdown",
   "id": "12d5b609",
   "metadata": {},
   "source": [
    "- In `list[]`, use `update()` for updating element.\n",
    "- In `set{}`, use `extend()` for updating element."
   ]
  },
  {
   "cell_type": "code",
   "execution_count": 32,
   "id": "2e1c0c12",
   "metadata": {},
   "outputs": [
    {
     "data": {
      "text/plain": [
       "{1, 2, 3, 4, 5, 6}"
      ]
     },
     "execution_count": 32,
     "metadata": {},
     "output_type": "execute_result"
    }
   ],
   "source": [
    "s.update([1,2,3,4,5,6])\n",
    "s"
   ]
  },
  {
   "cell_type": "markdown",
   "id": "0812761a",
   "metadata": {},
   "source": [
    "- When a set is defined this way, each <obj> becomes a distinct element of the set, even if it is an iterable. \\\n",
    "    This behaviour is similar to that of the `.append()` list method.\n",
    "- Thus, the sets shown above can also be defined like this:"
   ]
  },
  {
   "cell_type": "code",
   "execution_count": 33,
   "id": "622679b6",
   "metadata": {},
   "outputs": [
    {
     "data": {
      "text/plain": [
       "{'bar', 'baz', 'foo', 'qux'}"
      ]
     },
     "execution_count": 33,
     "metadata": {},
     "output_type": "execute_result"
    }
   ],
   "source": [
    "x = {'foo','bar','baz','foo','qux'}\n",
    "x"
   ]
  },
  {
   "cell_type": "code",
   "execution_count": 34,
   "id": "ff04f03e",
   "metadata": {},
   "outputs": [
    {
     "data": {
      "text/plain": [
       "{'q', 'u', 'x'}"
      ]
     },
     "execution_count": 34,
     "metadata": {},
     "output_type": "execute_result"
    }
   ],
   "source": [
    "x = {'q','u','u','x'}\n",
    "x"
   ]
  },
  {
   "cell_type": "markdown",
   "id": "afc84f38",
   "metadata": {},
   "source": [
    "- for removing an element in set, use `-`."
   ]
  },
  {
   "cell_type": "code",
   "execution_count": 35,
   "id": "19a56d6b",
   "metadata": {},
   "outputs": [
    {
     "data": {
      "text/plain": [
       "{5, 6}"
      ]
     },
     "execution_count": 35,
     "metadata": {},
     "output_type": "execute_result"
    }
   ],
   "source": [
    "s - {1,2,3,4}"
   ]
  },
  {
   "cell_type": "markdown",
   "id": "d420589c",
   "metadata": {},
   "source": [
    "- for adding an element in set, can't add an element via `+`."
   ]
  },
  {
   "cell_type": "code",
   "execution_count": 36,
   "id": "22c89661",
   "metadata": {},
   "outputs": [],
   "source": [
    "# s + {4}"
   ]
  },
  {
   "cell_type": "markdown",
   "id": "44916c96",
   "metadata": {},
   "source": [
    "- For `union` use the union set with another set."
   ]
  },
  {
   "cell_type": "code",
   "execution_count": 37,
   "id": "7b971fda",
   "metadata": {},
   "outputs": [
    {
     "data": {
      "text/plain": [
       "{0, 1, 2, 3, 4, 5, 6, 9, 99}"
      ]
     },
     "execution_count": 37,
     "metadata": {},
     "output_type": "execute_result"
    }
   ],
   "source": [
    "s.union({99,9,0})"
   ]
  },
  {
   "cell_type": "markdown",
   "id": "01804d08",
   "metadata": {},
   "source": [
    "- For `intersection` use the intersection `set{}` with another `set{}`."
   ]
  },
  {
   "cell_type": "code",
   "execution_count": 38,
   "id": "d79f4833",
   "metadata": {},
   "outputs": [
    {
     "data": {
      "text/plain": [
       "{1, 2, 3}"
      ]
     },
     "execution_count": 38,
     "metadata": {},
     "output_type": "execute_result"
    }
   ],
   "source": [
    "s.intersection({1,2,3})"
   ]
  },
  {
   "cell_type": "markdown",
   "id": "8f38788d",
   "metadata": {},
   "source": [
    "**To recap:**\n",
    "\n",
    "- The argument to `set()` is an **iterable.** It generates a list of elements to be placed into the set.\n",
    "- The objects in curly braces are placed into the set intact, `even if they are iterable.`\n",
    "\n",
    "Observe the difference between these two set definitons:"
   ]
  },
  {
   "cell_type": "markdown",
   "id": "c9fdc33b",
   "metadata": {},
   "source": [
    "- For `difference` use the difference `set{}` with another `set{}`."
   ]
  },
  {
   "cell_type": "code",
   "execution_count": 39,
   "id": "67a351a5",
   "metadata": {},
   "outputs": [
    {
     "data": {
      "text/plain": [
       "{1, 3, 4, 5, 6}"
      ]
     },
     "execution_count": 39,
     "metadata": {},
     "output_type": "execute_result"
    }
   ],
   "source": [
    "s.difference({2})"
   ]
  },
  {
   "cell_type": "markdown",
   "id": "dc7943c1",
   "metadata": {},
   "source": [
    "- A set can be empty. However, recall that Python interprets empty curly braces `({})` as an empty dictionary, so the only way to define an empty set is with the `set()` functions."
   ]
  },
  {
   "cell_type": "code",
   "execution_count": 40,
   "id": "43b9ddc6",
   "metadata": {},
   "outputs": [
    {
     "data": {
      "text/plain": [
       "{' ', 'a', 'e', 'h', 'i', 'j', 'l', 'z'}"
      ]
     },
     "execution_count": 40,
     "metadata": {},
     "output_type": "execute_result"
    }
   ],
   "source": [
    "set('ali hejazi')"
   ]
  },
  {
   "cell_type": "code",
   "execution_count": 41,
   "id": "8122402f",
   "metadata": {},
   "outputs": [
    {
     "data": {
      "text/plain": [
       "set"
      ]
     },
     "execution_count": 41,
     "metadata": {},
     "output_type": "execute_result"
    }
   ],
   "source": [
    "x = set()\n",
    "type(x)"
   ]
  },
  {
   "cell_type": "markdown",
   "id": "d3a11836",
   "metadata": {},
   "source": [
    "- An empty set is false in a Boolean context"
   ]
  },
  {
   "cell_type": "code",
   "execution_count": 42,
   "id": "f8c8ac82",
   "metadata": {},
   "outputs": [
    {
     "data": {
      "text/plain": [
       "False"
      ]
     },
     "execution_count": 42,
     "metadata": {},
     "output_type": "execute_result"
    }
   ],
   "source": [
    "x = set()\n",
    "bool(x)"
   ]
  },
  {
   "cell_type": "code",
   "execution_count": 43,
   "id": "669f0e1d",
   "metadata": {},
   "outputs": [
    {
     "data": {
      "text/plain": [
       "1"
      ]
     },
     "execution_count": 43,
     "metadata": {},
     "output_type": "execute_result"
    }
   ],
   "source": [
    "x or 1"
   ]
  },
  {
   "cell_type": "code",
   "execution_count": 44,
   "id": "f6859d27",
   "metadata": {},
   "outputs": [
    {
     "data": {
      "text/plain": [
       "set()"
      ]
     },
     "execution_count": 44,
     "metadata": {},
     "output_type": "execute_result"
    }
   ],
   "source": [
    "x and 1"
   ]
  },
  {
   "cell_type": "markdown",
   "id": "e58ebd0e",
   "metadata": {},
   "source": [
    "- Python does not require this, though. `The elements in a set can be objects of different types:`"
   ]
  },
  {
   "cell_type": "code",
   "execution_count": 45,
   "id": "72ae81d1",
   "metadata": {},
   "outputs": [
    {
     "data": {
      "text/plain": [
       "{3.14159, 42, None, 'foo'}"
      ]
     },
     "execution_count": 45,
     "metadata": {},
     "output_type": "execute_result"
    }
   ],
   "source": [
    "x = {42,'foo',3.14159,None}\n",
    "x"
   ]
  },
  {
   "cell_type": "markdown",
   "id": "3d48c17f",
   "metadata": {},
   "source": [
    "- Don't forget that set elements must be immutable (you will later learn that the objects must actally be hashable).\\\n",
    "For example, a tuple may be included in a set:"
   ]
  },
  {
   "cell_type": "code",
   "execution_count": 46,
   "id": "6ab6189e",
   "metadata": {},
   "outputs": [
    {
     "data": {
      "text/plain": [
       "{(1, 2, 3), 3.14159, 42, 'foo'}"
      ]
     },
     "execution_count": 46,
     "metadata": {},
     "output_type": "execute_result"
    }
   ],
   "source": [
    "x = {42,'foo',(1,2,3),3.14159}\n",
    "x"
   ]
  },
  {
   "cell_type": "markdown",
   "id": "0ef2fcb3",
   "metadata": {},
   "source": [
    "- In `set` doesn't use `list` inside it. `[TypeError: unhashable type: 'list']`\n",
    "- Elements of set and dictionary must be Hashable.\n",
    "- In `list` doesn't use `dictionary` inside it. \n",
    "\n",
    "a = [1,2,3]\n",
    "{a}\n",
    "\n",
    "or\n",
    "\n",
    "a = {[1,2,3]}"
   ]
  },
  {
   "cell_type": "code",
   "execution_count": 47,
   "id": "6e196823",
   "metadata": {},
   "outputs": [
    {
     "data": {
      "text/plain": [
       "{(1, 2, 3), 1, int, 'ali'}"
      ]
     },
     "execution_count": 47,
     "metadata": {},
     "output_type": "execute_result"
    }
   ],
   "source": [
    "s = {'ali',1,(1,2,3),int}\n",
    "s"
   ]
  },
  {
   "cell_type": "code",
   "execution_count": 48,
   "id": "36860da7",
   "metadata": {},
   "outputs": [],
   "source": [
    "# s = {{'ali':2}}"
   ]
  },
  {
   "cell_type": "code",
   "execution_count": 49,
   "id": "f7b0e36c",
   "metadata": {},
   "outputs": [
    {
     "data": {
      "text/plain": [
       "4"
      ]
     },
     "execution_count": 49,
     "metadata": {},
     "output_type": "execute_result"
    }
   ],
   "source": [
    "len(s)"
   ]
  },
  {
   "cell_type": "markdown",
   "id": "f9851b7e",
   "metadata": {},
   "source": [
    "- use `set` for `searching`."
   ]
  },
  {
   "cell_type": "code",
   "execution_count": 50,
   "id": "231b2048",
   "metadata": {},
   "outputs": [
    {
     "data": {
      "text/plain": [
       "True"
      ]
     },
     "execution_count": 50,
     "metadata": {},
     "output_type": "execute_result"
    }
   ],
   "source": [
    "1 in s"
   ]
  },
  {
   "cell_type": "code",
   "execution_count": 51,
   "id": "59c21ee1",
   "metadata": {},
   "outputs": [
    {
     "data": {
      "text/plain": [
       "False"
      ]
     },
     "execution_count": 51,
     "metadata": {},
     "output_type": "execute_result"
    }
   ],
   "source": [
    "2 in s"
   ]
  },
  {
   "cell_type": "code",
   "execution_count": 52,
   "id": "d114230a",
   "metadata": {},
   "outputs": [],
   "source": [
    "x = list(range(10000))"
   ]
  },
  {
   "cell_type": "code",
   "execution_count": 53,
   "id": "f1025d24",
   "metadata": {},
   "outputs": [],
   "source": [
    "s = set(range(10000))"
   ]
  },
  {
   "cell_type": "code",
   "execution_count": 54,
   "id": "d6eecffa",
   "metadata": {},
   "outputs": [
    {
     "data": {
      "text/plain": [
       "(10000, 10000)"
      ]
     },
     "execution_count": 54,
     "metadata": {},
     "output_type": "execute_result"
    }
   ],
   "source": [
    "len(x),len(s)"
   ]
  },
  {
   "cell_type": "code",
   "execution_count": 55,
   "id": "4639cca4",
   "metadata": {},
   "outputs": [
    {
     "data": {
      "text/plain": [
       "True"
      ]
     },
     "execution_count": 55,
     "metadata": {},
     "output_type": "execute_result"
    }
   ],
   "source": [
    "4000 in x"
   ]
  },
  {
   "cell_type": "code",
   "execution_count": 56,
   "id": "94e27f4d",
   "metadata": {},
   "outputs": [
    {
     "name": "stdout",
     "output_type": "stream",
     "text": [
      "68.3 µs ± 10.3 µs per loop (mean ± std. dev. of 7 runs, 10,000 loops each)\n"
     ]
    }
   ],
   "source": [
    "%timeit 9999 in x"
   ]
  },
  {
   "cell_type": "code",
   "execution_count": 57,
   "id": "a85ec4f3",
   "metadata": {},
   "outputs": [
    {
     "data": {
      "text/plain": [
       "True"
      ]
     },
     "execution_count": 57,
     "metadata": {},
     "output_type": "execute_result"
    }
   ],
   "source": [
    "4000 in s"
   ]
  },
  {
   "cell_type": "code",
   "execution_count": 58,
   "id": "cdeb2aec",
   "metadata": {},
   "outputs": [
    {
     "name": "stdout",
     "output_type": "stream",
     "text": [
      "41.1 ns ± 1.52 ns per loop (mean ± std. dev. of 7 runs, 10,000,000 loops each)\n"
     ]
    }
   ],
   "source": [
    "%timeit 9999 in s"
   ]
  },
  {
   "cell_type": "markdown",
   "id": "1c26db8c",
   "metadata": {},
   "source": [
    "# Immutable set with frozenset\n",
    "\n",
    "The `frozenset()` function returns an immutable forzenset object initalized with elements from the given iterable.\\\n",
    "\n",
    "The syntax of `forzenset()` function is:\n",
    "\n",
    "```python\n",
    "firzenset([iterable])\n",
    "```\n",
    "- `iterable` (Optional) - the iterable which contains elements to initialize the frozenset with:\n",
    "- Iterable can be set, dictionary, tuple, etc."
   ]
  },
  {
   "cell_type": "code",
   "execution_count": 59,
   "id": "3b7379b6",
   "metadata": {},
   "outputs": [
    {
     "data": {
      "text/plain": [
       "frozenset({1, 2, 3})"
      ]
     },
     "execution_count": 59,
     "metadata": {},
     "output_type": "execute_result"
    }
   ],
   "source": [
    "fs = frozenset([1,2,3])\n",
    "fs"
   ]
  },
  {
   "cell_type": "markdown",
   "id": "51070c0a",
   "metadata": {},
   "source": [
    "Frozen set is just an immutable version of a Python set object. While elements of a set can be modified at any time, elements of the frozen set remain the same after creation."
   ]
  },
  {
   "cell_type": "code",
   "execution_count": 60,
   "id": "ef089243",
   "metadata": {},
   "outputs": [
    {
     "data": {
      "text/plain": [
       "{1, 2, 3}"
      ]
     },
     "execution_count": 60,
     "metadata": {},
     "output_type": "execute_result"
    }
   ],
   "source": [
    "# list\n",
    "s = set([1,2,3])\n",
    "s"
   ]
  },
  {
   "cell_type": "code",
   "execution_count": 61,
   "id": "b6bcf2b0",
   "metadata": {},
   "outputs": [],
   "source": [
    "s.add(4)"
   ]
  },
  {
   "cell_type": "code",
   "execution_count": 62,
   "id": "33a684cf",
   "metadata": {},
   "outputs": [
    {
     "data": {
      "text/plain": [
       "{1, 2, 3, 4}"
      ]
     },
     "execution_count": 62,
     "metadata": {},
     "output_type": "execute_result"
    }
   ],
   "source": [
    "s"
   ]
  },
  {
   "cell_type": "markdown",
   "id": "21b1a729",
   "metadata": {},
   "source": [
    "- `TypeError: unhashable type: 'set'`"
   ]
  },
  {
   "cell_type": "code",
   "execution_count": 63,
   "id": "829eb844",
   "metadata": {},
   "outputs": [],
   "source": [
    "# hash(s)"
   ]
  },
  {
   "cell_type": "code",
   "execution_count": 64,
   "id": "bceefe2d",
   "metadata": {},
   "outputs": [
    {
     "data": {
      "text/plain": [
       "{1, 2, 3, 4}"
      ]
     },
     "execution_count": 64,
     "metadata": {},
     "output_type": "execute_result"
    }
   ],
   "source": [
    "s"
   ]
  },
  {
   "cell_type": "code",
   "execution_count": 65,
   "id": "f9167836",
   "metadata": {},
   "outputs": [],
   "source": [
    "s.remove(3)"
   ]
  },
  {
   "cell_type": "code",
   "execution_count": 66,
   "id": "e5cc7663",
   "metadata": {},
   "outputs": [
    {
     "data": {
      "text/plain": [
       "{1, 2, 4}"
      ]
     },
     "execution_count": 66,
     "metadata": {},
     "output_type": "execute_result"
    }
   ],
   "source": [
    "s"
   ]
  },
  {
   "cell_type": "markdown",
   "id": "5d1febd5",
   "metadata": {},
   "source": [
    "- `set` is immutable and can't change object"
   ]
  },
  {
   "cell_type": "code",
   "execution_count": 67,
   "id": "afdf3523",
   "metadata": {},
   "outputs": [],
   "source": [
    "# frozen set immutable\n",
    "fs = frozenset([1,2,3])"
   ]
  },
  {
   "cell_type": "code",
   "execution_count": 68,
   "id": "a4521c5e",
   "metadata": {},
   "outputs": [
    {
     "data": {
      "text/plain": [
       "frozenset({1, 2, 3})"
      ]
     },
     "execution_count": 68,
     "metadata": {},
     "output_type": "execute_result"
    }
   ],
   "source": [
    "fs"
   ]
  },
  {
   "cell_type": "code",
   "execution_count": 69,
   "id": "448774c6",
   "metadata": {},
   "outputs": [
    {
     "data": {
      "text/plain": [
       "-272375401224217160"
      ]
     },
     "execution_count": 69,
     "metadata": {},
     "output_type": "execute_result"
    }
   ],
   "source": [
    "hash(fs)"
   ]
  },
  {
   "cell_type": "markdown",
   "id": "b9604210",
   "metadata": {},
   "source": [
    "- In frozenset cant remove item [`AttributeError: 'frozenset' object has no attribute 'remove'`]"
   ]
  },
  {
   "cell_type": "code",
   "execution_count": 70,
   "id": "f01734fc",
   "metadata": {},
   "outputs": [],
   "source": [
    "# fs.remove(3)"
   ]
  }
 ],
 "metadata": {
  "kernelspec": {
   "display_name": "Python 3 (ipykernel)",
   "language": "python",
   "name": "python3"
  },
  "language_info": {
   "codemirror_mode": {
    "name": "ipython",
    "version": 3
   },
   "file_extension": ".py",
   "mimetype": "text/x-python",
   "name": "python",
   "nbconvert_exporter": "python",
   "pygments_lexer": "ipython3",
   "version": "3.9.15"
  }
 },
 "nbformat": 4,
 "nbformat_minor": 5
}
