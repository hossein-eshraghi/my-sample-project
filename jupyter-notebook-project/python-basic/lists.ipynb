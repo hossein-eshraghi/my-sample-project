{
 "cells": [
  {
   "cell_type": "markdown",
   "id": "fa728cf4",
   "metadata": {},
   "source": [
    "# Lists"
   ]
  },
  {
   "cell_type": "code",
   "execution_count": 50,
   "id": "253b958c",
   "metadata": {},
   "outputs": [],
   "source": [
    "to_do_ali = ['Jaroo','Study Math','Python Class']"
   ]
  },
  {
   "cell_type": "markdown",
   "id": "5696eccf",
   "metadata": {},
   "source": [
    "- In list use different type of object `[string,numerical,function,Boolean,...]`"
   ]
  },
  {
   "cell_type": "code",
   "execution_count": 51,
   "id": "1d2ce1f1",
   "metadata": {},
   "outputs": [],
   "source": [
    "def add(a,b):\n",
    "    return a + b"
   ]
  },
  {
   "cell_type": "code",
   "execution_count": 52,
   "id": "09262929",
   "metadata": {},
   "outputs": [],
   "source": [
    "list_ali = [1,'a',False,True,1.2,1+3j,add]"
   ]
  },
  {
   "cell_type": "code",
   "execution_count": 53,
   "id": "66c42e67",
   "metadata": {},
   "outputs": [
    {
     "data": {
      "text/plain": [
       "[1, 'a', False, True, 1.2, (1+3j), <function __main__.add(a, b)>]"
      ]
     },
     "execution_count": 53,
     "metadata": {},
     "output_type": "execute_result"
    }
   ],
   "source": [
    "list_ali"
   ]
  },
  {
   "cell_type": "code",
   "execution_count": 54,
   "id": "b9e566a3",
   "metadata": {},
   "outputs": [
    {
     "name": "stdout",
     "output_type": "stream",
     "text": [
      "Enter a name:ali\n",
      "Enter a name:hasan\n",
      "Enter a name:reza\n",
      "Enter a name:\n"
     ]
    }
   ],
   "source": [
    "names = []\n",
    "name = input('Enter a name:')\n",
    "while name:\n",
    "    names.append(name)\n",
    "    name = input('Enter a name:')"
   ]
  },
  {
   "cell_type": "code",
   "execution_count": 55,
   "id": "6c371f35",
   "metadata": {},
   "outputs": [
    {
     "data": {
      "text/plain": [
       "['ali', 'hasan', 'reza']"
      ]
     },
     "execution_count": 55,
     "metadata": {},
     "output_type": "execute_result"
    }
   ],
   "source": [
    "names"
   ]
  },
  {
   "cell_type": "code",
   "execution_count": 56,
   "id": "a3a70940",
   "metadata": {},
   "outputs": [
    {
     "data": {
      "text/plain": [
       "'Python Class'"
      ]
     },
     "execution_count": 56,
     "metadata": {},
     "output_type": "execute_result"
    }
   ],
   "source": [
    "# List is iterable\n",
    "# indexing\n",
    "# slicing\n",
    "to_do_ali[2]"
   ]
  },
  {
   "cell_type": "code",
   "execution_count": 57,
   "id": "65f31d1c",
   "metadata": {},
   "outputs": [
    {
     "data": {
      "text/plain": [
       "['Jaroo', 'Study Math', 'Python Class']"
      ]
     },
     "execution_count": 57,
     "metadata": {},
     "output_type": "execute_result"
    }
   ],
   "source": [
    "to_do_ali[:]"
   ]
  },
  {
   "cell_type": "code",
   "execution_count": 58,
   "id": "31e74df1",
   "metadata": {},
   "outputs": [
    {
     "data": {
      "text/plain": [
       "[1, 2, 3, 4, 5, 6, 7, 8, 9, 10]"
      ]
     },
     "execution_count": 58,
     "metadata": {},
     "output_type": "execute_result"
    }
   ],
   "source": [
    "x = [1,2,3,4,5,6,7,8,9,10]\n",
    "x[:10]\n",
    "# x[inclusive:exclusive]"
   ]
  },
  {
   "cell_type": "code",
   "execution_count": 59,
   "id": "508af43f",
   "metadata": {},
   "outputs": [
    {
     "data": {
      "text/plain": [
       "[1, 2, 3, 4, 5, 6, 7, 8, 9, 10]"
      ]
     },
     "execution_count": 59,
     "metadata": {},
     "output_type": "execute_result"
    }
   ],
   "source": [
    "x[:]"
   ]
  },
  {
   "cell_type": "code",
   "execution_count": 60,
   "id": "e3c498f2",
   "metadata": {},
   "outputs": [
    {
     "data": {
      "text/plain": [
       "[3, 5]"
      ]
     },
     "execution_count": 60,
     "metadata": {},
     "output_type": "execute_result"
    }
   ],
   "source": [
    "x[2:5:2]"
   ]
  },
  {
   "cell_type": "code",
   "execution_count": 61,
   "id": "e778ef11",
   "metadata": {},
   "outputs": [
    {
     "data": {
      "text/plain": [
       "[10, 9, 8, 7, 6, 5, 4, 3, 2, 1]"
      ]
     },
     "execution_count": 61,
     "metadata": {},
     "output_type": "execute_result"
    }
   ],
   "source": [
    "x[::-1]"
   ]
  },
  {
   "cell_type": "code",
   "execution_count": 62,
   "id": "c5a9ecc3",
   "metadata": {},
   "outputs": [],
   "source": [
    "mystr = 'ali'"
   ]
  },
  {
   "cell_type": "code",
   "execution_count": 63,
   "id": "6e0946ce",
   "metadata": {},
   "outputs": [
    {
     "data": {
      "text/plain": [
       "True"
      ]
     },
     "execution_count": 63,
     "metadata": {},
     "output_type": "execute_result"
    }
   ],
   "source": [
    "mystr[:] == mystr"
   ]
  },
  {
   "cell_type": "code",
   "execution_count": 64,
   "id": "d0a79fd0",
   "metadata": {},
   "outputs": [
    {
     "data": {
      "text/plain": [
       "True"
      ]
     },
     "execution_count": 64,
     "metadata": {},
     "output_type": "execute_result"
    }
   ],
   "source": [
    "# string is immutable\n",
    "mystr[:] is mystr"
   ]
  },
  {
   "cell_type": "code",
   "execution_count": 65,
   "id": "6f380f06",
   "metadata": {},
   "outputs": [
    {
     "data": {
      "text/plain": [
       "True"
      ]
     },
     "execution_count": 65,
     "metadata": {},
     "output_type": "execute_result"
    }
   ],
   "source": [
    "x[:] == x"
   ]
  },
  {
   "cell_type": "code",
   "execution_count": 66,
   "id": "e7c2d951",
   "metadata": {},
   "outputs": [
    {
     "data": {
      "text/plain": [
       "False"
      ]
     },
     "execution_count": 66,
     "metadata": {},
     "output_type": "execute_result"
    }
   ],
   "source": [
    "# An element of a list can copy another list\n",
    "# For running this function if exist 1 g byte, need to 2 g byte capacity of RAM\n",
    "x[:] is x"
   ]
  },
  {
   "cell_type": "code",
   "execution_count": 67,
   "id": "f6ea10a1",
   "metadata": {},
   "outputs": [
    {
     "data": {
      "text/plain": [
       "[1, 2, 3, 4, 5, 6, 7, 8, 9, 10]"
      ]
     },
     "execution_count": 67,
     "metadata": {},
     "output_type": "execute_result"
    }
   ],
   "source": [
    "x"
   ]
  },
  {
   "cell_type": "code",
   "execution_count": 68,
   "id": "549e33e2",
   "metadata": {},
   "outputs": [
    {
     "data": {
      "text/plain": [
       "True"
      ]
     },
     "execution_count": 68,
     "metadata": {},
     "output_type": "execute_result"
    }
   ],
   "source": [
    "1 in x"
   ]
  },
  {
   "cell_type": "code",
   "execution_count": 69,
   "id": "943c2841",
   "metadata": {},
   "outputs": [
    {
     "data": {
      "text/plain": [
       "False"
      ]
     },
     "execution_count": 69,
     "metadata": {},
     "output_type": "execute_result"
    }
   ],
   "source": [
    "2 not in x"
   ]
  },
  {
   "cell_type": "code",
   "execution_count": 70,
   "id": "d00254e7",
   "metadata": {},
   "outputs": [
    {
     "data": {
      "text/plain": [
       "[1, 2, 3, 4, 5, 6, 7, 8, 9, 10, 11, 12]"
      ]
     },
     "execution_count": 70,
     "metadata": {},
     "output_type": "execute_result"
    }
   ],
   "source": [
    "x + [11,12]"
   ]
  },
  {
   "cell_type": "code",
   "execution_count": 71,
   "id": "0ef0609f",
   "metadata": {},
   "outputs": [
    {
     "data": {
      "text/plain": [
       "['Jaroo', 'Study Math', 'Python Class']"
      ]
     },
     "execution_count": 71,
     "metadata": {},
     "output_type": "execute_result"
    }
   ],
   "source": [
    "to_do_ali"
   ]
  },
  {
   "cell_type": "code",
   "execution_count": 72,
   "id": "fcf28eb2",
   "metadata": {},
   "outputs": [
    {
     "data": {
      "text/plain": [
       "['Jaroo',\n",
       " 'Study Math',\n",
       " 'Python Class',\n",
       " 'Jaroo',\n",
       " 'Study Math',\n",
       " 'Python Class',\n",
       " 'Jaroo',\n",
       " 'Study Math',\n",
       " 'Python Class']"
      ]
     },
     "execution_count": 72,
     "metadata": {},
     "output_type": "execute_result"
    }
   ],
   "source": [
    "to_do_ali * 3"
   ]
  },
  {
   "cell_type": "code",
   "execution_count": 73,
   "id": "4c9b6b61",
   "metadata": {},
   "outputs": [
    {
     "data": {
      "text/plain": [
       "[1, 2, 3, 4, 5, 6, 7, 8, 9, 10]"
      ]
     },
     "execution_count": 73,
     "metadata": {},
     "output_type": "execute_result"
    }
   ],
   "source": [
    "x"
   ]
  },
  {
   "cell_type": "code",
   "execution_count": 74,
   "id": "c3e0dca0",
   "metadata": {},
   "outputs": [
    {
     "data": {
      "text/plain": [
       "10"
      ]
     },
     "execution_count": 74,
     "metadata": {},
     "output_type": "execute_result"
    }
   ],
   "source": [
    "max(x)"
   ]
  },
  {
   "cell_type": "code",
   "execution_count": 75,
   "id": "4cba0aac",
   "metadata": {},
   "outputs": [
    {
     "data": {
      "text/plain": [
       "1"
      ]
     },
     "execution_count": 75,
     "metadata": {},
     "output_type": "execute_result"
    }
   ],
   "source": [
    "min(x)"
   ]
  },
  {
   "cell_type": "code",
   "execution_count": 76,
   "id": "4e474b39",
   "metadata": {},
   "outputs": [
    {
     "data": {
      "text/plain": [
       "3"
      ]
     },
     "execution_count": 76,
     "metadata": {},
     "output_type": "execute_result"
    }
   ],
   "source": [
    "len('Ali')"
   ]
  },
  {
   "cell_type": "code",
   "execution_count": 77,
   "id": "7b5b1140",
   "metadata": {},
   "outputs": [
    {
     "data": {
      "text/plain": [
       "['Jaroo', 'Study Math', 'Python Class']"
      ]
     },
     "execution_count": 77,
     "metadata": {},
     "output_type": "execute_result"
    }
   ],
   "source": [
    "to_do_ali"
   ]
  },
  {
   "cell_type": "code",
   "execution_count": 78,
   "id": "20df3465",
   "metadata": {},
   "outputs": [
    {
     "data": {
      "text/plain": [
       "3"
      ]
     },
     "execution_count": 78,
     "metadata": {},
     "output_type": "execute_result"
    }
   ],
   "source": [
    "len(to_do_ali)"
   ]
  },
  {
   "cell_type": "markdown",
   "id": "7f810f65",
   "metadata": {},
   "source": [
    "- In element of list can exist another list"
   ]
  },
  {
   "cell_type": "code",
   "execution_count": 79,
   "id": "846d81ce",
   "metadata": {},
   "outputs": [
    {
     "data": {
      "text/plain": [
       "[1, 2, 3, 4, [5, 6]]"
      ]
     },
     "execution_count": 79,
     "metadata": {},
     "output_type": "execute_result"
    }
   ],
   "source": [
    "x = [1,2,3,4,[5,6]]\n",
    "x"
   ]
  },
  {
   "cell_type": "code",
   "execution_count": 80,
   "id": "74dbbb05",
   "metadata": {},
   "outputs": [
    {
     "data": {
      "text/plain": [
       "6"
      ]
     },
     "execution_count": 80,
     "metadata": {},
     "output_type": "execute_result"
    }
   ],
   "source": [
    "x[4][1]"
   ]
  },
  {
   "cell_type": "code",
   "execution_count": 81,
   "id": "29758373",
   "metadata": {},
   "outputs": [
    {
     "data": {
      "text/plain": [
       "2"
      ]
     },
     "execution_count": 81,
     "metadata": {},
     "output_type": "execute_result"
    }
   ],
   "source": [
    "len(x[4])"
   ]
  },
  {
   "cell_type": "code",
   "execution_count": 82,
   "id": "50611ea4",
   "metadata": {},
   "outputs": [
    {
     "data": {
      "text/plain": [
       "5"
      ]
     },
     "execution_count": 82,
     "metadata": {},
     "output_type": "execute_result"
    }
   ],
   "source": [
    "len(x)"
   ]
  },
  {
   "cell_type": "code",
   "execution_count": 83,
   "id": "10bb1173",
   "metadata": {},
   "outputs": [
    {
     "data": {
      "text/plain": [
       "6"
      ]
     },
     "execution_count": 83,
     "metadata": {},
     "output_type": "execute_result"
    }
   ],
   "source": [
    "max(x[4])"
   ]
  },
  {
   "cell_type": "code",
   "execution_count": 84,
   "id": "1e474cd2",
   "metadata": {},
   "outputs": [],
   "source": [
    "y = [1,2,[3,[4,5]]]"
   ]
  },
  {
   "cell_type": "code",
   "execution_count": 85,
   "id": "d11803b7",
   "metadata": {},
   "outputs": [
    {
     "data": {
      "text/plain": [
       "5"
      ]
     },
     "execution_count": 85,
     "metadata": {},
     "output_type": "execute_result"
    }
   ],
   "source": [
    "y[2][1][1]"
   ]
  },
  {
   "cell_type": "markdown",
   "id": "8ae8f93d",
   "metadata": {},
   "source": [
    "## List Are Mutable vs. String Are Immutable"
   ]
  },
  {
   "cell_type": "code",
   "execution_count": 86,
   "id": "82e54a85",
   "metadata": {},
   "outputs": [
    {
     "data": {
      "text/plain": [
       "str"
      ]
     },
     "execution_count": 86,
     "metadata": {},
     "output_type": "execute_result"
    }
   ],
   "source": [
    "mystr = 'Ali'\n",
    "type(mystr)"
   ]
  },
  {
   "cell_type": "code",
   "execution_count": 87,
   "id": "eb3e7d14",
   "metadata": {},
   "outputs": [],
   "source": [
    "mystr = list(mystr)"
   ]
  },
  {
   "cell_type": "code",
   "execution_count": 88,
   "id": "03f317ee",
   "metadata": {},
   "outputs": [],
   "source": [
    "mystr[0] = 'ali'"
   ]
  },
  {
   "cell_type": "code",
   "execution_count": 89,
   "id": "ab9a9a90",
   "metadata": {},
   "outputs": [],
   "source": [
    "x = [1,2,3]"
   ]
  },
  {
   "cell_type": "code",
   "execution_count": 90,
   "id": "dcb98886",
   "metadata": {},
   "outputs": [
    {
     "data": {
      "text/plain": [
       "140287869200960"
      ]
     },
     "execution_count": 90,
     "metadata": {},
     "output_type": "execute_result"
    }
   ],
   "source": [
    "id(x)"
   ]
  },
  {
   "cell_type": "code",
   "execution_count": 91,
   "id": "bbc7697f",
   "metadata": {},
   "outputs": [],
   "source": [
    "x[0] = 'Ali'"
   ]
  },
  {
   "cell_type": "code",
   "execution_count": 92,
   "id": "40413995",
   "metadata": {},
   "outputs": [
    {
     "data": {
      "text/plain": [
       "['Ali', 2, 3]"
      ]
     },
     "execution_count": 92,
     "metadata": {},
     "output_type": "execute_result"
    }
   ],
   "source": [
    "x"
   ]
  },
  {
   "cell_type": "code",
   "execution_count": 93,
   "id": "b511a5fd",
   "metadata": {},
   "outputs": [
    {
     "data": {
      "text/plain": [
       "140287869200960"
      ]
     },
     "execution_count": 93,
     "metadata": {},
     "output_type": "execute_result"
    }
   ],
   "source": [
    "id(x)"
   ]
  },
  {
   "cell_type": "code",
   "execution_count": 94,
   "id": "70c56708",
   "metadata": {},
   "outputs": [],
   "source": [
    "x[-1] = 'Ali'"
   ]
  },
  {
   "cell_type": "code",
   "execution_count": 95,
   "id": "5605c1b0",
   "metadata": {},
   "outputs": [
    {
     "data": {
      "text/plain": [
       "140287869200960"
      ]
     },
     "execution_count": 95,
     "metadata": {},
     "output_type": "execute_result"
    }
   ],
   "source": [
    "id(x)"
   ]
  },
  {
   "cell_type": "code",
   "execution_count": 96,
   "id": "68917b17",
   "metadata": {},
   "outputs": [
    {
     "data": {
      "text/plain": [
       "['Ali', 2, 'Ali']"
      ]
     },
     "execution_count": 96,
     "metadata": {},
     "output_type": "execute_result"
    }
   ],
   "source": [
    "x"
   ]
  },
  {
   "cell_type": "code",
   "execution_count": 97,
   "id": "67e12b63",
   "metadata": {},
   "outputs": [],
   "source": [
    "del x[0]"
   ]
  },
  {
   "cell_type": "code",
   "execution_count": 98,
   "id": "bc43abd1",
   "metadata": {},
   "outputs": [
    {
     "data": {
      "text/plain": [
       "[2, 'Ali']"
      ]
     },
     "execution_count": 98,
     "metadata": {},
     "output_type": "execute_result"
    }
   ],
   "source": [
    "x"
   ]
  },
  {
   "cell_type": "code",
   "execution_count": 99,
   "id": "ff6b8637",
   "metadata": {},
   "outputs": [
    {
     "data": {
      "text/plain": [
       "140287869200960"
      ]
     },
     "execution_count": 99,
     "metadata": {},
     "output_type": "execute_result"
    }
   ],
   "source": [
    "id(x)"
   ]
  },
  {
   "cell_type": "code",
   "execution_count": 100,
   "id": "62aea513",
   "metadata": {},
   "outputs": [
    {
     "data": {
      "text/plain": [
       "[2, 'Ali']"
      ]
     },
     "execution_count": 100,
     "metadata": {},
     "output_type": "execute_result"
    }
   ],
   "source": [
    "x"
   ]
  },
  {
   "cell_type": "code",
   "execution_count": 101,
   "id": "d2d15e51",
   "metadata": {},
   "outputs": [],
   "source": [
    "del x[1]"
   ]
  },
  {
   "cell_type": "code",
   "execution_count": 102,
   "id": "9ac1f222",
   "metadata": {},
   "outputs": [
    {
     "data": {
      "text/plain": [
       "[2]"
      ]
     },
     "execution_count": 102,
     "metadata": {},
     "output_type": "execute_result"
    }
   ],
   "source": [
    "x"
   ]
  },
  {
   "cell_type": "code",
   "execution_count": 103,
   "id": "e999bb6f",
   "metadata": {},
   "outputs": [],
   "source": [
    "z = [1,2,3,4,5]"
   ]
  },
  {
   "cell_type": "code",
   "execution_count": 104,
   "id": "df97d09d",
   "metadata": {},
   "outputs": [],
   "source": [
    "z[:3] = [10,9,8,7,6,5]"
   ]
  },
  {
   "cell_type": "code",
   "execution_count": 105,
   "id": "00c081be",
   "metadata": {},
   "outputs": [
    {
     "data": {
      "text/plain": [
       "[10, 9, 8, 7, 6, 5, 4, 5]"
      ]
     },
     "execution_count": 105,
     "metadata": {},
     "output_type": "execute_result"
    }
   ],
   "source": [
    "z"
   ]
  },
  {
   "cell_type": "markdown",
   "id": "6bd77b80",
   "metadata": {},
   "source": [
    "# Prepending or Appending Items to a List"
   ]
  },
  {
   "cell_type": "markdown",
   "id": "7527f1b4",
   "metadata": {},
   "source": [
    "Additional items can be added to the start ir end of a list using the + concatenation operator or the `+=` augmented assignment operator:"
   ]
  },
  {
   "cell_type": "code",
   "execution_count": 106,
   "id": "5b4731ba",
   "metadata": {},
   "outputs": [],
   "source": [
    "to_do = ['Jaroo']"
   ]
  },
  {
   "cell_type": "code",
   "execution_count": 107,
   "id": "438bb3f8",
   "metadata": {},
   "outputs": [],
   "source": [
    "to_do.append('Python')"
   ]
  },
  {
   "cell_type": "code",
   "execution_count": 108,
   "id": "d491d465",
   "metadata": {},
   "outputs": [],
   "source": [
    "to_do.remove('Python')"
   ]
  },
  {
   "cell_type": "code",
   "execution_count": 109,
   "id": "74e940f6",
   "metadata": {},
   "outputs": [],
   "source": [
    "to_do.append(['Study Math','Study Physics'])"
   ]
  },
  {
   "cell_type": "code",
   "execution_count": 110,
   "id": "f8f786ad",
   "metadata": {},
   "outputs": [
    {
     "data": {
      "text/plain": [
       "['Jaroo', ['Study Math', 'Study Physics']]"
      ]
     },
     "execution_count": 110,
     "metadata": {},
     "output_type": "execute_result"
    }
   ],
   "source": [
    "to_do"
   ]
  },
  {
   "cell_type": "code",
   "execution_count": 111,
   "id": "065f9586",
   "metadata": {},
   "outputs": [],
   "source": [
    "to_do.remove(['Study Math','Study Physics'])"
   ]
  },
  {
   "cell_type": "code",
   "execution_count": 112,
   "id": "522aafd1",
   "metadata": {},
   "outputs": [],
   "source": [
    "to_do = to_do + ['Study Math','Study Physics']"
   ]
  },
  {
   "cell_type": "code",
   "execution_count": 113,
   "id": "4d880e26",
   "metadata": {},
   "outputs": [
    {
     "data": {
      "text/plain": [
       "['Jaroo', 'Study Math', 'Study Physics']"
      ]
     },
     "execution_count": 113,
     "metadata": {},
     "output_type": "execute_result"
    }
   ],
   "source": [
    "to_do"
   ]
  },
  {
   "cell_type": "code",
   "execution_count": 114,
   "id": "a728a948",
   "metadata": {},
   "outputs": [
    {
     "data": {
      "text/plain": [
       "3"
      ]
     },
     "execution_count": 114,
     "metadata": {},
     "output_type": "execute_result"
    }
   ],
   "source": [
    "len(to_do)"
   ]
  },
  {
   "cell_type": "code",
   "execution_count": 115,
   "id": "f55c4327",
   "metadata": {},
   "outputs": [],
   "source": [
    "to_do = ['Jaroo', 'Python']"
   ]
  },
  {
   "cell_type": "code",
   "execution_count": 116,
   "id": "b1482efd",
   "metadata": {},
   "outputs": [],
   "source": [
    "to_do.append(['Study Math','Study Physics'])"
   ]
  },
  {
   "cell_type": "code",
   "execution_count": 117,
   "id": "f0dc7739",
   "metadata": {},
   "outputs": [
    {
     "name": "stdout",
     "output_type": "stream",
     "text": [
      "['Jaroo', 'Python', ['Study Math', 'Study Physics']]\n"
     ]
    }
   ],
   "source": [
    "print(to_do)"
   ]
  },
  {
   "cell_type": "code",
   "execution_count": 118,
   "id": "3baf8519",
   "metadata": {},
   "outputs": [
    {
     "data": {
      "text/plain": [
       "3"
      ]
     },
     "execution_count": 118,
     "metadata": {},
     "output_type": "execute_result"
    }
   ],
   "source": [
    "len(to_do)"
   ]
  },
  {
   "cell_type": "code",
   "execution_count": 120,
   "id": "0d656ce9",
   "metadata": {},
   "outputs": [
    {
     "data": {
      "text/plain": [
       "['Jaroo', 'Python', ['Study Math', 'Study Physics']]"
      ]
     },
     "execution_count": 120,
     "metadata": {},
     "output_type": "execute_result"
    }
   ],
   "source": [
    "to_do"
   ]
  },
  {
   "cell_type": "code",
   "execution_count": 122,
   "id": "e215e256",
   "metadata": {},
   "outputs": [],
   "source": [
    "to_do.remove('Jaroo')"
   ]
  }
 ],
 "metadata": {
  "kernelspec": {
   "display_name": "Python 3 (ipykernel)",
   "language": "python",
   "name": "python3"
  },
  "language_info": {
   "codemirror_mode": {
    "name": "ipython",
    "version": 3
   },
   "file_extension": ".py",
   "mimetype": "text/x-python",
   "name": "python",
   "nbconvert_exporter": "python",
   "pygments_lexer": "ipython3",
   "version": "3.9.15"
  }
 },
 "nbformat": 4,
 "nbformat_minor": 5
}
