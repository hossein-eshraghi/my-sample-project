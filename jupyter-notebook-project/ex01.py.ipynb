{
 "cells": [
  {
   "cell_type": "markdown",
   "id": "27a2c5a2",
   "metadata": {},
   "source": [
    "# Section 1"
   ]
  },
  {
   "cell_type": "markdown",
   "id": "ceaaa0af",
   "metadata": {},
   "source": [
    "## Run Python in Jupyter Notebook"
   ]
  },
  {
   "cell_type": "markdown",
   "id": "9901a072",
   "metadata": {},
   "source": [
    "This is my first notebook\n",
    "This is equation in [latex](https://www.latex-project.org/): $\\sum_{x=0}^{x=\\infty}$\n",
    "```python\n",
    "def add():\n",
    "    print('hello world')\n",
    "```\n",
    "\n"
   ]
  },
  {
   "cell_type": "code",
   "execution_count": 2,
   "id": "a9b7644d",
   "metadata": {},
   "outputs": [],
   "source": [
    "x = 2"
   ]
  },
  {
   "cell_type": "code",
   "execution_count": 4,
   "id": "feeb7fdf",
   "metadata": {},
   "outputs": [],
   "source": [
    "y = 3"
   ]
  },
  {
   "cell_type": "code",
   "execution_count": 6,
   "id": "c9084291",
   "metadata": {},
   "outputs": [],
   "source": [
    "z = 4"
   ]
  },
  {
   "cell_type": "code",
   "execution_count": 8,
   "id": "e0cd2a87",
   "metadata": {},
   "outputs": [
    {
     "name": "stdout",
     "output_type": "stream",
     "text": [
      "2 3 4\n"
     ]
    }
   ],
   "source": [
    "print(x,y,z)"
   ]
  },
  {
   "cell_type": "code",
   "execution_count": 12,
   "id": "8cc8bb49",
   "metadata": {},
   "outputs": [],
   "source": [
    "def add(a,b):\n",
    "    return a + b"
   ]
  },
  {
   "cell_type": "code",
   "execution_count": 13,
   "id": "4d18c773",
   "metadata": {},
   "outputs": [
    {
     "data": {
      "text/plain": [
       "7"
      ]
     },
     "execution_count": 13,
     "metadata": {},
     "output_type": "execute_result"
    }
   ],
   "source": [
    "add(3,4)"
   ]
  },
  {
   "cell_type": "code",
   "execution_count": 16,
   "id": "25593670",
   "metadata": {},
   "outputs": [
    {
     "data": {
      "text/plain": [
       "28"
      ]
     },
     "execution_count": 16,
     "metadata": {},
     "output_type": "execute_result"
    }
   ],
   "source": [
    "28"
   ]
  },
  {
   "cell_type": "code",
   "execution_count": 18,
   "id": "a412d359",
   "metadata": {},
   "outputs": [
    {
     "data": {
      "text/plain": [
       "38"
      ]
     },
     "execution_count": 18,
     "metadata": {},
     "output_type": "execute_result"
    }
   ],
   "source": [
    "38"
   ]
  },
  {
   "cell_type": "code",
   "execution_count": 20,
   "id": "b65f37d0",
   "metadata": {},
   "outputs": [
    {
     "data": {
      "text/plain": [
       "232323232323123213"
      ]
     },
     "execution_count": 20,
     "metadata": {},
     "output_type": "execute_result"
    }
   ],
   "source": [
    "232323232323123213"
   ]
  },
  {
   "cell_type": "code",
   "execution_count": 23,
   "id": "c7da5a25",
   "metadata": {},
   "outputs": [
    {
     "data": {
      "text/plain": [
       "28"
      ]
     },
     "execution_count": 23,
     "metadata": {},
     "output_type": "execute_result"
    }
   ],
   "source": [
    "# size integer num 1 [1 byte = 8 bits]\n",
    "import sys\n",
    "sys.getsizeof(1)"
   ]
  },
  {
   "cell_type": "code",
   "execution_count": 25,
   "id": "d271e514",
   "metadata": {},
   "outputs": [
    {
     "data": {
      "text/plain": [
       "32"
      ]
     },
     "execution_count": 25,
     "metadata": {},
     "output_type": "execute_result"
    }
   ],
   "source": [
    "# size integer num 12378127382132189 + overhead\n",
    "sys.getsizeof(12378127382132189)"
   ]
  },
  {
   "cell_type": "code",
   "execution_count": 27,
   "id": "a1093579",
   "metadata": {},
   "outputs": [
    {
     "data": {
      "text/plain": [
       "7"
      ]
     },
     "execution_count": 27,
     "metadata": {},
     "output_type": "execute_result"
    }
   ],
   "source": [
    "# use binary\n",
    "0b111"
   ]
  },
  {
   "cell_type": "code",
   "execution_count": 29,
   "id": "1fa7f172",
   "metadata": {},
   "outputs": [
    {
     "data": {
      "text/plain": [
       "9"
      ]
     },
     "execution_count": 29,
     "metadata": {},
     "output_type": "execute_result"
    }
   ],
   "source": [
    "# use octal\n",
    "0o11"
   ]
  },
  {
   "cell_type": "code",
   "execution_count": 31,
   "id": "35aea28f",
   "metadata": {},
   "outputs": [
    {
     "data": {
      "text/plain": [
       "16"
      ]
     },
     "execution_count": 31,
     "metadata": {},
     "output_type": "execute_result"
    }
   ],
   "source": [
    "# use Hexadecimal\n",
    "0x10"
   ]
  },
  {
   "cell_type": "code",
   "execution_count": 33,
   "id": "34433f6c",
   "metadata": {},
   "outputs": [
    {
     "data": {
      "text/plain": [
       "int"
      ]
     },
     "execution_count": 33,
     "metadata": {},
     "output_type": "execute_result"
    }
   ],
   "source": [
    "# check type of 1\n",
    "type(1)"
   ]
  },
  {
   "cell_type": "code",
   "execution_count": 35,
   "id": "e093a650",
   "metadata": {},
   "outputs": [
    {
     "data": {
      "text/plain": [
       "int"
      ]
     },
     "execution_count": 35,
     "metadata": {},
     "output_type": "execute_result"
    }
   ],
   "source": [
    "# check type of 0x10\n",
    "type(0x10)"
   ]
  },
  {
   "cell_type": "code",
   "execution_count": 38,
   "id": "8f1e5029",
   "metadata": {},
   "outputs": [
    {
     "data": {
      "text/plain": [
       "int"
      ]
     },
     "execution_count": 38,
     "metadata": {},
     "output_type": "execute_result"
    }
   ],
   "source": [
    "# check type of 0o2123\n",
    "type(0o11)"
   ]
  },
  {
   "cell_type": "code",
   "execution_count": 40,
   "id": "d9a9e42f",
   "metadata": {},
   "outputs": [
    {
     "data": {
      "text/plain": [
       "8.99"
      ]
     },
     "execution_count": 40,
     "metadata": {},
     "output_type": "execute_result"
    }
   ],
   "source": [
    "8.99"
   ]
  },
  {
   "cell_type": "code",
   "execution_count": 43,
   "id": "8fcb9e8c",
   "metadata": {},
   "outputs": [
    {
     "data": {
      "text/plain": [
       "float"
      ]
     },
     "execution_count": 43,
     "metadata": {},
     "output_type": "execute_result"
    }
   ],
   "source": [
    "# check type of 8.99\n",
    "type(8.99)"
   ]
  },
  {
   "cell_type": "code",
   "execution_count": 45,
   "id": "8256d533",
   "metadata": {},
   "outputs": [
    {
     "data": {
      "text/plain": [
       "2.2"
      ]
     },
     "execution_count": 45,
     "metadata": {},
     "output_type": "execute_result"
    }
   ],
   "source": [
    "2.2"
   ]
  },
  {
   "cell_type": "code",
   "execution_count": 47,
   "id": "82ecec5a",
   "metadata": {},
   "outputs": [
    {
     "data": {
      "text/plain": [
       "0.2"
      ]
     },
     "execution_count": 47,
     "metadata": {},
     "output_type": "execute_result"
    }
   ],
   "source": [
    ".2"
   ]
  },
  {
   "cell_type": "code",
   "execution_count": 49,
   "id": "2e8492ab",
   "metadata": {},
   "outputs": [
    {
     "data": {
      "text/plain": [
       "4000000.0"
      ]
     },
     "execution_count": 49,
     "metadata": {},
     "output_type": "execute_result"
    }
   ],
   "source": [
    "4e6"
   ]
  },
  {
   "cell_type": "code",
   "execution_count": 51,
   "id": "22ca05f4",
   "metadata": {},
   "outputs": [
    {
     "data": {
      "text/plain": [
       "inf"
      ]
     },
     "execution_count": 51,
     "metadata": {},
     "output_type": "execute_result"
    }
   ],
   "source": [
    "1.8e308"
   ]
  },
  {
   "cell_type": "code",
   "execution_count": 53,
   "id": "aaae224d",
   "metadata": {},
   "outputs": [
    {
     "data": {
      "text/plain": [
       "0.0"
      ]
     },
     "execution_count": 53,
     "metadata": {},
     "output_type": "execute_result"
    }
   ],
   "source": [
    "1e-23232"
   ]
  },
  {
   "cell_type": "code",
   "execution_count": 56,
   "id": "255fda13",
   "metadata": {},
   "outputs": [
    {
     "data": {
      "text/plain": [
       "(2+3j)"
      ]
     },
     "execution_count": 56,
     "metadata": {},
     "output_type": "execute_result"
    }
   ],
   "source": [
    "# Complex Numbers\n",
    "2 + 3j"
   ]
  },
  {
   "cell_type": "code",
   "execution_count": 58,
   "id": "2b66dd69",
   "metadata": {},
   "outputs": [
    {
     "data": {
      "text/plain": [
       "complex"
      ]
     },
     "execution_count": 58,
     "metadata": {},
     "output_type": "execute_result"
    }
   ],
   "source": [
    "type(2+3j)"
   ]
  },
  {
   "cell_type": "code",
   "execution_count": 60,
   "id": "daf54a5f",
   "metadata": {},
   "outputs": [
    {
     "data": {
      "text/plain": [
       "'cucamber'"
      ]
     },
     "execution_count": 60,
     "metadata": {},
     "output_type": "execute_result"
    }
   ],
   "source": [
    "'cucamber'"
   ]
  },
  {
   "cell_type": "code",
   "execution_count": 62,
   "id": "7a73a1c5",
   "metadata": {},
   "outputs": [
    {
     "data": {
      "text/plain": [
       "str"
      ]
     },
     "execution_count": 62,
     "metadata": {},
     "output_type": "execute_result"
    }
   ],
   "source": [
    "type('cucamber')"
   ]
  },
  {
   "cell_type": "code",
   "execution_count": 64,
   "id": "98c71ed0",
   "metadata": {},
   "outputs": [
    {
     "data": {
      "text/plain": [
       "str"
      ]
     },
     "execution_count": 64,
     "metadata": {},
     "output_type": "execute_result"
    }
   ],
   "source": [
    "type('')"
   ]
  },
  {
   "cell_type": "code",
   "execution_count": 68,
   "id": "f3be6d6e",
   "metadata": {},
   "outputs": [
    {
     "data": {
      "text/plain": [
       "\"'Ali's book\""
      ]
     },
     "execution_count": 68,
     "metadata": {},
     "output_type": "execute_result"
    }
   ],
   "source": [
    "\"'Ali's book\""
   ]
  },
  {
   "cell_type": "code",
   "execution_count": 78,
   "id": "4e056306",
   "metadata": {},
   "outputs": [
    {
     "data": {
      "text/plain": [
       "\"Ali's father says: 'Hi'!\""
      ]
     },
     "execution_count": 78,
     "metadata": {},
     "output_type": "execute_result"
    }
   ],
   "source": [
    "\"Ali's father says: 'Hi'!\""
   ]
  },
  {
   "cell_type": "code",
   "execution_count": 79,
   "id": "1e005ac7",
   "metadata": {},
   "outputs": [
    {
     "name": "stdout",
     "output_type": "stream",
     "text": [
      "Ali \n",
      " Reza\n"
     ]
    }
   ],
   "source": [
    "print(\"Ali \\n Reza\")"
   ]
  },
  {
   "cell_type": "code",
   "execution_count": 84,
   "id": "93287fb0",
   "metadata": {},
   "outputs": [
    {
     "name": "stdout",
     "output_type": "stream",
     "text": [
      "→\n"
     ]
    }
   ],
   "source": [
    "# escape sequence\n",
    "print('\\u2192')"
   ]
  },
  {
   "cell_type": "code",
   "execution_count": 85,
   "id": "1816bc1c",
   "metadata": {},
   "outputs": [
    {
     "data": {
      "text/plain": [
       "True"
      ]
     },
     "execution_count": 85,
     "metadata": {},
     "output_type": "execute_result"
    }
   ],
   "source": [
    "2 * 2 == 4"
   ]
  },
  {
   "cell_type": "code",
   "execution_count": 87,
   "id": "dbc29866",
   "metadata": {},
   "outputs": [
    {
     "data": {
      "text/plain": [
       "52"
      ]
     },
     "execution_count": 87,
     "metadata": {},
     "output_type": "execute_result"
    }
   ],
   "source": [
    "sys.getsizeof('abc')"
   ]
  },
  {
   "cell_type": "code",
   "execution_count": 89,
   "id": "61211fa5",
   "metadata": {},
   "outputs": [
    {
     "name": "stdout",
     "output_type": "stream",
     "text": [
      "2\n"
     ]
    }
   ],
   "source": [
    "x = 2\n",
    "print(x)"
   ]
  },
  {
   "cell_type": "code",
   "execution_count": 92,
   "id": "5238d3e4",
   "metadata": {},
   "outputs": [
    {
     "name": "stdout",
     "output_type": "stream",
     "text": [
      "ali\n"
     ]
    }
   ],
   "source": [
    "x = 'ali'\n",
    "print(x)"
   ]
  },
  {
   "cell_type": "code",
   "execution_count": 96,
   "id": "da2f9cfe",
   "metadata": {},
   "outputs": [
    {
     "data": {
      "text/plain": [
       "'ali'"
      ]
     },
     "execution_count": 96,
     "metadata": {},
     "output_type": "execute_result"
    }
   ],
   "source": [
    "x"
   ]
  },
  {
   "cell_type": "code",
   "execution_count": 97,
   "id": "22593aa1",
   "metadata": {},
   "outputs": [
    {
     "name": "stdout",
     "output_type": "stream",
     "text": [
      "4 4 4\n"
     ]
    }
   ],
   "source": [
    "# chained assignment\n",
    "a = b = c = 4\n",
    "print(a,b,c)"
   ]
  },
  {
   "cell_type": "code",
   "execution_count": 99,
   "id": "56f9c529",
   "metadata": {},
   "outputs": [],
   "source": [
    "n = 300"
   ]
  },
  {
   "cell_type": "code",
   "execution_count": 101,
   "id": "e35942a4",
   "metadata": {},
   "outputs": [
    {
     "data": {
      "text/plain": [
       "int"
      ]
     },
     "execution_count": 101,
     "metadata": {},
     "output_type": "execute_result"
    }
   ],
   "source": [
    "type(n)"
   ]
  },
  {
   "cell_type": "code",
   "execution_count": 103,
   "id": "37b94077",
   "metadata": {},
   "outputs": [],
   "source": [
    "m = n"
   ]
  },
  {
   "cell_type": "code",
   "execution_count": 105,
   "id": "7903236c",
   "metadata": {},
   "outputs": [
    {
     "data": {
      "text/plain": [
       "300"
      ]
     },
     "execution_count": 105,
     "metadata": {},
     "output_type": "execute_result"
    }
   ],
   "source": [
    "# garbage collection\n",
    "m"
   ]
  },
  {
   "cell_type": "code",
   "execution_count": 107,
   "id": "38c7e067",
   "metadata": {},
   "outputs": [],
   "source": [
    "m = 400"
   ]
  },
  {
   "cell_type": "code",
   "execution_count": 109,
   "id": "4c3990af",
   "metadata": {},
   "outputs": [],
   "source": [
    "n = 'abc'"
   ]
  },
  {
   "cell_type": "code",
   "execution_count": 111,
   "id": "6fe9a9e6",
   "metadata": {},
   "outputs": [
    {
     "data": {
      "text/plain": [
       "False"
      ]
     },
     "execution_count": 111,
     "metadata": {},
     "output_type": "execute_result"
    }
   ],
   "source": [
    "m == n"
   ]
  },
  {
   "cell_type": "code",
   "execution_count": 113,
   "id": "e1a6ce1a",
   "metadata": {},
   "outputs": [
    {
     "data": {
      "text/plain": [
       "int"
      ]
     },
     "execution_count": 113,
     "metadata": {},
     "output_type": "execute_result"
    }
   ],
   "source": [
    "type(m)"
   ]
  },
  {
   "cell_type": "code",
   "execution_count": 115,
   "id": "56c04f88",
   "metadata": {},
   "outputs": [
    {
     "data": {
      "text/plain": [
       "str"
      ]
     },
     "execution_count": 115,
     "metadata": {},
     "output_type": "execute_result"
    }
   ],
   "source": [
    "type(n)"
   ]
  },
  {
   "cell_type": "code",
   "execution_count": 118,
   "id": "7ffcadc1",
   "metadata": {},
   "outputs": [
    {
     "data": {
      "text/plain": [
       "139952461294288"
      ]
     },
     "execution_count": 118,
     "metadata": {},
     "output_type": "execute_result"
    }
   ],
   "source": [
    "# object identity\n",
    "id(m)"
   ]
  },
  {
   "cell_type": "code",
   "execution_count": 120,
   "id": "bc6d8642",
   "metadata": {},
   "outputs": [
    {
     "data": {
      "text/plain": [
       "139952961204912"
      ]
     },
     "execution_count": 120,
     "metadata": {},
     "output_type": "execute_result"
    }
   ],
   "source": [
    "# object identity\n",
    "id(n)"
   ]
  },
  {
   "cell_type": "code",
   "execution_count": 123,
   "id": "37ccecb8",
   "metadata": {},
   "outputs": [
    {
     "data": {
      "text/plain": [
       "True"
      ]
     },
     "execution_count": 123,
     "metadata": {},
     "output_type": "execute_result"
    }
   ],
   "source": [
    "m is n"
   ]
  },
  {
   "cell_type": "code",
   "execution_count": 126,
   "id": "ccf6fe9f",
   "metadata": {},
   "outputs": [],
   "source": [
    "# For purposes of optimization, the interpreter creats objects for the integers in the range [-5 , 256] at startup, \n",
    "# and them reuses them during program execution. Thus, when you assign separate variable to an integer value in this range, \n",
    "# they will actually reference the same object.\n",
    "m = 300\n",
    "n = 300\n",
    "x = 300"
   ]
  },
  {
   "cell_type": "code",
   "execution_count": 128,
   "id": "e5ac2c15",
   "metadata": {},
   "outputs": [
    {
     "data": {
      "text/plain": [
       "139952468935184"
      ]
     },
     "execution_count": 128,
     "metadata": {},
     "output_type": "execute_result"
    }
   ],
   "source": [
    "id(m)"
   ]
  },
  {
   "cell_type": "code",
   "execution_count": 130,
   "id": "4dbb4c2b",
   "metadata": {},
   "outputs": [
    {
     "data": {
      "text/plain": [
       "139952468936112"
      ]
     },
     "execution_count": 130,
     "metadata": {},
     "output_type": "execute_result"
    }
   ],
   "source": [
    "id(n)"
   ]
  },
  {
   "cell_type": "code",
   "execution_count": 132,
   "id": "36b54319",
   "metadata": {},
   "outputs": [
    {
     "data": {
      "text/plain": [
       "139952460336784"
      ]
     },
     "execution_count": 132,
     "metadata": {},
     "output_type": "execute_result"
    }
   ],
   "source": [
    "id(x)"
   ]
  },
  {
   "cell_type": "code",
   "execution_count": 134,
   "id": "02d8f8fb",
   "metadata": {},
   "outputs": [],
   "source": [
    "# choose descriptive variable name\n",
    "name = 'ali'\n",
    "age = 29"
   ]
  },
  {
   "cell_type": "code",
   "execution_count": null,
   "id": "770c3d1b",
   "metadata": {},
   "outputs": [],
   "source": [
    "# Camel Case\n",
    "numberOfStudents\n",
    "\n",
    "# Pascal Case\n",
    "NumberOfStudents\n",
    "\n",
    "# Snake case\n",
    "number_of_students"
   ]
  },
  {
   "cell_type": "code",
   "execution_count": 136,
   "id": "3197de0b",
   "metadata": {},
   "outputs": [],
   "source": [
    "# constant variable\n",
    "Number_of_students ='ali'"
   ]
  },
  {
   "cell_type": "code",
   "execution_count": 142,
   "id": "e83d91a9",
   "metadata": {},
   "outputs": [
    {
     "name": "stdout",
     "output_type": "stream",
     "text": [
      "\n",
      "Here is a list of the Python keywords.  Enter any keyword to get more help.\n",
      "\n",
      "False               break               for                 not\n",
      "None                class               from                or\n",
      "True                continue            global              pass\n",
      "__peg_parser__      def                 if                  raise\n",
      "and                 del                 import              return\n",
      "as                  elif                in                  try\n",
      "assert              else                is                  while\n",
      "async               except              lambda              with\n",
      "await               finally             nonlocal            yield\n",
      "\n"
     ]
    }
   ],
   "source": [
    "# in python 3.6 there are 33 reserved keywords\n",
    "# in python 3.9.7 there are 36 reserved keywords\n",
    "help('keywords')"
   ]
  },
  {
   "cell_type": "code",
   "execution_count": 143,
   "id": "0ed80c1d",
   "metadata": {},
   "outputs": [
    {
     "name": "stdout",
     "output_type": "stream",
     "text": [
      "Python 3.9.7\r\n"
     ]
    }
   ],
   "source": [
    "!python --version"
   ]
  },
  {
   "cell_type": "code",
   "execution_count": 144,
   "id": "ca7678fb",
   "metadata": {},
   "outputs": [
    {
     "data": {
      "text/plain": [
       "6"
      ]
     },
     "execution_count": 144,
     "metadata": {},
     "output_type": "execute_result"
    }
   ],
   "source": [
    "sum([1,2,3])"
   ]
  }
 ],
 "metadata": {
  "kernelspec": {
   "display_name": "Python 3 (ipykernel)",
   "language": "python",
   "name": "python3"
  },
  "language_info": {
   "codemirror_mode": {
    "name": "ipython",
    "version": 3
   },
   "file_extension": ".py",
   "mimetype": "text/x-python",
   "name": "python",
   "nbconvert_exporter": "python",
   "pygments_lexer": "ipython3",
   "version": "3.9.7"
  }
 },
 "nbformat": 4,
 "nbformat_minor": 5
}
