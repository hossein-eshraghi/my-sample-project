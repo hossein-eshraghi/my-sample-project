{
 "cells": [
  {
   "cell_type": "markdown",
   "id": "cd4bae34",
   "metadata": {},
   "source": [
    "**1) Write a program in python that prints hello world .**"
   ]
  },
  {
   "cell_type": "code",
   "execution_count": 158,
   "id": "77eadc88",
   "metadata": {},
   "outputs": [
    {
     "name": "stdout",
     "output_type": "stream",
     "text": [
      "hello world\n"
     ]
    }
   ],
   "source": [
    "print(\"hello world\")"
   ]
  },
  {
   "cell_type": "markdown",
   "id": "8b1ca53a",
   "metadata": {},
   "source": [
    "**2) Which statement is true? and why?**\n",
    "1. In Python, a variable must be declared before it is assigned a value \n",
    "2. In Python, a variable may be assigned a value of one type, and then later assigned a value of a different type"
   ]
  },
  {
   "cell_type": "code",
   "execution_count": 159,
   "id": "33de4a2a",
   "metadata": {},
   "outputs": [
    {
     "name": "stdout",
     "output_type": "stream",
     "text": [
      "True False\n"
     ]
    }
   ],
   "source": [
    "x = True\n",
    "y = False\n",
    "print(x,y)"
   ]
  },
  {
   "cell_type": "markdown",
   "id": "901dedaf",
   "metadata": {},
   "source": [
    "**3) Consider the following sequence of statements :**\\\n",
    "1.These statements refer to different variables.\\\n",
    "2.These statements refer to the same variable.\\\n",
    "Answer: `Case is significant in Python variable names, so these are all different variables.`"
   ]
  },
  {
   "cell_type": "code",
   "execution_count": 160,
   "id": "f31280b5",
   "metadata": {},
   "outputs": [],
   "source": [
    "employeenumber = 4398\n",
    "EmployeeNumber = 4398\n",
    "employeeNumber = 4398"
   ]
  },
  {
   "cell_type": "code",
   "execution_count": 161,
   "id": "8723935b",
   "metadata": {},
   "outputs": [
    {
     "data": {
      "text/plain": [
       "140509166989424"
      ]
     },
     "execution_count": 161,
     "metadata": {},
     "output_type": "execute_result"
    }
   ],
   "source": [
    "id(employeenumber)"
   ]
  },
  {
   "cell_type": "code",
   "execution_count": 162,
   "id": "0ec20f22",
   "metadata": {},
   "outputs": [
    {
     "data": {
      "text/plain": [
       "140509166989488"
      ]
     },
     "execution_count": 162,
     "metadata": {},
     "output_type": "execute_result"
    }
   ],
   "source": [
    "id(EmployeeNumber)"
   ]
  },
  {
   "cell_type": "code",
   "execution_count": 163,
   "id": "f3b164ee",
   "metadata": {},
   "outputs": [
    {
     "data": {
      "text/plain": [
       "140509166989584"
      ]
     },
     "execution_count": 163,
     "metadata": {},
     "output_type": "execute_result"
    }
   ],
   "source": [
    "id(employeeNumber)"
   ]
  },
  {
   "cell_type": "markdown",
   "id": "82f76d4a",
   "metadata": {},
   "source": [
    "**4) Following the execution of these statements, Python has created how many objects and how many references?**\\\n",
    "`1.One object, two references`\\\n",
    "2.One object, one reference\\\n",
    "3.Two objects, one reference\\\n",
    "4.Two objects, two references"
   ]
  },
  {
   "cell_type": "code",
   "execution_count": 164,
   "id": "07cea6a4",
   "metadata": {},
   "outputs": [],
   "source": [
    "n = 300\n",
    "m = n"
   ]
  },
  {
   "cell_type": "code",
   "execution_count": 165,
   "id": "d3140a07",
   "metadata": {},
   "outputs": [
    {
     "data": {
      "text/plain": [
       "140509166990416"
      ]
     },
     "execution_count": 165,
     "metadata": {},
     "output_type": "execute_result"
    }
   ],
   "source": [
    "id(m)"
   ]
  },
  {
   "cell_type": "code",
   "execution_count": 166,
   "id": "55736bc2",
   "metadata": {},
   "outputs": [
    {
     "data": {
      "text/plain": [
       "140509166990416"
      ]
     },
     "execution_count": 166,
     "metadata": {},
     "output_type": "execute_result"
    }
   ],
   "source": [
    "id(n)"
   ]
  },
  {
   "cell_type": "markdown",
   "id": "033e102b",
   "metadata": {},
   "source": [
    "**5) Multiple Variable's Definition**\\\n",
    "Assign values `\"pytopia\" , 2022 and 3.14` to `var_s , var_i , var_f` in **only one line** of code."
   ]
  },
  {
   "cell_type": "code",
   "execution_count": 167,
   "id": "74fe5feb",
   "metadata": {},
   "outputs": [],
   "source": [
    "var_s,var_i,var_f = 'pytopia',2022,3.14"
   ]
  },
  {
   "cell_type": "code",
   "execution_count": 168,
   "id": "b97c747b",
   "metadata": {},
   "outputs": [
    {
     "data": {
      "text/plain": [
       "'pytopia'"
      ]
     },
     "execution_count": 168,
     "metadata": {},
     "output_type": "execute_result"
    }
   ],
   "source": [
    "var_s"
   ]
  },
  {
   "cell_type": "code",
   "execution_count": 169,
   "id": "28b23d01",
   "metadata": {},
   "outputs": [
    {
     "data": {
      "text/plain": [
       "2022"
      ]
     },
     "execution_count": 169,
     "metadata": {},
     "output_type": "execute_result"
    }
   ],
   "source": [
    "var_i"
   ]
  },
  {
   "cell_type": "code",
   "execution_count": 170,
   "id": "a3a75838",
   "metadata": {},
   "outputs": [
    {
     "data": {
      "text/plain": [
       "3.14"
      ]
     },
     "execution_count": 170,
     "metadata": {},
     "output_type": "execute_result"
    }
   ],
   "source": [
    "var_f"
   ]
  },
  {
   "cell_type": "markdown",
   "id": "a6a1fe5e",
   "metadata": {},
   "source": [
    "**6) Variable Assignment**\\\n",
    "Consider the following sequence of statements :\n",
    "\n",
    "Since numbers between -5 and 256 are used a lot, Python allocates memory for these numbers from the beginning in RAM. For this reason, these objects are made only once and at any time create a variable with these values, instead of making new objects we just create some new pointers to those objects. But for any other numbers any time we create a variable we also create new objects.\n",
    "\n",
    "Somehow, it can be said that the numbers in this range are unique and occupy the RAM once."
   ]
  },
  {
   "cell_type": "code",
   "execution_count": 171,
   "id": "72c00553",
   "metadata": {},
   "outputs": [],
   "source": [
    "m = 245\n",
    "n = 245\n",
    "x = 268\n",
    "y = 268\n",
    "z = y"
   ]
  },
  {
   "cell_type": "code",
   "execution_count": 172,
   "id": "8fb37583",
   "metadata": {},
   "outputs": [
    {
     "name": "stdout",
     "output_type": "stream",
     "text": [
      "140509796206640 140509796206640 140509166991376 140509166991440 140509166991440\n"
     ]
    }
   ],
   "source": [
    "print(id(m),id(n),id(x),id(y),id(z))"
   ]
  },
  {
   "cell_type": "code",
   "execution_count": 173,
   "id": "9c476938",
   "metadata": {},
   "outputs": [
    {
     "data": {
      "text/plain": [
       "(False, True)"
      ]
     },
     "execution_count": 173,
     "metadata": {},
     "output_type": "execute_result"
    }
   ],
   "source": [
    "id(m) != id(n), id(x) != id(y)"
   ]
  },
  {
   "cell_type": "code",
   "execution_count": 174,
   "id": "459a62bd",
   "metadata": {},
   "outputs": [
    {
     "data": {
      "text/plain": [
       "(True, False)"
      ]
     },
     "execution_count": 174,
     "metadata": {},
     "output_type": "execute_result"
    }
   ],
   "source": [
    "id(m) == id(n), id(x) == id(y)"
   ]
  },
  {
   "cell_type": "code",
   "execution_count": 175,
   "id": "d70c8a1c",
   "metadata": {},
   "outputs": [
    {
     "data": {
      "text/plain": [
       "(True, True)"
      ]
     },
     "execution_count": 175,
     "metadata": {},
     "output_type": "execute_result"
    }
   ],
   "source": [
    "id(m) == id(n), id(x) != id(y)"
   ]
  },
  {
   "cell_type": "code",
   "execution_count": 176,
   "id": "8bb39a53",
   "metadata": {},
   "outputs": [
    {
     "data": {
      "text/plain": [
       "(False, False)"
      ]
     },
     "execution_count": 176,
     "metadata": {},
     "output_type": "execute_result"
    }
   ],
   "source": [
    "id(m) != id(n), id(x) == id(y)"
   ]
  },
  {
   "cell_type": "code",
   "execution_count": 177,
   "id": "aeaaeb80",
   "metadata": {},
   "outputs": [
    {
     "data": {
      "text/plain": [
       "True"
      ]
     },
     "execution_count": 177,
     "metadata": {},
     "output_type": "execute_result"
    }
   ],
   "source": [
    "id(z) == id(y)"
   ]
  },
  {
   "cell_type": "code",
   "execution_count": 178,
   "id": "b6cc5562",
   "metadata": {},
   "outputs": [
    {
     "data": {
      "text/plain": [
       "False"
      ]
     },
     "execution_count": 178,
     "metadata": {},
     "output_type": "execute_result"
    }
   ],
   "source": [
    "id(z) != id(y)"
   ]
  },
  {
   "cell_type": "markdown",
   "id": "dbe06cc7",
   "metadata": {},
   "source": [
    "**7) Quick Swap**\n",
    "\n",
    "Assume we have two variables called input_1 and input_2 . Swap the values of the two variables so that input_1 has the value of input_2 and vice versa. Print out the two variables.  \n",
    "\n",
    "Note: You must perform the swap in only 1 line of code, and without using any variables other than input_1 and input_2 ."
   ]
  },
  {
   "cell_type": "code",
   "execution_count": 179,
   "id": "94618ac8",
   "metadata": {},
   "outputs": [],
   "source": [
    "input_1 = 0\n",
    "input_2 = 1\n",
    "input_1,input_2 = input_2,input_1"
   ]
  },
  {
   "cell_type": "markdown",
   "id": "ef1f5911",
   "metadata": {},
   "source": [
    "**8) Custom Swap** \\\n",
    "Ali has a problem with one of his python practices.\\\n",
    "He wants `to get two numbers as input from the user` and put them in input_1 and input_2 .\\\n",
    "then Swap the values of the two variables so that input_1 has the value of input_2 and vice versa.\\ \n",
    "Finally, print out the two variables.\n",
    "\n",
    "**Note: He must only use 3 variables in his code**"
   ]
  },
  {
   "cell_type": "code",
   "execution_count": 180,
   "id": "f7c8e44b",
   "metadata": {},
   "outputs": [
    {
     "name": "stdout",
     "output_type": "stream",
     "text": [
      "Enter first number: 10\n",
      "Enter second number: 11\n"
     ]
    }
   ],
   "source": [
    "input_1 = int(input(\"Enter first number: \"))\n",
    "input_2 = int(input(\"Enter second number: \"))"
   ]
  },
  {
   "cell_type": "code",
   "execution_count": 181,
   "id": "30ee1909",
   "metadata": {},
   "outputs": [],
   "source": [
    "temp = input_1\n",
    "input_1 = input_2\n",
    "input_2 = temp"
   ]
  },
  {
   "cell_type": "code",
   "execution_count": 182,
   "id": "9578728f",
   "metadata": {},
   "outputs": [
    {
     "name": "stdout",
     "output_type": "stream",
     "text": [
      "11 10\n"
     ]
    }
   ],
   "source": [
    "print(input_1,input_2)"
   ]
  },
  {
   "cell_type": "markdown",
   "id": "148dcbfa",
   "metadata": {},
   "source": [
    "**9) Easy Sum** \\\n",
    "We ask Ali to write a code that takes two inputs from the user and saves them in two desired variables, and then puts the sum of the two inputs in a variable and prints the result. Since Ali does not know the syntax of python, we ask you to help him to write this code!\n",
    "\n",
    "Note: Use snake case format for variable names.\n",
    "\n",
    "Hint: You can use the following code to take input from the user and convert it to an integer. (In future sessions we will explain how this code works).\n",
    "\n",
    "You can change the name of the variable to anything you like.\n",
    "\n",
    "`Note: When you are giving your input data, press Enter to end the process of giving input after you have done.`\n"
   ]
  },
  {
   "cell_type": "code",
   "execution_count": 183,
   "id": "a20e3a00",
   "metadata": {},
   "outputs": [
    {
     "name": "stdout",
     "output_type": "stream",
     "text": [
      "Enter a number: 10\n",
      "Enter another number: 11\n"
     ]
    }
   ],
   "source": [
    "input_1 = int(input('Enter a number: '))\n",
    "input_2 = int(input('Enter another number: '))"
   ]
  },
  {
   "cell_type": "code",
   "execution_count": 184,
   "id": "4854f762",
   "metadata": {},
   "outputs": [
    {
     "name": "stdout",
     "output_type": "stream",
     "text": [
      "21\n"
     ]
    }
   ],
   "source": [
    "sum_x = input_1 + input_2\n",
    "print(sum_x)"
   ]
  },
  {
   "cell_type": "markdown",
   "id": "9732e958",
   "metadata": {},
   "source": [
    "**10) Warm-Up Variable Practice!** \\\n",
    "Ali's programming teacher asks him to define two variables inp_1 and inp_2 and assign values 10 and 35 to them. \\\n",
    "then put inp_1 + inp_2 in variable result and print it. \\\n",
    "Ali is a lazy student and asks you to do this for him!\n",
    "\n"
   ]
  },
  {
   "cell_type": "code",
   "execution_count": 185,
   "id": "593e3ce1",
   "metadata": {},
   "outputs": [
    {
     "name": "stdout",
     "output_type": "stream",
     "text": [
      "45\n"
     ]
    }
   ],
   "source": [
    "inp_1,inp_2 = 10,35\n",
    "sum_inp = inp_1 + inp_2\n",
    "print(sum_inp)"
   ]
  },
  {
   "cell_type": "markdown",
   "id": "1df25855",
   "metadata": {},
   "source": [
    "**11) Bitwise Operators Quiz** \\\n",
    "4 is 100 in binary and 11 is 1011. \\\n",
    "What is the output of the following bitwise operators?\n",
    "\n",
    "4: 0100 \\\n",
    "11: 1011"
   ]
  },
  {
   "cell_type": "code",
   "execution_count": 186,
   "id": "190a6a9e",
   "metadata": {},
   "outputs": [
    {
     "name": "stdout",
     "output_type": "stream",
     "text": [
      "15 1\n"
     ]
    }
   ],
   "source": [
    "a = 4\n",
    "b = 11\n",
    "print(a | b, a >> 2)"
   ]
  },
  {
   "cell_type": "markdown",
   "id": "12aecd51",
   "metadata": {},
   "source": [
    "**12) Operator and Expression** \\\n",
    "What is the output of the following code?\n",
    "\n",
    "print(bool(0), bool(3.14159), bool(-3), bool(1.0+1j)) \n",
    "\n",
    "1. True True False True \\\n",
    "2. False True True True \\\n",
    "3. True True False True \\\n",
    "4. False True False True\n",
    "\n",
    "`answer: 2`"
   ]
  },
  {
   "cell_type": "markdown",
   "id": "07bec7d6",
   "metadata": {},
   "source": [
    "**13) List Chain Assignment** \\\n",
    "What is the output where indicated by #?:\n",
    "\n",
    "`Hint: If you think the outputs are [2] and [3], think again!`\n",
    "\n",
    "The reason is when you do `x = y = []` you define two pointers both pointing to one memory location. \\\n",
    "If you change that memory location with x, the changes are seen by y too, cause both are sharing one memory location.\n",
    "\n",
    "So be careful when you use chain assignments. It may cause unexpected behaviours when used with mutable data types.\n",
    "\n",
    "Note that with immutable variables, there is no problem like this, cause they are not gonna change."
   ]
  },
  {
   "cell_type": "code",
   "execution_count": 187,
   "id": "7bdcd672",
   "metadata": {},
   "outputs": [
    {
     "name": "stdout",
     "output_type": "stream",
     "text": [
      "[2, 3]\n",
      "[2, 3]\n"
     ]
    }
   ],
   "source": [
    "x = y = []\n",
    "x.append(2)\n",
    "y.append(3)\n",
    "print(x)\n",
    "print(y)"
   ]
  },
  {
   "cell_type": "markdown",
   "id": "ef5eb8db",
   "metadata": {},
   "source": [
    "**14) Append to The List** \\\n",
    "The append() method allows you to add items to your lists. \\\n",
    "Add the string \"R\" to the programming_langs list with append() method.\n",
    "\n",
    "Note: Python's list contents are references unless documented otherwise, no copies are created when you pass a name to a method. This applies just as much to list.append() as to any other call; list.append() adds a reference to the list, not a copy."
   ]
  },
  {
   "cell_type": "code",
   "execution_count": 188,
   "id": "461738b6",
   "metadata": {},
   "outputs": [],
   "source": [
    "programming_langs = [\"Julia\", \"Python\"] \n",
    "programming_langs.append(\"R\")"
   ]
  },
  {
   "cell_type": "code",
   "execution_count": 189,
   "id": "e9c651ad",
   "metadata": {},
   "outputs": [
    {
     "data": {
      "text/plain": [
       "['Julia', 'Python', 'R']"
      ]
     },
     "execution_count": 189,
     "metadata": {},
     "output_type": "execute_result"
    }
   ],
   "source": [
    "programming_langs"
   ]
  },
  {
   "cell_type": "markdown",
   "id": "8bfb3a4d",
   "metadata": {},
   "source": [
    "**15) List: Max, Min, Sum and Mean** \\\n",
    "Calculate the maximum, minimum, sum and mean of the following data using python's built-in functions:\n",
    "\n"
   ]
  },
  {
   "cell_type": "code",
   "execution_count": 190,
   "id": "7b348847",
   "metadata": {},
   "outputs": [],
   "source": [
    "random_num_data = [18, 60, -10, 17, 55, 8, -1, 31, 52, 31,\n",
    "                    27, 14, 25, 0, -2, 15, -1, 50, 45, -4,\n",
    "                    42, -10, 40, 3, 43, 55, 24, -17, 17, 54, \n",
    "                    19, 24, 44, 30, 24, 3, -17, 31, 45, -10, \n",
    "                    13, -12, 21, -13, 52, 57, -1, 37, 21, 42]"
   ]
  },
  {
   "cell_type": "code",
   "execution_count": 191,
   "id": "d43c7f62",
   "metadata": {},
   "outputs": [
    {
     "data": {
      "text/plain": [
       "60"
      ]
     },
     "execution_count": 191,
     "metadata": {},
     "output_type": "execute_result"
    }
   ],
   "source": [
    "maximum = max(random_num_data)\n",
    "maximum"
   ]
  },
  {
   "cell_type": "code",
   "execution_count": 192,
   "id": "c721b7c1",
   "metadata": {},
   "outputs": [
    {
     "data": {
      "text/plain": [
       "-17"
      ]
     },
     "execution_count": 192,
     "metadata": {},
     "output_type": "execute_result"
    }
   ],
   "source": [
    "minimum = min(random_num_data)\n",
    "minimum"
   ]
  },
  {
   "cell_type": "code",
   "execution_count": 193,
   "id": "1f9d9b2e",
   "metadata": {},
   "outputs": [
    {
     "data": {
      "text/plain": [
       "1091"
      ]
     },
     "execution_count": 193,
     "metadata": {},
     "output_type": "execute_result"
    }
   ],
   "source": [
    "sum_of_data = sum(random_num_data)\n",
    "sum_of_data"
   ]
  },
  {
   "cell_type": "code",
   "execution_count": 194,
   "id": "685a1a49",
   "metadata": {},
   "outputs": [
    {
     "data": {
      "text/plain": [
       "21.82"
      ]
     },
     "execution_count": 194,
     "metadata": {},
     "output_type": "execute_result"
    }
   ],
   "source": [
    "mean_of_data = sum(random_num_data) / len(random_num_data)\n",
    "mean_of_data"
   ]
  },
  {
   "cell_type": "markdown",
   "id": "e87c5595",
   "metadata": {},
   "source": [
    "**16) Second Largest Number In List** \\\n",
    "Find the second_largest number in the list:\n",
    "\n",
    "`second_largest = 66`"
   ]
  },
  {
   "cell_type": "code",
   "execution_count": 195,
   "id": "414d80e5",
   "metadata": {},
   "outputs": [
    {
     "data": {
      "text/plain": [
       "[3, 47, 10, 15, 21, 28, 13, 45, 66, 12, 34, 56, 78]"
      ]
     },
     "execution_count": 195,
     "metadata": {},
     "output_type": "execute_result"
    }
   ],
   "source": [
    "num_list = [3, 47, 10, 15, 21, 28, 13, 45, 66, 12, 34, 56, 78]\n",
    "num_list"
   ]
  },
  {
   "cell_type": "code",
   "execution_count": 196,
   "id": "7432316f",
   "metadata": {},
   "outputs": [
    {
     "data": {
      "text/plain": [
       "78"
      ]
     },
     "execution_count": 196,
     "metadata": {},
     "output_type": "execute_result"
    }
   ],
   "source": [
    "# method 1\n",
    "max(num_list)"
   ]
  },
  {
   "cell_type": "code",
   "execution_count": 197,
   "id": "6086ff8e",
   "metadata": {},
   "outputs": [],
   "source": [
    "num_list.remove(78)"
   ]
  },
  {
   "cell_type": "code",
   "execution_count": 198,
   "id": "29ecc672",
   "metadata": {},
   "outputs": [
    {
     "data": {
      "text/plain": [
       "66"
      ]
     },
     "execution_count": 198,
     "metadata": {},
     "output_type": "execute_result"
    }
   ],
   "source": [
    "max(num_list)"
   ]
  },
  {
   "cell_type": "code",
   "execution_count": 199,
   "id": "fa2c3bd5",
   "metadata": {},
   "outputs": [
    {
     "data": {
      "text/plain": [
       "[3, 10, 12, 13, 15, 21, 28, 34, 45, 47, 56, 66]"
      ]
     },
     "execution_count": 199,
     "metadata": {},
     "output_type": "execute_result"
    }
   ],
   "source": [
    "# method 2\n",
    "sorted_list = sorted(num_list)\n",
    "sorted_list"
   ]
  },
  {
   "cell_type": "code",
   "execution_count": 200,
   "id": "acf53f2e",
   "metadata": {},
   "outputs": [
    {
     "data": {
      "text/plain": [
       "56"
      ]
     },
     "execution_count": 200,
     "metadata": {},
     "output_type": "execute_result"
    }
   ],
   "source": [
    "second_largest = sorted_list[-2]\n",
    "second_largest"
   ]
  },
  {
   "cell_type": "markdown",
   "id": "5c3d9fee",
   "metadata": {},
   "source": [
    "**17) List Quiz** \\\n",
    "Which of the following are `not true` about Python lists? (Choose all that may apply)\n",
    "\n",
    "1. There is no limit to the size of a list.\n",
    "2. All elements in a list must be of the same type.\n",
    "3. A list may contain any type of object except another list\n",
    "4. A given object may appear in a list more than once.\n",
    "\n",
    "`answer: Choice 2, is not True. This statement is not relevant to the list data type in python. what it's referring though, is an array.\n",
    "Choice 3, is not True. Alist can contain any object, including another list (nested list).`"
   ]
  },
  {
   "cell_type": "markdown",
   "id": "2a962348",
   "metadata": {},
   "source": [
    "**18) Nested List Indexing** \\\n",
    "Extract the fourth team list from persian_gulf_standing:"
   ]
  },
  {
   "cell_type": "code",
   "execution_count": 201,
   "id": "5d33f38c",
   "metadata": {},
   "outputs": [],
   "source": [
    "persian_gulf_standing = [\n",
    "    ['Esteghlel F.C', 1],\n",
    "    ['Sepahan', 2],\n",
    "    ['Perspolis', 3],\n",
    "    ['Gol Gohar', 4],\n",
    "    ['Foolad', 5]\n",
    "]\n",
    "\n",
    "# forth_team = #Code here"
   ]
  },
  {
   "cell_type": "code",
   "execution_count": 202,
   "id": "3359d502",
   "metadata": {},
   "outputs": [
    {
     "data": {
      "text/plain": [
       "'Gol Gohar'"
      ]
     },
     "execution_count": 202,
     "metadata": {},
     "output_type": "execute_result"
    }
   ],
   "source": [
    "# method 1\n",
    "persian_gulf_standing[3][0]"
   ]
  },
  {
   "cell_type": "code",
   "execution_count": 203,
   "id": "57c182fd",
   "metadata": {},
   "outputs": [
    {
     "data": {
      "text/plain": [
       "['Gol Gohar', 4]"
      ]
     },
     "execution_count": 203,
     "metadata": {},
     "output_type": "execute_result"
    }
   ],
   "source": [
    "# method 2\n",
    "forth_team = persian_gulf_standing[:][-2] \n",
    "forth_team"
   ]
  },
  {
   "cell_type": "markdown",
   "id": "e248bded",
   "metadata": {},
   "source": [
    "**19) List Subset** \\\n",
    "Subset the following lists from color list:"
   ]
  },
  {
   "cell_type": "code",
   "execution_count": 204,
   "id": "dbd41544",
   "metadata": {},
   "outputs": [],
   "source": [
    "bl_gr = ['blue', 'green']\n",
    "re_gr_br = ['red', 'green', 'brown']\n",
    "pk_br_yl = ['pink', 'brown', 'yellow']"
   ]
  },
  {
   "cell_type": "code",
   "execution_count": 205,
   "id": "d025fb9e",
   "metadata": {},
   "outputs": [],
   "source": [
    "colors = ['red', 'blue', 'green', 'yellow', 'brown', 'pink']"
   ]
  },
  {
   "cell_type": "markdown",
   "id": "0879d697",
   "metadata": {},
   "source": [
    "#### bl_gr = #?"
   ]
  },
  {
   "cell_type": "code",
   "execution_count": 206,
   "id": "5ff0b444",
   "metadata": {},
   "outputs": [
    {
     "data": {
      "text/plain": [
       "['blue', 'green']"
      ]
     },
     "execution_count": 206,
     "metadata": {},
     "output_type": "execute_result"
    }
   ],
   "source": [
    "bl_gr = colors[1:3]\n",
    "bl_gr"
   ]
  },
  {
   "cell_type": "markdown",
   "id": "3641b1dc",
   "metadata": {},
   "source": [
    "#### re_gr_br = #?"
   ]
  },
  {
   "cell_type": "code",
   "execution_count": 207,
   "id": "c0201aa4",
   "metadata": {},
   "outputs": [
    {
     "data": {
      "text/plain": [
       "['red', 'green', 'brown']"
      ]
     },
     "execution_count": 207,
     "metadata": {},
     "output_type": "execute_result"
    }
   ],
   "source": [
    "# method 1\n",
    "re_gr_br = colors[0:5:2]\n",
    "re_gr_br"
   ]
  },
  {
   "cell_type": "code",
   "execution_count": 208,
   "id": "b417870e",
   "metadata": {},
   "outputs": [
    {
     "data": {
      "text/plain": [
       "['red', 'green', 'brown']"
      ]
     },
     "execution_count": 208,
     "metadata": {},
     "output_type": "execute_result"
    }
   ],
   "source": [
    "# method 2\n",
    "re_gr_br = colors[::2]\n",
    "re_gr_br"
   ]
  },
  {
   "cell_type": "markdown",
   "id": "6ab54e7a",
   "metadata": {},
   "source": [
    "#### pk_br_yl = #?"
   ]
  },
  {
   "cell_type": "code",
   "execution_count": 209,
   "id": "f6ad7e27",
   "metadata": {},
   "outputs": [
    {
     "data": {
      "text/plain": [
       "['yellow', 'brown', 'pink']"
      ]
     },
     "execution_count": 209,
     "metadata": {},
     "output_type": "execute_result"
    }
   ],
   "source": [
    "# method 1\n",
    "pk_br_yl = colors[3:]\n",
    "pk_br_yl"
   ]
  },
  {
   "cell_type": "code",
   "execution_count": 210,
   "id": "54112d95",
   "metadata": {},
   "outputs": [
    {
     "data": {
      "text/plain": [
       "['pink', 'brown', 'yellow']"
      ]
     },
     "execution_count": 210,
     "metadata": {},
     "output_type": "execute_result"
    }
   ],
   "source": [
    "pk_br_yl = colors[-1:-4:-1]\n",
    "pk_br_yl"
   ]
  },
  {
   "cell_type": "markdown",
   "id": "6e1436b5",
   "metadata": {},
   "source": [
    "**20) List Memory Usage** \\\n",
    "Consider the following line of code :\n",
    "\n",
    "a = 300 , b = 124 , mylist = [300, 124, 100]\n",
    "\n",
    "`Answer: 124 is between -5 and 256 and as you know python reserves memory for these numbers and these objects are created only once. So when you have a list with value 124 in it, it doesn't create a new object, Only a pointer point to the address as variable a point. so they have same id But for 300 it creates an object and b points to it. then when you create a list that has a value of 300 in it, it creates a new object with value 300 and it has the list's pointer. so the list pointer and variable b do not point to the same object and they have a different id.`"
   ]
  },
  {
   "cell_type": "code",
   "execution_count": 211,
   "id": "22e37a96",
   "metadata": {},
   "outputs": [],
   "source": [
    "mylist = [300, 124, 100]\n",
    "a,b = 300,124"
   ]
  },
  {
   "cell_type": "code",
   "execution_count": 212,
   "id": "701bc1d3",
   "metadata": {},
   "outputs": [
    {
     "name": "stdout",
     "output_type": "stream",
     "text": [
      "140509165693328 140509796202704 140509796202704\n"
     ]
    }
   ],
   "source": [
    "print(id(a),id(b),id(mylist[1]))"
   ]
  },
  {
   "cell_type": "code",
   "execution_count": 213,
   "id": "f148d8df",
   "metadata": {},
   "outputs": [
    {
     "data": {
      "text/plain": [
       "False"
      ]
     },
     "execution_count": 213,
     "metadata": {},
     "output_type": "execute_result"
    }
   ],
   "source": [
    "id(a) == id(mylist[0]) and id(b) == id(mylist[1])"
   ]
  },
  {
   "cell_type": "code",
   "execution_count": 214,
   "id": "ca0d84ce",
   "metadata": {},
   "outputs": [
    {
     "data": {
      "text/plain": [
       "False"
      ]
     },
     "execution_count": 214,
     "metadata": {},
     "output_type": "execute_result"
    }
   ],
   "source": [
    "id(a) == id(mylist[0]) and id(b) != id(mylist[1])"
   ]
  },
  {
   "cell_type": "code",
   "execution_count": 215,
   "id": "ffc57fe2",
   "metadata": {},
   "outputs": [
    {
     "data": {
      "text/plain": [
       "True"
      ]
     },
     "execution_count": 215,
     "metadata": {},
     "output_type": "execute_result"
    }
   ],
   "source": [
    "id(a) != id(mylist[0]) and id(b) == id(mylist[1])"
   ]
  },
  {
   "cell_type": "code",
   "execution_count": 216,
   "id": "d4351e12",
   "metadata": {},
   "outputs": [
    {
     "data": {
      "text/plain": [
       "False"
      ]
     },
     "execution_count": 216,
     "metadata": {},
     "output_type": "execute_result"
    }
   ],
   "source": [
    "id(a) != id(mylist[0]) and id(b) != id(mylist[1])"
   ]
  },
  {
   "cell_type": "code",
   "execution_count": 217,
   "id": "81a12687",
   "metadata": {},
   "outputs": [
    {
     "data": {
      "text/plain": [
       "False"
      ]
     },
     "execution_count": 217,
     "metadata": {},
     "output_type": "execute_result"
    }
   ],
   "source": [
    "id(a) == id(mylist) and id(b) == id(mylist)"
   ]
  },
  {
   "cell_type": "markdown",
   "id": "a2d2eaa4",
   "metadata": {},
   "source": [
    "**21) Delete List items**\n",
    "\n",
    "What is the output of the following code?\n",
    "\n",
    "`answer : []\n",
    "When your index is greater than the number of items in the list, del won't give an error. it removes all elements of the list. it means that it read indexes until the end of your list and then terminates.`"
   ]
  },
  {
   "cell_type": "code",
   "execution_count": 218,
   "id": "dc3ac408",
   "metadata": {},
   "outputs": [
    {
     "name": "stdout",
     "output_type": "stream",
     "text": [
      "[]\n"
     ]
    }
   ],
   "source": [
    "inp_list = [10, 20, 30, 40]\n",
    "del inp_list[0:6]\n",
    "print(inp_list)"
   ]
  },
  {
   "cell_type": "markdown",
   "id": "90ebd29d",
   "metadata": {},
   "source": [
    "**22) Replace List Items with New Values** \\\n",
    "Ali put his student's math grades on a list. One of the students has been suspended with a score of 9.75. Today is Ali's birthday and he wants to give 10 to that student. we want you to find the value 9.75 in the given list, and replace it with 10. Only update the first occurrence of the item."
   ]
  },
  {
   "cell_type": "code",
   "execution_count": 219,
   "id": "ccdbdcc9",
   "metadata": {},
   "outputs": [],
   "source": [
    "grades = [12, 19, 14, 15, 17.5, 18, 10.25, 9.75, 19, 14, 12, 11.25, 17, 18, 13, 13, 15, 19, 18.5]"
   ]
  },
  {
   "cell_type": "code",
   "execution_count": 220,
   "id": "2345a1ee",
   "metadata": {},
   "outputs": [
    {
     "name": "stdout",
     "output_type": "stream",
     "text": [
      "[12, 19, 14, 15, 17.5, 18, 10.25, 9.75, 19, 14, 12, 11.25, 17, 18, 13, 13, 15, 19, 18.5]\n"
     ]
    }
   ],
   "source": [
    "print(grades)"
   ]
  },
  {
   "cell_type": "code",
   "execution_count": 221,
   "id": "b43b0605",
   "metadata": {},
   "outputs": [
    {
     "name": "stdout",
     "output_type": "stream",
     "text": [
      "[9.75, 10.25, 11.25, 12, 12, 13, 13, 14, 14, 15, 15, 17, 17.5, 18, 18, 18.5, 19, 19, 19]\n"
     ]
    }
   ],
   "source": [
    "# method 1\n",
    "grades_sorted = sorted(grades)\n",
    "print(grades_sorted)"
   ]
  },
  {
   "cell_type": "code",
   "execution_count": 222,
   "id": "447e379b",
   "metadata": {},
   "outputs": [],
   "source": [
    "grades_sorted[0] = 10"
   ]
  },
  {
   "cell_type": "code",
   "execution_count": 223,
   "id": "de0a0dcf",
   "metadata": {},
   "outputs": [
    {
     "name": "stdout",
     "output_type": "stream",
     "text": [
      "[10, 10.25, 11.25, 12, 12, 13, 13, 14, 14, 15, 15, 17, 17.5, 18, 18, 18.5, 19, 19, 19]\n"
     ]
    }
   ],
   "source": [
    "print(grades_sorted)"
   ]
  },
  {
   "cell_type": "code",
   "execution_count": 224,
   "id": "27625027",
   "metadata": {},
   "outputs": [
    {
     "name": "stdout",
     "output_type": "stream",
     "text": [
      "[12, 19, 14, 15, 17.5, 18, 10.25, 10, 19, 14, 12, 11.25, 17, 18, 13, 13, 15, 19, 18.5]\n"
     ]
    }
   ],
   "source": [
    "# method 2\n",
    "\n",
    "# get the first occurrence index\n",
    "index = grades.index(9.75)\n",
    "\n",
    "# update item present at location\n",
    "grades[index] = 10\n",
    "print(grades)"
   ]
  },
  {
   "cell_type": "markdown",
   "id": "df7e99fe",
   "metadata": {},
   "source": [
    "**23) Simple List Indexing** \\\n",
    "Use indexes and print the first, third, and last element of the list below. \\\n",
    "Note: #? is just a comment indicating where you should write your code."
   ]
  },
  {
   "cell_type": "code",
   "execution_count": 225,
   "id": "e916f7b5",
   "metadata": {},
   "outputs": [],
   "source": [
    "num_list = [1, 3, 6, 10, 15, 21, 28, 36, 45, 55, 66, 78]\n",
    "# first_element = #? third_element = #? last_element =  #?"
   ]
  },
  {
   "cell_type": "code",
   "execution_count": 226,
   "id": "4a7f2996",
   "metadata": {},
   "outputs": [
    {
     "data": {
      "text/plain": [
       "1"
      ]
     },
     "execution_count": 226,
     "metadata": {},
     "output_type": "execute_result"
    }
   ],
   "source": [
    "first_element = num_list[0]\n",
    "first_element"
   ]
  },
  {
   "cell_type": "code",
   "execution_count": 227,
   "id": "d7a49391",
   "metadata": {},
   "outputs": [
    {
     "data": {
      "text/plain": [
       "6"
      ]
     },
     "execution_count": 227,
     "metadata": {},
     "output_type": "execute_result"
    }
   ],
   "source": [
    "third_element = num_list[2]\n",
    "third_element"
   ]
  },
  {
   "cell_type": "code",
   "execution_count": 228,
   "id": "1a39eff3",
   "metadata": {},
   "outputs": [
    {
     "data": {
      "text/plain": [
       "78"
      ]
     },
     "execution_count": 228,
     "metadata": {},
     "output_type": "execute_result"
    }
   ],
   "source": [
    "last_element = num_list[-1]\n",
    "last_element"
   ]
  },
  {
   "cell_type": "markdown",
   "id": "140cf19a",
   "metadata": {},
   "source": [
    "**24) Tuple: Remove an Item** \\\n",
    "Write a Python program to remove item `\"hafez\"` from a tuple and save it in persian_poets_wo_hafez\n",
    "\n",
    "`Answer: Tuples are immutable, so you can not remove elements.`"
   ]
  },
  {
   "cell_type": "code",
   "execution_count": 229,
   "id": "9c3af30d",
   "metadata": {},
   "outputs": [],
   "source": [
    "persian_poets = ('saadi', 'frough', 'hafez', 'parvin', 'saeb')"
   ]
  },
  {
   "cell_type": "code",
   "execution_count": 230,
   "id": "175a4a46",
   "metadata": {},
   "outputs": [
    {
     "data": {
      "text/plain": [
       "tuple"
      ]
     },
     "execution_count": 230,
     "metadata": {},
     "output_type": "execute_result"
    }
   ],
   "source": [
    "type(persian_poets)"
   ]
  },
  {
   "cell_type": "code",
   "execution_count": 231,
   "id": "632b6e53",
   "metadata": {},
   "outputs": [
    {
     "data": {
      "text/plain": [
       "('saadi', 'frough', 'parvin', 'saeb')"
      ]
     },
     "execution_count": 231,
     "metadata": {},
     "output_type": "execute_result"
    }
   ],
   "source": [
    "# method 1\n",
    "## Using the merge of tuples with the + operator, you can remove an item, and it will create a new tuple.\n",
    "persian_poets_wo_hafez  = persian_poets[:2] + persian_poets[3:]\n",
    "persian_poets_wo_hafez"
   ]
  },
  {
   "cell_type": "code",
   "execution_count": 232,
   "id": "9a4f6030",
   "metadata": {},
   "outputs": [],
   "source": [
    "# method 2\n",
    "## first convert tuple to list\n",
    "persian_poets = list(persian_poets)"
   ]
  },
  {
   "cell_type": "code",
   "execution_count": 233,
   "id": "c0d426ed",
   "metadata": {},
   "outputs": [
    {
     "data": {
      "text/plain": [
       "['saadi', 'frough', 'hafez', 'parvin', 'saeb']"
      ]
     },
     "execution_count": 233,
     "metadata": {},
     "output_type": "execute_result"
    }
   ],
   "source": [
    "persian_poets"
   ]
  },
  {
   "cell_type": "code",
   "execution_count": 234,
   "id": "56dd9f6f",
   "metadata": {},
   "outputs": [],
   "source": [
    "# use different ways to remove an item of the list\n",
    "persian_poets.remove('hafez')"
   ]
  },
  {
   "cell_type": "code",
   "execution_count": 235,
   "id": "3e2d2d17",
   "metadata": {},
   "outputs": [
    {
     "data": {
      "text/plain": [
       "['saadi', 'frough', 'parvin', 'saeb']"
      ]
     },
     "execution_count": 235,
     "metadata": {},
     "output_type": "execute_result"
    }
   ],
   "source": [
    "persian_poets"
   ]
  },
  {
   "cell_type": "code",
   "execution_count": 236,
   "id": "cc7acfb2",
   "metadata": {},
   "outputs": [
    {
     "data": {
      "text/plain": [
       "('saadi', 'frough', 'parvin', 'saeb')"
      ]
     },
     "execution_count": 236,
     "metadata": {},
     "output_type": "execute_result"
    }
   ],
   "source": [
    "# converting the tuple to list\n",
    "persian_poets_wo_hafez = tuple(persian_poets)\n",
    "persian_poets_wo_hafez"
   ]
  },
  {
   "cell_type": "markdown",
   "id": "6014863e",
   "metadata": {},
   "source": [
    "**25) Simple Tuple Indexing 2** \\\n",
    "Copy specific elements from one tuple to a new tuple\\\n",
    "Write a program to copy elements 44 and 55 from the following tuple into a new tuple. tuple2 = (44, 55)"
   ]
  },
  {
   "cell_type": "code",
   "execution_count": 237,
   "id": "0b14c35c",
   "metadata": {},
   "outputs": [],
   "source": [
    "tuple1 = (11, 22, 33, 44, 55, 66)"
   ]
  },
  {
   "cell_type": "code",
   "execution_count": 238,
   "id": "1566b139",
   "metadata": {},
   "outputs": [
    {
     "data": {
      "text/plain": [
       "(44, 55)"
      ]
     },
     "execution_count": 238,
     "metadata": {},
     "output_type": "execute_result"
    }
   ],
   "source": [
    "# method 1\n",
    "tuple2 = tuple1[3:5]\n",
    "tuple2"
   ]
  },
  {
   "cell_type": "code",
   "execution_count": 239,
   "id": "f2adb0fb",
   "metadata": {},
   "outputs": [
    {
     "name": "stdout",
     "output_type": "stream",
     "text": [
      "(44, 55)\n"
     ]
    }
   ],
   "source": [
    "# method 2\n",
    "tuple2 = tuple1[3:-1]\n",
    "print(tuple2)"
   ]
  },
  {
   "cell_type": "markdown",
   "id": "bf66cd74",
   "metadata": {},
   "source": [
    "**26) Unpack Tuple** \\\n",
    "Unpack the tuple into 4 variables.\\\n",
    "Write a program to unpack the following tuple into four variables: sohrab faramarz jahangir siyavash"
   ]
  },
  {
   "cell_type": "code",
   "execution_count": 240,
   "id": "f737a8d5",
   "metadata": {},
   "outputs": [],
   "source": [
    "shahnameh_tuple = ('Sohrab', 'Faramarz', 'Jahangir', 'Siyavash')\n",
    "#write your code here"
   ]
  },
  {
   "cell_type": "code",
   "execution_count": 241,
   "id": "c553797f",
   "metadata": {},
   "outputs": [],
   "source": [
    "sohrab,faramarz,jahangir,siyavash = shahnameh_tuple"
   ]
  },
  {
   "cell_type": "code",
   "execution_count": 242,
   "id": "abadce73",
   "metadata": {},
   "outputs": [
    {
     "data": {
      "text/plain": [
       "'Sohrab'"
      ]
     },
     "execution_count": 242,
     "metadata": {},
     "output_type": "execute_result"
    }
   ],
   "source": [
    "sohrab"
   ]
  },
  {
   "cell_type": "code",
   "execution_count": 243,
   "id": "850a568c",
   "metadata": {},
   "outputs": [
    {
     "data": {
      "text/plain": [
       "'Faramarz'"
      ]
     },
     "execution_count": 243,
     "metadata": {},
     "output_type": "execute_result"
    }
   ],
   "source": [
    "faramarz"
   ]
  },
  {
   "cell_type": "code",
   "execution_count": 244,
   "id": "136d18db",
   "metadata": {},
   "outputs": [
    {
     "data": {
      "text/plain": [
       "'Jahangir'"
      ]
     },
     "execution_count": 244,
     "metadata": {},
     "output_type": "execute_result"
    }
   ],
   "source": [
    "jahangir"
   ]
  },
  {
   "cell_type": "code",
   "execution_count": 245,
   "id": "c50172ee",
   "metadata": {},
   "outputs": [
    {
     "data": {
      "text/plain": [
       "'Siyavash'"
      ]
     },
     "execution_count": 245,
     "metadata": {},
     "output_type": "execute_result"
    }
   ],
   "source": [
    "siyavash"
   ]
  },
  {
   "cell_type": "markdown",
   "id": "4cbaea67",
   "metadata": {},
   "source": [
    "**27) Reverse Tuple** \\\n",
    "Reverse the following tuple and save it in reverse_num_tup :"
   ]
  },
  {
   "cell_type": "code",
   "execution_count": 246,
   "id": "efdb11e8",
   "metadata": {},
   "outputs": [],
   "source": [
    "num_tup = (10, 20, 30, 40, 50)\n",
    "# reverse_num_tup = #?"
   ]
  },
  {
   "cell_type": "code",
   "execution_count": 247,
   "id": "8ce3b07e",
   "metadata": {},
   "outputs": [
    {
     "data": {
      "text/plain": [
       "(50, 40, 30, 20, 10)"
      ]
     },
     "execution_count": 247,
     "metadata": {},
     "output_type": "execute_result"
    }
   ],
   "source": [
    "reverse_num_tup = num_tup[::-1]\n",
    "reverse_num_tup"
   ]
  },
  {
   "cell_type": "markdown",
   "id": "8dc512ca",
   "metadata": {},
   "source": [
    "**28) Simple Tuple Indexing** \\\n",
    "For the `mixed_tuple` variable defined below:\n",
    "1) Access value 20 from the mixed_tuple\n",
    "2) Access the charachter \"g\" from the mixed_tuple \n",
    "3) The given tuple is a nested one. Write a Python program that prints the value 20 with indexing."
   ]
  },
  {
   "cell_type": "code",
   "execution_count": 248,
   "id": "63274abd",
   "metadata": {},
   "outputs": [],
   "source": [
    "mixed_tuple = (\"Orange\", [10, 20, 30], (5, 15, 25))"
   ]
  },
  {
   "cell_type": "code",
   "execution_count": 249,
   "id": "9d50a6f3",
   "metadata": {},
   "outputs": [
    {
     "data": {
      "text/plain": [
       "20"
      ]
     },
     "execution_count": 249,
     "metadata": {},
     "output_type": "execute_result"
    }
   ],
   "source": [
    "# answer 1\n",
    "mixed_tuple[1][1]"
   ]
  },
  {
   "cell_type": "code",
   "execution_count": 250,
   "id": "c1b2f5cf",
   "metadata": {},
   "outputs": [
    {
     "data": {
      "text/plain": [
       "'g'"
      ]
     },
     "execution_count": 250,
     "metadata": {},
     "output_type": "execute_result"
    }
   ],
   "source": [
    "# answer 2\n",
    "# method 1\n",
    "mixed_tuple[0][4]"
   ]
  },
  {
   "cell_type": "code",
   "execution_count": 251,
   "id": "15e2dc12",
   "metadata": {},
   "outputs": [
    {
     "data": {
      "text/plain": [
       "'g'"
      ]
     },
     "execution_count": 251,
     "metadata": {},
     "output_type": "execute_result"
    }
   ],
   "source": [
    "# answer 2\n",
    "# method 2\n",
    "mixed_tuple[0][-2]"
   ]
  },
  {
   "cell_type": "code",
   "execution_count": 252,
   "id": "c6baadff",
   "metadata": {},
   "outputs": [
    {
     "data": {
      "text/plain": [
       "1"
      ]
     },
     "execution_count": 252,
     "metadata": {},
     "output_type": "execute_result"
    }
   ],
   "source": [
    "# answer 3\n",
    "mixed_tuple.index([10,20,30])"
   ]
  },
  {
   "cell_type": "markdown",
   "id": "ba748c79",
   "metadata": {},
   "source": [
    "**29) Building a Dictionary Incrementally** \\\n",
    "First use `{}` to create an empty dictionary named bmw, then add a `\"red\"` value to the bmw dictionary for the `\"color\"` key."
   ]
  },
  {
   "cell_type": "code",
   "execution_count": 253,
   "id": "8c6d14fa",
   "metadata": {},
   "outputs": [],
   "source": [
    "bmw = {}"
   ]
  },
  {
   "cell_type": "code",
   "execution_count": 254,
   "id": "3ce17c7f",
   "metadata": {},
   "outputs": [],
   "source": [
    "# method 1\n",
    "bmw = {'color':'red'}"
   ]
  },
  {
   "cell_type": "code",
   "execution_count": 255,
   "id": "ba44fccf",
   "metadata": {},
   "outputs": [
    {
     "data": {
      "text/plain": [
       "{'color': 'red'}"
      ]
     },
     "execution_count": 255,
     "metadata": {},
     "output_type": "execute_result"
    }
   ],
   "source": [
    "bmw"
   ]
  },
  {
   "cell_type": "code",
   "execution_count": 256,
   "id": "f5b2fccf",
   "metadata": {},
   "outputs": [],
   "source": [
    "# method 2\n",
    "bmw['color'] = 'red'"
   ]
  },
  {
   "cell_type": "code",
   "execution_count": 257,
   "id": "cd0c658d",
   "metadata": {},
   "outputs": [
    {
     "data": {
      "text/plain": [
       "{'color': 'red'}"
      ]
     },
     "execution_count": 257,
     "metadata": {},
     "output_type": "execute_result"
    }
   ],
   "source": [
    "bmw"
   ]
  },
  {
   "cell_type": "markdown",
   "id": "2c83c93b",
   "metadata": {},
   "source": [
    "**30) Restrictions on Dictionary Keys and Values** \\\n",
    "Which of the following options defines a dictionary incorrectly: \\\n",
    "(Set the variable `q9_answer` to the option number you choose to answer this question)\n",
    "\n",
    "1. foo = {1: 'aaaa', 3.14: 'bbbb', 6.18: 'ccc'}\n",
    "2. foo = {[1, 3.14]: 'a', [2, 6.28]: 'b'}\n",
    "3. foo = {(1, 3.14): 'a', (2, 12.56): 'b'}\n",
    "4. foo = {dict: [], float: 2, int: 3.14}\n",
    "\n",
    "`q9_answer = 2`"
   ]
  },
  {
   "cell_type": "markdown",
   "id": "155910de",
   "metadata": {},
   "source": [
    "**31) Dictionary get() method 1** \\\n",
    "You can access the value of the dictionaty using `.get()` method:\n",
    "\n",
    "syntax:\\\n",
    "`dictionary.get(keyname)`\n",
    "\n",
    "for example:\n"
   ]
  },
  {
   "cell_type": "code",
   "execution_count": 258,
   "id": "3a3855e5",
   "metadata": {},
   "outputs": [
    {
     "data": {
      "text/plain": [
       "'Zal'"
      ]
     },
     "execution_count": 258,
     "metadata": {},
     "output_type": "execute_result"
    }
   ],
   "source": [
    "rostam_data = {\n",
    "    \"name\": \"Rostam\",\n",
    "    \"nationality\": \"Turanian\",\n",
    "    \"father\": \"Zal\" ,\n",
    "    \"mother\": \"Rudaabeh\",\n",
    "    \"spouse\": \"Tahmineh\",\n",
    "    \"grandfather\": \"Sam\",\n",
    "    \"delivery\": \"C-Section\",\n",
    "    \"POB\": \"Zabol\",\n",
    "    \"POD\" : \"Kabul\"\n",
    "    }\n",
    "rostam_data.get('father')"
   ]
  },
  {
   "cell_type": "markdown",
   "id": "eb569c45",
   "metadata": {},
   "source": [
    "According to the `Shahnameh`, the Simurgh instructed `Zal` upon how to perform a caesarean section, thus saving `Rudaba and the child Rostam`. In Persian literature ceaserean section is known as Rostamina.\n",
    "Please **print the type of birth** (delivery) of Rostam using the `get()` method"
   ]
  },
  {
   "cell_type": "code",
   "execution_count": 259,
   "id": "11442d03",
   "metadata": {},
   "outputs": [
    {
     "name": "stdout",
     "output_type": "stream",
     "text": [
      "C-Section\n"
     ]
    }
   ],
   "source": [
    "print(rostam_data.get('delivery'))"
   ]
  },
  {
   "cell_type": "markdown",
   "id": "588f2f60",
   "metadata": {},
   "source": [
    "**32) Dictionary get() method 2** \\\n",
    "The .get() method allows us to retrieve the value of the wanted key from the dictionary while also preventing an error if the key is not found in the dictionary. and receive the previously set default value. For example, suppose we have a dictionary of students and their math score\n",
    "\n",
    "```python\n",
    "math = {\n",
    "    'abtin': 19,\n",
    "    'laleh': 20,\n",
    "    'mehri': 18,\n",
    "    }\n",
    "\n",
    "```\n",
    "\n",
    "If we do not know exactly which students are in the dictionary and, for example, if we want to read Kamran's math grade, then we will encounter an error."
   ]
  },
  {
   "cell_type": "code",
   "execution_count": 260,
   "id": "22bdf351",
   "metadata": {},
   "outputs": [],
   "source": [
    "math = {\n",
    "    'abtin': 19,\n",
    "    'laleh': 20,\n",
    "    'mehri': 18,\n",
    "    }"
   ]
  },
  {
   "cell_type": "code",
   "execution_count": 261,
   "id": "9ce39a3a",
   "metadata": {},
   "outputs": [],
   "source": [
    "# math['kamran']"
   ]
  },
  {
   "cell_type": "code",
   "execution_count": 262,
   "id": "7536cdee",
   "metadata": {},
   "outputs": [],
   "source": [
    "math.get('kamran')"
   ]
  },
  {
   "cell_type": "markdown",
   "id": "39afd11b",
   "metadata": {},
   "source": [
    "We can add a value to the `.get()` method to return that value if the requested key does not exist.\n",
    "syntax:"
   ]
  },
  {
   "cell_type": "code",
   "execution_count": 263,
   "id": "7533581f",
   "metadata": {},
   "outputs": [],
   "source": [
    "# dictionary.get(keyname, <value>)"
   ]
  },
  {
   "cell_type": "markdown",
   "id": "fe45f850",
   "metadata": {},
   "source": [
    "A to return if the specified key does not exist. Default value is None"
   ]
  },
  {
   "cell_type": "code",
   "execution_count": 264,
   "id": "7039ed1b",
   "metadata": {},
   "outputs": [
    {
     "data": {
      "text/plain": [
       "666"
      ]
     },
     "execution_count": 264,
     "metadata": {},
     "output_type": "execute_result"
    }
   ],
   "source": [
    "math.get('kamran', 666)"
   ]
  },
  {
   "cell_type": "code",
   "execution_count": 265,
   "id": "b2ccada5",
   "metadata": {},
   "outputs": [
    {
     "data": {
      "text/plain": [
       "20"
      ]
     },
     "execution_count": 265,
     "metadata": {},
     "output_type": "execute_result"
    }
   ],
   "source": [
    "math.get('laleh',666)"
   ]
  },
  {
   "cell_type": "markdown",
   "id": "fe7cb403",
   "metadata": {},
   "source": [
    "The following dictionary is based on the book Shahnameh by Abolghasem Ferdowsi, a famous Iranian poet:"
   ]
  },
  {
   "cell_type": "code",
   "execution_count": 266,
   "id": "f4ed63c8",
   "metadata": {},
   "outputs": [],
   "source": [
    "rostam_data = {\n",
    "    \"name\": \"Rostam\",\n",
    "    \"nationality\": \"Turanian\",\n",
    "    \"father\": \"Zal\" ,\n",
    "    \"mother\": \"Rudaabeh\",\n",
    "    \"spouse\": \"Tahmineh\",\n",
    "    \"grandfather\": \"Sam\",\n",
    "    \"delivery\": \"C-Section\",\n",
    "    \"POB\": \"Zabol\",\n",
    "    \"POD\" : \"Kabul\"\n",
    "    }"
   ]
  },
  {
   "cell_type": "code",
   "execution_count": 267,
   "id": "eca90d96",
   "metadata": {},
   "outputs": [
    {
     "data": {
      "text/plain": [
       "{'name': 'Rostam',\n",
       " 'nationality': 'Turanian',\n",
       " 'father': 'Zal',\n",
       " 'mother': 'Rudaabeh',\n",
       " 'spouse': 'Tahmineh',\n",
       " 'grandfather': 'Sam',\n",
       " 'delivery': 'C-Section',\n",
       " 'POB': 'Zabol',\n",
       " 'POD': 'Kabul'}"
      ]
     },
     "execution_count": 267,
     "metadata": {},
     "output_type": "execute_result"
    }
   ],
   "source": [
    "rostam_data"
   ]
  },
  {
   "cell_type": "markdown",
   "id": "c1ceed1f",
   "metadata": {},
   "source": [
    "Because Rostam's `\"date of birth\"` might **not be in our dictionary**, use one of the `.get()` methods to print Rostam's date of birth and ensure that if Rostam's date of birth does not exist, the number `-87` is printed and no error occurs."
   ]
  },
  {
   "cell_type": "code",
   "execution_count": 268,
   "id": "42cafd36",
   "metadata": {},
   "outputs": [
    {
     "name": "stdout",
     "output_type": "stream",
     "text": [
      "-87\n"
     ]
    }
   ],
   "source": [
    "print(rostam_data.get(\"data of birth\", -87))"
   ]
  },
  {
   "cell_type": "markdown",
   "id": "19e6a8a3",
   "metadata": {},
   "source": [
    "**33) Accessing Dictionary Values 1** \\\n",
    "The following dictionary is based on the book **Shahnameh** by **Abolghasem Ferdowsi,** a famous Iranian poet.\n",
    "According to the dictionary below, print the name of Rostam's mother and wife using a single print() function."
   ]
  },
  {
   "cell_type": "code",
   "execution_count": 269,
   "id": "1128efa8",
   "metadata": {},
   "outputs": [],
   "source": [
    "rostam_data = {\n",
    "    \"name\": \"Rostam\",\n",
    "    \"nationality\": \"Turanian\",\n",
    "    \"father\": \"Zal\" ,\n",
    "    \"mother\": \"Rudaabeh\",\n",
    "    \"spouse\": \"Tahmineh\",\n",
    "    \"grandfather\": \"Sam\",\n",
    "    \"delivery\": \"C-Section\",\n",
    "    \"POB\": \"Zabol\",\n",
    "    \"POD\" : \"Kabul\"\n",
    "    }"
   ]
  },
  {
   "cell_type": "code",
   "execution_count": 270,
   "id": "c9751780",
   "metadata": {},
   "outputs": [
    {
     "data": {
      "text/plain": [
       "{'name': 'Rostam',\n",
       " 'nationality': 'Turanian',\n",
       " 'father': 'Zal',\n",
       " 'mother': 'Rudaabeh',\n",
       " 'spouse': 'Tahmineh',\n",
       " 'grandfather': 'Sam',\n",
       " 'delivery': 'C-Section',\n",
       " 'POB': 'Zabol',\n",
       " 'POD': 'Kabul'}"
      ]
     },
     "execution_count": 270,
     "metadata": {},
     "output_type": "execute_result"
    }
   ],
   "source": [
    "rostam_data"
   ]
  },
  {
   "cell_type": "code",
   "execution_count": 271,
   "id": "85fa3204",
   "metadata": {},
   "outputs": [
    {
     "name": "stdout",
     "output_type": "stream",
     "text": [
      "the name of Rostams mother's and wife is ('Rudaabeh', 'Tahmineh')\n"
     ]
    }
   ],
   "source": [
    "# print the name of Rostam's mother and wife using a single print() function.\n",
    "print(f\"the name of Rostams mother's and wife is {rostam_data['mother'],rostam_data['spouse']}\")"
   ]
  },
  {
   "cell_type": "code",
   "execution_count": 272,
   "id": "bc4ecd82",
   "metadata": {},
   "outputs": [
    {
     "name": "stdout",
     "output_type": "stream",
     "text": [
      "mother's name: Rudaabeh, rostam's wife:Tahmineh\n"
     ]
    }
   ],
   "source": [
    "print(f\"mother's name: {rostam_data['mother']}, rostam's wife:{rostam_data['spouse']}\")"
   ]
  },
  {
   "cell_type": "markdown",
   "id": "abbd3a42",
   "metadata": {},
   "source": [
    "**34) Accessing Dictionary Values 2** \\\n",
    "The following dictionary is based on the book **Shahnameh** by **Abolghasem Ferdowsi**, a famous Iranian poet.\n",
    "**Rostam** nationality has been registered as a **Turanian**. Please change **Rostam** nationality to **Iranian.**"
   ]
  },
  {
   "cell_type": "code",
   "execution_count": 273,
   "id": "7fe734f1",
   "metadata": {},
   "outputs": [],
   "source": [
    "rostam_data = {\n",
    "    \"name\": \"Rostam\",\n",
    "    \"nationality\": \"Turanian\",\n",
    "    \"father\": \"Zal\" ,\n",
    "    \"mother\": \"Rudaabeh\",\n",
    "    \"spouse\": \"Tahmineh\",\n",
    "    \"grandfather\": \"Sam\",\n",
    "    \"delivery\": \"C-Section\",\n",
    "    \"POB\": \"Zabol\",\n",
    "    \"POD\" : \"Kabul\"\n",
    "    }"
   ]
  },
  {
   "cell_type": "code",
   "execution_count": 274,
   "id": "473a5773",
   "metadata": {},
   "outputs": [
    {
     "data": {
      "text/plain": [
       "{'name': 'Rostam',\n",
       " 'nationality': 'Turanian',\n",
       " 'father': 'Zal',\n",
       " 'mother': 'Rudaabeh',\n",
       " 'spouse': 'Tahmineh',\n",
       " 'grandfather': 'Sam',\n",
       " 'delivery': 'C-Section',\n",
       " 'POB': 'Zabol',\n",
       " 'POD': 'Kabul'}"
      ]
     },
     "execution_count": 274,
     "metadata": {},
     "output_type": "execute_result"
    }
   ],
   "source": [
    "rostam_data"
   ]
  },
  {
   "cell_type": "code",
   "execution_count": 275,
   "id": "2d20742a",
   "metadata": {},
   "outputs": [],
   "source": [
    "rostam_data['nationality'] = 'Iranian'"
   ]
  },
  {
   "cell_type": "code",
   "execution_count": 276,
   "id": "932346d5",
   "metadata": {},
   "outputs": [
    {
     "data": {
      "text/plain": [
       "{'name': 'Rostam',\n",
       " 'nationality': 'Iranian',\n",
       " 'father': 'Zal',\n",
       " 'mother': 'Rudaabeh',\n",
       " 'spouse': 'Tahmineh',\n",
       " 'grandfather': 'Sam',\n",
       " 'delivery': 'C-Section',\n",
       " 'POB': 'Zabol',\n",
       " 'POD': 'Kabul'}"
      ]
     },
     "execution_count": 276,
     "metadata": {},
     "output_type": "execute_result"
    }
   ],
   "source": [
    "rostam_data"
   ]
  },
  {
   "cell_type": "markdown",
   "id": "d177253a",
   "metadata": {},
   "source": [
    "**35) Accessing Dictionary Values 3** \\\n",
    "The following dictionary is based on the book **Shahnameh** by **Abolghasem Ferdowsi,** a famous Iranian poet.\n",
    "Rostam's children were **Sohrab, Faramarz, Jahangir, Siyavash,** and **Banu-Goshasp.** Please add a list of Rostam's children's names with the key childrens to rostam_data dictionary."
   ]
  },
  {
   "cell_type": "code",
   "execution_count": 277,
   "id": "71956b59",
   "metadata": {},
   "outputs": [],
   "source": [
    "rostam_data = {\n",
    "    \"name\": \"Rostam\",\n",
    "    \"nationality\": \"Turanian\",\n",
    "    \"father\": \"Zal\" ,\n",
    "    \"mother\": \"Rudaabeh\",\n",
    "    \"spouse\": \"Tahmineh\",\n",
    "    \"grandfather\": \"Sam\",\n",
    "    \"delivery\": \"C-Section\",\n",
    "    \"POB\": \"Zabol\",\n",
    "    \"POD\" : \"Kabul\"\n",
    "    }"
   ]
  },
  {
   "cell_type": "code",
   "execution_count": 278,
   "id": "5e26b8d7",
   "metadata": {},
   "outputs": [],
   "source": [
    "rostam_data[\"Rostam's children\"] = [\"Sohrab\", \"Faramarz\", \"Jahangir\", \"Siyavash\",\"Banu-Goshasp\"]"
   ]
  },
  {
   "cell_type": "code",
   "execution_count": 279,
   "id": "06d801d8",
   "metadata": {},
   "outputs": [
    {
     "data": {
      "text/plain": [
       "{'name': 'Rostam',\n",
       " 'nationality': 'Turanian',\n",
       " 'father': 'Zal',\n",
       " 'mother': 'Rudaabeh',\n",
       " 'spouse': 'Tahmineh',\n",
       " 'grandfather': 'Sam',\n",
       " 'delivery': 'C-Section',\n",
       " 'POB': 'Zabol',\n",
       " 'POD': 'Kabul',\n",
       " \"Rostam's children\": ['Sohrab',\n",
       "  'Faramarz',\n",
       "  'Jahangir',\n",
       "  'Siyavash',\n",
       "  'Banu-Goshasp']}"
      ]
     },
     "execution_count": 279,
     "metadata": {},
     "output_type": "execute_result"
    }
   ],
   "source": [
    "rostam_data"
   ]
  },
  {
   "cell_type": "markdown",
   "id": "b52fb30f",
   "metadata": {},
   "source": [
    "**36) Convert a list to a dictionary** \\\n",
    "You can also construct a dictionary with the built-in `dict()` function. The argument to `dict()` should be a sequence of key-value pairs.\n",
    "We have a list called `persian_gulf_standing` that contains pairs, the name of the football team and its position in the `Iranian Football Premier League` (Persian Gulf). We ask you to convert the following list into a dictionary with the same name based on the description provided."
   ]
  },
  {
   "cell_type": "code",
   "execution_count": 280,
   "id": "106160ff",
   "metadata": {},
   "outputs": [],
   "source": [
    "persian_gulf_standing = [\n",
    "    ['Esteghlel F.C', 1],\n",
    "    ['Sepahan', 2],\n",
    "    ['Perspolis', 3],\n",
    "    ['Gol Gohar', 4],\n",
    "    ['Foolad', 5]\n",
    "]"
   ]
  },
  {
   "cell_type": "code",
   "execution_count": 281,
   "id": "7498eadd",
   "metadata": {},
   "outputs": [
    {
     "data": {
      "text/plain": [
       "list"
      ]
     },
     "execution_count": 281,
     "metadata": {},
     "output_type": "execute_result"
    }
   ],
   "source": [
    "type(persian_gulf_standing)"
   ]
  },
  {
   "cell_type": "code",
   "execution_count": 282,
   "id": "ed8b7ef4",
   "metadata": {},
   "outputs": [],
   "source": [
    "persian_gulf_standing = dict(persian_gulf_standing)"
   ]
  },
  {
   "cell_type": "code",
   "execution_count": 283,
   "id": "543c2ad9",
   "metadata": {},
   "outputs": [
    {
     "data": {
      "text/plain": [
       "dict"
      ]
     },
     "execution_count": 283,
     "metadata": {},
     "output_type": "execute_result"
    }
   ],
   "source": [
    "type(persian_gulf_standing)"
   ]
  },
  {
   "cell_type": "markdown",
   "id": "1a1d741e",
   "metadata": {},
   "source": [
    "**37) Arash site users** \\\n",
    "Arash has a list of site users and wants to save them using one of the Python data structures. Initially, he intended to create a list of his users. However, we explained to him that while adding and deleting items at the end of the list is quick, doing so at the beginning of the list is slow because all of the other items must be shifted. Finally, we advised him to use a dictionary because hashes allow him to access all data in a short period of time.\n",
    "\n",
    "Arash users information is available below:\n",
    "\n",
    "id\tname\tfamily \\\n",
    "1\tKourosh\tKouroshi \\\n",
    "2\tShirin\tShirini \\\n",
    "\n",
    "\n",
    "Please help him put them in a dictionary called `arash_users.` In such a way that it has access to the information of its users via `id.` for example:"
   ]
  },
  {
   "cell_type": "code",
   "execution_count": 284,
   "id": "72e931c0",
   "metadata": {},
   "outputs": [],
   "source": [
    "arash_users = [[\"Kourosh\",\"Kouroshi\"],[\"Shirin\",\"Shirini\"]]"
   ]
  },
  {
   "cell_type": "code",
   "execution_count": 285,
   "id": "2aeb37df",
   "metadata": {},
   "outputs": [
    {
     "data": {
      "text/plain": [
       "[['Kourosh', 'Kouroshi'], ['Shirin', 'Shirini']]"
      ]
     },
     "execution_count": 285,
     "metadata": {},
     "output_type": "execute_result"
    }
   ],
   "source": [
    "arash_users"
   ]
  },
  {
   "cell_type": "code",
   "execution_count": 286,
   "id": "bce915bc",
   "metadata": {},
   "outputs": [
    {
     "data": {
      "text/plain": [
       "list"
      ]
     },
     "execution_count": 286,
     "metadata": {},
     "output_type": "execute_result"
    }
   ],
   "source": [
    "type(arash_users)"
   ]
  },
  {
   "cell_type": "code",
   "execution_count": 287,
   "id": "0744e699",
   "metadata": {},
   "outputs": [],
   "source": [
    "arash_users = dict(arash_users)"
   ]
  },
  {
   "cell_type": "code",
   "execution_count": 288,
   "id": "cf38c0c2",
   "metadata": {},
   "outputs": [
    {
     "data": {
      "text/plain": [
       "'Shirini'"
      ]
     },
     "execution_count": 288,
     "metadata": {},
     "output_type": "execute_result"
    }
   ],
   "source": [
    "arash_users['Shirin']"
   ]
  },
  {
   "cell_type": "code",
   "execution_count": 289,
   "id": "df4c00a5",
   "metadata": {},
   "outputs": [],
   "source": [
    "arash_users = {\n",
    "    1: {'name': 'Kourosh','family':'Kouroshi'},\n",
    "    2: {'name': 'Shirin','family':'shirini'},\n",
    "}"
   ]
  },
  {
   "cell_type": "code",
   "execution_count": 290,
   "id": "6d472ede",
   "metadata": {},
   "outputs": [
    {
     "data": {
      "text/plain": [
       "{1: {'name': 'Kourosh', 'family': 'Kouroshi'},\n",
       " 2: {'name': 'Shirin', 'family': 'shirini'}}"
      ]
     },
     "execution_count": 290,
     "metadata": {},
     "output_type": "execute_result"
    }
   ],
   "source": [
    "arash_users"
   ]
  },
  {
   "cell_type": "code",
   "execution_count": 291,
   "id": "67133ca8",
   "metadata": {},
   "outputs": [
    {
     "data": {
      "text/plain": [
       "'Kourosh'"
      ]
     },
     "execution_count": 291,
     "metadata": {},
     "output_type": "execute_result"
    }
   ],
   "source": [
    "arash_users[1]['name']"
   ]
  },
  {
   "cell_type": "markdown",
   "id": "c8e2d861",
   "metadata": {},
   "source": [
    "**38) A deeper look at the dictionary**\n",
    "\n",
    "Which of the following **does not describe** a dictionary? \\\n",
    "(Set the variable `q1_answer` to the option number you choose to answer this question.)\n",
    "\n",
    "1) Dictionary is mutable.\n",
    "2) Dictionary is dynamic. It can grow and shrink as needed.\n",
    "3) Dictionary can be nested. A dictionary can contain another dictionary. A dictionary can also contain a list, and vice versa.\n",
    "4) Dictionary elements are accessed by their position in the dictionary, via `indexing`\n",
    "\n",
    "`answer: 4`"
   ]
  },
  {
   "cell_type": "markdown",
   "id": "9e772242",
   "metadata": {},
   "source": [
    "**39) Set operations**\n",
    "\n",
    "- Make a set of **multiples of 3** and name it <font color=red>**X**</font>."
   ]
  },
  {
   "cell_type": "code",
   "execution_count": 1,
   "id": "6ceae231",
   "metadata": {},
   "outputs": [],
   "source": [
    "X = {1,3,6,9,12,15}"
   ]
  },
  {
   "cell_type": "code",
   "execution_count": 2,
   "id": "083df373",
   "metadata": {},
   "outputs": [
    {
     "data": {
      "text/plain": [
       "{1, 3, 6, 9, 12, 15}"
      ]
     },
     "execution_count": 2,
     "metadata": {},
     "output_type": "execute_result"
    }
   ],
   "source": [
    "X"
   ]
  },
  {
   "cell_type": "markdown",
   "id": "b7a5e07d",
   "metadata": {},
   "source": [
    "- Make a set of **multiples of 5** and name it <font color=red>**Y**</font>."
   ]
  },
  {
   "cell_type": "code",
   "execution_count": 10,
   "id": "177d910e",
   "metadata": {},
   "outputs": [],
   "source": [
    "Y = {1,5,10,15,20,25}"
   ]
  },
  {
   "cell_type": "code",
   "execution_count": 11,
   "id": "1b145b56",
   "metadata": {},
   "outputs": [
    {
     "data": {
      "text/plain": [
       "{1, 5, 10, 15, 20, 25}"
      ]
     },
     "execution_count": 11,
     "metadata": {},
     "output_type": "execute_result"
    }
   ],
   "source": [
    "Y"
   ]
  },
  {
   "cell_type": "markdown",
   "id": "1b993107",
   "metadata": {},
   "source": [
    "- Can you find the **multiples of 15** using the <font color=red>**&**</font> operator and store it in variable <font color=red>**Z1**</font>?"
   ]
  },
  {
   "cell_type": "code",
   "execution_count": 19,
   "id": "e23d4456",
   "metadata": {},
   "outputs": [
    {
     "data": {
      "text/plain": [
       "{1, 15}"
      ]
     },
     "execution_count": 19,
     "metadata": {},
     "output_type": "execute_result"
    }
   ],
   "source": [
    "Z1 = X & Y\n",
    "Z1"
   ]
  },
  {
   "cell_type": "markdown",
   "id": "71c58852",
   "metadata": {},
   "source": [
    "- Can you find the **multiples of 15** using the <font color=red>**intersection()**</font> method and store it in variable <font color=red>**Z2**</font>?\n"
   ]
  },
  {
   "cell_type": "code",
   "execution_count": 17,
   "id": "862080c5",
   "metadata": {},
   "outputs": [
    {
     "data": {
      "text/plain": [
       "{1, 15}"
      ]
     },
     "execution_count": 17,
     "metadata": {},
     "output_type": "execute_result"
    }
   ],
   "source": [
    "Z2 = X.intersection(Y)\n",
    "Z2"
   ]
  },
  {
   "cell_type": "markdown",
   "id": "20a21472",
   "metadata": {},
   "source": [
    "- Then find the multiples of 5 that are not divisible by 3. (hint: use the operator - or use the <font color=red>**difference()**</font> method)\n"
   ]
  },
  {
   "cell_type": "code",
   "execution_count": 21,
   "id": "51e5992a",
   "metadata": {},
   "outputs": [
    {
     "data": {
      "text/plain": [
       "{5, 10, 20, 25}"
      ]
     },
     "execution_count": 21,
     "metadata": {},
     "output_type": "execute_result"
    }
   ],
   "source": [
    "Y-X"
   ]
  },
  {
   "cell_type": "code",
   "execution_count": 22,
   "id": "2dc7a121",
   "metadata": {},
   "outputs": [
    {
     "data": {
      "text/plain": [
       "{5, 10, 20, 25}"
      ]
     },
     "execution_count": 22,
     "metadata": {},
     "output_type": "execute_result"
    }
   ],
   "source": [
    "Y.difference(X)"
   ]
  },
  {
   "cell_type": "markdown",
   "id": "c5df1e62",
   "metadata": {},
   "source": [
    "- after that use the <font color=red>**+**</font> operators or the <font color=red>**union()**</font> method to make a list of numbers that are either divisible by 5 **or** divisible by 3, **or** divisible by both."
   ]
  },
  {
   "cell_type": "code",
   "execution_count": 24,
   "id": "b5bb0f4a",
   "metadata": {},
   "outputs": [
    {
     "data": {
      "text/plain": [
       "{1, 3, 5, 6, 9, 10, 12, 15, 20, 25}"
      ]
     },
     "execution_count": 24,
     "metadata": {},
     "output_type": "execute_result"
    }
   ],
   "source": [
    "X.union(Y)"
   ]
  },
  {
   "cell_type": "markdown",
   "id": "c8b88114",
   "metadata": {},
   "source": [
    "**40) Add an element to the set**\n",
    "\n",
    "Oops! apparently one of the prime numbers below One thousand, 997, is missing. Can you add it to <font color=red>**primes**</font> vaiable? Then check to see if 997 is in primes variable."
   ]
  },
  {
   "cell_type": "code",
   "execution_count": 26,
   "id": "f7216257",
   "metadata": {},
   "outputs": [],
   "source": [
    "primes = {2, 3, 5, 7, 11, 13, 17, 19, 23, 29, 31, 37, 41,\n",
    "          43, 47, 53, 59, 61, 67, 71, 73, 79, 83, 89, 97,\n",
    "          101, 103, 107, 109, 113, 127, 131, 137, 139, 149,\n",
    "          151, 157, 163, 167, 173, 179, 181, 191, 193, 197,\n",
    "          199, 211, 223, 227, 229, 233, 239, 241, 251, 257,\n",
    "          263, 269, 271, 277, 281, 283, 293, 307, 311, 313,\n",
    "          317, 331, 337, 347, 349, 353, 359, 367, 373, 379,\n",
    "          383, 389, 397, 401, 409, 419, 421, 431, 433, 439,\n",
    "          443, 449, 457, 461, 463, 467, 479, 487, 491, 499,\n",
    "          503, 509, 521, 523, 541, 547, 557, 563, 569, 571,\n",
    "          577, 587, 593, 599, 601, 607, 613, 617, 619, 631,\n",
    "          641, 643, 647, 653, 659, 661, 673, 677, 683, 691,\n",
    "          701, 709, 719, 727, 733, 739, 743, 751, 757, 761,\n",
    "          769, 773, 787, 797, 809, 811, 821, 823, 827, 829,\n",
    "          839, 853, 857, 859, 863, 877, 881, 883, 887, 907,\n",
    "          911, 919, 929, 937, 941, 947, 953, 967, 971, 977,\n",
    "          983, 991}"
   ]
  },
  {
   "cell_type": "code",
   "execution_count": 28,
   "id": "891b870e",
   "metadata": {},
   "outputs": [
    {
     "name": "stdout",
     "output_type": "stream",
     "text": [
      "{2, 3, 5, 7, 521, 11, 523, 13, 17, 19, 23, 541, 29, 31, 547, 37, 41, 43, 557, 47, 563, 53, 569, 59, 571, 61, 577, 67, 71, 73, 587, 79, 593, 83, 599, 89, 601, 607, 97, 101, 613, 103, 617, 107, 619, 109, 113, 631, 127, 641, 131, 643, 647, 137, 139, 653, 659, 149, 661, 151, 157, 673, 163, 677, 167, 683, 173, 179, 691, 181, 701, 191, 193, 197, 709, 199, 719, 211, 727, 733, 223, 227, 739, 229, 743, 233, 239, 751, 241, 757, 761, 251, 257, 769, 773, 263, 269, 271, 787, 277, 281, 283, 797, 293, 809, 811, 307, 821, 311, 823, 313, 827, 317, 829, 839, 331, 337, 853, 857, 347, 859, 349, 863, 353, 359, 877, 367, 881, 883, 373, 887, 379, 383, 389, 907, 397, 911, 401, 919, 409, 929, 419, 421, 937, 941, 431, 433, 947, 439, 953, 443, 449, 967, 457, 971, 461, 463, 977, 467, 983, 479, 991, 487, 491, 499, 503, 509}\n"
     ]
    }
   ],
   "source": [
    "print(primes)"
   ]
  },
  {
   "cell_type": "code",
   "execution_count": 29,
   "id": "068ea72a",
   "metadata": {},
   "outputs": [],
   "source": [
    "primes.add(997)"
   ]
  },
  {
   "cell_type": "code",
   "execution_count": 30,
   "id": "97ecbf06",
   "metadata": {},
   "outputs": [
    {
     "name": "stdout",
     "output_type": "stream",
     "text": [
      "{2, 3, 5, 7, 521, 11, 523, 13, 17, 19, 23, 541, 29, 31, 547, 37, 41, 43, 557, 47, 563, 53, 569, 59, 571, 61, 577, 67, 71, 73, 587, 79, 593, 83, 599, 89, 601, 607, 97, 101, 613, 103, 617, 107, 619, 109, 113, 631, 127, 641, 131, 643, 647, 137, 139, 653, 659, 149, 661, 151, 157, 673, 163, 677, 167, 683, 173, 179, 691, 181, 701, 191, 193, 197, 709, 199, 719, 211, 727, 733, 223, 227, 739, 229, 743, 233, 239, 751, 241, 757, 761, 251, 257, 769, 773, 263, 269, 271, 787, 277, 281, 283, 797, 293, 809, 811, 307, 821, 311, 823, 313, 827, 317, 829, 839, 331, 337, 853, 857, 347, 859, 349, 863, 353, 359, 877, 367, 881, 883, 373, 887, 379, 383, 389, 907, 397, 911, 401, 919, 409, 929, 419, 421, 937, 941, 431, 433, 947, 439, 953, 443, 449, 967, 457, 971, 461, 463, 977, 467, 983, 479, 991, 997, 487, 491, 499, 503, 509}\n"
     ]
    }
   ],
   "source": [
    "print(primes)"
   ]
  },
  {
   "cell_type": "code",
   "execution_count": 31,
   "id": "48ccaafc",
   "metadata": {},
   "outputs": [
    {
     "data": {
      "text/plain": [
       "True"
      ]
     },
     "execution_count": 31,
     "metadata": {},
     "output_type": "execute_result"
    }
   ],
   "source": [
    "997 in primes"
   ]
  },
  {
   "cell_type": "markdown",
   "id": "ad0568a9",
   "metadata": {},
   "source": [
    "**41) A list or a set, ay there's the point**\n",
    "\n",
    "The following is a set of prime numbers **less than 1000.** Can you check to see if the numbers **463, 149,** and **973** are prime? **Which is better for determining the presence or absence of an item in a group of items, a list or a set?**\n",
    "\n",
    "`answer: set`"
   ]
  },
  {
   "cell_type": "code",
   "execution_count": 32,
   "id": "cdd28ab7",
   "metadata": {},
   "outputs": [
    {
     "name": "stdout",
     "output_type": "stream",
     "text": [
      "13 is prime:  True\n"
     ]
    }
   ],
   "source": [
    "primes = {2, 3, 5, 7, 11, 13, 17, 19, 23, 29, 31, 37, 41,\n",
    "          43, 47, 53, 59, 61, 67, 71, 73, 79, 83, 89, 97,\n",
    "          101, 103, 107, 109, 113, 127, 131, 137, 139, 149,\n",
    "          151, 157, 163, 167, 173, 179, 181, 191, 193, 197,\n",
    "          199, 211, 223, 227, 229, 233, 239, 241, 251, 257,\n",
    "          263, 269, 271, 277, 281, 283, 293, 307, 311, 313,\n",
    "          317, 331, 337, 347, 349, 353, 359, 367, 373, 379,\n",
    "          383, 389, 397, 401, 409, 419, 421, 431, 433, 439,\n",
    "          443, 449, 457, 461, 463, 467, 479, 487, 491, 499,\n",
    "          503, 509, 521, 523, 541, 547, 557, 563, 569, 571,\n",
    "          577, 587, 593, 599, 601, 607, 613, 617, 619, 631,\n",
    "          641, 643, 647, 653, 659, 661, 673, 677, 683, 691,\n",
    "          701, 709, 719, 727, 733, 739, 743, 751, 757, 761,\n",
    "          769, 773, 787, 797, 809, 811, 821, 823, 827, 829,\n",
    "          839, 853, 857, 859, 863, 877, 881, 883, 887, 907,\n",
    "          911, 919, 929, 937, 941, 947, 953, 967, 971, 977,\n",
    "          983, 991}\n",
    "check_13 = 13 in primes\n",
    "print(\"13 is prime: \",check_13)"
   ]
  },
  {
   "cell_type": "code",
   "execution_count": 46,
   "id": "d52e6032",
   "metadata": {},
   "outputs": [],
   "source": [
    "check_463 = 463 in primes\n",
    "check_149 = 149 in primes\n",
    "check_973 = 973 in primes"
   ]
  },
  {
   "cell_type": "code",
   "execution_count": 48,
   "id": "5f841694",
   "metadata": {},
   "outputs": [
    {
     "name": "stdout",
     "output_type": "stream",
     "text": [
      "True True False\n"
     ]
    }
   ],
   "source": [
    "print(check_149,check_463,check_973)"
   ]
  },
  {
   "cell_type": "markdown",
   "id": "bb9f927d",
   "metadata": {},
   "source": [
    "**42) One-digit prime numbers**\n",
    "\n",
    "Create a Set of one-digit prime numbers and store it in the primes variable and print it."
   ]
  },
  {
   "cell_type": "code",
   "execution_count": 52,
   "id": "bfe36f9d",
   "metadata": {},
   "outputs": [],
   "source": [
    "primes = {2,3,5,7}"
   ]
  },
  {
   "cell_type": "code",
   "execution_count": 53,
   "id": "f7c21a56",
   "metadata": {},
   "outputs": [
    {
     "name": "stdout",
     "output_type": "stream",
     "text": [
      "{2, 3, 5, 7}\n"
     ]
    }
   ],
   "source": [
    "print(primes)"
   ]
  }
 ],
 "metadata": {
  "kernelspec": {
   "display_name": "Python 3 (ipykernel)",
   "language": "python",
   "name": "python3"
  },
  "language_info": {
   "codemirror_mode": {
    "name": "ipython",
    "version": 3
   },
   "file_extension": ".py",
   "mimetype": "text/x-python",
   "name": "python",
   "nbconvert_exporter": "python",
   "pygments_lexer": "ipython3",
   "version": "3.9.7"
  }
 },
 "nbformat": 4,
 "nbformat_minor": 5
}
