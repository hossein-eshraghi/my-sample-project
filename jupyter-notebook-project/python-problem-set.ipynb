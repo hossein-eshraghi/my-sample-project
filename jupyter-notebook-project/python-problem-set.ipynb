{
 "cells": [
  {
   "cell_type": "markdown",
   "id": "cd4bae34",
   "metadata": {},
   "source": [
    "**1) Write a program in python that prints hello world .**"
   ]
  },
  {
   "cell_type": "code",
   "execution_count": 158,
   "id": "77eadc88",
   "metadata": {},
   "outputs": [
    {
     "name": "stdout",
     "output_type": "stream",
     "text": [
      "hello world\n"
     ]
    }
   ],
   "source": [
    "print(\"hello world\")"
   ]
  },
  {
   "cell_type": "markdown",
   "id": "8b1ca53a",
   "metadata": {},
   "source": [
    "**2) Which statement is true? and why?**\n",
    "1. In Python, a variable must be declared before it is assigned a value \n",
    "2. In Python, a variable may be assigned a value of one type, and then later assigned a value of a different type"
   ]
  },
  {
   "cell_type": "code",
   "execution_count": 159,
   "id": "33de4a2a",
   "metadata": {},
   "outputs": [
    {
     "name": "stdout",
     "output_type": "stream",
     "text": [
      "True False\n"
     ]
    }
   ],
   "source": [
    "x = True\n",
    "y = False\n",
    "print(x,y)"
   ]
  },
  {
   "cell_type": "markdown",
   "id": "901dedaf",
   "metadata": {},
   "source": [
    "**3) Consider the following sequence of statements :**\\\n",
    "1.These statements refer to different variables.\\\n",
    "2.These statements refer to the same variable.\\\n",
    "Answer: `Case is significant in Python variable names, so these are all different variables.`"
   ]
  },
  {
   "cell_type": "code",
   "execution_count": 160,
   "id": "f31280b5",
   "metadata": {},
   "outputs": [],
   "source": [
    "employeenumber = 4398\n",
    "EmployeeNumber = 4398\n",
    "employeeNumber = 4398"
   ]
  },
  {
   "cell_type": "code",
   "execution_count": 161,
   "id": "8723935b",
   "metadata": {},
   "outputs": [
    {
     "data": {
      "text/plain": [
       "140509166989424"
      ]
     },
     "execution_count": 161,
     "metadata": {},
     "output_type": "execute_result"
    }
   ],
   "source": [
    "id(employeenumber)"
   ]
  },
  {
   "cell_type": "code",
   "execution_count": 162,
   "id": "0ec20f22",
   "metadata": {},
   "outputs": [
    {
     "data": {
      "text/plain": [
       "140509166989488"
      ]
     },
     "execution_count": 162,
     "metadata": {},
     "output_type": "execute_result"
    }
   ],
   "source": [
    "id(EmployeeNumber)"
   ]
  },
  {
   "cell_type": "code",
   "execution_count": 163,
   "id": "f3b164ee",
   "metadata": {},
   "outputs": [
    {
     "data": {
      "text/plain": [
       "140509166989584"
      ]
     },
     "execution_count": 163,
     "metadata": {},
     "output_type": "execute_result"
    }
   ],
   "source": [
    "id(employeeNumber)"
   ]
  },
  {
   "cell_type": "markdown",
   "id": "82f76d4a",
   "metadata": {},
   "source": [
    "**4) Following the execution of these statements, Python has created how many objects and how many references?**\\\n",
    "`1.One object, two references`\\\n",
    "2.One object, one reference\\\n",
    "3.Two objects, one reference\\\n",
    "4.Two objects, two references"
   ]
  },
  {
   "cell_type": "code",
   "execution_count": 164,
   "id": "07cea6a4",
   "metadata": {},
   "outputs": [],
   "source": [
    "n = 300\n",
    "m = n"
   ]
  },
  {
   "cell_type": "code",
   "execution_count": 165,
   "id": "d3140a07",
   "metadata": {},
   "outputs": [
    {
     "data": {
      "text/plain": [
       "140509166990416"
      ]
     },
     "execution_count": 165,
     "metadata": {},
     "output_type": "execute_result"
    }
   ],
   "source": [
    "id(m)"
   ]
  },
  {
   "cell_type": "code",
   "execution_count": 166,
   "id": "55736bc2",
   "metadata": {},
   "outputs": [
    {
     "data": {
      "text/plain": [
       "140509166990416"
      ]
     },
     "execution_count": 166,
     "metadata": {},
     "output_type": "execute_result"
    }
   ],
   "source": [
    "id(n)"
   ]
  },
  {
   "cell_type": "markdown",
   "id": "033e102b",
   "metadata": {},
   "source": [
    "**5) Multiple Variable's Definition**\\\n",
    "Assign values `\"pytopia\" , 2022 and 3.14` to `var_s , var_i , var_f` in **only one line** of code."
   ]
  },
  {
   "cell_type": "code",
   "execution_count": 167,
   "id": "74fe5feb",
   "metadata": {},
   "outputs": [],
   "source": [
    "var_s,var_i,var_f = 'pytopia',2022,3.14"
   ]
  },
  {
   "cell_type": "code",
   "execution_count": 168,
   "id": "b97c747b",
   "metadata": {},
   "outputs": [
    {
     "data": {
      "text/plain": [
       "'pytopia'"
      ]
     },
     "execution_count": 168,
     "metadata": {},
     "output_type": "execute_result"
    }
   ],
   "source": [
    "var_s"
   ]
  },
  {
   "cell_type": "code",
   "execution_count": 169,
   "id": "28b23d01",
   "metadata": {},
   "outputs": [
    {
     "data": {
      "text/plain": [
       "2022"
      ]
     },
     "execution_count": 169,
     "metadata": {},
     "output_type": "execute_result"
    }
   ],
   "source": [
    "var_i"
   ]
  },
  {
   "cell_type": "code",
   "execution_count": 170,
   "id": "a3a75838",
   "metadata": {},
   "outputs": [
    {
     "data": {
      "text/plain": [
       "3.14"
      ]
     },
     "execution_count": 170,
     "metadata": {},
     "output_type": "execute_result"
    }
   ],
   "source": [
    "var_f"
   ]
  },
  {
   "cell_type": "markdown",
   "id": "a6a1fe5e",
   "metadata": {},
   "source": [
    "**6) Variable Assignment**\\\n",
    "Consider the following sequence of statements :\n",
    "\n",
    "Since numbers `between -5 and 256` are used a lot, Python allocates memory for these numbers from the beginning in RAM. For this reason, these objects are made only once and at any time create a variable with these values, instead of making new objects we just create some new pointers to those objects. But for any other numbers any time we create a variable we also create new objects.\n",
    "\n",
    "Somehow, it can be said that the numbers in this range are unique and occupy the RAM once."
   ]
  },
  {
   "cell_type": "code",
   "execution_count": 5,
   "id": "72c00553",
   "metadata": {},
   "outputs": [],
   "source": [
    ">>> m = 245\n",
    ">>> n = 245\n",
    ">>> x = 268\n",
    ">>> y = 268\n",
    ">>> z = y"
   ]
  },
  {
   "cell_type": "code",
   "execution_count": 2,
   "id": "8fb37583",
   "metadata": {},
   "outputs": [
    {
     "name": "stdout",
     "output_type": "stream",
     "text": [
      "139728388798512 139728388798512 139728305696112 139728305695888 139728305695888\n"
     ]
    }
   ],
   "source": [
    "print(id(m),id(n),id(x),id(y),id(z))"
   ]
  },
  {
   "cell_type": "code",
   "execution_count": 173,
   "id": "9c476938",
   "metadata": {},
   "outputs": [
    {
     "data": {
      "text/plain": [
       "(False, True)"
      ]
     },
     "execution_count": 173,
     "metadata": {},
     "output_type": "execute_result"
    }
   ],
   "source": [
    "id(m) != id(n), id(x) != id(y)"
   ]
  },
  {
   "cell_type": "code",
   "execution_count": 174,
   "id": "459a62bd",
   "metadata": {},
   "outputs": [
    {
     "data": {
      "text/plain": [
       "(True, False)"
      ]
     },
     "execution_count": 174,
     "metadata": {},
     "output_type": "execute_result"
    }
   ],
   "source": [
    "id(m) == id(n), id(x) == id(y)"
   ]
  },
  {
   "cell_type": "code",
   "execution_count": 175,
   "id": "d70c8a1c",
   "metadata": {},
   "outputs": [
    {
     "data": {
      "text/plain": [
       "(True, True)"
      ]
     },
     "execution_count": 175,
     "metadata": {},
     "output_type": "execute_result"
    }
   ],
   "source": [
    "id(m) == id(n), id(x) != id(y)"
   ]
  },
  {
   "cell_type": "code",
   "execution_count": 176,
   "id": "8bb39a53",
   "metadata": {},
   "outputs": [
    {
     "data": {
      "text/plain": [
       "(False, False)"
      ]
     },
     "execution_count": 176,
     "metadata": {},
     "output_type": "execute_result"
    }
   ],
   "source": [
    "id(m) != id(n), id(x) == id(y)"
   ]
  },
  {
   "cell_type": "code",
   "execution_count": 177,
   "id": "aeaaeb80",
   "metadata": {},
   "outputs": [
    {
     "data": {
      "text/plain": [
       "True"
      ]
     },
     "execution_count": 177,
     "metadata": {},
     "output_type": "execute_result"
    }
   ],
   "source": [
    "id(z) == id(y)"
   ]
  },
  {
   "cell_type": "code",
   "execution_count": 178,
   "id": "b6cc5562",
   "metadata": {},
   "outputs": [
    {
     "data": {
      "text/plain": [
       "False"
      ]
     },
     "execution_count": 178,
     "metadata": {},
     "output_type": "execute_result"
    }
   ],
   "source": [
    "id(z) != id(y)"
   ]
  },
  {
   "cell_type": "markdown",
   "id": "dbe06cc7",
   "metadata": {},
   "source": [
    "**7) Quick Swap**\n",
    "\n",
    "Assume we have two variables called input_1 and input_2 . Swap the values of the two variables so that input_1 has the value of input_2 and vice versa. Print out the two variables.  \n",
    "\n",
    "Note: You must perform the swap in only 1 line of code, and without using any variables other than input_1 and input_2 ."
   ]
  },
  {
   "cell_type": "code",
   "execution_count": 179,
   "id": "94618ac8",
   "metadata": {},
   "outputs": [],
   "source": [
    "input_1 = 0\n",
    "input_2 = 1\n",
    "input_1,input_2 = input_2,input_1"
   ]
  },
  {
   "cell_type": "markdown",
   "id": "ef1f5911",
   "metadata": {},
   "source": [
    "**8) Custom Swap** \\\n",
    "Ali has a problem with one of his python practices.\\\n",
    "He wants `to get two numbers as input from the user` and put them in input_1 and input_2 .\\\n",
    "then Swap the values of the two variables so that input_1 has the value of input_2 and vice versa.\\ \n",
    "Finally, print out the two variables.\n",
    "\n",
    "**Note: He must only use 3 variables in his code**"
   ]
  },
  {
   "cell_type": "code",
   "execution_count": 180,
   "id": "f7c8e44b",
   "metadata": {},
   "outputs": [
    {
     "name": "stdout",
     "output_type": "stream",
     "text": [
      "Enter first number: 10\n",
      "Enter second number: 11\n"
     ]
    }
   ],
   "source": [
    "input_1 = int(input(\"Enter first number: \"))\n",
    "input_2 = int(input(\"Enter second number: \"))"
   ]
  },
  {
   "cell_type": "code",
   "execution_count": 181,
   "id": "30ee1909",
   "metadata": {},
   "outputs": [],
   "source": [
    "temp = input_1\n",
    "input_1 = input_2\n",
    "input_2 = temp"
   ]
  },
  {
   "cell_type": "code",
   "execution_count": 182,
   "id": "9578728f",
   "metadata": {},
   "outputs": [
    {
     "name": "stdout",
     "output_type": "stream",
     "text": [
      "11 10\n"
     ]
    }
   ],
   "source": [
    "print(input_1,input_2)"
   ]
  },
  {
   "cell_type": "markdown",
   "id": "148dcbfa",
   "metadata": {},
   "source": [
    "**9) Easy Sum** \\\n",
    "We ask Ali to write a code that takes two inputs from the user and saves them in two desired variables, and then puts the sum of the two inputs in a variable and prints the result. Since Ali does not know the syntax of python, we ask you to help him to write this code!\n",
    "\n",
    "Note: Use snake case format for variable names.\n",
    "\n",
    "Hint: You can use the following code to take input from the user and convert it to an integer. (In future sessions we will explain how this code works).\n",
    "\n",
    "You can change the name of the variable to anything you like.\n",
    "\n",
    "`Note: When you are giving your input data, press Enter to end the process of giving input after you have done.`\n"
   ]
  },
  {
   "cell_type": "code",
   "execution_count": 183,
   "id": "a20e3a00",
   "metadata": {},
   "outputs": [
    {
     "name": "stdout",
     "output_type": "stream",
     "text": [
      "Enter a number: 10\n",
      "Enter another number: 11\n"
     ]
    }
   ],
   "source": [
    "input_1 = int(input('Enter a number: '))\n",
    "input_2 = int(input('Enter another number: '))"
   ]
  },
  {
   "cell_type": "code",
   "execution_count": 184,
   "id": "4854f762",
   "metadata": {},
   "outputs": [
    {
     "name": "stdout",
     "output_type": "stream",
     "text": [
      "21\n"
     ]
    }
   ],
   "source": [
    "sum_x = input_1 + input_2\n",
    "print(sum_x)"
   ]
  },
  {
   "cell_type": "markdown",
   "id": "9732e958",
   "metadata": {},
   "source": [
    "**10) Warm-Up Variable Practice!** \\\n",
    "Ali's programming teacher asks him to define two variables inp_1 and inp_2 and assign values 10 and 35 to them. \\\n",
    "then put inp_1 + inp_2 in variable result and print it. \\\n",
    "Ali is a lazy student and asks you to do this for him!\n",
    "\n"
   ]
  },
  {
   "cell_type": "code",
   "execution_count": 185,
   "id": "593e3ce1",
   "metadata": {},
   "outputs": [
    {
     "name": "stdout",
     "output_type": "stream",
     "text": [
      "45\n"
     ]
    }
   ],
   "source": [
    "inp_1,inp_2 = 10,35\n",
    "sum_inp = inp_1 + inp_2\n",
    "print(sum_inp)"
   ]
  },
  {
   "cell_type": "markdown",
   "id": "1df25855",
   "metadata": {},
   "source": [
    "**11) Bitwise Operators Quiz** \\\n",
    "4 is 100 in binary and 11 is 1011. \\\n",
    "What is the output of the following bitwise operators?\n",
    "\n",
    "4: 0100 \\\n",
    "11: 1011"
   ]
  },
  {
   "cell_type": "code",
   "execution_count": 186,
   "id": "190a6a9e",
   "metadata": {},
   "outputs": [
    {
     "name": "stdout",
     "output_type": "stream",
     "text": [
      "15 1\n"
     ]
    }
   ],
   "source": [
    "a = 4\n",
    "b = 11\n",
    "print(a | b, a >> 2)"
   ]
  },
  {
   "cell_type": "markdown",
   "id": "12aecd51",
   "metadata": {},
   "source": [
    "**12) Operator and Expression** \\\n",
    "What is the output of the following code?\n",
    "\n",
    "print(bool(0), bool(3.14159), bool(-3), bool(1.0+1j)) \n",
    "\n",
    "1. True True False True \\\n",
    "2. False True True True \\\n",
    "3. True True False True \\\n",
    "4. False True False True\n",
    "\n",
    "`answer: 2`"
   ]
  },
  {
   "cell_type": "markdown",
   "id": "07bec7d6",
   "metadata": {},
   "source": [
    "**13) List Chain Assignment** \\\n",
    "What is the output where indicated by #?:\n",
    "\n",
    "`Hint: If you think the outputs are [2] and [3], think again!`\n",
    "\n",
    "The reason is when you do `x = y = []` you define two pointers both pointing to one memory location. \\\n",
    "If you change that memory location with x, the changes are seen by y too, cause both are sharing one memory location.\n",
    "\n",
    "So be careful when you use chain assignments. It may cause unexpected behaviours when used with mutable data types.\n",
    "\n",
    "Note that with immutable variables, there is no problem like this, cause they are not gonna change."
   ]
  },
  {
   "cell_type": "code",
   "execution_count": 187,
   "id": "7bdcd672",
   "metadata": {},
   "outputs": [
    {
     "name": "stdout",
     "output_type": "stream",
     "text": [
      "[2, 3]\n",
      "[2, 3]\n"
     ]
    }
   ],
   "source": [
    "x = y = []\n",
    "x.append(2)\n",
    "y.append(3)\n",
    "print(x)\n",
    "print(y)"
   ]
  },
  {
   "cell_type": "markdown",
   "id": "ef5eb8db",
   "metadata": {},
   "source": [
    "**14) Append to The List** \\\n",
    "The append() method allows you to add items to your lists. \\\n",
    "Add the string \"R\" to the programming_langs list with append() method.\n",
    "\n",
    "Note: Python's list contents are references unless documented otherwise, no copies are created when you pass a name to a method. This applies just as much to list.append() as to any other call; list.append() adds a reference to the list, not a copy."
   ]
  },
  {
   "cell_type": "code",
   "execution_count": 188,
   "id": "461738b6",
   "metadata": {},
   "outputs": [],
   "source": [
    "programming_langs = [\"Julia\", \"Python\"] \n",
    "programming_langs.append(\"R\")"
   ]
  },
  {
   "cell_type": "code",
   "execution_count": 189,
   "id": "e9c651ad",
   "metadata": {},
   "outputs": [
    {
     "data": {
      "text/plain": [
       "['Julia', 'Python', 'R']"
      ]
     },
     "execution_count": 189,
     "metadata": {},
     "output_type": "execute_result"
    }
   ],
   "source": [
    "programming_langs"
   ]
  },
  {
   "cell_type": "markdown",
   "id": "8bfb3a4d",
   "metadata": {},
   "source": [
    "**15) List: Max, Min, Sum and Mean** \\\n",
    "Calculate the maximum, minimum, sum and mean of the following data using python's built-in functions:\n",
    "\n"
   ]
  },
  {
   "cell_type": "code",
   "execution_count": 190,
   "id": "7b348847",
   "metadata": {},
   "outputs": [],
   "source": [
    "random_num_data = [18, 60, -10, 17, 55, 8, -1, 31, 52, 31,\n",
    "                    27, 14, 25, 0, -2, 15, -1, 50, 45, -4,\n",
    "                    42, -10, 40, 3, 43, 55, 24, -17, 17, 54, \n",
    "                    19, 24, 44, 30, 24, 3, -17, 31, 45, -10, \n",
    "                    13, -12, 21, -13, 52, 57, -1, 37, 21, 42]"
   ]
  },
  {
   "cell_type": "code",
   "execution_count": 191,
   "id": "d43c7f62",
   "metadata": {},
   "outputs": [
    {
     "data": {
      "text/plain": [
       "60"
      ]
     },
     "execution_count": 191,
     "metadata": {},
     "output_type": "execute_result"
    }
   ],
   "source": [
    "maximum = max(random_num_data)\n",
    "maximum"
   ]
  },
  {
   "cell_type": "code",
   "execution_count": 192,
   "id": "c721b7c1",
   "metadata": {},
   "outputs": [
    {
     "data": {
      "text/plain": [
       "-17"
      ]
     },
     "execution_count": 192,
     "metadata": {},
     "output_type": "execute_result"
    }
   ],
   "source": [
    "minimum = min(random_num_data)\n",
    "minimum"
   ]
  },
  {
   "cell_type": "code",
   "execution_count": 193,
   "id": "1f9d9b2e",
   "metadata": {},
   "outputs": [
    {
     "data": {
      "text/plain": [
       "1091"
      ]
     },
     "execution_count": 193,
     "metadata": {},
     "output_type": "execute_result"
    }
   ],
   "source": [
    "sum_of_data = sum(random_num_data)\n",
    "sum_of_data"
   ]
  },
  {
   "cell_type": "code",
   "execution_count": 194,
   "id": "685a1a49",
   "metadata": {},
   "outputs": [
    {
     "data": {
      "text/plain": [
       "21.82"
      ]
     },
     "execution_count": 194,
     "metadata": {},
     "output_type": "execute_result"
    }
   ],
   "source": [
    "mean_of_data = sum(random_num_data) / len(random_num_data)\n",
    "mean_of_data"
   ]
  },
  {
   "cell_type": "markdown",
   "id": "e87c5595",
   "metadata": {},
   "source": [
    "**16) Second Largest Number In List** \\\n",
    "Find the second_largest number in the list:\n",
    "\n",
    "`second_largest = 66`"
   ]
  },
  {
   "cell_type": "code",
   "execution_count": 22,
   "id": "414d80e5",
   "metadata": {},
   "outputs": [
    {
     "data": {
      "text/plain": [
       "[3, 47, 10, 15, 21, 28, 13, 45, 66, 12, 34, 56, 78]"
      ]
     },
     "execution_count": 22,
     "metadata": {},
     "output_type": "execute_result"
    }
   ],
   "source": [
    "num_list = [3, 47, 10, 15, 21, 28, 13, 45, 66, 12, 34, 56, 78]\n",
    "num_list"
   ]
  },
  {
   "cell_type": "code",
   "execution_count": 196,
   "id": "7432316f",
   "metadata": {},
   "outputs": [
    {
     "data": {
      "text/plain": [
       "78"
      ]
     },
     "execution_count": 196,
     "metadata": {},
     "output_type": "execute_result"
    }
   ],
   "source": [
    "# method 1\n",
    "max(num_list)"
   ]
  },
  {
   "cell_type": "code",
   "execution_count": 197,
   "id": "6086ff8e",
   "metadata": {},
   "outputs": [],
   "source": [
    "num_list.remove(78)"
   ]
  },
  {
   "cell_type": "code",
   "execution_count": 198,
   "id": "29ecc672",
   "metadata": {},
   "outputs": [
    {
     "data": {
      "text/plain": [
       "66"
      ]
     },
     "execution_count": 198,
     "metadata": {},
     "output_type": "execute_result"
    }
   ],
   "source": [
    "max(num_list)"
   ]
  },
  {
   "cell_type": "code",
   "execution_count": 14,
   "id": "fa2c3bd5",
   "metadata": {},
   "outputs": [
    {
     "data": {
      "text/plain": [
       "[3, 10, 12, 13, 15, 21, 28, 34, 45, 47, 56, 66, 78]"
      ]
     },
     "execution_count": 14,
     "metadata": {},
     "output_type": "execute_result"
    }
   ],
   "source": [
    "# method 2\n",
    "sorted_list = sorted(num_list)\n",
    "sorted_list"
   ]
  },
  {
   "cell_type": "code",
   "execution_count": 15,
   "id": "acf53f2e",
   "metadata": {},
   "outputs": [
    {
     "data": {
      "text/plain": [
       "66"
      ]
     },
     "execution_count": 15,
     "metadata": {},
     "output_type": "execute_result"
    }
   ],
   "source": [
    "second_largest = sorted_list[-2]\n",
    "second_largest"
   ]
  },
  {
   "cell_type": "code",
   "execution_count": 19,
   "id": "fd97bc08",
   "metadata": {},
   "outputs": [
    {
     "data": {
      "text/plain": [
       "66"
      ]
     },
     "execution_count": 19,
     "metadata": {},
     "output_type": "execute_result"
    }
   ],
   "source": [
    "# method 3\n",
    "sorted(num_list,reverse=True)[1]"
   ]
  },
  {
   "cell_type": "code",
   "execution_count": 33,
   "id": "4f5906fc",
   "metadata": {},
   "outputs": [
    {
     "name": "stdout",
     "output_type": "stream",
     "text": [
      "3 47\n",
      "47 3\n",
      "78 66\n"
     ]
    }
   ],
   "source": [
    "# method 4\n",
    "max_1 = num_list[0]\n",
    "max_2 = num_list[1]\n",
    "print(max_1,max_2)\n",
    "\n",
    "if max_1 < max_2:\n",
    "    max_1, max_2 = max_2, max_1\n",
    "    \n",
    "print(max_1,max_2)\n",
    "\n",
    "\n",
    "for n in num_list[2:]:\n",
    "    if n > max_1:\n",
    "        max_2 = max_1\n",
    "        max_1 = n\n",
    "        \n",
    "    elif n > max_2:\n",
    "        max_2 = n\n",
    "        \n",
    "print(max_1,max_2)\n",
    "\n",
    "# max_2 = None\n",
    "# for n in num_list:\n",
    "#     if n > max_1:\n",
    "    \n",
    "#     if max_1 is None:\n",
    "#         max_1 = n\n",
    "    \n",
    "#     if max_1 is not None and max_2 is None:"
   ]
  },
  {
   "cell_type": "markdown",
   "id": "5c3d9fee",
   "metadata": {},
   "source": [
    "**17) List Quiz** \\\n",
    "Which of the following are `not true` about Python lists? (Choose all that may apply)\n",
    "\n",
    "1. There is no limit to the size of a list.\n",
    "2. All elements in a list must be of the same type.\n",
    "3. A list may contain any type of object except another list\n",
    "4. A given object may appear in a list more than once.\n",
    "\n",
    "`answer: Choice 2, is not True. This statement is not relevant to the list data type in python. what it's referring though, is an array.\n",
    "Choice 3, is not True. Alist can contain any object, including another list (nested list).`"
   ]
  },
  {
   "cell_type": "markdown",
   "id": "2a962348",
   "metadata": {},
   "source": [
    "**18) Nested List Indexing** \\\n",
    "Extract the fourth team list from persian_gulf_standing:"
   ]
  },
  {
   "cell_type": "code",
   "execution_count": 4,
   "id": "5d33f38c",
   "metadata": {},
   "outputs": [],
   "source": [
    "persian_gulf_standing = [\n",
    "    ['Esteghlel F.C', 1],\n",
    "    ['Sepahan', 2],\n",
    "    ['Perspolis', 3],\n",
    "    ['Gol Gohar', 4],\n",
    "    ['Foolad', 5]\n",
    "]\n",
    "\n",
    "# forth_team = #Code here"
   ]
  },
  {
   "cell_type": "code",
   "execution_count": 202,
   "id": "3359d502",
   "metadata": {},
   "outputs": [
    {
     "data": {
      "text/plain": [
       "'Gol Gohar'"
      ]
     },
     "execution_count": 202,
     "metadata": {},
     "output_type": "execute_result"
    }
   ],
   "source": [
    "# method 1\n",
    "persian_gulf_standing[3][0]"
   ]
  },
  {
   "cell_type": "code",
   "execution_count": 12,
   "id": "57c182fd",
   "metadata": {},
   "outputs": [
    {
     "data": {
      "text/plain": [
       "'Gol Gohar'"
      ]
     },
     "execution_count": 12,
     "metadata": {},
     "output_type": "execute_result"
    }
   ],
   "source": [
    "# method 2\n",
    "forth_team = persian_gulf_standing[:][-2][0] \n",
    "forth_team"
   ]
  },
  {
   "cell_type": "code",
   "execution_count": 11,
   "id": "46a13214",
   "metadata": {},
   "outputs": [
    {
     "data": {
      "text/plain": [
       "'Gol Gohar'"
      ]
     },
     "execution_count": 11,
     "metadata": {},
     "output_type": "execute_result"
    }
   ],
   "source": [
    "# method 3\n",
    "sorted(persian_gulf_standing, key=lambda i: i[1], reverse=True)[1][0]"
   ]
  },
  {
   "cell_type": "markdown",
   "id": "e248bded",
   "metadata": {},
   "source": [
    "**19) List Subset** \\\n",
    "Subset the following lists from color list:"
   ]
  },
  {
   "cell_type": "code",
   "execution_count": 204,
   "id": "dbd41544",
   "metadata": {},
   "outputs": [],
   "source": [
    "bl_gr = ['blue', 'green']\n",
    "re_gr_br = ['red', 'green', 'brown']\n",
    "pk_br_yl = ['pink', 'brown', 'yellow']"
   ]
  },
  {
   "cell_type": "code",
   "execution_count": 205,
   "id": "d025fb9e",
   "metadata": {},
   "outputs": [],
   "source": [
    "colors = ['red', 'blue', 'green', 'yellow', 'brown', 'pink']"
   ]
  },
  {
   "cell_type": "markdown",
   "id": "0879d697",
   "metadata": {},
   "source": [
    "#### bl_gr = #?"
   ]
  },
  {
   "cell_type": "code",
   "execution_count": 206,
   "id": "5ff0b444",
   "metadata": {},
   "outputs": [
    {
     "data": {
      "text/plain": [
       "['blue', 'green']"
      ]
     },
     "execution_count": 206,
     "metadata": {},
     "output_type": "execute_result"
    }
   ],
   "source": [
    "bl_gr = colors[1:3]\n",
    "bl_gr"
   ]
  },
  {
   "cell_type": "markdown",
   "id": "3641b1dc",
   "metadata": {},
   "source": [
    "#### re_gr_br = #?"
   ]
  },
  {
   "cell_type": "code",
   "execution_count": 207,
   "id": "c0201aa4",
   "metadata": {},
   "outputs": [
    {
     "data": {
      "text/plain": [
       "['red', 'green', 'brown']"
      ]
     },
     "execution_count": 207,
     "metadata": {},
     "output_type": "execute_result"
    }
   ],
   "source": [
    "# method 1\n",
    "re_gr_br = colors[0:5:2]\n",
    "re_gr_br"
   ]
  },
  {
   "cell_type": "code",
   "execution_count": 208,
   "id": "b417870e",
   "metadata": {},
   "outputs": [
    {
     "data": {
      "text/plain": [
       "['red', 'green', 'brown']"
      ]
     },
     "execution_count": 208,
     "metadata": {},
     "output_type": "execute_result"
    }
   ],
   "source": [
    "# method 2\n",
    "re_gr_br = colors[::2]\n",
    "re_gr_br"
   ]
  },
  {
   "cell_type": "markdown",
   "id": "6ab54e7a",
   "metadata": {},
   "source": [
    "#### pk_br_yl = #?"
   ]
  },
  {
   "cell_type": "code",
   "execution_count": 209,
   "id": "f6ad7e27",
   "metadata": {},
   "outputs": [
    {
     "data": {
      "text/plain": [
       "['yellow', 'brown', 'pink']"
      ]
     },
     "execution_count": 209,
     "metadata": {},
     "output_type": "execute_result"
    }
   ],
   "source": [
    "# method 1\n",
    "pk_br_yl = colors[3:]\n",
    "pk_br_yl"
   ]
  },
  {
   "cell_type": "code",
   "execution_count": 210,
   "id": "54112d95",
   "metadata": {},
   "outputs": [
    {
     "data": {
      "text/plain": [
       "['pink', 'brown', 'yellow']"
      ]
     },
     "execution_count": 210,
     "metadata": {},
     "output_type": "execute_result"
    }
   ],
   "source": [
    "pk_br_yl = colors[-1:-4:-1]\n",
    "pk_br_yl"
   ]
  },
  {
   "cell_type": "markdown",
   "id": "6e1436b5",
   "metadata": {},
   "source": [
    "**20) List Memory Usage** \\\n",
    "Consider the following line of code :\n",
    "\n",
    "a = 300 , b = 124 , mylist = [300, 124, 100]\n",
    "\n",
    "`Answer: 124 is between -5 and 256 and as you know python reserves memory for these numbers and these objects are created only once. So when you have a list with value 124 in it, it doesn't create a new object, Only a pointer point to the address as variable a point. so they have same id But for 300 it creates an object and b points to it. then when you create a list that has a value of 300 in it, it creates a new object with value 300 and it has the list's pointer. so the list pointer and variable b do not point to the same object and they have a different id.`"
   ]
  },
  {
   "cell_type": "code",
   "execution_count": 211,
   "id": "22e37a96",
   "metadata": {},
   "outputs": [],
   "source": [
    "mylist = [300, 124, 100]\n",
    "a,b = 300,124"
   ]
  },
  {
   "cell_type": "code",
   "execution_count": 212,
   "id": "701bc1d3",
   "metadata": {},
   "outputs": [
    {
     "name": "stdout",
     "output_type": "stream",
     "text": [
      "140509165693328 140509796202704 140509796202704\n"
     ]
    }
   ],
   "source": [
    "print(id(a),id(b),id(mylist[1]))"
   ]
  },
  {
   "cell_type": "code",
   "execution_count": 213,
   "id": "f148d8df",
   "metadata": {},
   "outputs": [
    {
     "data": {
      "text/plain": [
       "False"
      ]
     },
     "execution_count": 213,
     "metadata": {},
     "output_type": "execute_result"
    }
   ],
   "source": [
    "id(a) == id(mylist[0]) and id(b) == id(mylist[1])"
   ]
  },
  {
   "cell_type": "code",
   "execution_count": 214,
   "id": "ca0d84ce",
   "metadata": {},
   "outputs": [
    {
     "data": {
      "text/plain": [
       "False"
      ]
     },
     "execution_count": 214,
     "metadata": {},
     "output_type": "execute_result"
    }
   ],
   "source": [
    "id(a) == id(mylist[0]) and id(b) != id(mylist[1])"
   ]
  },
  {
   "cell_type": "code",
   "execution_count": 215,
   "id": "ffc57fe2",
   "metadata": {},
   "outputs": [
    {
     "data": {
      "text/plain": [
       "True"
      ]
     },
     "execution_count": 215,
     "metadata": {},
     "output_type": "execute_result"
    }
   ],
   "source": [
    "id(a) != id(mylist[0]) and id(b) == id(mylist[1])"
   ]
  },
  {
   "cell_type": "code",
   "execution_count": 216,
   "id": "d4351e12",
   "metadata": {},
   "outputs": [
    {
     "data": {
      "text/plain": [
       "False"
      ]
     },
     "execution_count": 216,
     "metadata": {},
     "output_type": "execute_result"
    }
   ],
   "source": [
    "id(a) != id(mylist[0]) and id(b) != id(mylist[1])"
   ]
  },
  {
   "cell_type": "code",
   "execution_count": 217,
   "id": "81a12687",
   "metadata": {},
   "outputs": [
    {
     "data": {
      "text/plain": [
       "False"
      ]
     },
     "execution_count": 217,
     "metadata": {},
     "output_type": "execute_result"
    }
   ],
   "source": [
    "id(a) == id(mylist) and id(b) == id(mylist)"
   ]
  },
  {
   "cell_type": "markdown",
   "id": "a2d2eaa4",
   "metadata": {},
   "source": [
    "**21) Delete List items**\n",
    "\n",
    "What is the output of the following code?\n",
    "\n",
    "`answer : []\n",
    "When your index is greater than the number of items in the list, del won't give an error. it removes all elements of the list. it means that it read indexes until the end of your list and then terminates.`"
   ]
  },
  {
   "cell_type": "code",
   "execution_count": 218,
   "id": "dc3ac408",
   "metadata": {},
   "outputs": [
    {
     "name": "stdout",
     "output_type": "stream",
     "text": [
      "[]\n"
     ]
    }
   ],
   "source": [
    "inp_list = [10, 20, 30, 40]\n",
    "del inp_list[0:6]\n",
    "print(inp_list)"
   ]
  },
  {
   "cell_type": "markdown",
   "id": "90ebd29d",
   "metadata": {},
   "source": [
    "**22) Replace List Items with New Values** \\\n",
    "Ali put his student's math grades on a list. One of the students has been suspended with a score of 9.75. Today is Ali's birthday and he wants to give 10 to that student. we want you to find the value 9.75 in the given list, and replace it with 10. Only update the first occurrence of the item."
   ]
  },
  {
   "cell_type": "code",
   "execution_count": 219,
   "id": "ccdbdcc9",
   "metadata": {},
   "outputs": [],
   "source": [
    "grades = [12, 19, 14, 15, 17.5, 18, 10.25, 9.75, 19, 14, 12, 11.25, 17, 18, 13, 13, 15, 19, 18.5]"
   ]
  },
  {
   "cell_type": "code",
   "execution_count": 220,
   "id": "2345a1ee",
   "metadata": {},
   "outputs": [
    {
     "name": "stdout",
     "output_type": "stream",
     "text": [
      "[12, 19, 14, 15, 17.5, 18, 10.25, 9.75, 19, 14, 12, 11.25, 17, 18, 13, 13, 15, 19, 18.5]\n"
     ]
    }
   ],
   "source": [
    "print(grades)"
   ]
  },
  {
   "cell_type": "code",
   "execution_count": 221,
   "id": "b43b0605",
   "metadata": {},
   "outputs": [
    {
     "name": "stdout",
     "output_type": "stream",
     "text": [
      "[9.75, 10.25, 11.25, 12, 12, 13, 13, 14, 14, 15, 15, 17, 17.5, 18, 18, 18.5, 19, 19, 19]\n"
     ]
    }
   ],
   "source": [
    "# method 1\n",
    "grades_sorted = sorted(grades)\n",
    "print(grades_sorted)"
   ]
  },
  {
   "cell_type": "code",
   "execution_count": 222,
   "id": "447e379b",
   "metadata": {},
   "outputs": [],
   "source": [
    "grades_sorted[0] = 10"
   ]
  },
  {
   "cell_type": "code",
   "execution_count": 223,
   "id": "de0a0dcf",
   "metadata": {},
   "outputs": [
    {
     "name": "stdout",
     "output_type": "stream",
     "text": [
      "[10, 10.25, 11.25, 12, 12, 13, 13, 14, 14, 15, 15, 17, 17.5, 18, 18, 18.5, 19, 19, 19]\n"
     ]
    }
   ],
   "source": [
    "print(grades_sorted)"
   ]
  },
  {
   "cell_type": "code",
   "execution_count": 224,
   "id": "27625027",
   "metadata": {},
   "outputs": [
    {
     "name": "stdout",
     "output_type": "stream",
     "text": [
      "[12, 19, 14, 15, 17.5, 18, 10.25, 10, 19, 14, 12, 11.25, 17, 18, 13, 13, 15, 19, 18.5]\n"
     ]
    }
   ],
   "source": [
    "# method 2\n",
    "\n",
    "# get the first occurrence index\n",
    "index = grades.index(9.75)\n",
    "\n",
    "# update item present at location\n",
    "grades[index] = 10\n",
    "print(grades)"
   ]
  },
  {
   "cell_type": "markdown",
   "id": "df7e99fe",
   "metadata": {},
   "source": [
    "**23) Simple List Indexing** \\\n",
    "Use indexes and print the first, third, and last element of the list below. \\\n",
    "Note: #? is just a comment indicating where you should write your code."
   ]
  },
  {
   "cell_type": "code",
   "execution_count": 225,
   "id": "e916f7b5",
   "metadata": {},
   "outputs": [],
   "source": [
    "num_list = [1, 3, 6, 10, 15, 21, 28, 36, 45, 55, 66, 78]\n",
    "# first_element = #? third_element = #? last_element =  #?"
   ]
  },
  {
   "cell_type": "code",
   "execution_count": 226,
   "id": "4a7f2996",
   "metadata": {},
   "outputs": [
    {
     "data": {
      "text/plain": [
       "1"
      ]
     },
     "execution_count": 226,
     "metadata": {},
     "output_type": "execute_result"
    }
   ],
   "source": [
    "first_element = num_list[0]\n",
    "first_element"
   ]
  },
  {
   "cell_type": "code",
   "execution_count": 227,
   "id": "d7a49391",
   "metadata": {},
   "outputs": [
    {
     "data": {
      "text/plain": [
       "6"
      ]
     },
     "execution_count": 227,
     "metadata": {},
     "output_type": "execute_result"
    }
   ],
   "source": [
    "third_element = num_list[2]\n",
    "third_element"
   ]
  },
  {
   "cell_type": "code",
   "execution_count": 228,
   "id": "1a39eff3",
   "metadata": {},
   "outputs": [
    {
     "data": {
      "text/plain": [
       "78"
      ]
     },
     "execution_count": 228,
     "metadata": {},
     "output_type": "execute_result"
    }
   ],
   "source": [
    "last_element = num_list[-1]\n",
    "last_element"
   ]
  },
  {
   "cell_type": "markdown",
   "id": "140cf19a",
   "metadata": {},
   "source": [
    "**24) Tuple: Remove an Item** \\\n",
    "Write a Python program to remove item `\"hafez\"` from a tuple and save it in persian_poets_wo_hafez\n",
    "\n",
    "`Answer: Tuples are immutable, so you can not remove elements.`"
   ]
  },
  {
   "cell_type": "code",
   "execution_count": 1,
   "id": "9c3af30d",
   "metadata": {},
   "outputs": [],
   "source": [
    "persian_poets = ('saadi', 'frough', 'hafez', 'parvin', 'saeb')"
   ]
  },
  {
   "cell_type": "code",
   "execution_count": 230,
   "id": "175a4a46",
   "metadata": {},
   "outputs": [
    {
     "data": {
      "text/plain": [
       "tuple"
      ]
     },
     "execution_count": 230,
     "metadata": {},
     "output_type": "execute_result"
    }
   ],
   "source": [
    "type(persian_poets)"
   ]
  },
  {
   "cell_type": "code",
   "execution_count": 231,
   "id": "632b6e53",
   "metadata": {},
   "outputs": [
    {
     "data": {
      "text/plain": [
       "('saadi', 'frough', 'parvin', 'saeb')"
      ]
     },
     "execution_count": 231,
     "metadata": {},
     "output_type": "execute_result"
    }
   ],
   "source": [
    "# method 1\n",
    "## Using the merge of tuples with the + operator, you can remove an item, and it will create a new tuple.\n",
    "persian_poets_wo_hafez  = persian_poets[:2] + persian_poets[3:]\n",
    "persian_poets_wo_hafez"
   ]
  },
  {
   "cell_type": "code",
   "execution_count": 232,
   "id": "9a4f6030",
   "metadata": {},
   "outputs": [],
   "source": [
    "# method 2\n",
    "## first convert tuple to list\n",
    "persian_poets = list(persian_poets)"
   ]
  },
  {
   "cell_type": "code",
   "execution_count": 233,
   "id": "c0d426ed",
   "metadata": {},
   "outputs": [
    {
     "data": {
      "text/plain": [
       "['saadi', 'frough', 'hafez', 'parvin', 'saeb']"
      ]
     },
     "execution_count": 233,
     "metadata": {},
     "output_type": "execute_result"
    }
   ],
   "source": [
    "persian_poets"
   ]
  },
  {
   "cell_type": "code",
   "execution_count": 234,
   "id": "56dd9f6f",
   "metadata": {},
   "outputs": [],
   "source": [
    "# use different ways to remove an item of the list\n",
    "persian_poets.remove('hafez')"
   ]
  },
  {
   "cell_type": "code",
   "execution_count": 235,
   "id": "3e2d2d17",
   "metadata": {},
   "outputs": [
    {
     "data": {
      "text/plain": [
       "['saadi', 'frough', 'parvin', 'saeb']"
      ]
     },
     "execution_count": 235,
     "metadata": {},
     "output_type": "execute_result"
    }
   ],
   "source": [
    "persian_poets"
   ]
  },
  {
   "cell_type": "code",
   "execution_count": 236,
   "id": "cc7acfb2",
   "metadata": {},
   "outputs": [
    {
     "data": {
      "text/plain": [
       "('saadi', 'frough', 'parvin', 'saeb')"
      ]
     },
     "execution_count": 236,
     "metadata": {},
     "output_type": "execute_result"
    }
   ],
   "source": [
    "# converting the tuple to list\n",
    "persian_poets_wo_hafez = tuple(persian_poets)\n",
    "persian_poets_wo_hafez"
   ]
  },
  {
   "cell_type": "code",
   "execution_count": 4,
   "id": "6c29e7ab",
   "metadata": {},
   "outputs": [],
   "source": [
    "# wo_hafez = tuple(list(persian_poets).remove(\"hafez\"))\n",
    "# wo_hafez"
   ]
  },
  {
   "cell_type": "markdown",
   "id": "6014863e",
   "metadata": {},
   "source": [
    "**25) Simple Tuple Indexing 2** \\\n",
    "Copy specific elements from one tuple to a new tuple\\\n",
    "Write a program to copy elements 44 and 55 from the following tuple into a new tuple. tuple2 = (44, 55)"
   ]
  },
  {
   "cell_type": "code",
   "execution_count": null,
   "id": "fc590bed",
   "metadata": {},
   "outputs": [],
   "source": [
    "tuple1 = (11, 22, 33, 44, 55, 66)"
   ]
  },
  {
   "cell_type": "code",
   "execution_count": null,
   "id": "94fe2ed4",
   "metadata": {},
   "outputs": [],
   "source": [
    "# method 1\n",
    "tuple2 = tuple1[3:5]\n",
    "tuple2"
   ]
  },
  {
   "cell_type": "code",
   "execution_count": 239,
   "id": "f2adb0fb",
   "metadata": {},
   "outputs": [
    {
     "name": "stdout",
     "output_type": "stream",
     "text": [
      "(44, 55)\n"
     ]
    }
   ],
   "source": [
    "# method 2\n",
    "tuple2 = tuple1[3:-1]\n",
    "print(tuple2)"
   ]
  },
  {
   "cell_type": "markdown",
   "id": "bf66cd74",
   "metadata": {},
   "source": [
    "**26) Unpack Tuple** \\\n",
    "Unpack the tuple into 4 variables.\\\n",
    "Write a program to unpack the following tuple into four variables: sohrab faramarz jahangir siyavash"
   ]
  },
  {
   "cell_type": "code",
   "execution_count": 240,
   "id": "f737a8d5",
   "metadata": {},
   "outputs": [],
   "source": [
    "shahnameh_tuple = ('Sohrab', 'Faramarz', 'Jahangir', 'Siyavash')\n",
    "#write your code here"
   ]
  },
  {
   "cell_type": "code",
   "execution_count": 241,
   "id": "c553797f",
   "metadata": {},
   "outputs": [],
   "source": [
    "sohrab,faramarz,jahangir,siyavash = shahnameh_tuple"
   ]
  },
  {
   "cell_type": "code",
   "execution_count": 242,
   "id": "abadce73",
   "metadata": {},
   "outputs": [
    {
     "data": {
      "text/plain": [
       "'Sohrab'"
      ]
     },
     "execution_count": 242,
     "metadata": {},
     "output_type": "execute_result"
    }
   ],
   "source": [
    "sohrab"
   ]
  },
  {
   "cell_type": "code",
   "execution_count": 243,
   "id": "850a568c",
   "metadata": {},
   "outputs": [
    {
     "data": {
      "text/plain": [
       "'Faramarz'"
      ]
     },
     "execution_count": 243,
     "metadata": {},
     "output_type": "execute_result"
    }
   ],
   "source": [
    "faramarz"
   ]
  },
  {
   "cell_type": "code",
   "execution_count": 244,
   "id": "136d18db",
   "metadata": {},
   "outputs": [
    {
     "data": {
      "text/plain": [
       "'Jahangir'"
      ]
     },
     "execution_count": 244,
     "metadata": {},
     "output_type": "execute_result"
    }
   ],
   "source": [
    "jahangir"
   ]
  },
  {
   "cell_type": "code",
   "execution_count": 245,
   "id": "c50172ee",
   "metadata": {},
   "outputs": [
    {
     "data": {
      "text/plain": [
       "'Siyavash'"
      ]
     },
     "execution_count": 245,
     "metadata": {},
     "output_type": "execute_result"
    }
   ],
   "source": [
    "siyavash"
   ]
  },
  {
   "cell_type": "markdown",
   "id": "4cbaea67",
   "metadata": {},
   "source": [
    "**27) Reverse Tuple** \\\n",
    "Reverse the following tuple and save it in reverse_num_tup :"
   ]
  },
  {
   "cell_type": "code",
   "execution_count": 246,
   "id": "efdb11e8",
   "metadata": {},
   "outputs": [],
   "source": [
    "num_tup = (10, 20, 30, 40, 50)\n",
    "# reverse_num_tup = #?"
   ]
  },
  {
   "cell_type": "code",
   "execution_count": 247,
   "id": "8ce3b07e",
   "metadata": {},
   "outputs": [
    {
     "data": {
      "text/plain": [
       "(50, 40, 30, 20, 10)"
      ]
     },
     "execution_count": 247,
     "metadata": {},
     "output_type": "execute_result"
    }
   ],
   "source": [
    "reverse_num_tup = num_tup[::-1]\n",
    "reverse_num_tup"
   ]
  },
  {
   "cell_type": "markdown",
   "id": "8dc512ca",
   "metadata": {},
   "source": [
    "**28) Simple Tuple Indexing** \\\n",
    "For the `mixed_tuple` variable defined below:\n",
    "1) Access value 20 from the mixed_tuple\n",
    "2) Access the charachter \"g\" from the mixed_tuple \n",
    "3) The given tuple is a nested one. Write a Python program that prints the value 20 with indexing."
   ]
  },
  {
   "cell_type": "code",
   "execution_count": 248,
   "id": "63274abd",
   "metadata": {},
   "outputs": [],
   "source": [
    "mixed_tuple = (\"Orange\", [10, 20, 30], (5, 15, 25))"
   ]
  },
  {
   "cell_type": "code",
   "execution_count": 249,
   "id": "9d50a6f3",
   "metadata": {},
   "outputs": [
    {
     "data": {
      "text/plain": [
       "20"
      ]
     },
     "execution_count": 249,
     "metadata": {},
     "output_type": "execute_result"
    }
   ],
   "source": [
    "# answer 1\n",
    "mixed_tuple[1][1]"
   ]
  },
  {
   "cell_type": "code",
   "execution_count": 250,
   "id": "c1b2f5cf",
   "metadata": {},
   "outputs": [
    {
     "data": {
      "text/plain": [
       "'g'"
      ]
     },
     "execution_count": 250,
     "metadata": {},
     "output_type": "execute_result"
    }
   ],
   "source": [
    "# answer 2\n",
    "# method 1\n",
    "mixed_tuple[0][4]"
   ]
  },
  {
   "cell_type": "code",
   "execution_count": 251,
   "id": "15e2dc12",
   "metadata": {},
   "outputs": [
    {
     "data": {
      "text/plain": [
       "'g'"
      ]
     },
     "execution_count": 251,
     "metadata": {},
     "output_type": "execute_result"
    }
   ],
   "source": [
    "# answer 2\n",
    "# method 2\n",
    "mixed_tuple[0][-2]"
   ]
  },
  {
   "cell_type": "code",
   "execution_count": 252,
   "id": "c6baadff",
   "metadata": {},
   "outputs": [
    {
     "data": {
      "text/plain": [
       "1"
      ]
     },
     "execution_count": 252,
     "metadata": {},
     "output_type": "execute_result"
    }
   ],
   "source": [
    "# answer 3\n",
    "mixed_tuple.index([10,20,30])"
   ]
  },
  {
   "cell_type": "markdown",
   "id": "ba748c79",
   "metadata": {},
   "source": [
    "**29) Building a Dictionary Incrementally** \\\n",
    "First use `{}` to create an empty dictionary named bmw, then add a `\"red\"` value to the bmw dictionary for the `\"color\"` key."
   ]
  },
  {
   "cell_type": "code",
   "execution_count": 253,
   "id": "8c6d14fa",
   "metadata": {},
   "outputs": [],
   "source": [
    "bmw = {}"
   ]
  },
  {
   "cell_type": "code",
   "execution_count": 254,
   "id": "3ce17c7f",
   "metadata": {},
   "outputs": [],
   "source": [
    "# method 1\n",
    "bmw = {'color':'red'}"
   ]
  },
  {
   "cell_type": "code",
   "execution_count": 255,
   "id": "ba44fccf",
   "metadata": {},
   "outputs": [
    {
     "data": {
      "text/plain": [
       "{'color': 'red'}"
      ]
     },
     "execution_count": 255,
     "metadata": {},
     "output_type": "execute_result"
    }
   ],
   "source": [
    "bmw"
   ]
  },
  {
   "cell_type": "code",
   "execution_count": 256,
   "id": "f5b2fccf",
   "metadata": {},
   "outputs": [],
   "source": [
    "# method 2\n",
    "bmw['color'] = 'red'"
   ]
  },
  {
   "cell_type": "code",
   "execution_count": 257,
   "id": "cd0c658d",
   "metadata": {},
   "outputs": [
    {
     "data": {
      "text/plain": [
       "{'color': 'red'}"
      ]
     },
     "execution_count": 257,
     "metadata": {},
     "output_type": "execute_result"
    }
   ],
   "source": [
    "bmw"
   ]
  },
  {
   "cell_type": "markdown",
   "id": "2c83c93b",
   "metadata": {},
   "source": [
    "**30) Restrictions on Dictionary Keys and Values** \\\n",
    "Which of the following options defines a dictionary incorrectly: \\\n",
    "(Set the variable `q9_answer` to the option number you choose to answer this question)\n",
    "\n",
    "1. foo = {1: 'aaaa', 3.14: 'bbbb', 6.18: 'ccc'}\n",
    "2. foo = {[1, 3.14]: 'a', [2, 6.28]: 'b'}\n",
    "3. foo = {(1, 3.14): 'a', (2, 12.56): 'b'}\n",
    "4. foo = {dict: [], float: 2, int: 3.14}\n",
    "\n",
    "`q9_answer = 2`"
   ]
  },
  {
   "cell_type": "markdown",
   "id": "155910de",
   "metadata": {},
   "source": [
    "**31) Dictionary get() method 1** \\\n",
    "You can access the value of the dictionaty using `.get()` method:\n",
    "\n",
    "syntax:\\\n",
    "`dictionary.get(keyname)`\n",
    "\n",
    "for example:\n"
   ]
  },
  {
   "cell_type": "code",
   "execution_count": 258,
   "id": "3a3855e5",
   "metadata": {},
   "outputs": [
    {
     "data": {
      "text/plain": [
       "'Zal'"
      ]
     },
     "execution_count": 258,
     "metadata": {},
     "output_type": "execute_result"
    }
   ],
   "source": [
    "rostam_data = {\n",
    "    \"name\": \"Rostam\",\n",
    "    \"nationality\": \"Turanian\",\n",
    "    \"father\": \"Zal\" ,\n",
    "    \"mother\": \"Rudaabeh\",\n",
    "    \"spouse\": \"Tahmineh\",\n",
    "    \"grandfather\": \"Sam\",\n",
    "    \"delivery\": \"C-Section\",\n",
    "    \"POB\": \"Zabol\",\n",
    "    \"POD\" : \"Kabul\"\n",
    "    }\n",
    "rostam_data.get('father')"
   ]
  },
  {
   "cell_type": "markdown",
   "id": "eb569c45",
   "metadata": {},
   "source": [
    "According to the `Shahnameh`, the Simurgh instructed `Zal` upon how to perform a caesarean section, thus saving `Rudaba and the child Rostam`. In Persian literature ceaserean section is known as Rostamina.\n",
    "Please **print the type of birth** (delivery) of Rostam using the `get()` method"
   ]
  },
  {
   "cell_type": "code",
   "execution_count": 259,
   "id": "11442d03",
   "metadata": {},
   "outputs": [
    {
     "name": "stdout",
     "output_type": "stream",
     "text": [
      "C-Section\n"
     ]
    }
   ],
   "source": [
    "print(rostam_data.get('delivery'))"
   ]
  },
  {
   "cell_type": "markdown",
   "id": "588f2f60",
   "metadata": {},
   "source": [
    "**32) Dictionary get() method 2** \\\n",
    "The .get() method allows us to retrieve the value of the wanted key from the dictionary while also preventing an error if the key is not found in the dictionary. and receive the previously set default value. For example, suppose we have a dictionary of students and their math score\n",
    "\n",
    "```python\n",
    "math = {\n",
    "    'abtin': 19,\n",
    "    'laleh': 20,\n",
    "    'mehri': 18,\n",
    "    }\n",
    "\n",
    "```\n",
    "\n",
    "If we do not know exactly which students are in the dictionary and, for example, if we want to read Kamran's math grade, then we will encounter an error."
   ]
  },
  {
   "cell_type": "code",
   "execution_count": 260,
   "id": "22bdf351",
   "metadata": {},
   "outputs": [],
   "source": [
    "math = {\n",
    "    'abtin': 19,\n",
    "    'laleh': 20,\n",
    "    'mehri': 18,\n",
    "    }"
   ]
  },
  {
   "cell_type": "code",
   "execution_count": 261,
   "id": "9ce39a3a",
   "metadata": {},
   "outputs": [],
   "source": [
    "# math['kamran']"
   ]
  },
  {
   "cell_type": "code",
   "execution_count": 262,
   "id": "7536cdee",
   "metadata": {},
   "outputs": [],
   "source": [
    "math.get('kamran')"
   ]
  },
  {
   "cell_type": "markdown",
   "id": "39afd11b",
   "metadata": {},
   "source": [
    "We can add a value to the `.get()` method to return that value if the requested key does not exist.\n",
    "syntax:"
   ]
  },
  {
   "cell_type": "code",
   "execution_count": 263,
   "id": "7533581f",
   "metadata": {},
   "outputs": [],
   "source": [
    "# dictionary.get(keyname, <value>)"
   ]
  },
  {
   "cell_type": "markdown",
   "id": "fe45f850",
   "metadata": {},
   "source": [
    "A to return if the specified key does not exist. Default value is None"
   ]
  },
  {
   "cell_type": "code",
   "execution_count": 264,
   "id": "7039ed1b",
   "metadata": {},
   "outputs": [
    {
     "data": {
      "text/plain": [
       "666"
      ]
     },
     "execution_count": 264,
     "metadata": {},
     "output_type": "execute_result"
    }
   ],
   "source": [
    "math.get('kamran', 666)"
   ]
  },
  {
   "cell_type": "code",
   "execution_count": 265,
   "id": "b2ccada5",
   "metadata": {},
   "outputs": [
    {
     "data": {
      "text/plain": [
       "20"
      ]
     },
     "execution_count": 265,
     "metadata": {},
     "output_type": "execute_result"
    }
   ],
   "source": [
    "math.get('laleh',666)"
   ]
  },
  {
   "cell_type": "markdown",
   "id": "fe7cb403",
   "metadata": {},
   "source": [
    "The following dictionary is based on the book Shahnameh by Abolghasem Ferdowsi, a famous Iranian poet:"
   ]
  },
  {
   "cell_type": "code",
   "execution_count": 266,
   "id": "f4ed63c8",
   "metadata": {},
   "outputs": [],
   "source": [
    "rostam_data = {\n",
    "    \"name\": \"Rostam\",\n",
    "    \"nationality\": \"Turanian\",\n",
    "    \"father\": \"Zal\" ,\n",
    "    \"mother\": \"Rudaabeh\",\n",
    "    \"spouse\": \"Tahmineh\",\n",
    "    \"grandfather\": \"Sam\",\n",
    "    \"delivery\": \"C-Section\",\n",
    "    \"POB\": \"Zabol\",\n",
    "    \"POD\" : \"Kabul\"\n",
    "    }"
   ]
  },
  {
   "cell_type": "code",
   "execution_count": 267,
   "id": "eca90d96",
   "metadata": {},
   "outputs": [
    {
     "data": {
      "text/plain": [
       "{'name': 'Rostam',\n",
       " 'nationality': 'Turanian',\n",
       " 'father': 'Zal',\n",
       " 'mother': 'Rudaabeh',\n",
       " 'spouse': 'Tahmineh',\n",
       " 'grandfather': 'Sam',\n",
       " 'delivery': 'C-Section',\n",
       " 'POB': 'Zabol',\n",
       " 'POD': 'Kabul'}"
      ]
     },
     "execution_count": 267,
     "metadata": {},
     "output_type": "execute_result"
    }
   ],
   "source": [
    "rostam_data"
   ]
  },
  {
   "cell_type": "markdown",
   "id": "c1ceed1f",
   "metadata": {},
   "source": [
    "Because Rostam's `\"date of birth\"` might **not be in our dictionary**, use one of the `.get()` methods to print Rostam's date of birth and ensure that if Rostam's date of birth does not exist, the number `-87` is printed and no error occurs."
   ]
  },
  {
   "cell_type": "code",
   "execution_count": 268,
   "id": "42cafd36",
   "metadata": {},
   "outputs": [
    {
     "name": "stdout",
     "output_type": "stream",
     "text": [
      "-87\n"
     ]
    }
   ],
   "source": [
    "print(rostam_data.get(\"data of birth\", -87))"
   ]
  },
  {
   "cell_type": "markdown",
   "id": "19e6a8a3",
   "metadata": {},
   "source": [
    "**33) Accessing Dictionary Values 1** \\\n",
    "The following dictionary is based on the book **Shahnameh** by **Abolghasem Ferdowsi,** a famous Iranian poet.\n",
    "According to the dictionary below, print the name of Rostam's mother and wife using a single print() function."
   ]
  },
  {
   "cell_type": "code",
   "execution_count": 269,
   "id": "1128efa8",
   "metadata": {},
   "outputs": [],
   "source": [
    "rostam_data = {\n",
    "    \"name\": \"Rostam\",\n",
    "    \"nationality\": \"Turanian\",\n",
    "    \"father\": \"Zal\" ,\n",
    "    \"mother\": \"Rudaabeh\",\n",
    "    \"spouse\": \"Tahmineh\",\n",
    "    \"grandfather\": \"Sam\",\n",
    "    \"delivery\": \"C-Section\",\n",
    "    \"POB\": \"Zabol\",\n",
    "    \"POD\" : \"Kabul\"\n",
    "    }"
   ]
  },
  {
   "cell_type": "code",
   "execution_count": 270,
   "id": "c9751780",
   "metadata": {},
   "outputs": [
    {
     "data": {
      "text/plain": [
       "{'name': 'Rostam',\n",
       " 'nationality': 'Turanian',\n",
       " 'father': 'Zal',\n",
       " 'mother': 'Rudaabeh',\n",
       " 'spouse': 'Tahmineh',\n",
       " 'grandfather': 'Sam',\n",
       " 'delivery': 'C-Section',\n",
       " 'POB': 'Zabol',\n",
       " 'POD': 'Kabul'}"
      ]
     },
     "execution_count": 270,
     "metadata": {},
     "output_type": "execute_result"
    }
   ],
   "source": [
    "rostam_data"
   ]
  },
  {
   "cell_type": "code",
   "execution_count": 271,
   "id": "85fa3204",
   "metadata": {},
   "outputs": [
    {
     "name": "stdout",
     "output_type": "stream",
     "text": [
      "the name of Rostams mother's and wife is ('Rudaabeh', 'Tahmineh')\n"
     ]
    }
   ],
   "source": [
    "# print the name of Rostam's mother and wife using a single print() function.\n",
    "print(f\"the name of Rostams mother's and wife is {rostam_data['mother'],rostam_data['spouse']}\")"
   ]
  },
  {
   "cell_type": "code",
   "execution_count": 272,
   "id": "bc4ecd82",
   "metadata": {},
   "outputs": [
    {
     "name": "stdout",
     "output_type": "stream",
     "text": [
      "mother's name: Rudaabeh, rostam's wife:Tahmineh\n"
     ]
    }
   ],
   "source": [
    "print(f\"mother's name: {rostam_data['mother']}, rostam's wife:{rostam_data['spouse']}\")"
   ]
  },
  {
   "cell_type": "markdown",
   "id": "abbd3a42",
   "metadata": {},
   "source": [
    "**34) Accessing Dictionary Values 2** \\\n",
    "The following dictionary is based on the book **Shahnameh** by **Abolghasem Ferdowsi**, a famous Iranian poet.\n",
    "**Rostam** nationality has been registered as a **Turanian**. Please change **Rostam** nationality to **Iranian.**"
   ]
  },
  {
   "cell_type": "code",
   "execution_count": 273,
   "id": "7fe734f1",
   "metadata": {},
   "outputs": [],
   "source": [
    "rostam_data = {\n",
    "    \"name\": \"Rostam\",\n",
    "    \"nationality\": \"Turanian\",\n",
    "    \"father\": \"Zal\" ,\n",
    "    \"mother\": \"Rudaabeh\",\n",
    "    \"spouse\": \"Tahmineh\",\n",
    "    \"grandfather\": \"Sam\",\n",
    "    \"delivery\": \"C-Section\",\n",
    "    \"POB\": \"Zabol\",\n",
    "    \"POD\" : \"Kabul\"\n",
    "    }"
   ]
  },
  {
   "cell_type": "code",
   "execution_count": 274,
   "id": "473a5773",
   "metadata": {},
   "outputs": [
    {
     "data": {
      "text/plain": [
       "{'name': 'Rostam',\n",
       " 'nationality': 'Turanian',\n",
       " 'father': 'Zal',\n",
       " 'mother': 'Rudaabeh',\n",
       " 'spouse': 'Tahmineh',\n",
       " 'grandfather': 'Sam',\n",
       " 'delivery': 'C-Section',\n",
       " 'POB': 'Zabol',\n",
       " 'POD': 'Kabul'}"
      ]
     },
     "execution_count": 274,
     "metadata": {},
     "output_type": "execute_result"
    }
   ],
   "source": [
    "rostam_data"
   ]
  },
  {
   "cell_type": "code",
   "execution_count": 275,
   "id": "2d20742a",
   "metadata": {},
   "outputs": [],
   "source": [
    "rostam_data['nationality'] = 'Iranian'"
   ]
  },
  {
   "cell_type": "code",
   "execution_count": 276,
   "id": "932346d5",
   "metadata": {},
   "outputs": [
    {
     "data": {
      "text/plain": [
       "{'name': 'Rostam',\n",
       " 'nationality': 'Iranian',\n",
       " 'father': 'Zal',\n",
       " 'mother': 'Rudaabeh',\n",
       " 'spouse': 'Tahmineh',\n",
       " 'grandfather': 'Sam',\n",
       " 'delivery': 'C-Section',\n",
       " 'POB': 'Zabol',\n",
       " 'POD': 'Kabul'}"
      ]
     },
     "execution_count": 276,
     "metadata": {},
     "output_type": "execute_result"
    }
   ],
   "source": [
    "rostam_data"
   ]
  },
  {
   "cell_type": "markdown",
   "id": "d177253a",
   "metadata": {},
   "source": [
    "**35) Accessing Dictionary Values 3** \\\n",
    "The following dictionary is based on the book **Shahnameh** by **Abolghasem Ferdowsi,** a famous Iranian poet.\n",
    "Rostam's children were **Sohrab, Faramarz, Jahangir, Siyavash,** and **Banu-Goshasp.** Please add a list of Rostam's children's names with the key childrens to rostam_data dictionary."
   ]
  },
  {
   "cell_type": "code",
   "execution_count": 1,
   "id": "71956b59",
   "metadata": {},
   "outputs": [],
   "source": [
    "rostam_data = {\n",
    "    \"name\": \"Rostam\",\n",
    "    \"nationality\": \"Turanian\",\n",
    "    \"father\": \"Zal\" ,\n",
    "    \"mother\": \"Rudaabeh\",\n",
    "    \"spouse\": \"Tahmineh\",\n",
    "    \"grandfather\": \"Sam\",\n",
    "    \"delivery\": \"C-Section\",\n",
    "    \"POB\": \"Zabol\",\n",
    "    \"POD\" : \"Kabul\"\n",
    "    }"
   ]
  },
  {
   "cell_type": "code",
   "execution_count": 2,
   "id": "5e26b8d7",
   "metadata": {},
   "outputs": [],
   "source": [
    "rostam_data[\"Rostam's children\"] = [\"Sohrab\", \"Faramarz\", \"Jahangir\", \"Siyavash\",\"Banu-Goshasp\"]"
   ]
  },
  {
   "cell_type": "code",
   "execution_count": 9,
   "id": "06d801d8",
   "metadata": {},
   "outputs": [
    {
     "data": {
      "text/plain": [
       "{'name': 'Rostam',\n",
       " 'nationality': 'Turanian',\n",
       " 'father': 'Zal',\n",
       " 'mother': 'Rudaabeh',\n",
       " 'spouse': 'Tahmineh',\n",
       " 'grandfather': 'Sam',\n",
       " 'delivery': 'C-Section',\n",
       " 'POB': 'Zabol',\n",
       " \"Rostam's children\": ['Sohrab',\n",
       "  'Faramarz',\n",
       "  'Jahangir',\n",
       "  'Siyavash',\n",
       "  'Banu-Goshasp']}"
      ]
     },
     "execution_count": 9,
     "metadata": {},
     "output_type": "execute_result"
    }
   ],
   "source": [
    "rostam_data"
   ]
  },
  {
   "cell_type": "code",
   "execution_count": 18,
   "id": "85b8537d",
   "metadata": {},
   "outputs": [
    {
     "data": {
      "text/plain": [
       "{'nationality': 'Turanian',\n",
       " 'father': 'Zal',\n",
       " 'mother': 'Rudaabeh',\n",
       " 'spouse': 'Tahmineh',\n",
       " 'grandfather': 'Sam',\n",
       " 'delivery': 'C-Section',\n",
       " 'POB': 'Zabol',\n",
       " \"Rostam's children\": ['Sohrab',\n",
       "  'Faramarz',\n",
       "  'Jahangir',\n",
       "  'Siyavash',\n",
       "  'Banu-Goshasp']}"
      ]
     },
     "execution_count": 18,
     "metadata": {},
     "output_type": "execute_result"
    }
   ],
   "source": [
    "# del rostam_data['POD']\n",
    "# rostam_data.pop('name')\n",
    "rostam_data\n",
    "# dir(rostam_data)"
   ]
  },
  {
   "cell_type": "code",
   "execution_count": 23,
   "id": "67d526c7",
   "metadata": {},
   "outputs": [
    {
     "name": "stdout",
     "output_type": "stream",
     "text": [
      "Sam\n",
      "Zal\n",
      "Rostam\n",
      "[]\n"
     ]
    }
   ],
   "source": [
    "rostam_data = ['Rostam','Zal','Sam']\n",
    "\n",
    "while rostam_data:\n",
    "    value = rostam_data.pop()\n",
    "    print(value)\n",
    "\n",
    "print(rostam_data)"
   ]
  },
  {
   "cell_type": "markdown",
   "id": "b52fb30f",
   "metadata": {},
   "source": [
    "**36) Convert a list to a dictionary** \\\n",
    "You can also construct a dictionary with the built-in `dict()` function. The argument to `dict()` should be a sequence of key-value pairs.\n",
    "We have a list called `persian_gulf_standing` that contains pairs, the name of the football team and its position in the `Iranian Football Premier League` (Persian Gulf). We ask you to convert the following list into a dictionary with the same name based on the description provided."
   ]
  },
  {
   "cell_type": "code",
   "execution_count": 280,
   "id": "106160ff",
   "metadata": {},
   "outputs": [],
   "source": [
    "persian_gulf_standing = [\n",
    "    ['Esteghlel F.C', 1],\n",
    "    ['Sepahan', 2],\n",
    "    ['Perspolis', 3],\n",
    "    ['Gol Gohar', 4],\n",
    "    ['Foolad', 5]\n",
    "]"
   ]
  },
  {
   "cell_type": "code",
   "execution_count": 281,
   "id": "7498eadd",
   "metadata": {},
   "outputs": [
    {
     "data": {
      "text/plain": [
       "list"
      ]
     },
     "execution_count": 281,
     "metadata": {},
     "output_type": "execute_result"
    }
   ],
   "source": [
    "type(persian_gulf_standing)"
   ]
  },
  {
   "cell_type": "code",
   "execution_count": 282,
   "id": "ed8b7ef4",
   "metadata": {},
   "outputs": [],
   "source": [
    "persian_gulf_standing = dict(persian_gulf_standing)"
   ]
  },
  {
   "cell_type": "code",
   "execution_count": 283,
   "id": "543c2ad9",
   "metadata": {},
   "outputs": [
    {
     "data": {
      "text/plain": [
       "dict"
      ]
     },
     "execution_count": 283,
     "metadata": {},
     "output_type": "execute_result"
    }
   ],
   "source": [
    "type(persian_gulf_standing)"
   ]
  },
  {
   "cell_type": "markdown",
   "id": "1a1d741e",
   "metadata": {},
   "source": [
    "**37) Arash site users** \\\n",
    "Arash has a list of site users and wants to save them using one of the Python data structures. Initially, he intended to create a list of his users. However, we explained to him that while adding and deleting items at the end of the list is quick, doing so at the beginning of the list is slow because all of the other items must be shifted. Finally, we advised him to use a dictionary because hashes allow him to access all data in a short period of time.\n",
    "\n",
    "Arash users information is available below:\n",
    "\n",
    "id\tname\tfamily \\\n",
    "1\tKourosh\tKouroshi \\\n",
    "2\tShirin\tShirini \\\n",
    "\n",
    "\n",
    "Please help him put them in a dictionary called `arash_users.` In such a way that it has access to the information of its users via `id.` for example:"
   ]
  },
  {
   "cell_type": "code",
   "execution_count": 284,
   "id": "72e931c0",
   "metadata": {},
   "outputs": [],
   "source": [
    "arash_users = [[\"Kourosh\",\"Kouroshi\"],[\"Shirin\",\"Shirini\"]]"
   ]
  },
  {
   "cell_type": "code",
   "execution_count": 285,
   "id": "2aeb37df",
   "metadata": {},
   "outputs": [
    {
     "data": {
      "text/plain": [
       "[['Kourosh', 'Kouroshi'], ['Shirin', 'Shirini']]"
      ]
     },
     "execution_count": 285,
     "metadata": {},
     "output_type": "execute_result"
    }
   ],
   "source": [
    "arash_users"
   ]
  },
  {
   "cell_type": "code",
   "execution_count": 286,
   "id": "bce915bc",
   "metadata": {},
   "outputs": [
    {
     "data": {
      "text/plain": [
       "list"
      ]
     },
     "execution_count": 286,
     "metadata": {},
     "output_type": "execute_result"
    }
   ],
   "source": [
    "type(arash_users)"
   ]
  },
  {
   "cell_type": "code",
   "execution_count": 287,
   "id": "0744e699",
   "metadata": {},
   "outputs": [],
   "source": [
    "arash_users = dict(arash_users)"
   ]
  },
  {
   "cell_type": "code",
   "execution_count": 288,
   "id": "cf38c0c2",
   "metadata": {},
   "outputs": [
    {
     "data": {
      "text/plain": [
       "'Shirini'"
      ]
     },
     "execution_count": 288,
     "metadata": {},
     "output_type": "execute_result"
    }
   ],
   "source": [
    "arash_users['Shirin']"
   ]
  },
  {
   "cell_type": "code",
   "execution_count": 289,
   "id": "df4c00a5",
   "metadata": {},
   "outputs": [],
   "source": [
    "arash_users = {\n",
    "    1: {'name': 'Kourosh','family':'Kouroshi'},\n",
    "    2: {'name': 'Shirin','family':'shirini'},\n",
    "}"
   ]
  },
  {
   "cell_type": "code",
   "execution_count": 290,
   "id": "6d472ede",
   "metadata": {},
   "outputs": [
    {
     "data": {
      "text/plain": [
       "{1: {'name': 'Kourosh', 'family': 'Kouroshi'},\n",
       " 2: {'name': 'Shirin', 'family': 'shirini'}}"
      ]
     },
     "execution_count": 290,
     "metadata": {},
     "output_type": "execute_result"
    }
   ],
   "source": [
    "arash_users"
   ]
  },
  {
   "cell_type": "code",
   "execution_count": 291,
   "id": "67133ca8",
   "metadata": {},
   "outputs": [
    {
     "data": {
      "text/plain": [
       "'Kourosh'"
      ]
     },
     "execution_count": 291,
     "metadata": {},
     "output_type": "execute_result"
    }
   ],
   "source": [
    "arash_users[1]['name']"
   ]
  },
  {
   "cell_type": "markdown",
   "id": "c8e2d861",
   "metadata": {},
   "source": [
    "**38) A deeper look at the dictionary**\n",
    "\n",
    "Which of the following **does not describe** a dictionary? \\\n",
    "(Set the variable `q1_answer` to the option number you choose to answer this question.)\n",
    "\n",
    "1) Dictionary is mutable.\n",
    "2) Dictionary is dynamic. It can grow and shrink as needed.\n",
    "3) Dictionary can be nested. A dictionary can contain another dictionary. A dictionary can also contain a list, and vice versa.\n",
    "4) Dictionary elements are accessed by their position in the dictionary, via `indexing`\n",
    "\n",
    "`answer: 4`"
   ]
  },
  {
   "cell_type": "markdown",
   "id": "9e772242",
   "metadata": {},
   "source": [
    "**39) Set operations**\n",
    "\n",
    "- Make a set of **multiples of 3** and name it <font color=red>**X**</font>."
   ]
  },
  {
   "cell_type": "code",
   "execution_count": 30,
   "id": "6ceae231",
   "metadata": {},
   "outputs": [],
   "source": [
    "X = {1,3,6,9,12,15}"
   ]
  },
  {
   "cell_type": "code",
   "execution_count": 36,
   "id": "083df373",
   "metadata": {},
   "outputs": [
    {
     "name": "stdout",
     "output_type": "stream",
     "text": [
      "{3, 6, 9, 12, 15, 18, 21, 24, 27, 30, 33, 36, 39, 42, 45, 48, 51, 54, 57, 60, 63, 66, 69, 72, 75, 78, 81, 84, 87, 90, 93, 96, 99}\n"
     ]
    }
   ],
   "source": [
    "n = 3\n",
    "m_3 = set(list(range(n,100,n)))\n",
    "print(m_3)"
   ]
  },
  {
   "cell_type": "markdown",
   "id": "b7a5e07d",
   "metadata": {},
   "source": [
    "- Make a set of **multiples of 5** and name it <font color=red>**Y**</font>."
   ]
  },
  {
   "cell_type": "code",
   "execution_count": 29,
   "id": "177d910e",
   "metadata": {},
   "outputs": [],
   "source": [
    "Y = {1,5,10,15,20,25}"
   ]
  },
  {
   "cell_type": "code",
   "execution_count": 37,
   "id": "1b145b56",
   "metadata": {},
   "outputs": [
    {
     "data": {
      "text/plain": [
       "{5, 10, 15, 20, 25, 30, 35, 40, 45, 50, 55, 60, 65, 70, 75, 80, 85, 90, 95}"
      ]
     },
     "execution_count": 37,
     "metadata": {},
     "output_type": "execute_result"
    }
   ],
   "source": [
    "n = 5\n",
    "m_5 = set(list(range(n,100,n)))\n",
    "m_5"
   ]
  },
  {
   "cell_type": "markdown",
   "id": "7b0028e4",
   "metadata": {},
   "source": [
    "- baraye namayesh mazareb 5 ke dar mazareb 3 nistand"
   ]
  },
  {
   "cell_type": "code",
   "execution_count": 39,
   "id": "dbe2c27e",
   "metadata": {},
   "outputs": [
    {
     "name": "stdout",
     "output_type": "stream",
     "text": [
      "{3, 6, 9, 12, 18, 21, 24, 27, 33, 36, 39, 42, 48, 51, 54, 57, 63, 66, 69, 72, 78, 81, 84, 87, 93, 96, 99}\n"
     ]
    }
   ],
   "source": [
    "print(m_3 - m_5)"
   ]
  },
  {
   "cell_type": "code",
   "execution_count": 21,
   "id": "0b1263d2",
   "metadata": {},
   "outputs": [],
   "source": [
    "import itertools\n",
    "g = itertools.count(5,5)"
   ]
  },
  {
   "cell_type": "code",
   "execution_count": 27,
   "id": "70ce9c82",
   "metadata": {},
   "outputs": [
    {
     "data": {
      "text/plain": [
       "30"
      ]
     },
     "execution_count": 27,
     "metadata": {},
     "output_type": "execute_result"
    }
   ],
   "source": [
    "next(g)"
   ]
  },
  {
   "cell_type": "markdown",
   "id": "1b993107",
   "metadata": {},
   "source": [
    "- Can you find the **multiples of 15** using the <font color=red>**UNION** >> **&**</font> operator and store it in variable <font color=red>**Z1**</font>? "
   ]
  },
  {
   "cell_type": "code",
   "execution_count": 40,
   "id": "e23d4456",
   "metadata": {},
   "outputs": [
    {
     "data": {
      "text/plain": [
       "{1, 15}"
      ]
     },
     "execution_count": 40,
     "metadata": {},
     "output_type": "execute_result"
    }
   ],
   "source": [
    "# in operator fght beyne do ta set tarif mishavad\n",
    "Z1 = X & Y\n",
    "Z1"
   ]
  },
  {
   "cell_type": "markdown",
   "id": "71c58852",
   "metadata": {},
   "source": [
    "- Can you find the **multiples of 15** using the <font color=red>**intersection()**</font> method and store it in variable <font color=red>**Z2**</font>?\n"
   ]
  },
  {
   "cell_type": "code",
   "execution_count": 31,
   "id": "0661952b",
   "metadata": {},
   "outputs": [
    {
     "data": {
      "text/plain": [
       "{1, 3, 5, 6, 9, 10, 12, 15, 20, 25}"
      ]
     },
     "execution_count": 31,
     "metadata": {},
     "output_type": "execute_result"
    }
   ],
   "source": [
    "X | Y"
   ]
  },
  {
   "cell_type": "code",
   "execution_count": 17,
   "id": "862080c5",
   "metadata": {},
   "outputs": [
    {
     "data": {
      "text/plain": [
       "{1, 15}"
      ]
     },
     "execution_count": 17,
     "metadata": {},
     "output_type": "execute_result"
    }
   ],
   "source": [
    "Z2 = X.intersection(Y)\n",
    "Z2"
   ]
  },
  {
   "cell_type": "markdown",
   "id": "20a21472",
   "metadata": {},
   "source": [
    "- Then find the multiples of 5 that are not divisible by 3. (hint: use the operator - or use the <font color=red>**difference()**</font> method)\n"
   ]
  },
  {
   "cell_type": "code",
   "execution_count": 32,
   "id": "51e5992a",
   "metadata": {},
   "outputs": [
    {
     "data": {
      "text/plain": [
       "{5, 10, 20, 25}"
      ]
     },
     "execution_count": 32,
     "metadata": {},
     "output_type": "execute_result"
    }
   ],
   "source": [
    "Y - X"
   ]
  },
  {
   "cell_type": "code",
   "execution_count": 41,
   "id": "2dc7a121",
   "metadata": {},
   "outputs": [
    {
     "data": {
      "text/plain": [
       "{5, 10, 20, 25}"
      ]
     },
     "execution_count": 41,
     "metadata": {},
     "output_type": "execute_result"
    }
   ],
   "source": [
    "# vorodi in operation beyne mitavanad set ya har iterable digari bashad\n",
    "Y.difference(X)"
   ]
  },
  {
   "cell_type": "markdown",
   "id": "c5df1e62",
   "metadata": {},
   "source": [
    "- after that use the <font color=red>**+**</font> operators or the <font color=red>**union()**</font> method to make a list of numbers that are either divisible by 5 **or** divisible by 3, **or** divisible by both."
   ]
  },
  {
   "cell_type": "code",
   "execution_count": 24,
   "id": "b5bb0f4a",
   "metadata": {},
   "outputs": [
    {
     "data": {
      "text/plain": [
       "{1, 3, 5, 6, 9, 10, 12, 15, 20, 25}"
      ]
     },
     "execution_count": 24,
     "metadata": {},
     "output_type": "execute_result"
    }
   ],
   "source": [
    "X.union(Y)"
   ]
  },
  {
   "cell_type": "markdown",
   "id": "c8b88114",
   "metadata": {},
   "source": [
    "**40) Add an element to the set**\n",
    "\n",
    "Oops! apparently one of the prime numbers below One thousand, 997, is missing. Can you add it to <font color=red>**primes**</font> vaiable? Then check to see if 997 is in primes variable."
   ]
  },
  {
   "cell_type": "code",
   "execution_count": 26,
   "id": "f7216257",
   "metadata": {},
   "outputs": [],
   "source": [
    "primes = {2, 3, 5, 7, 11, 13, 17, 19, 23, 29, 31, 37, 41,\n",
    "          43, 47, 53, 59, 61, 67, 71, 73, 79, 83, 89, 97,\n",
    "          101, 103, 107, 109, 113, 127, 131, 137, 139, 149,\n",
    "          151, 157, 163, 167, 173, 179, 181, 191, 193, 197,\n",
    "          199, 211, 223, 227, 229, 233, 239, 241, 251, 257,\n",
    "          263, 269, 271, 277, 281, 283, 293, 307, 311, 313,\n",
    "          317, 331, 337, 347, 349, 353, 359, 367, 373, 379,\n",
    "          383, 389, 397, 401, 409, 419, 421, 431, 433, 439,\n",
    "          443, 449, 457, 461, 463, 467, 479, 487, 491, 499,\n",
    "          503, 509, 521, 523, 541, 547, 557, 563, 569, 571,\n",
    "          577, 587, 593, 599, 601, 607, 613, 617, 619, 631,\n",
    "          641, 643, 647, 653, 659, 661, 673, 677, 683, 691,\n",
    "          701, 709, 719, 727, 733, 739, 743, 751, 757, 761,\n",
    "          769, 773, 787, 797, 809, 811, 821, 823, 827, 829,\n",
    "          839, 853, 857, 859, 863, 877, 881, 883, 887, 907,\n",
    "          911, 919, 929, 937, 941, 947, 953, 967, 971, 977,\n",
    "          983, 991}"
   ]
  },
  {
   "cell_type": "code",
   "execution_count": 28,
   "id": "891b870e",
   "metadata": {},
   "outputs": [
    {
     "name": "stdout",
     "output_type": "stream",
     "text": [
      "{2, 3, 5, 7, 521, 11, 523, 13, 17, 19, 23, 541, 29, 31, 547, 37, 41, 43, 557, 47, 563, 53, 569, 59, 571, 61, 577, 67, 71, 73, 587, 79, 593, 83, 599, 89, 601, 607, 97, 101, 613, 103, 617, 107, 619, 109, 113, 631, 127, 641, 131, 643, 647, 137, 139, 653, 659, 149, 661, 151, 157, 673, 163, 677, 167, 683, 173, 179, 691, 181, 701, 191, 193, 197, 709, 199, 719, 211, 727, 733, 223, 227, 739, 229, 743, 233, 239, 751, 241, 757, 761, 251, 257, 769, 773, 263, 269, 271, 787, 277, 281, 283, 797, 293, 809, 811, 307, 821, 311, 823, 313, 827, 317, 829, 839, 331, 337, 853, 857, 347, 859, 349, 863, 353, 359, 877, 367, 881, 883, 373, 887, 379, 383, 389, 907, 397, 911, 401, 919, 409, 929, 419, 421, 937, 941, 431, 433, 947, 439, 953, 443, 449, 967, 457, 971, 461, 463, 977, 467, 983, 479, 991, 487, 491, 499, 503, 509}\n"
     ]
    }
   ],
   "source": [
    "print(primes)"
   ]
  },
  {
   "cell_type": "code",
   "execution_count": 20,
   "id": "068ea72a",
   "metadata": {},
   "outputs": [],
   "source": [
    "# output be sorate inplace anjam mishavad\n",
    "# append in list -- add in set\n",
    "# extend in list -- update in set\n",
    "# dar set order matrah nist\n",
    "primes.add(997)"
   ]
  },
  {
   "cell_type": "code",
   "execution_count": 30,
   "id": "97ecbf06",
   "metadata": {},
   "outputs": [
    {
     "name": "stdout",
     "output_type": "stream",
     "text": [
      "{2, 3, 5, 7, 521, 11, 523, 13, 17, 19, 23, 541, 29, 31, 547, 37, 41, 43, 557, 47, 563, 53, 569, 59, 571, 61, 577, 67, 71, 73, 587, 79, 593, 83, 599, 89, 601, 607, 97, 101, 613, 103, 617, 107, 619, 109, 113, 631, 127, 641, 131, 643, 647, 137, 139, 653, 659, 149, 661, 151, 157, 673, 163, 677, 167, 683, 173, 179, 691, 181, 701, 191, 193, 197, 709, 199, 719, 211, 727, 733, 223, 227, 739, 229, 743, 233, 239, 751, 241, 757, 761, 251, 257, 769, 773, 263, 269, 271, 787, 277, 281, 283, 797, 293, 809, 811, 307, 821, 311, 823, 313, 827, 317, 829, 839, 331, 337, 853, 857, 347, 859, 349, 863, 353, 359, 877, 367, 881, 883, 373, 887, 379, 383, 389, 907, 397, 911, 401, 919, 409, 929, 419, 421, 937, 941, 431, 433, 947, 439, 953, 443, 449, 967, 457, 971, 461, 463, 977, 467, 983, 479, 991, 997, 487, 491, 499, 503, 509}\n"
     ]
    }
   ],
   "source": [
    "print(primes)"
   ]
  },
  {
   "cell_type": "code",
   "execution_count": 31,
   "id": "48ccaafc",
   "metadata": {},
   "outputs": [
    {
     "data": {
      "text/plain": [
       "True"
      ]
     },
     "execution_count": 31,
     "metadata": {},
     "output_type": "execute_result"
    }
   ],
   "source": [
    "997 in primes"
   ]
  },
  {
   "cell_type": "markdown",
   "id": "ad0568a9",
   "metadata": {},
   "source": [
    "**41) A list or a set, ay there's the point**\n",
    "\n",
    "The following is a set of prime numbers **less than 1000.** Can you check to see if the numbers **463, 149,** and **973** are prime? **Which is better for determining the presence or absence of an item in a group of items, a list or a set?**\n",
    "\n",
    "`answer: set`"
   ]
  },
  {
   "cell_type": "code",
   "execution_count": 8,
   "id": "cdd28ab7",
   "metadata": {},
   "outputs": [
    {
     "name": "stdout",
     "output_type": "stream",
     "text": [
      "13 is prime:  True\n"
     ]
    }
   ],
   "source": [
    "primes = {2, 3, 5, 7, 11, 13, 17, 19, 23, 29, 31, 37, 41,\n",
    "          43, 47, 53, 59, 61, 67, 71, 73, 79, 83, 89, 97,\n",
    "          101, 103, 107, 109, 113, 127, 131, 137, 139, 149,\n",
    "          151, 157, 163, 167, 173, 179, 181, 191, 193, 197,\n",
    "          199, 211, 223, 227, 229, 233, 239, 241, 251, 257,\n",
    "          263, 269, 271, 277, 281, 283, 293, 307, 311, 313,\n",
    "          317, 331, 337, 347, 349, 353, 359, 367, 373, 379,\n",
    "          383, 389, 397, 401, 409, 419, 421, 431, 433, 439,\n",
    "          443, 449, 457, 461, 463, 467, 479, 487, 491, 499,\n",
    "          503, 509, 521, 523, 541, 547, 557, 563, 569, 571,\n",
    "          577, 587, 593, 599, 601, 607, 613, 617, 619, 631,\n",
    "          641, 643, 647, 653, 659, 661, 673, 677, 683, 691,\n",
    "          701, 709, 719, 727, 733, 739, 743, 751, 757, 761,\n",
    "          769, 773, 787, 797, 809, 811, 821, 823, 827, 829,\n",
    "          839, 853, 857, 859, 863, 877, 881, 883, 887, 907,\n",
    "          911, 919, 929, 937, 941, 947, 953, 967, 971, 977,\n",
    "          983, 991}\n",
    "check_13 = 13 in primes\n",
    "print(\"13 is prime: \",check_13)"
   ]
  },
  {
   "cell_type": "code",
   "execution_count": 9,
   "id": "d52e6032",
   "metadata": {},
   "outputs": [],
   "source": [
    "check_463 = 463 in primes\n",
    "check_149 = 149 in primes\n",
    "check_973 = 973 in primes"
   ]
  },
  {
   "cell_type": "code",
   "execution_count": 10,
   "id": "5f841694",
   "metadata": {},
   "outputs": [
    {
     "name": "stdout",
     "output_type": "stream",
     "text": [
      "True True False\n"
     ]
    }
   ],
   "source": [
    "print(check_149,check_463,check_973)"
   ]
  },
  {
   "cell_type": "code",
   "execution_count": 11,
   "id": "755f7a9b",
   "metadata": {},
   "outputs": [
    {
     "name": "stdout",
     "output_type": "stream",
     "text": [
      "42.8 ns ± 3.63 ns per loop (mean ± std. dev. of 7 runs, 10,000,000 loops each)\n"
     ]
    }
   ],
   "source": [
    "# magic command >> %timeit\n",
    "%timeit 463 in primes"
   ]
  },
  {
   "cell_type": "code",
   "execution_count": 15,
   "id": "f5efb35c",
   "metadata": {},
   "outputs": [
    {
     "name": "stdout",
     "output_type": "stream",
     "text": [
      "32.3 ns ± 5.04 ns per loop (mean ± std. dev. of 7 runs, 10,000,000 loops each)\n"
     ]
    }
   ],
   "source": [
    "# magic command >> %timeit\n",
    "%timeit 1 in primes"
   ]
  },
  {
   "cell_type": "code",
   "execution_count": 16,
   "id": "afb86b25",
   "metadata": {},
   "outputs": [
    {
     "name": "stdout",
     "output_type": "stream",
     "text": [
      "30.2 ns ± 4.12 ns per loop (mean ± std. dev. of 7 runs, 10,000,000 loops each)\n"
     ]
    }
   ],
   "source": [
    "# magic command >> %timeit\n",
    "%timeit 3 in primes"
   ]
  },
  {
   "cell_type": "markdown",
   "id": "5bc53d88",
   "metadata": {},
   "source": [
    "- `har che data dar list bishtar bashad cond hodan va afzayesh zaman ejra barname bishtar mishavad.`"
   ]
  },
  {
   "cell_type": "code",
   "execution_count": 18,
   "id": "a264f2a6",
   "metadata": {},
   "outputs": [
    {
     "name": "stdout",
     "output_type": "stream",
     "text": [
      "35.1 ns ± 6.29 ns per loop (mean ± std. dev. of 7 runs, 10,000,000 loops each)\n"
     ]
    }
   ],
   "source": [
    "# magic command >> %timeit\n",
    "%timeit 468 in primes"
   ]
  },
  {
   "cell_type": "code",
   "execution_count": 19,
   "id": "f9f0e01b",
   "metadata": {},
   "outputs": [
    {
     "name": "stdout",
     "output_type": "stream",
     "text": [
      "35.8 ns ± 7.6 ns per loop (mean ± std. dev. of 7 runs, 10,000,000 loops each)\n"
     ]
    }
   ],
   "source": [
    "# magic command >> %timeit\n",
    "%timeit 908 in primes"
   ]
  },
  {
   "cell_type": "code",
   "execution_count": 14,
   "id": "8dba10e5",
   "metadata": {},
   "outputs": [
    {
     "name": "stdout",
     "output_type": "stream",
     "text": [
      "[2, 3, 5, 7, 521, 11, 523, 13, 17, 19, 23, 541, 29, 31, 547, 37, 41, 43, 557, 47, 563, 53, 569, 59, 571, 61, 577, 67, 71, 73, 587, 79, 593, 83, 599, 89, 601, 607, 97, 101, 613, 103, 617, 107, 619, 109, 113, 631, 127, 641, 131, 643, 647, 137, 139, 653, 659, 149, 661, 151, 157, 673, 163, 677, 167, 683, 173, 179, 691, 181, 701, 191, 193, 197, 709, 199, 719, 211, 727, 733, 223, 227, 739, 229, 743, 233, 239, 751, 241, 757, 761, 251, 257, 769, 773, 263, 269, 271, 787, 277, 281, 283, 797, 293, 809, 811, 307, 821, 311, 823, 313, 827, 317, 829, 839, 331, 337, 853, 857, 347, 859, 349, 863, 353, 359, 877, 367, 881, 883, 373, 887, 379, 383, 389, 907, 397, 911, 401, 919, 409, 929, 419, 421, 937, 941, 431, 433, 947, 439, 953, 443, 449, 967, 457, 971, 461, 463, 977, 467, 983, 479, 991, 487, 491, 499, 503, 509]\n"
     ]
    }
   ],
   "source": [
    "primes_list = list(primes)\n",
    "print(primes_list)"
   ]
  },
  {
   "cell_type": "code",
   "execution_count": 6,
   "id": "a3455772",
   "metadata": {},
   "outputs": [],
   "source": [
    "def func(\n",
    "    a, b, c, num,\n",
    "    *args,\n",
    "    **kwargs\n",
    "):\n",
    "    return a + b"
   ]
  },
  {
   "cell_type": "markdown",
   "id": "bb9f927d",
   "metadata": {},
   "source": [
    "**42) One-digit prime numbers**\n",
    "\n",
    "Create a Set of one-digit prime numbers and store it in the primes variable and print it."
   ]
  },
  {
   "cell_type": "code",
   "execution_count": 52,
   "id": "bfe36f9d",
   "metadata": {},
   "outputs": [],
   "source": [
    "primes = {2,3,5,7}"
   ]
  },
  {
   "cell_type": "code",
   "execution_count": 3,
   "id": "ea375fdc",
   "metadata": {},
   "outputs": [
    {
     "name": "stdout",
     "output_type": "stream",
     "text": [
      "10 11 12 13 14 15 16 17 18 19 20 21 22 23 24 25 26 27 28 29 30 31 32 33 34 35 36 37 38 39 40 41 42 43 44 45 46 47 48 49 50 51 52 53 54 55 56 57 58 59 60 61 62 63 64 65 66 67 68 69 70 71 72 73 74 75 76 77 78 79 80 81 82 83 84 85 86 87 88 89 90 91 92 93 94 95 96 97 98 99 "
     ]
    }
   ],
   "source": [
    "# show two digit\n",
    "n = 2\n",
    "\n",
    "for num in range(10**(n-1),10**(n)):\n",
    "    print(num,end=' ')"
   ]
  },
  {
   "cell_type": "code",
   "execution_count": 4,
   "id": "f7c21a56",
   "metadata": {},
   "outputs": [],
   "source": [
    "# one-digit prime numbers\n",
    "def is_prime(num):\n",
    "    return True"
   ]
  },
  {
   "cell_type": "code",
   "execution_count": 5,
   "id": "fa61f801",
   "metadata": {},
   "outputs": [
    {
     "name": "stdout",
     "output_type": "stream",
     "text": [
      "100\n",
      "101\n",
      "102\n",
      "103\n",
      "104\n",
      "105\n",
      "106\n",
      "107\n",
      "108\n",
      "109\n",
      "110\n",
      "111\n",
      "112\n",
      "113\n",
      "114\n",
      "115\n",
      "116\n",
      "117\n",
      "118\n",
      "119\n",
      "120\n",
      "121\n",
      "122\n",
      "123\n",
      "124\n",
      "125\n",
      "126\n",
      "127\n",
      "128\n",
      "129\n",
      "130\n",
      "131\n",
      "132\n",
      "133\n",
      "134\n",
      "135\n",
      "136\n",
      "137\n",
      "138\n",
      "139\n",
      "140\n",
      "141\n",
      "142\n",
      "143\n",
      "144\n",
      "145\n",
      "146\n",
      "147\n",
      "148\n",
      "149\n",
      "150\n",
      "151\n",
      "152\n",
      "153\n",
      "154\n",
      "155\n",
      "156\n",
      "157\n",
      "158\n",
      "159\n",
      "160\n",
      "161\n",
      "162\n",
      "163\n",
      "164\n",
      "165\n",
      "166\n",
      "167\n",
      "168\n",
      "169\n",
      "170\n",
      "171\n",
      "172\n",
      "173\n",
      "174\n",
      "175\n",
      "176\n",
      "177\n",
      "178\n",
      "179\n",
      "180\n",
      "181\n",
      "182\n",
      "183\n",
      "184\n",
      "185\n",
      "186\n",
      "187\n",
      "188\n",
      "189\n",
      "190\n",
      "191\n",
      "192\n",
      "193\n",
      "194\n",
      "195\n",
      "196\n",
      "197\n",
      "198\n",
      "199\n",
      "200\n",
      "201\n",
      "202\n",
      "203\n",
      "204\n",
      "205\n",
      "206\n",
      "207\n",
      "208\n",
      "209\n",
      "210\n",
      "211\n",
      "212\n",
      "213\n",
      "214\n",
      "215\n",
      "216\n",
      "217\n",
      "218\n",
      "219\n",
      "220\n",
      "221\n",
      "222\n",
      "223\n",
      "224\n",
      "225\n",
      "226\n",
      "227\n",
      "228\n",
      "229\n",
      "230\n",
      "231\n",
      "232\n",
      "233\n",
      "234\n",
      "235\n",
      "236\n",
      "237\n",
      "238\n",
      "239\n",
      "240\n",
      "241\n",
      "242\n",
      "243\n",
      "244\n",
      "245\n",
      "246\n",
      "247\n",
      "248\n",
      "249\n",
      "250\n",
      "251\n",
      "252\n",
      "253\n",
      "254\n",
      "255\n",
      "256\n",
      "257\n",
      "258\n",
      "259\n",
      "260\n",
      "261\n",
      "262\n",
      "263\n",
      "264\n",
      "265\n",
      "266\n",
      "267\n",
      "268\n",
      "269\n",
      "270\n",
      "271\n",
      "272\n",
      "273\n",
      "274\n",
      "275\n",
      "276\n",
      "277\n",
      "278\n",
      "279\n",
      "280\n",
      "281\n",
      "282\n",
      "283\n",
      "284\n",
      "285\n",
      "286\n",
      "287\n",
      "288\n",
      "289\n",
      "290\n",
      "291\n",
      "292\n",
      "293\n",
      "294\n",
      "295\n",
      "296\n",
      "297\n",
      "298\n",
      "299\n",
      "300\n",
      "301\n",
      "302\n",
      "303\n",
      "304\n",
      "305\n",
      "306\n",
      "307\n",
      "308\n",
      "309\n",
      "310\n",
      "311\n",
      "312\n",
      "313\n",
      "314\n",
      "315\n",
      "316\n",
      "317\n",
      "318\n",
      "319\n",
      "320\n",
      "321\n",
      "322\n",
      "323\n",
      "324\n",
      "325\n",
      "326\n",
      "327\n",
      "328\n",
      "329\n",
      "330\n",
      "331\n",
      "332\n",
      "333\n",
      "334\n",
      "335\n",
      "336\n",
      "337\n",
      "338\n",
      "339\n",
      "340\n",
      "341\n",
      "342\n",
      "343\n",
      "344\n",
      "345\n",
      "346\n",
      "347\n",
      "348\n",
      "349\n",
      "350\n",
      "351\n",
      "352\n",
      "353\n",
      "354\n",
      "355\n",
      "356\n",
      "357\n",
      "358\n",
      "359\n",
      "360\n",
      "361\n",
      "362\n",
      "363\n",
      "364\n",
      "365\n",
      "366\n",
      "367\n",
      "368\n",
      "369\n",
      "370\n",
      "371\n",
      "372\n",
      "373\n",
      "374\n",
      "375\n",
      "376\n",
      "377\n",
      "378\n",
      "379\n",
      "380\n",
      "381\n",
      "382\n",
      "383\n",
      "384\n",
      "385\n",
      "386\n",
      "387\n",
      "388\n",
      "389\n",
      "390\n",
      "391\n",
      "392\n",
      "393\n",
      "394\n",
      "395\n",
      "396\n",
      "397\n",
      "398\n",
      "399\n",
      "400\n",
      "401\n",
      "402\n",
      "403\n",
      "404\n",
      "405\n",
      "406\n",
      "407\n",
      "408\n",
      "409\n",
      "410\n",
      "411\n",
      "412\n",
      "413\n",
      "414\n",
      "415\n",
      "416\n",
      "417\n",
      "418\n",
      "419\n",
      "420\n",
      "421\n",
      "422\n",
      "423\n",
      "424\n",
      "425\n",
      "426\n",
      "427\n",
      "428\n",
      "429\n",
      "430\n",
      "431\n",
      "432\n",
      "433\n",
      "434\n",
      "435\n",
      "436\n",
      "437\n",
      "438\n",
      "439\n",
      "440\n",
      "441\n",
      "442\n",
      "443\n",
      "444\n",
      "445\n",
      "446\n",
      "447\n",
      "448\n",
      "449\n",
      "450\n",
      "451\n",
      "452\n",
      "453\n",
      "454\n",
      "455\n",
      "456\n",
      "457\n",
      "458\n",
      "459\n",
      "460\n",
      "461\n",
      "462\n",
      "463\n",
      "464\n",
      "465\n",
      "466\n",
      "467\n",
      "468\n",
      "469\n",
      "470\n",
      "471\n",
      "472\n",
      "473\n",
      "474\n",
      "475\n",
      "476\n",
      "477\n",
      "478\n",
      "479\n",
      "480\n",
      "481\n",
      "482\n",
      "483\n",
      "484\n",
      "485\n",
      "486\n",
      "487\n",
      "488\n",
      "489\n",
      "490\n",
      "491\n",
      "492\n",
      "493\n",
      "494\n",
      "495\n",
      "496\n",
      "497\n",
      "498\n",
      "499\n",
      "500\n",
      "501\n",
      "502\n",
      "503\n",
      "504\n",
      "505\n",
      "506\n",
      "507\n",
      "508\n",
      "509\n",
      "510\n",
      "511\n",
      "512\n",
      "513\n",
      "514\n",
      "515\n",
      "516\n",
      "517\n",
      "518\n",
      "519\n",
      "520\n",
      "521\n",
      "522\n",
      "523\n",
      "524\n",
      "525\n",
      "526\n",
      "527\n",
      "528\n",
      "529\n",
      "530\n",
      "531\n",
      "532\n",
      "533\n",
      "534\n",
      "535\n",
      "536\n",
      "537\n",
      "538\n",
      "539\n",
      "540\n",
      "541\n",
      "542\n",
      "543\n",
      "544\n",
      "545\n",
      "546\n",
      "547\n",
      "548\n",
      "549\n",
      "550\n",
      "551\n",
      "552\n",
      "553\n",
      "554\n",
      "555\n",
      "556\n",
      "557\n",
      "558\n",
      "559\n",
      "560\n",
      "561\n",
      "562\n",
      "563\n",
      "564\n",
      "565\n",
      "566\n",
      "567\n",
      "568\n",
      "569\n",
      "570\n",
      "571\n",
      "572\n",
      "573\n",
      "574\n",
      "575\n",
      "576\n",
      "577\n",
      "578\n",
      "579\n",
      "580\n",
      "581\n",
      "582\n",
      "583\n",
      "584\n",
      "585\n",
      "586\n",
      "587\n",
      "588\n",
      "589\n",
      "590\n",
      "591\n",
      "592\n",
      "593\n",
      "594\n",
      "595\n",
      "596\n",
      "597\n",
      "598\n",
      "599\n",
      "600\n",
      "601\n",
      "602\n",
      "603\n",
      "604\n",
      "605\n",
      "606\n",
      "607\n",
      "608\n",
      "609\n",
      "610\n",
      "611\n",
      "612\n",
      "613\n",
      "614\n",
      "615\n",
      "616\n",
      "617\n",
      "618\n",
      "619\n",
      "620\n",
      "621\n",
      "622\n",
      "623\n",
      "624\n",
      "625\n",
      "626\n",
      "627\n",
      "628\n",
      "629\n",
      "630\n",
      "631\n",
      "632\n",
      "633\n",
      "634\n",
      "635\n",
      "636\n",
      "637\n",
      "638\n",
      "639\n",
      "640\n",
      "641\n",
      "642\n",
      "643\n",
      "644\n",
      "645\n",
      "646\n",
      "647\n",
      "648\n",
      "649\n",
      "650\n",
      "651\n",
      "652\n",
      "653\n",
      "654\n",
      "655\n",
      "656\n",
      "657\n",
      "658\n",
      "659\n",
      "660\n",
      "661\n",
      "662\n",
      "663\n",
      "664\n",
      "665\n",
      "666\n",
      "667\n",
      "668\n",
      "669\n",
      "670\n",
      "671\n",
      "672\n",
      "673\n",
      "674\n",
      "675\n",
      "676\n",
      "677\n",
      "678\n",
      "679\n",
      "680\n",
      "681\n",
      "682\n",
      "683\n",
      "684\n",
      "685\n",
      "686\n",
      "687\n",
      "688\n",
      "689\n",
      "690\n",
      "691\n",
      "692\n",
      "693\n",
      "694\n",
      "695\n",
      "696\n",
      "697\n",
      "698\n",
      "699\n",
      "700\n",
      "701\n",
      "702\n",
      "703\n",
      "704\n",
      "705\n",
      "706\n",
      "707\n",
      "708\n",
      "709\n",
      "710\n",
      "711\n",
      "712\n",
      "713\n",
      "714\n",
      "715\n",
      "716\n",
      "717\n",
      "718\n",
      "719\n",
      "720\n",
      "721\n",
      "722\n",
      "723\n",
      "724\n",
      "725\n",
      "726\n",
      "727\n",
      "728\n",
      "729\n",
      "730\n",
      "731\n",
      "732\n",
      "733\n",
      "734\n",
      "735\n",
      "736\n",
      "737\n",
      "738\n",
      "739\n",
      "740\n",
      "741\n",
      "742\n",
      "743\n",
      "744\n",
      "745\n",
      "746\n",
      "747\n",
      "748\n",
      "749\n",
      "750\n",
      "751\n",
      "752\n",
      "753\n",
      "754\n",
      "755\n",
      "756\n",
      "757\n",
      "758\n",
      "759\n",
      "760\n",
      "761\n",
      "762\n",
      "763\n",
      "764\n",
      "765\n",
      "766\n",
      "767\n",
      "768\n",
      "769\n",
      "770\n",
      "771\n",
      "772\n",
      "773\n",
      "774\n",
      "775\n",
      "776\n",
      "777\n",
      "778\n",
      "779\n",
      "780\n",
      "781\n",
      "782\n",
      "783\n",
      "784\n",
      "785\n",
      "786\n",
      "787\n",
      "788\n",
      "789\n",
      "790\n",
      "791\n",
      "792\n",
      "793\n",
      "794\n",
      "795\n",
      "796\n",
      "797\n",
      "798\n",
      "799\n",
      "800\n",
      "801\n",
      "802\n",
      "803\n",
      "804\n",
      "805\n",
      "806\n",
      "807\n",
      "808\n",
      "809\n",
      "810\n",
      "811\n",
      "812\n",
      "813\n",
      "814\n",
      "815\n",
      "816\n",
      "817\n",
      "818\n",
      "819\n",
      "820\n",
      "821\n",
      "822\n",
      "823\n",
      "824\n",
      "825\n",
      "826\n",
      "827\n",
      "828\n",
      "829\n",
      "830\n",
      "831\n",
      "832\n",
      "833\n",
      "834\n",
      "835\n",
      "836\n",
      "837\n",
      "838\n",
      "839\n",
      "840\n",
      "841\n",
      "842\n",
      "843\n",
      "844\n",
      "845\n",
      "846\n",
      "847\n",
      "848\n",
      "849\n",
      "850\n",
      "851\n",
      "852\n",
      "853\n",
      "854\n",
      "855\n",
      "856\n",
      "857\n",
      "858\n",
      "859\n",
      "860\n",
      "861\n",
      "862\n",
      "863\n",
      "864\n",
      "865\n",
      "866\n",
      "867\n",
      "868\n",
      "869\n",
      "870\n",
      "871\n",
      "872\n",
      "873\n",
      "874\n",
      "875\n",
      "876\n",
      "877\n",
      "878\n",
      "879\n",
      "880\n",
      "881\n",
      "882\n",
      "883\n",
      "884\n",
      "885\n",
      "886\n",
      "887\n",
      "888\n",
      "889\n",
      "890\n",
      "891\n",
      "892\n",
      "893\n",
      "894\n",
      "895\n",
      "896\n",
      "897\n",
      "898\n",
      "899\n",
      "900\n",
      "901\n",
      "902\n",
      "903\n",
      "904\n",
      "905\n",
      "906\n",
      "907\n",
      "908\n",
      "909\n",
      "910\n",
      "911\n",
      "912\n",
      "913\n",
      "914\n",
      "915\n",
      "916\n",
      "917\n",
      "918\n",
      "919\n",
      "920\n",
      "921\n",
      "922\n",
      "923\n",
      "924\n",
      "925\n",
      "926\n",
      "927\n",
      "928\n",
      "929\n",
      "930\n",
      "931\n",
      "932\n",
      "933\n",
      "934\n",
      "935\n",
      "936\n",
      "937\n",
      "938\n",
      "939\n",
      "940\n",
      "941\n",
      "942\n",
      "943\n",
      "944\n",
      "945\n",
      "946\n",
      "947\n",
      "948\n",
      "949\n",
      "950\n",
      "951\n",
      "952\n",
      "953\n",
      "954\n",
      "955\n",
      "956\n",
      "957\n",
      "958\n",
      "959\n",
      "960\n",
      "961\n",
      "962\n",
      "963\n",
      "964\n",
      "965\n",
      "966\n",
      "967\n",
      "968\n",
      "969\n",
      "970\n",
      "971\n",
      "972\n",
      "973\n",
      "974\n",
      "975\n",
      "976\n",
      "977\n",
      "978\n",
      "979\n",
      "980\n",
      "981\n",
      "982\n",
      "983\n",
      "984\n",
      "985\n",
      "986\n",
      "987\n",
      "988\n",
      "989\n",
      "990\n",
      "991\n",
      "992\n",
      "993\n",
      "994\n",
      "995\n",
      "996\n",
      "997\n",
      "998\n",
      "999\n"
     ]
    }
   ],
   "source": [
    "n = 3\n",
    "\n",
    "for num in range(10 ** (n-1), 10 ** (n)):\n",
    "    if is_prime(num):\n",
    "        print(num)"
   ]
  },
  {
   "cell_type": "markdown",
   "id": "a51f8e90",
   "metadata": {},
   "source": [
    "# Challenge: First Dublicate\n",
    "Given an array `a` that contains only numbers in the range from `1` to `a.length`, find the first duplicate **number** for which the second occurrence has the minimal index. In other words, if there are more than 1 duplicated number, print the **number** for which the second occurrence has a smaller index than the second occurrence of the other number does. If there are no such elements, print -1."
   ]
  },
  {
   "cell_type": "markdown",
   "id": "66226045",
   "metadata": {},
   "source": [
    "## Example:\n",
    "\n",
    "For a = [2, 1, 3, 5, 3, 2], the output should be 3.\\\n",
    "There are 2 duplicates: numbers 2 and 3.\\\n",
    "The second occurrence of 3 has a smaller index than the second occurrence of 2 does, so the answer is 3.\\\n",
    "For a = [2, 2], the output should be 2;\n",
    "For a = [2, 4, 3, 5, 1], the output should be -1.\n",
    " "
   ]
  },
  {
   "cell_type": "code",
   "execution_count": 26,
   "id": "3089691e",
   "metadata": {},
   "outputs": [
    {
     "data": {
      "text/plain": [
       "[2, 4, 3, 5, 1]"
      ]
     },
     "execution_count": 26,
     "metadata": {},
     "output_type": "execute_result"
    }
   ],
   "source": [
    "a = [2, 4, 3, 5, 1]\n",
    "a"
   ]
  },
  {
   "cell_type": "code",
   "execution_count": null,
   "id": "beb2453e",
   "metadata": {},
   "outputs": [],
   "source": [
    "mySet = set()\n",
    "for el in a:\n",
    "    if el in mySet:\n",
    "        print(el)\n",
    "        break\n",
    "    mySet.add(el)\n",
    "else:\n",
    "    print(-1)"
   ]
  },
  {
   "cell_type": "markdown",
   "id": "95926e81",
   "metadata": {},
   "source": [
    "**43) Conditional Sum**\n",
    "\n",
    "Ali is TA. He wants to calculate the student's final score based on three scores and if their mean value is between 16 and 20, give them 20, otherwise, put the actual mean score. Help him write a program that gets three input as scores and give the result."
   ]
  },
  {
   "cell_type": "code",
   "execution_count": 88,
   "id": "963403fc",
   "metadata": {},
   "outputs": [
    {
     "name": "stdout",
     "output_type": "stream",
     "text": [
      "input first number: 18.75\n",
      "input second number: 16.2\n",
      "input third number: 15.9\n"
     ]
    }
   ],
   "source": [
    "a = float(input(\"input first number: \"))\n",
    "b = float(input(\"input second number: \"))\n",
    "c = float(input(\"input third number: \"))\n",
    "# print(a,b,c)\n",
    "mean_var = (a+b+c) / 3"
   ]
  },
  {
   "cell_type": "code",
   "execution_count": 91,
   "id": "3876cdc9",
   "metadata": {},
   "outputs": [
    {
     "name": "stdout",
     "output_type": "stream",
     "text": [
      "16.95\n"
     ]
    }
   ],
   "source": [
    "if mean_var in range(16,20):\n",
    "    print(20)\n",
    "else:\n",
    "    print(mean_var)"
   ]
  },
  {
   "cell_type": "markdown",
   "id": "07d1919c",
   "metadata": {},
   "source": [
    "**44) Vowel Or Consonant**\n",
    "\n",
    "Write a Python program to check whether an alphabet is a vowel or consonant.\\\n",
    "**note:** input alphabet can also be capital"
   ]
  },
  {
   "cell_type": "code",
   "execution_count": 103,
   "id": "1af74148",
   "metadata": {},
   "outputs": [
    {
     "name": "stdout",
     "output_type": "stream",
     "text": [
      "input your character: a\n",
      "a is a vowel\n"
     ]
    }
   ],
   "source": [
    "input_alphabet  = str(input(\"input your character: \"))\n",
    "if input_alphabet.lower() in ['a','e','i','o','u','y']:\n",
    "    print(f'{input_alphabet} is a vowel')\n",
    "else:\n",
    "    print(f'{input_alphabet} is a constant')"
   ]
  },
  {
   "cell_type": "markdown",
   "id": "8bc7f6bd",
   "metadata": {},
   "source": [
    "**45) Grading System**\n",
    "\n",
    "I want to develop a system that divides the entrance exam scores of the python class members into four categories as follows: \n",
    "\n",
    "Marks                            Grade\\\n",
    " |  90              |               A|\\\n",
    " |  80 and <= 90    |               B|\\\n",
    " |>= 60 and <= 80   |               C|\\\n",
    " | below 60         |               D|\n",
    " \n",
    "Get a score number as input and print the desired class name "
   ]
  },
  {
   "cell_type": "code",
   "execution_count": 111,
   "id": "791d68cf",
   "metadata": {},
   "outputs": [
    {
     "name": "stdout",
     "output_type": "stream",
     "text": [
      "input your score: 91\n",
      "A\n"
     ]
    }
   ],
   "source": [
    "Mark = float(input(\"input your score: \"))\n",
    "\n",
    "if Mark > 90:\n",
    "    print('A')\n",
    "elif Mark > 80 and Marks <= 90:\n",
    "    print('B')\n",
    "elif Mark >= 60 and Marks <= 80:\n",
    "    print('C')\n",
    "elif Mark < 60:\n",
    "    print('D')"
   ]
  },
  {
   "cell_type": "markdown",
   "id": "7e560132",
   "metadata": {},
   "source": [
    "**46) Triangle Type**\n",
    "\n",
    "Write a program to get three numbers as the sides of a triangle and check whether it is an equilateral, isosceles, or scalene triangle.\n",
    "\n",
    "***Note :***\n",
    "\n",
    "- An equilateral triangle is a triangle in which all three sides are equal.\n",
    "- A scalene triangle is a triangle that has three unequal sides.\n",
    "- An isosceles triangle is a triangle with (at least) two equal sides."
   ]
  },
  {
   "cell_type": "code",
   "execution_count": 128,
   "id": "b1e2ea34",
   "metadata": {},
   "outputs": [
    {
     "name": "stdout",
     "output_type": "stream",
     "text": [
      "input your score: 2\n",
      "input your score: 2\n",
      "input your score: 2\n",
      "equilateral\n"
     ]
    }
   ],
   "source": [
    "slide_a = float(input(\"input your score: \"))\n",
    "slide_b = float(input(\"input your score: \"))\n",
    "slide_c = float(input(\"input your score: \"))\n",
    "# print(slide_a,slide_b,slide_c)\n",
    "\n",
    "if slide_a == slide_b == slide_c:\n",
    "    print('equilateral')\n",
    "elif slide_a != slide_b and slide_a != slide_c and slide_b != slide_c:\n",
    "    print('scalene triangle')\n",
    "elif slide_a == slide_b or slide_a == slide_c or slide_b == slide_c:\n",
    "    print('isosceles')"
   ]
  },
  {
   "cell_type": "markdown",
   "id": "ff2f4c37",
   "metadata": {},
   "source": [
    "**47) Largest Number**\n",
    "\n",
    "Write a program to find the largest number out of three numbers given by the user.  \n",
    "\n",
    "\n",
    "***Note :*** Don't sort numbers. just use conditional statements"
   ]
  },
  {
   "cell_type": "code",
   "execution_count": 151,
   "id": "91af6113",
   "metadata": {},
   "outputs": [
    {
     "name": "stdout",
     "output_type": "stream",
     "text": [
      "input your score: 8989\n",
      "input your score: 788\n",
      "input your score: 909\n"
     ]
    }
   ],
   "source": [
    "num_a = float(input(\"input your score: \"))\n",
    "num_b = float(input(\"input your score: \"))\n",
    "num_c = float(input(\"input your score: \"))\n",
    "# print(num_a,num_b,num_c)"
   ]
  },
  {
   "cell_type": "code",
   "execution_count": 152,
   "id": "434b1988",
   "metadata": {},
   "outputs": [
    {
     "name": "stdout",
     "output_type": "stream",
     "text": [
      "the largest number user 8989.0\n"
     ]
    }
   ],
   "source": [
    "# method A\n",
    "if num_a < num_b and num_b < num_c:\n",
    "    print(f'the largest number user {num_c}')\n",
    "elif num_a > num_b and num_b > num_c:\n",
    "    print(f'the largest number user {num_a}')\n",
    "elif num_a > num_b and num_b < num_c and num_a > num_c:\n",
    "    print(f'the largest number user {num_a}')\n",
    "elif num_a > num_b and num_b < num_c and num_a < num_c:\n",
    "    print(f'the largest number user {num_c}')"
   ]
  },
  {
   "cell_type": "code",
   "execution_count": 153,
   "id": "dd3a4a85",
   "metadata": {},
   "outputs": [
    {
     "name": "stdout",
     "output_type": "stream",
     "text": [
      "8989.0 is largest number\n"
     ]
    }
   ],
   "source": [
    "# method B\n",
    "if num_a >= num_b and num_a >= num_c:\n",
    "    print(str(num_a),\"is largest number\")\n",
    "elif num_b >= num_c:\n",
    "    print(str(num_b),\"is largest number\")\n",
    "else:\n",
    "    print(str(num_c),\"is largest number\")"
   ]
  },
  {
   "cell_type": "markdown",
   "id": "dc2c96a6",
   "metadata": {},
   "source": [
    "**48) Easy Calculater**\n",
    "\n",
    "Write a python program to accept two numbers and a mathematical operator and performs operation accordingly.\n",
    "mathematical operations are + - * /"
   ]
  },
  {
   "cell_type": "code",
   "execution_count": 154,
   "id": "a62a53ce",
   "metadata": {},
   "outputs": [
    {
     "name": "stdout",
     "output_type": "stream",
     "text": [
      "input your number: 22\n",
      "input your number: 23\n",
      "22.0 23.0\n"
     ]
    }
   ],
   "source": [
    "num_a = float(input(\"input your number: \"))\n",
    "num_b = float(input(\"input your number: \"))\n",
    "print(num_a,num_b)"
   ]
  },
  {
   "cell_type": "code",
   "execution_count": 163,
   "id": "9522a964",
   "metadata": {
    "scrolled": true
   },
   "outputs": [
    {
     "name": "stdout",
     "output_type": "stream",
     "text": [
      "45.0 -1.0 0.9565217391304348 506.0\n"
     ]
    }
   ],
   "source": [
    "sum_ab = num_a + num_b\n",
    "subtraction = num_a - num_b\n",
    "division = num_a / num_b\n",
    "multiplication = num_a * num_b\n",
    "print(sum_ab,subtraction,division,multiplication)"
   ]
  },
  {
   "cell_type": "markdown",
   "id": "0d86bb9a",
   "metadata": {},
   "source": [
    "**49) Conditional Job Working**\n",
    "\n",
    "Ali has doubts about doing something. He asks his friend to choose a number between `500` and `1000` and if the tens digit is even, do the work.\\\n",
    "Otherwise, don't do it. (e.g in 542, 4 is a tens digit. Also, it is even ).\\\n",
    "Write a program that does this for him. if the tens digit is even print `Do It!` otherwise, print `Don't Do It!`\n",
    "\n",
    "***Note:***  the input number must be in the range [500, 1000). otherwise, print Invalid Number!\n",
    "\n",
    "**Note:** Don't convert the number to string to get tens digit!"
   ]
  },
  {
   "cell_type": "code",
   "execution_count": 190,
   "id": "c7c8ce96",
   "metadata": {},
   "outputs": [
    {
     "name": "stdout",
     "output_type": "stream",
     "text": [
      "please choose a number between 500 and 1000: 109\n",
      "Invalid Number!\n"
     ]
    }
   ],
   "source": [
    "num = int(input(\"please choose a number between 500 and 1000: \"))\n",
    "\n",
    "if num in range(500,1000):\n",
    "    tens = (num // 10) % 10\n",
    "    if tens % 2 == 0:\n",
    "        print('Do It!')\n",
    "    else:\n",
    "        print(\"Don't Do It!\")\n",
    "else:\n",
    "    print('Invalid Number!')"
   ]
  },
  {
   "cell_type": "markdown",
   "id": "5afe75d0",
   "metadata": {},
   "source": [
    "**50) Even or odd**\n",
    "\n",
    "Write a Python program that receive a number from the user and determines if a given integer is even or odd."
   ]
  },
  {
   "cell_type": "code",
   "execution_count": 193,
   "id": "c1ec8026",
   "metadata": {},
   "outputs": [
    {
     "name": "stdout",
     "output_type": "stream",
     "text": [
      "please enter your number: 11\n",
      "odd\n"
     ]
    }
   ],
   "source": [
    "num = int(input(\"please enter your number: \"))\n",
    "\n",
    "if num % 2 == 0:\n",
    "    print('even')\n",
    "else:\n",
    "    print('odd')"
   ]
  },
  {
   "cell_type": "markdown",
   "id": "46fdd284",
   "metadata": {},
   "source": [
    "**51) The weekday name**\n",
    "\n",
    "Write a Python code that would read any integer day number and show the day's name in the word"
   ]
  },
  {
   "cell_type": "code",
   "execution_count": 195,
   "id": "2cd8c321",
   "metadata": {},
   "outputs": [
    {
     "name": "stdout",
     "output_type": "stream",
     "text": [
      "please enter your weekday name: 1\n",
      "sunday\n"
     ]
    }
   ],
   "source": [
    "week_num = int(input(\"please enter your weekday name: \"))\n",
    "\n",
    "if week_num == 0:\n",
    "    print('saturday')\n",
    "elif week_num == 1:\n",
    "    print('sunday')\n",
    "elif week_num == 2:\n",
    "    print('monday')\n",
    "elif week_num == 3:\n",
    "    print('tuesday')\n",
    "elif week_num == 4:\n",
    "    print('wednesday')\n",
    "elif week_num == 5:\n",
    "    print('thursday')\n",
    "elif week_num == 6:\n",
    "    print('friday')"
   ]
  },
  {
   "cell_type": "markdown",
   "id": "b8582df4",
   "metadata": {},
   "source": [
    "**52) Angles of a triangle**\n",
    "\n",
    "Write a python program that receive three angles from the user to determine whether the supplied angle values may be used to construct a triangle."
   ]
  },
  {
   "cell_type": "code",
   "execution_count": 203,
   "id": "1d48770b",
   "metadata": {},
   "outputs": [
    {
     "name": "stdout",
     "output_type": "stream",
     "text": [
      "please enter first angle: 45\n",
      "please enter second angle: 45\n",
      "please enter third angle: 90\n",
      "used to construct a triangle\n"
     ]
    }
   ],
   "source": [
    "angle_a = float(input(\"please enter first angle: \"))\n",
    "angle_b = float(input(\"please enter second angle: \"))\n",
    "angle_c = float(input(\"please enter third angle: \"))\n",
    "sum_angle_abc = angle_a + angle_b + angle_c\n",
    "if  sum_angle_abc == 180:\n",
    "    print(\"used to construct a triangle\")\n",
    "else:\n",
    "    print(\"please another number\")"
   ]
  },
  {
   "cell_type": "markdown",
   "id": "99db228d",
   "metadata": {},
   "source": [
    "**54) Quadratic equatione**\n",
    "\n",
    "Write a Python program that receive three numbers from the user to calculate the root of a Quadratic Equation.\n",
    "\n",
    "`ax² + bx + c`\n",
    "\n",
    "As you know, the roots of the quadratic equation can be obtained using the following formula:\n",
    "\n",
    "`x = (-b ± √Δ)/2a`\n",
    "\n",
    "- If the delta is a number greater than zero (Δ>0), our quadratic equation has two roots as follows:  \n",
    "`x1 = (-b + √Δ)/2a`\n",
    "`x2 = (-b - √Δ)/2a`\n",
    "\n",
    "- If the delta is zero, then there is exactly one real root:\n",
    "`x = -b/2a`\n",
    "\n",
    "- If the delta is negative, then there are no real roots:\n",
    "\n",
    "We also know that Delta equals:\n",
    "`Δ = b² - 4ac`"
   ]
  },
  {
   "cell_type": "code",
   "execution_count": 232,
   "id": "9adda14a",
   "metadata": {},
   "outputs": [
    {
     "name": "stdout",
     "output_type": "stream",
     "text": [
      "please enter first number: 2\n",
      "please enter second number: 8\n",
      "please enter third number: 4\n",
      "4.0\n"
     ]
    }
   ],
   "source": [
    "a = float(input(\"please enter first number: \"))\n",
    "b = float(input(\"please enter second number: \"))\n",
    "c = float(input(\"please enter third number: \"))\n",
    "qe = (a * (x**2)) + (b * x) + c\n",
    "print(qe)"
   ]
  },
  {
   "cell_type": "code",
   "execution_count": 233,
   "id": "d3c2ce43",
   "metadata": {},
   "outputs": [
    {
     "name": "stdout",
     "output_type": "stream",
     "text": [
      "32.0\n"
     ]
    }
   ],
   "source": [
    "delta = (b ** 2) - (4*a*c)\n",
    "print(delta)"
   ]
  },
  {
   "cell_type": "code",
   "execution_count": 235,
   "id": "e0b1916e",
   "metadata": {},
   "outputs": [
    {
     "name": "stdout",
     "output_type": "stream",
     "text": [
      "-0.5857864376269049 -3.414213562373095\n"
     ]
    }
   ],
   "source": [
    "if delta > 0:\n",
    "    x1 = (-b + ((delta) ** (0.5)))/(2*a)\n",
    "    x2 = (-b - ((delta) ** (0.5)))/(2*a)\n",
    "    print(x1,x2)\n",
    "elif delta == 0:\n",
    "    x = -b / (2*a)\n",
    "    print(x)\n",
    "elif delta < 0:\n",
    "    print('there are no real roots:')"
   ]
  },
  {
   "cell_type": "markdown",
   "id": "7a5db840",
   "metadata": {},
   "source": [
    "**55) Blood pressure category**\n",
    "\n",
    "write code that takes the user's systolic and diastolic blood pressures and tells them category of their current condition.\n",
    "\n",
    "| BLOOD PRESSURE CATEGORY | SYSTOLIC mm Hg\tand/or\tDIASTOLIC mm Hg |\\\n",
    "| NORMAL | LESS THAN 120 and LESS THAN 80 |\\\n",
    "| ELEVATED | 120 – 129 and LESS THAN 80 |\\\n",
    "| HIGH BLOOD PRESSURE (HYPERTENSION) STAGE 1 | 130 – 139 or 80 – 89 |\\\n",
    "| HIGH BLOOD PRESSURE (HYPERTENSION) STAGE 2 | 140 OR HIGHER or\t90 OR HIGHER |\\\n",
    "| HYPERTENSIVE CRISIS (consult your doctor immediately) | HIGHER THAN 180 and/or HIGHER THAN 120 |"
   ]
  },
  {
   "cell_type": "code",
   "execution_count": 237,
   "id": "763e88f1",
   "metadata": {},
   "outputs": [
    {
     "name": "stdout",
     "output_type": "stream",
     "text": [
      "please enter systolic: 129\n",
      "please enter diastolic: 100\n",
      "HIGH BLOOD PRESSURE (HYPERTENSION) STAGE 2\n"
     ]
    }
   ],
   "source": [
    "systolic = float(input(\"please enter systolic: \"))\n",
    "diastolic = float(input(\"please enter diastolic: \"))\n",
    "\n",
    "if systolic < 120 and diastolic < 80:\n",
    "    print('Normal')\n",
    "elif 120 < systolic < 129 and diastolic < 80:\n",
    "    print('Elevated')\n",
    "elif 130 < systolic < 139 or 80 < diastolic < 89:\n",
    "    print('HIGH BLOOD PRESSURE (HYPERTENSION) STAGE 1')\n",
    "elif 140 < systolic or 89 < diastolic:\n",
    "    print('HIGH BLOOD PRESSURE (HYPERTENSION) STAGE 2')\n",
    "elif 180 < systolic or diastolic > 120:\n",
    "    print('HYPERTENSIVE CRISIS (consult your doctor immediately)')"
   ]
  },
  {
   "cell_type": "markdown",
   "id": "d85c8153",
   "metadata": {},
   "source": [
    "**56) Area of geometric shapes**\n",
    "\n",
    "Create an application that initially displays a list of geometric shapes to the user.\\\n",
    "By entering a number, the user can pick one of those shapes.\\\n",
    "Then, based on the geometric shape selected, obtain the shape parameters from the user.\\\n",
    "Finally, as the output, display the shape's area."
   ]
  },
  {
   "cell_type": "code",
   "execution_count": 246,
   "id": "35513adf",
   "metadata": {},
   "outputs": [
    {
     "name": "stdout",
     "output_type": "stream",
     "text": [
      "please enter your first number: 3\n",
      "please enter your second number: 3\n",
      "area is 9\n"
     ]
    }
   ],
   "source": [
    "side_a = int(input('please enter your first number: '))\n",
    "side_b = int(input('please enter your second number: '))\n",
    "\n",
    "if side_a == side_b:\n",
    "    area = side_a * side_a\n",
    "    print(f'area is {area}')\n",
    "elif side_a != side_b:\n",
    "    area = side_a * side_b\n",
    "    print(f'area is {area}')"
   ]
  },
  {
   "cell_type": "markdown",
   "id": "d146d7c2",
   "metadata": {},
   "source": [
    "**57) Find Median**\n",
    "\n",
    "Write a Python program to get 3 inputs from the user and find the median of three values without sorting values.\\\n",
    "only use conditional statements, not any python methods.\n",
    "\n",
    "**note:** `input()` gives you string. don't forget to convert it to a float number"
   ]
  },
  {
   "cell_type": "code",
   "execution_count": 247,
   "id": "1fc04bb5",
   "metadata": {},
   "outputs": [
    {
     "name": "stdout",
     "output_type": "stream",
     "text": [
      "please enter your first number: 12\n",
      "please enter your second number: 13\n",
      "please enter your third number: 14\n"
     ]
    }
   ],
   "source": [
    "num_a = float(input('please enter your first number: '))\n",
    "num_b = float(input('please enter your second number: '))\n",
    "num_c = float(input('please enter your third number: '))"
   ]
  },
  {
   "cell_type": "code",
   "execution_count": 254,
   "id": "8a40b40f",
   "metadata": {},
   "outputs": [
    {
     "name": "stdout",
     "output_type": "stream",
     "text": [
      "This median is 8.0\n"
     ]
    }
   ],
   "source": [
    "if num_a > num_b:\n",
    "    if num_a < num_c:\n",
    "        median = a\n",
    "    elif num_b > num_c:\n",
    "        median = b\n",
    "    else:\n",
    "        median = c\n",
    "else:\n",
    "    if num_a > num_c:\n",
    "        median = a\n",
    "    elif num_b < num_c:\n",
    "        median = b\n",
    "    else:\n",
    "        median = c\n",
    "\n",
    "print(\"This median is\", median)"
   ]
  },
  {
   "cell_type": "markdown",
   "id": "8dde49ac",
   "metadata": {},
   "source": [
    "**58) Nest condition inside f-string**\n",
    "\n",
    "**You can nest expressions to evaluate inside expressions in an f-string**\n",
    "\n",
    "You are given a set of prime numbers `less than 1000`. Create a program that receives a number and then uses a single print() function with **F-String** to determine whether or not it was a prime number.\n",
    "\n",
    "for example:\n",
    "\n",
    "**\"997 is a prime number.\"**\n",
    "\n",
    "**\"998 is not a prime number.\"**\n",
    "\n",
    "number = {2, 3, 5, 7, 11, 13, 17, 19, 23, 29, 31, 37, 41,\n",
    "     43, 47, 53, 59, 61, 67, 71, 73, 79, 83, 89, 97,\n",
    "     101, 103, 107, 109, 113, 127, 131, 137, 139, 149,\n",
    "     151, 157, 163, 167, 173, 179, 181, 191, 193, 197,\n",
    "     199, 211, 223, 227, 229, 233, 239, 241, 251, 257,\n",
    "     263, 269, 271, 277, 281, 283, 293, 307, 311, 313,\n",
    "     317, 331, 337, 347, 349, 353, 359, 367, 373, 379,\n",
    "     383, 389, 397, 401, 409, 419, 421, 431, 433, 439,\n",
    "     443, 449, 457, 461, 463, 467, 479, 487, 491, 499,\n",
    "     503, 509, 521, 523, 541, 547, 557, 563, 569, 571,\n",
    "     577, 587, 593, 599, 601, 607, 613, 617, 619, 631,\n",
    "     641, 643, 647, 653, 659, 661, 673, 677, 683, 691,\n",
    "     701, 709, 719, 727, 733, 739, 743, 751, 757, 761,\n",
    "     769, 773, 787, 797, 809, 811, 821, 823, 827, 829,\n",
    "     839, 853, 857, 859, 863, 877, 881, 883, 887, 907,\n",
    "     911, 919, 929, 937, 941, 947, 953, 967, 971, 977,\n",
    "     983, 991, 997}"
   ]
  },
  {
   "cell_type": "code",
   "execution_count": 323,
   "id": "fda73e75",
   "metadata": {},
   "outputs": [
    {
     "name": "stdout",
     "output_type": "stream",
     "text": [
      "Enter number to check if it's prime: 1\n",
      "1 is not a prime number\n"
     ]
    }
   ],
   "source": [
    "def isPrime(number):\n",
    "    # rule 1: number should be positive, and greater than 1.\n",
    "    if number > 1:\n",
    "        # iterate over a range from 2 to half the number.\n",
    "        for i in range(2, number//2):\n",
    "            # rule 2: shouldn't have any positive divisor \n",
    "            # order than 1 and itself.\n",
    "            if(number % i) == 0:\n",
    "                return False\n",
    "         \n",
    "        return True\n",
    "    else:\n",
    "        return False\n",
    "\n",
    "if __name__ == '__main__':\n",
    "    number = int(input(\"Enter number to check if it's prime: \"))\n",
    "    \n",
    "    if isPrime(number):\n",
    "        print(f'{number} is a prime number')\n",
    "    else:\n",
    "        print(f'{number} is not a prime number')"
   ]
  }
 ],
 "metadata": {
  "kernelspec": {
   "display_name": "Python 3 (ipykernel)",
   "language": "python",
   "name": "python3"
  },
  "language_info": {
   "codemirror_mode": {
    "name": "ipython",
    "version": 3
   },
   "file_extension": ".py",
   "mimetype": "text/x-python",
   "name": "python",
   "nbconvert_exporter": "python",
   "pygments_lexer": "ipython3",
   "version": "3.9.15"
  }
 },
 "nbformat": 4,
 "nbformat_minor": 5
}
