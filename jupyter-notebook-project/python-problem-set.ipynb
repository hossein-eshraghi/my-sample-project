{
 "cells": [
  {
   "cell_type": "markdown",
   "id": "cd4bae34",
   "metadata": {},
   "source": [
    "**1) Write a program in python that prints hello world .**"
   ]
  },
  {
   "cell_type": "code",
   "execution_count": 1,
   "id": "77eadc88",
   "metadata": {},
   "outputs": [
    {
     "name": "stdout",
     "output_type": "stream",
     "text": [
      "hello world\n"
     ]
    }
   ],
   "source": [
    "print(\"hello world\")"
   ]
  },
  {
   "cell_type": "markdown",
   "id": "8b1ca53a",
   "metadata": {},
   "source": [
    "**2) Which statement is true? and why?**\n",
    "1. In Python, a variable must be declared before it is assigned a value \n",
    "2. In Python, a variable may be assigned a value of one type, and then later assigned a value of a different type"
   ]
  },
  {
   "cell_type": "code",
   "execution_count": 3,
   "id": "33de4a2a",
   "metadata": {},
   "outputs": [
    {
     "name": "stdout",
     "output_type": "stream",
     "text": [
      "True False\n"
     ]
    }
   ],
   "source": [
    "x = True\n",
    "y = False\n",
    "print(x,y)"
   ]
  },
  {
   "cell_type": "markdown",
   "id": "901dedaf",
   "metadata": {},
   "source": [
    "**3) Consider the following sequence of statements :**\\\n",
    "1.These statements refer to different variables.\\\n",
    "2.These statements refer to the same variable.\\\n",
    "Answer: `Case is significant in Python variable names, so these are all different variables.`"
   ]
  },
  {
   "cell_type": "code",
   "execution_count": 7,
   "id": "f31280b5",
   "metadata": {},
   "outputs": [],
   "source": [
    "employeenumber = 4398\n",
    "EmployeeNumber = 4398\n",
    "employeeNumber = 4398"
   ]
  },
  {
   "cell_type": "code",
   "execution_count": 13,
   "id": "8723935b",
   "metadata": {},
   "outputs": [
    {
     "data": {
      "text/plain": [
       "140049492288272"
      ]
     },
     "execution_count": 13,
     "metadata": {},
     "output_type": "execute_result"
    }
   ],
   "source": [
    "id(employeenumber)"
   ]
  },
  {
   "cell_type": "code",
   "execution_count": 14,
   "id": "0ec20f22",
   "metadata": {},
   "outputs": [
    {
     "data": {
      "text/plain": [
       "140049492288880"
      ]
     },
     "execution_count": 14,
     "metadata": {},
     "output_type": "execute_result"
    }
   ],
   "source": [
    "id(EmployeeNumber)"
   ]
  },
  {
   "cell_type": "code",
   "execution_count": 15,
   "id": "f3b164ee",
   "metadata": {},
   "outputs": [
    {
     "data": {
      "text/plain": [
       "140049492289008"
      ]
     },
     "execution_count": 15,
     "metadata": {},
     "output_type": "execute_result"
    }
   ],
   "source": [
    "id(employeeNumber)"
   ]
  },
  {
   "cell_type": "markdown",
   "id": "82f76d4a",
   "metadata": {},
   "source": [
    "**4) Following the execution of these statements, Python has created how many objects and how many references?**\\\n",
    "`1.One object, two references`\\\n",
    "2.One object, one reference\\\n",
    "3.Two objects, one reference\\\n",
    "4.Two objects, two references"
   ]
  },
  {
   "cell_type": "code",
   "execution_count": 17,
   "id": "07cea6a4",
   "metadata": {},
   "outputs": [],
   "source": [
    "n = 300\n",
    "m = n"
   ]
  },
  {
   "cell_type": "code",
   "execution_count": 21,
   "id": "d3140a07",
   "metadata": {},
   "outputs": [
    {
     "data": {
      "text/plain": [
       "140049495544880"
      ]
     },
     "execution_count": 21,
     "metadata": {},
     "output_type": "execute_result"
    }
   ],
   "source": [
    "id(m)"
   ]
  },
  {
   "cell_type": "code",
   "execution_count": 23,
   "id": "55736bc2",
   "metadata": {},
   "outputs": [
    {
     "data": {
      "text/plain": [
       "140049495544880"
      ]
     },
     "execution_count": 23,
     "metadata": {},
     "output_type": "execute_result"
    }
   ],
   "source": [
    "id(n)"
   ]
  },
  {
   "cell_type": "markdown",
   "id": "033e102b",
   "metadata": {},
   "source": [
    "**5) Multiple Variable's Definition**\\\n",
    "Assign values `\"pytopia\" , 2022 and 3.14` to `var_s , var_i , var_f` in **only one line** of code."
   ]
  },
  {
   "cell_type": "code",
   "execution_count": 32,
   "id": "74fe5feb",
   "metadata": {},
   "outputs": [],
   "source": [
    "var_s,var_i,var_f = 'pytopia',2022,3.14"
   ]
  },
  {
   "cell_type": "code",
   "execution_count": 35,
   "id": "b97c747b",
   "metadata": {},
   "outputs": [
    {
     "data": {
      "text/plain": [
       "'pytopia'"
      ]
     },
     "execution_count": 35,
     "metadata": {},
     "output_type": "execute_result"
    }
   ],
   "source": [
    "var_s"
   ]
  },
  {
   "cell_type": "code",
   "execution_count": 37,
   "id": "28b23d01",
   "metadata": {},
   "outputs": [
    {
     "data": {
      "text/plain": [
       "2022"
      ]
     },
     "execution_count": 37,
     "metadata": {},
     "output_type": "execute_result"
    }
   ],
   "source": [
    "var_i"
   ]
  },
  {
   "cell_type": "code",
   "execution_count": 39,
   "id": "a3a75838",
   "metadata": {},
   "outputs": [
    {
     "data": {
      "text/plain": [
       "3.14"
      ]
     },
     "execution_count": 39,
     "metadata": {},
     "output_type": "execute_result"
    }
   ],
   "source": [
    "var_f"
   ]
  },
  {
   "cell_type": "markdown",
   "id": "a6a1fe5e",
   "metadata": {},
   "source": [
    "**6) Variable Assignment**\\\n",
    "Consider the following sequence of statements :\n",
    "\n",
    "Since numbers between -5 and 256 are used a lot, Python allocates memory for these numbers from the beginning in RAM. For this reason, these objects are made only once and at any time create a variable with these values, instead of making new objects we just create some new pointers to those objects. But for any other numbers any time we create a variable we also create new objects.\n",
    "\n",
    "Somehow, it can be said that the numbers in this range are unique and occupy the RAM once."
   ]
  },
  {
   "cell_type": "code",
   "execution_count": 41,
   "id": "72c00553",
   "metadata": {},
   "outputs": [],
   "source": [
    "m = 245\n",
    "n = 245\n",
    "x = 268\n",
    "y = 268\n",
    "z = y"
   ]
  },
  {
   "cell_type": "code",
   "execution_count": 43,
   "id": "8fb37583",
   "metadata": {},
   "outputs": [
    {
     "name": "stdout",
     "output_type": "stream",
     "text": [
      "140049696577584 140049696577584 140049123856112 140049123855280 140049123855280\n"
     ]
    }
   ],
   "source": [
    "print(id(m),id(n),id(x),id(y),id(z))"
   ]
  },
  {
   "cell_type": "code",
   "execution_count": 44,
   "id": "9c476938",
   "metadata": {},
   "outputs": [
    {
     "data": {
      "text/plain": [
       "(False, True)"
      ]
     },
     "execution_count": 44,
     "metadata": {},
     "output_type": "execute_result"
    }
   ],
   "source": [
    "id(m) != id(n), id(x) != id(y)"
   ]
  },
  {
   "cell_type": "code",
   "execution_count": 46,
   "id": "459a62bd",
   "metadata": {},
   "outputs": [
    {
     "data": {
      "text/plain": [
       "(True, False)"
      ]
     },
     "execution_count": 46,
     "metadata": {},
     "output_type": "execute_result"
    }
   ],
   "source": [
    "id(m) == id(n), id(x) == id(y)"
   ]
  },
  {
   "cell_type": "code",
   "execution_count": 49,
   "id": "d70c8a1c",
   "metadata": {},
   "outputs": [
    {
     "data": {
      "text/plain": [
       "(True, True)"
      ]
     },
     "execution_count": 49,
     "metadata": {},
     "output_type": "execute_result"
    }
   ],
   "source": [
    "id(m) == id(n), id(x) != id(y)"
   ]
  },
  {
   "cell_type": "code",
   "execution_count": 51,
   "id": "8bb39a53",
   "metadata": {},
   "outputs": [
    {
     "data": {
      "text/plain": [
       "(False, False)"
      ]
     },
     "execution_count": 51,
     "metadata": {},
     "output_type": "execute_result"
    }
   ],
   "source": [
    "id(m) != id(n), id(x) == id(y)"
   ]
  },
  {
   "cell_type": "code",
   "execution_count": 53,
   "id": "aeaaeb80",
   "metadata": {},
   "outputs": [
    {
     "data": {
      "text/plain": [
       "True"
      ]
     },
     "execution_count": 53,
     "metadata": {},
     "output_type": "execute_result"
    }
   ],
   "source": [
    "id(z) == id(y)"
   ]
  },
  {
   "cell_type": "code",
   "execution_count": 55,
   "id": "b6cc5562",
   "metadata": {},
   "outputs": [
    {
     "data": {
      "text/plain": [
       "False"
      ]
     },
     "execution_count": 55,
     "metadata": {},
     "output_type": "execute_result"
    }
   ],
   "source": [
    "id(z) != id(y)"
   ]
  },
  {
   "cell_type": "markdown",
   "id": "dbe06cc7",
   "metadata": {},
   "source": [
    "**7) Quick Swap**\n",
    "\n",
    "Assume we have two variables called input_1 and input_2 . Swap the values of the two variables so that input_1 has the value of input_2 and vice versa. Print out the two variables.  \n",
    "\n",
    "Note: You must perform the swap in only 1 line of code, and without using any variables other than input_1 and input_2 ."
   ]
  },
  {
   "cell_type": "code",
   "execution_count": 60,
   "id": "94618ac8",
   "metadata": {},
   "outputs": [],
   "source": [
    "input_1,input_2 = input_2,input_1"
   ]
  },
  {
   "cell_type": "markdown",
   "id": "ef1f5911",
   "metadata": {},
   "source": [
    "**8) Custom Swap** \\\n",
    "Ali has a problem with one of his python practices.\\\n",
    "He wants `to get two numbers as input from the user` and put them in input_1 and input_2 .\\\n",
    "then Swap the values of the two variables so that input_1 has the value of input_2 and vice versa.\\ \n",
    "Finally, print out the two variables.\n",
    "\n",
    "**Note: He must only use 3 variables in his code**"
   ]
  },
  {
   "cell_type": "code",
   "execution_count": 79,
   "id": "f7c8e44b",
   "metadata": {},
   "outputs": [
    {
     "name": "stdout",
     "output_type": "stream",
     "text": [
      "Enter first number: 1\n",
      "Enter second number: 2\n"
     ]
    }
   ],
   "source": [
    "input_1 = int(input(\"Enter first number: \"))\n",
    "input_2 = int(input(\"Enter second number: \"))"
   ]
  },
  {
   "cell_type": "code",
   "execution_count": 80,
   "id": "30ee1909",
   "metadata": {},
   "outputs": [],
   "source": [
    "temp = input_1\n",
    "input_1 = input_2\n",
    "input_2 = temp"
   ]
  },
  {
   "cell_type": "code",
   "execution_count": 82,
   "id": "9578728f",
   "metadata": {},
   "outputs": [
    {
     "name": "stdout",
     "output_type": "stream",
     "text": [
      "2 1\n"
     ]
    }
   ],
   "source": [
    "print(input_1,input_2)"
   ]
  },
  {
   "cell_type": "markdown",
   "id": "148dcbfa",
   "metadata": {},
   "source": [
    "**9) Easy Sum** \\\n",
    "We ask Ali to write a code that takes two inputs from the user and saves them in two desired variables, and then puts the sum of the two inputs in a variable and prints the result. Since Ali does not know the syntax of python, we ask you to help him to write this code!\n",
    "\n",
    "Note: Use snake case format for variable names.\n",
    "\n",
    "Hint: You can use the following code to take input from the user and convert it to an integer. (In future sessions we will explain how this code works).\n",
    "\n",
    "You can change the name of the variable to anything you like.\n",
    "\n",
    "`Note: When you are giving your input data, press Enter to end the process of giving input after you have done.`\n"
   ]
  },
  {
   "cell_type": "code",
   "execution_count": 87,
   "id": "a20e3a00",
   "metadata": {},
   "outputs": [
    {
     "name": "stdout",
     "output_type": "stream",
     "text": [
      "Enter a number: 11\n",
      "Enter another number: 12\n"
     ]
    }
   ],
   "source": [
    "input_1 = int(input('Enter a number: '))\n",
    "input_2 = int(input('Enter another number: '))"
   ]
  },
  {
   "cell_type": "code",
   "execution_count": 90,
   "id": "4854f762",
   "metadata": {},
   "outputs": [
    {
     "name": "stdout",
     "output_type": "stream",
     "text": [
      "23\n"
     ]
    }
   ],
   "source": [
    "sum_x = input_1 + input_2\n",
    "print(sum_x)"
   ]
  },
  {
   "cell_type": "markdown",
   "id": "9732e958",
   "metadata": {},
   "source": [
    "**10) Warm-Up Variable Practice!** \\\n",
    "Ali's programming teacher asks him to define two variables inp_1 and inp_2 and assign values 10 and 35 to them. \\\n",
    "then put inp_1 + inp_2 in variable result and print it. \\\n",
    "Ali is a lazy student and asks you to do this for him!\n",
    "\n"
   ]
  },
  {
   "cell_type": "code",
   "execution_count": 94,
   "id": "593e3ce1",
   "metadata": {},
   "outputs": [
    {
     "name": "stdout",
     "output_type": "stream",
     "text": [
      "45\n"
     ]
    }
   ],
   "source": [
    "inp_1,inp_2 = 10,35\n",
    "sum_inp = inp_1 + inp_2\n",
    "print(sum_inp)"
   ]
  },
  {
   "cell_type": "markdown",
   "id": "1df25855",
   "metadata": {},
   "source": [
    "**11) Bitwise Operators Quiz** \\\n",
    "4 is 100 in binary and 11 is 1011. \\\n",
    "What is the output of the following bitwise operators?\n",
    "\n",
    "4: 0100 \\\n",
    "11: 1011"
   ]
  },
  {
   "cell_type": "code",
   "execution_count": 96,
   "id": "190a6a9e",
   "metadata": {},
   "outputs": [
    {
     "name": "stdout",
     "output_type": "stream",
     "text": [
      "15 1\n"
     ]
    }
   ],
   "source": [
    "a = 4\n",
    "b = 11\n",
    "print(a | b, a >> 2)"
   ]
  },
  {
   "cell_type": "markdown",
   "id": "12aecd51",
   "metadata": {},
   "source": [
    "**12) Operator and Expression** \\\n",
    "What is the output of the following code?\n",
    "\n",
    "print(bool(0), bool(3.14159), bool(-3), bool(1.0+1j)) \n",
    "\n",
    "1. True True False True \\\n",
    "2. False True True True \\\n",
    "3. True True False True \\\n",
    "4. False True False True\n",
    "\n",
    "`answer: 2`"
   ]
  },
  {
   "cell_type": "markdown",
   "id": "07bec7d6",
   "metadata": {},
   "source": [
    "**13) List Chain Assignment** \\\n",
    "What is the output where indicated by #?:\n",
    "\n",
    "`Hint: If you think the outputs are [2] and [3], think again!`\n",
    "\n",
    "The reason is when you do `x = y = []` you define two pointers both pointing to one memory location. \\\n",
    "If you change that memory location with x, the changes are seen by y too, cause both are sharing one memory location.\n",
    "\n",
    "So be careful when you use chain assignments. It may cause unexpected behaviours when used with mutable data types.\n",
    "\n",
    "Note that with immutable variables, there is no problem like this, cause they are not gonna change."
   ]
  },
  {
   "cell_type": "code",
   "execution_count": 99,
   "id": "7bdcd672",
   "metadata": {},
   "outputs": [
    {
     "name": "stdout",
     "output_type": "stream",
     "text": [
      "[2, 3]\n",
      "[2, 3]\n"
     ]
    }
   ],
   "source": [
    "x = y = []\n",
    "x.append(2)\n",
    "y.append(3)\n",
    "print(x)\n",
    "print(y)"
   ]
  },
  {
   "cell_type": "markdown",
   "id": "ef5eb8db",
   "metadata": {},
   "source": [
    "**14) Append to The List** \\\n",
    "The append() method allows you to add items to your lists. \\\n",
    "Add the string \"R\" to the programming_langs list with append() method.\n",
    "\n",
    "Note: Python's list contents are references unless documented otherwise, no copies are created when you pass a name to a method. This applies just as much to list.append() as to any other call; list.append() adds a reference to the list, not a copy."
   ]
  },
  {
   "cell_type": "code",
   "execution_count": 105,
   "id": "461738b6",
   "metadata": {},
   "outputs": [],
   "source": [
    "programming_langs = [\"Julia\", \"Python\"] \n",
    "programming_langs.append(\"R\")"
   ]
  },
  {
   "cell_type": "code",
   "execution_count": 107,
   "id": "e9c651ad",
   "metadata": {},
   "outputs": [
    {
     "data": {
      "text/plain": [
       "['Julia', 'Python', 'R']"
      ]
     },
     "execution_count": 107,
     "metadata": {},
     "output_type": "execute_result"
    }
   ],
   "source": [
    "programming_langs"
   ]
  },
  {
   "cell_type": "markdown",
   "id": "8bfb3a4d",
   "metadata": {},
   "source": [
    "**15) List: Max, Min, Sum and Mean** \\\n",
    "Calculate the maximum, minimum, sum and mean of the following data using python's built-in functions:\n",
    "\n"
   ]
  },
  {
   "cell_type": "code",
   "execution_count": 129,
   "id": "7b348847",
   "metadata": {},
   "outputs": [],
   "source": [
    "random_num_data = [18, 60, -10, 17, 55, 8, -1, 31, 52, 31,\n",
    "                    27, 14, 25, 0, -2, 15, -1, 50, 45, -4,\n",
    "                    42, -10, 40, 3, 43, 55, 24, -17, 17, 54, \n",
    "                    19, 24, 44, 30, 24, 3, -17, 31, 45, -10, \n",
    "                    13, -12, 21, -13, 52, 57, -1, 37, 21, 42]"
   ]
  },
  {
   "cell_type": "code",
   "execution_count": 130,
   "id": "d43c7f62",
   "metadata": {},
   "outputs": [
    {
     "data": {
      "text/plain": [
       "60"
      ]
     },
     "execution_count": 130,
     "metadata": {},
     "output_type": "execute_result"
    }
   ],
   "source": [
    "maximum = max(random_num_data)\n",
    "maximum"
   ]
  },
  {
   "cell_type": "code",
   "execution_count": 131,
   "id": "c721b7c1",
   "metadata": {},
   "outputs": [
    {
     "data": {
      "text/plain": [
       "-17"
      ]
     },
     "execution_count": 131,
     "metadata": {},
     "output_type": "execute_result"
    }
   ],
   "source": [
    "minimum = min(random_num_data)\n",
    "minimum"
   ]
  },
  {
   "cell_type": "code",
   "execution_count": 132,
   "id": "1f9d9b2e",
   "metadata": {},
   "outputs": [
    {
     "data": {
      "text/plain": [
       "1091"
      ]
     },
     "execution_count": 132,
     "metadata": {},
     "output_type": "execute_result"
    }
   ],
   "source": [
    "sum_of_data = sum(random_num_data)\n",
    "sum_of_data"
   ]
  },
  {
   "cell_type": "code",
   "execution_count": 134,
   "id": "685a1a49",
   "metadata": {},
   "outputs": [
    {
     "data": {
      "text/plain": [
       "21.82"
      ]
     },
     "execution_count": 134,
     "metadata": {},
     "output_type": "execute_result"
    }
   ],
   "source": [
    "mean_of_data = sum(random_num_data) / len(random_num_data)\n",
    "mean_of_data"
   ]
  },
  {
   "cell_type": "markdown",
   "id": "e87c5595",
   "metadata": {},
   "source": [
    "**16) Second Largest Number In List** \\\n",
    "Find the second_largest number in the list:\n",
    "\n",
    "`second_largest = 66`"
   ]
  },
  {
   "cell_type": "code",
   "execution_count": 159,
   "id": "414d80e5",
   "metadata": {},
   "outputs": [
    {
     "data": {
      "text/plain": [
       "[3, 47, 10, 15, 21, 28, 13, 45, 66, 12, 34, 56, 78]"
      ]
     },
     "execution_count": 159,
     "metadata": {},
     "output_type": "execute_result"
    }
   ],
   "source": [
    "num_list = [3, 47, 10, 15, 21, 28, 13, 45, 66, 12, 34, 56, 78]\n",
    "num_list"
   ]
  },
  {
   "cell_type": "code",
   "execution_count": 148,
   "id": "7432316f",
   "metadata": {},
   "outputs": [
    {
     "data": {
      "text/plain": [
       "78"
      ]
     },
     "execution_count": 148,
     "metadata": {},
     "output_type": "execute_result"
    }
   ],
   "source": [
    "# method 1\n",
    "max(num_list)"
   ]
  },
  {
   "cell_type": "code",
   "execution_count": 149,
   "id": "6086ff8e",
   "metadata": {},
   "outputs": [],
   "source": [
    "num_list.remove(78)"
   ]
  },
  {
   "cell_type": "code",
   "execution_count": 150,
   "id": "29ecc672",
   "metadata": {},
   "outputs": [
    {
     "data": {
      "text/plain": [
       "66"
      ]
     },
     "execution_count": 150,
     "metadata": {},
     "output_type": "execute_result"
    }
   ],
   "source": [
    "max(num_list)"
   ]
  },
  {
   "cell_type": "code",
   "execution_count": 160,
   "id": "fa2c3bd5",
   "metadata": {},
   "outputs": [
    {
     "data": {
      "text/plain": [
       "[3, 10, 12, 13, 15, 21, 28, 34, 45, 47, 56, 66, 78]"
      ]
     },
     "execution_count": 160,
     "metadata": {},
     "output_type": "execute_result"
    }
   ],
   "source": [
    "# method 2\n",
    "sorted_list = sorted(num_list)\n",
    "sorted_list"
   ]
  },
  {
   "cell_type": "code",
   "execution_count": 164,
   "id": "acf53f2e",
   "metadata": {},
   "outputs": [
    {
     "data": {
      "text/plain": [
       "66"
      ]
     },
     "execution_count": 164,
     "metadata": {},
     "output_type": "execute_result"
    }
   ],
   "source": [
    "second_largest = sorted_list[-2]\n",
    "second_largest"
   ]
  },
  {
   "cell_type": "markdown",
   "id": "5c3d9fee",
   "metadata": {},
   "source": [
    "**17) List Quiz** \\\n",
    "Which of the following are `not true` about Python lists? (Choose all that may apply)\n",
    "\n",
    "1. There is no limit to the size of a list.\n",
    "2. All elements in a list must be of the same type.\n",
    "3. A list may contain any type of object except another list\n",
    "4. A given object may appear in a list more than once.\n",
    "\n",
    "`answer: Choice 2, is not True. This statement is not relevant to the list data type in python. what it's referring though, is an array.\n",
    "Choice 3, is not True. Alist can contain any object, including another list (nested list).`"
   ]
  },
  {
   "cell_type": "markdown",
   "id": "2a962348",
   "metadata": {},
   "source": [
    "**18) Nested List Indexing** \\\n",
    "Extract the fourth team list from persian_gulf_standing:"
   ]
  },
  {
   "cell_type": "code",
   "execution_count": 167,
   "id": "5d33f38c",
   "metadata": {},
   "outputs": [],
   "source": [
    "persian_gulf_standing = [\n",
    "    ['Esteghlel F.C', 1],\n",
    "    ['Sepahan', 2],\n",
    "    ['Perspolis', 3],\n",
    "    ['Gol Gohar', 4],\n",
    "    ['Foolad', 5]\n",
    "]\n",
    "\n",
    "# forth_team = #Code here"
   ]
  },
  {
   "cell_type": "code",
   "execution_count": 171,
   "id": "3359d502",
   "metadata": {},
   "outputs": [
    {
     "data": {
      "text/plain": [
       "'Gol Gohar'"
      ]
     },
     "execution_count": 171,
     "metadata": {},
     "output_type": "execute_result"
    }
   ],
   "source": [
    "# method 1\n",
    "persian_gulf_standing[3][0]"
   ]
  },
  {
   "cell_type": "code",
   "execution_count": 173,
   "id": "57c182fd",
   "metadata": {},
   "outputs": [
    {
     "data": {
      "text/plain": [
       "['Gol Gohar', 4]"
      ]
     },
     "execution_count": 173,
     "metadata": {},
     "output_type": "execute_result"
    }
   ],
   "source": [
    "# method 2\n",
    "forth_team = persian_gulf_standing[:][-2] \n",
    "forth_team"
   ]
  },
  {
   "cell_type": "markdown",
   "id": "e248bded",
   "metadata": {},
   "source": [
    "**19) List Subset** \\\n",
    "Subset the following lists from color list:"
   ]
  },
  {
   "cell_type": "code",
   "execution_count": 181,
   "id": "dbd41544",
   "metadata": {},
   "outputs": [],
   "source": [
    "bl_gr = ['blue', 'green']\n",
    "re_gr_br = ['red', 'green', 'brown']\n",
    "pk_br_yl = ['pink', 'brown', 'yellow']"
   ]
  },
  {
   "cell_type": "code",
   "execution_count": 207,
   "id": "d025fb9e",
   "metadata": {},
   "outputs": [],
   "source": [
    "colors = ['red', 'blue', 'green', 'yellow', 'brown', 'pink']"
   ]
  },
  {
   "cell_type": "markdown",
   "id": "0879d697",
   "metadata": {},
   "source": [
    "#### bl_gr = #?"
   ]
  },
  {
   "cell_type": "code",
   "execution_count": 184,
   "id": "5ff0b444",
   "metadata": {},
   "outputs": [
    {
     "data": {
      "text/plain": [
       "['blue', 'green']"
      ]
     },
     "execution_count": 184,
     "metadata": {},
     "output_type": "execute_result"
    }
   ],
   "source": [
    "bl_gr = colors[1:3]\n",
    "bl_gr"
   ]
  },
  {
   "cell_type": "markdown",
   "id": "3641b1dc",
   "metadata": {},
   "source": [
    "#### re_gr_br = #?"
   ]
  },
  {
   "cell_type": "code",
   "execution_count": 203,
   "id": "c0201aa4",
   "metadata": {},
   "outputs": [
    {
     "data": {
      "text/plain": [
       "['red', 'green', 'brown']"
      ]
     },
     "execution_count": 203,
     "metadata": {},
     "output_type": "execute_result"
    }
   ],
   "source": [
    "# method 1\n",
    "re_gr_br = colors[0:5:2]\n",
    "re_gr_br"
   ]
  },
  {
   "cell_type": "code",
   "execution_count": 205,
   "id": "b417870e",
   "metadata": {},
   "outputs": [
    {
     "data": {
      "text/plain": [
       "['red', 'green', 'brown']"
      ]
     },
     "execution_count": 205,
     "metadata": {},
     "output_type": "execute_result"
    }
   ],
   "source": [
    "# method 2\n",
    "re_gr_br = colors[::2]\n",
    "re_gr_br"
   ]
  },
  {
   "cell_type": "markdown",
   "id": "6ab54e7a",
   "metadata": {},
   "source": [
    "#### pk_br_yl = #?"
   ]
  },
  {
   "cell_type": "code",
   "execution_count": 208,
   "id": "f6ad7e27",
   "metadata": {},
   "outputs": [
    {
     "data": {
      "text/plain": [
       "['yellow', 'brown', 'pink']"
      ]
     },
     "execution_count": 208,
     "metadata": {},
     "output_type": "execute_result"
    }
   ],
   "source": [
    "# method 1\n",
    "pk_br_yl = colors[3:]\n",
    "pk_br_yl"
   ]
  },
  {
   "cell_type": "code",
   "execution_count": 213,
   "id": "54112d95",
   "metadata": {},
   "outputs": [
    {
     "data": {
      "text/plain": [
       "['pink', 'brown', 'yellow']"
      ]
     },
     "execution_count": 213,
     "metadata": {},
     "output_type": "execute_result"
    }
   ],
   "source": [
    "pk_br_yl = colors[-1:-4:-1]\n",
    "pk_br_yl"
   ]
  },
  {
   "cell_type": "markdown",
   "id": "6e1436b5",
   "metadata": {},
   "source": [
    "**20) List Memory Usage** \\\n",
    "Consider the following line of code :\n",
    "\n",
    "a = 300 , b = 124 , mylist = [300, 124, 100]\n",
    "\n",
    "`Answer: 124 is between -5 and 256 and as you know python reserves memory for these numbers and these objects are created only once. So when you have a list with value 124 in it, it doesn't create a new object, Only a pointer point to the address as variable a point. so they have same id But for 300 it creates an object and b points to it. then when you create a list that has a value of 300 in it, it creates a new object with value 300 and it has the list's pointer. so the list pointer and variable b do not point to the same object and they have a different id.`"
   ]
  },
  {
   "cell_type": "code",
   "execution_count": 227,
   "id": "22e37a96",
   "metadata": {},
   "outputs": [],
   "source": [
    "mylist = [300, 124, 100]\n",
    "a,b = 300,124"
   ]
  },
  {
   "cell_type": "code",
   "execution_count": 236,
   "id": "701bc1d3",
   "metadata": {},
   "outputs": [
    {
     "name": "stdout",
     "output_type": "stream",
     "text": [
      "140049121576176 140049696573648 140049696573648\n"
     ]
    }
   ],
   "source": [
    "print(id(a),id(b),id(mylist[1]))"
   ]
  },
  {
   "cell_type": "code",
   "execution_count": 237,
   "id": "f148d8df",
   "metadata": {},
   "outputs": [
    {
     "data": {
      "text/plain": [
       "False"
      ]
     },
     "execution_count": 237,
     "metadata": {},
     "output_type": "execute_result"
    }
   ],
   "source": [
    "id(a) == id(mylist[0]) and id(b) == id(mylist[1])"
   ]
  },
  {
   "cell_type": "code",
   "execution_count": 241,
   "id": "ca0d84ce",
   "metadata": {},
   "outputs": [
    {
     "data": {
      "text/plain": [
       "False"
      ]
     },
     "execution_count": 241,
     "metadata": {},
     "output_type": "execute_result"
    }
   ],
   "source": [
    "id(a) == id(mylist[0]) and id(b) != id(mylist[1])"
   ]
  },
  {
   "cell_type": "code",
   "execution_count": 243,
   "id": "ffc57fe2",
   "metadata": {},
   "outputs": [
    {
     "data": {
      "text/plain": [
       "True"
      ]
     },
     "execution_count": 243,
     "metadata": {},
     "output_type": "execute_result"
    }
   ],
   "source": [
    "id(a) != id(mylist[0]) and id(b) == id(mylist[1])"
   ]
  },
  {
   "cell_type": "code",
   "execution_count": 245,
   "id": "d4351e12",
   "metadata": {},
   "outputs": [
    {
     "data": {
      "text/plain": [
       "False"
      ]
     },
     "execution_count": 245,
     "metadata": {},
     "output_type": "execute_result"
    }
   ],
   "source": [
    "id(a) != id(mylist[0]) and id(b) != id(mylist[1])"
   ]
  },
  {
   "cell_type": "code",
   "execution_count": 250,
   "id": "81a12687",
   "metadata": {},
   "outputs": [
    {
     "data": {
      "text/plain": [
       "False"
      ]
     },
     "execution_count": 250,
     "metadata": {},
     "output_type": "execute_result"
    }
   ],
   "source": [
    "id(a) == id(mylist) and id(b) == id(mylist)"
   ]
  },
  {
   "cell_type": "markdown",
   "id": "a2d2eaa4",
   "metadata": {},
   "source": [
    "**21) Delete List items**\n",
    "\n",
    "What is the output of the following code?\n",
    "\n",
    "`answer : []\n",
    "When your index is greater than the number of items in the list, del won't give an error. it removes all elements of the list. it means that it read indexes until the end of your list and then terminates.`"
   ]
  },
  {
   "cell_type": "code",
   "execution_count": 254,
   "id": "dc3ac408",
   "metadata": {},
   "outputs": [
    {
     "name": "stdout",
     "output_type": "stream",
     "text": [
      "[]\n"
     ]
    }
   ],
   "source": [
    "inp_list = [10, 20, 30, 40]\n",
    "del inp_list[0:6]\n",
    "print(inp_list)"
   ]
  },
  {
   "cell_type": "markdown",
   "id": "90ebd29d",
   "metadata": {},
   "source": [
    "**22) Replace List Items with New Values** \\\n",
    "Ali put his student's math grades on a list. One of the students has been suspended with a score of 9.75. Today is Ali's birthday and he wants to give 10 to that student. we want you to find the value 9.75 in the given list, and replace it with 10. Only update the first occurrence of the item."
   ]
  },
  {
   "cell_type": "code",
   "execution_count": 296,
   "id": "ccdbdcc9",
   "metadata": {},
   "outputs": [],
   "source": [
    "grades = [12, 19, 14, 15, 17.5, 18, 10.25, 9.75, 19, 14, 12, 11.25, 17, 18, 13, 13, 15, 19, 18.5]"
   ]
  },
  {
   "cell_type": "code",
   "execution_count": 278,
   "id": "2345a1ee",
   "metadata": {},
   "outputs": [
    {
     "name": "stdout",
     "output_type": "stream",
     "text": [
      "[12, 19, 14, 15, 17.5, 18, 10.25, 9.75, 19, 14, 12, 11.25, 17, 18, 13, 13, 15, 19, 18.5]\n"
     ]
    }
   ],
   "source": [
    "print(grades)"
   ]
  },
  {
   "cell_type": "code",
   "execution_count": 283,
   "id": "b43b0605",
   "metadata": {},
   "outputs": [
    {
     "name": "stdout",
     "output_type": "stream",
     "text": [
      "[9.75, 10.25, 11.25, 12, 12, 13, 13, 14, 14, 15, 15, 17, 17.5, 18, 18, 18.5, 19, 19, 19]\n"
     ]
    }
   ],
   "source": [
    "# method 1\n",
    "grades_sorted = sorted(grades)\n",
    "print(grades_sorted)"
   ]
  },
  {
   "cell_type": "code",
   "execution_count": 284,
   "id": "447e379b",
   "metadata": {},
   "outputs": [],
   "source": [
    "grades_sorted[0] = 10"
   ]
  },
  {
   "cell_type": "code",
   "execution_count": 286,
   "id": "de0a0dcf",
   "metadata": {},
   "outputs": [
    {
     "name": "stdout",
     "output_type": "stream",
     "text": [
      "[10, 10.25, 11.25, 12, 12, 13, 13, 14, 14, 15, 15, 17, 17.5, 18, 18, 18.5, 19, 19, 19]\n"
     ]
    }
   ],
   "source": [
    "print(grades_sorted)"
   ]
  },
  {
   "cell_type": "code",
   "execution_count": 297,
   "id": "27625027",
   "metadata": {},
   "outputs": [
    {
     "name": "stdout",
     "output_type": "stream",
     "text": [
      "[12, 19, 14, 15, 17.5, 18, 10.25, 10, 19, 14, 12, 11.25, 17, 18, 13, 13, 15, 19, 18.5]\n"
     ]
    }
   ],
   "source": [
    "# method 2\n",
    "\n",
    "# get the first occurrence index\n",
    "index = grades.index(9.75)\n",
    "\n",
    "# update item present at location\n",
    "grades[index] = 10\n",
    "print(grades)"
   ]
  },
  {
   "cell_type": "markdown",
   "id": "df7e99fe",
   "metadata": {},
   "source": [
    "**23) Simple List Indexing** \\\n",
    "Use indexes and print the first, third, and last element of the list below. \\\n",
    "Note: #? is just a comment indicating where you should write your code."
   ]
  },
  {
   "cell_type": "code",
   "execution_count": 300,
   "id": "e916f7b5",
   "metadata": {},
   "outputs": [],
   "source": [
    "num_list = [1, 3, 6, 10, 15, 21, 28, 36, 45, 55, 66, 78]\n",
    "# first_element = #? third_element = #? last_element =  #?"
   ]
  },
  {
   "cell_type": "code",
   "execution_count": 307,
   "id": "4a7f2996",
   "metadata": {},
   "outputs": [
    {
     "data": {
      "text/plain": [
       "1"
      ]
     },
     "execution_count": 307,
     "metadata": {},
     "output_type": "execute_result"
    }
   ],
   "source": [
    "first_element = num_list[0]\n",
    "first_element"
   ]
  },
  {
   "cell_type": "code",
   "execution_count": 308,
   "id": "d7a49391",
   "metadata": {},
   "outputs": [
    {
     "data": {
      "text/plain": [
       "6"
      ]
     },
     "execution_count": 308,
     "metadata": {},
     "output_type": "execute_result"
    }
   ],
   "source": [
    "third_element = num_list[2]\n",
    "third_element"
   ]
  },
  {
   "cell_type": "code",
   "execution_count": 311,
   "id": "1a39eff3",
   "metadata": {},
   "outputs": [
    {
     "data": {
      "text/plain": [
       "78"
      ]
     },
     "execution_count": 311,
     "metadata": {},
     "output_type": "execute_result"
    }
   ],
   "source": [
    "last_element = num_list[-1]\n",
    "last_element"
   ]
  }
 ],
 "metadata": {
  "kernelspec": {
   "display_name": "Python 3 (ipykernel)",
   "language": "python",
   "name": "python3"
  },
  "language_info": {
   "codemirror_mode": {
    "name": "ipython",
    "version": 3
   },
   "file_extension": ".py",
   "mimetype": "text/x-python",
   "name": "python",
   "nbconvert_exporter": "python",
   "pygments_lexer": "ipython3",
   "version": "3.9.7"
  }
 },
 "nbformat": 4,
 "nbformat_minor": 5
}
